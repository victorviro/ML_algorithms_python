{
  "nbformat": 4,
  "nbformat_minor": 0,
  "metadata": {
    "colab": {
      "name": "Numpy.ipynb",
      "provenance": [],
      "collapsed_sections": [],
      "toc_visible": true,
      "authorship_tag": "ABX9TyOUYCE6Iv/vAblzPVKKL2uH",
      "include_colab_link": true
    },
    "kernelspec": {
      "name": "python3",
      "display_name": "Python 3"
    }
  },
  "cells": [
    {
      "cell_type": "markdown",
      "metadata": {
        "id": "view-in-github",
        "colab_type": "text"
      },
      "source": [
        "<a href=\"https://colab.research.google.com/github/victorviro/Machine-Learning-Python/blob/master/Numpy.ipynb\" target=\"_parent\"><img src=\"https://colab.research.google.com/assets/colab-badge.svg\" alt=\"Open In Colab\"/></a>"
      ]
    },
    {
      "cell_type": "markdown",
      "metadata": {
        "id": "Np2yoM6Wfn3L"
      },
      "source": [
        "# Introduction to Numpy"
      ]
    },
    {
      "cell_type": "markdown",
      "metadata": {
        "id": "kZoYjVSLfpBa"
      },
      "source": [
        "[NumPy](https://github.com/numpy/numpy) is a Python library optimized for numerical computing. It is powerful when used in conjunction with other packages such as SciPy for various scientific functions, Matplotlib for visualization, and Pandas for data analysis. NumPy is short for numerical python.\n",
        "\n",
        "NumPy’s core strength lies in its ability to create and manipulate n-dimensional arrays. This is particularly critical for building machine learning and deep learning models. Data is often represented in a matrix, where each row represents an observation and each column a variable or feature. Hence, NumPy’s 2-D array is a natural fit for storing and manipulating datasets.\n",
        "\n",
        "This tutorial will cover the basics of NumPy to get us very comfortable working with the package and also get us to appreciate the thinking behind how NumPy works. This understanding forms a foundation from which one can extend and seek solutions from the NumPy reference documentation when a specific functionality is needed.\n",
        "\n",
        "To begin using NumPy, we’ll start by importing the NumPy module:"
      ]
    },
    {
      "cell_type": "code",
      "metadata": {
        "id": "j3sXaXxOgX93"
      },
      "source": [
        "import numpy as np"
      ],
      "execution_count": 2,
      "outputs": []
    },
    {
      "cell_type": "markdown",
      "metadata": {
        "id": "5EZdnEApgdkl"
      },
      "source": [
        "## NumPy 1-D array"
      ]
    },
    {
      "cell_type": "markdown",
      "metadata": {
        "id": "iKHybhgQgeuM"
      },
      "source": [
        "Let’s create a simple 1-D NumPy array:"
      ]
    },
    {
      "cell_type": "code",
      "metadata": {
        "colab": {
          "base_uri": "https://localhost:8080/"
        },
        "id": "vpZxMGx8ggQf",
        "outputId": "39ee7bce-c570-4fd0-be47-16990d30d1b0"
      },
      "source": [
        "my_array = np.array([2,4,6,8,10])\n",
        "print(my_array)\n",
        "\n",
        "# The data-type of a NumPy array is the ndarray\n",
        "print(type(my_array))\n",
        "\n",
        "# A NumPy 1-D array can also be seen a vector with 1 dimension\n",
        "print(my_array.ndim)"
      ],
      "execution_count": 16,
      "outputs": [
        {
          "output_type": "stream",
          "text": [
            "[ 2  4  6  8 10]\n",
            "<class 'numpy.ndarray'>\n",
            "1\n"
          ],
          "name": "stdout"
        }
      ]
    },
    {
      "cell_type": "markdown",
      "metadata": {
        "id": "U38PeMvXg_U5"
      },
      "source": [
        "Let's check the shape of the array to get the number of rows and columns in the array, read as (rows, columns)."
      ]
    },
    {
      "cell_type": "code",
      "metadata": {
        "colab": {
          "base_uri": "https://localhost:8080/"
        },
        "id": "-SvnydpJhLxS",
        "outputId": "493386f1-1335-4f79-b6ad-b0ca486c4bf6"
      },
      "source": [
        "my_array.shape"
      ],
      "execution_count": 9,
      "outputs": [
        {
          "output_type": "execute_result",
          "data": {
            "text/plain": [
              "(5,)"
            ]
          },
          "metadata": {
            "tags": []
          },
          "execution_count": 9
        }
      ]
    },
    {
      "cell_type": "markdown",
      "metadata": {
        "id": "ardHDYB4g_i_"
      },
      "source": [
        "We can also create an array from a Python list."
      ]
    },
    {
      "cell_type": "code",
      "metadata": {
        "id": "pYk3w7iJhQCL"
      },
      "source": [
        "my_list = [9, 5, 2, 7]\n",
        "list_to_array = np.array(my_list) # or np.asarray(my_list)"
      ],
      "execution_count": 10,
      "outputs": []
    },
    {
      "cell_type": "markdown",
      "metadata": {
        "id": "7f2lq9xchdXg"
      },
      "source": [
        "Let’s explore other useful methods often employed for creating arrays."
      ]
    },
    {
      "cell_type": "code",
      "metadata": {
        "colab": {
          "base_uri": "https://localhost:8080/"
        },
        "id": "nTZ0D_DRhpTp",
        "outputId": "a1d6ed81-6664-4c64-b2e8-a5910cdfdc72"
      },
      "source": [
        "# Create an array from a range of numbers\n",
        "print(np.arange(10))\n",
        "\n",
        "# Create an array from start to end (exclusive) via a step size (start, stop, step)\n",
        "print(np.arange(2, 10, 2))\n",
        "\n",
        "# Create a range of points between two numbers\n",
        "print(np.linspace(2, 10, 5))\n",
        "\n",
        "# Create an array of ones\n",
        "print(np.ones(5))\n",
        "\n",
        "# Create an array of zeros\n",
        "print(np.zeros(5))"
      ],
      "execution_count": 12,
      "outputs": [
        {
          "output_type": "stream",
          "text": [
            "[0 1 2 3 4 5 6 7 8 9]\n",
            "[2 4 6 8]\n",
            "[ 2.  4.  6.  8. 10.]\n",
            "[1. 1. 1. 1. 1.]\n",
            "[0. 0. 0. 0. 0.]\n"
          ],
          "name": "stdout"
        }
      ]
    },
    {
      "cell_type": "markdown",
      "metadata": {
        "id": "hsYrlbmjg_gZ"
      },
      "source": [
        "## NumPy datatypes"
      ]
    },
    {
      "cell_type": "markdown",
      "metadata": {
        "id": "W9jExt-eg_d3"
      },
      "source": [
        "NumPy boasts a broad range of numerical datatypes in comparison with vanilla Python. This extended datatype support is useful for dealing with different kinds of signed and unsigned integer and floating-point numbers as well as booleans and complex numbers for scientific computation. NumPy datatypes include the **bool_**, **int**(8,16,32,64), **uint**(8,16,32,64), **float**(16,32,64), **complex**(64,128) as well as the **int_**, **float_**, and **complex_**, to mention just a few.\n",
        "\n",
        "The datatypes with a **_** appended are base Python datatypes converted to NumPy datatypes. The parameter `dtype` is used to assign a datatype to a NumPy function. The default NumPy type is **float_**. Also, NumPy infers contiguous arrays of the same type.\n",
        "\n",
        "Let’s explore a bit with NumPy datatypes:"
      ]
    },
    {
      "cell_type": "code",
      "metadata": {
        "colab": {
          "base_uri": "https://localhost:8080/"
        },
        "id": "zMptAI3gi4qt",
        "outputId": "c96b3f7d-ebc1-4981-903a-656d5eb48db7"
      },
      "source": [
        "# Ints\n",
        "my_ints = np.array([3, 7, 9, 11])\n",
        "print(my_ints.dtype)\n",
        "\n",
        "# Floats\n",
        "my_floats = np.array([3., 7., 9., 11.])\n",
        "print(my_floats.dtype)\n",
        "\n",
        "# Non-contiguous types - default: float\n",
        "my_array = np.array([3., 7., 9, 11])\n",
        "print(my_array.dtype)\n",
        "\n",
        "# Manually assigning datatypes\n",
        "my_array = np.array([3, 7, 9, 11], dtype=\"float64\")\n",
        "print(my_array.dtype)"
      ],
      "execution_count": 14,
      "outputs": [
        {
          "output_type": "stream",
          "text": [
            "int64\n",
            "float64\n",
            "float64\n",
            "float64\n"
          ],
          "name": "stdout"
        }
      ]
    },
    {
      "cell_type": "markdown",
      "metadata": {
        "id": "niPX4FgUjVx1"
      },
      "source": [
        "## Indexing + fancy indexing (1-D)"
      ]
    },
    {
      "cell_type": "markdown",
      "metadata": {
        "id": "gcWh24uljZGF"
      },
      "source": [
        "We can index a single element of a NumPy 1-D array similar to how we index a Python list."
      ]
    },
    {
      "cell_type": "code",
      "metadata": {
        "colab": {
          "base_uri": "https://localhost:8080/"
        },
        "id": "3TKhlWKUja9H",
        "outputId": "6d6c4f2c-7add-4f32-fdb6-7feddbfde899"
      },
      "source": [
        "# Create a random numpy 1-D array\n",
        "my_array = np.random.rand(10)\n",
        "print(my_array)\n",
        "\n",
        "# Index the first element\n",
        "print(my_array[0])\n",
        "\n",
        "# Index the last element\n",
        "print(my_array[-1])"
      ],
      "execution_count": 15,
      "outputs": [
        {
          "output_type": "stream",
          "text": [
            "[0.79509962 0.70397551 0.76151385 0.77682588 0.5540919  0.56043872\n",
            " 0.36320874 0.43293778 0.9524822  0.869757  ]\n",
            "0.7950996212629662\n",
            "0.8697569987639644\n"
          ],
          "name": "stdout"
        }
      ]
    },
    {
      "cell_type": "markdown",
      "metadata": {
        "id": "Hcl6CKCcjo3W"
      },
      "source": [
        "Fancy indexing in NumPy is an advanced mechanism for indexing array elements based on integers or boolean. This technique is also called *masking*."
      ]
    },
    {
      "cell_type": "markdown",
      "metadata": {
        "id": "_AMi-bp5jswD"
      },
      "source": [
        "### Boolean Mask"
      ]
    },
    {
      "cell_type": "markdown",
      "metadata": {
        "id": "SYT-Bwydjtu1"
      },
      "source": [
        "Let’s index all the even integers in the array using a boolean mask."
      ]
    },
    {
      "cell_type": "code",
      "metadata": {
        "colab": {
          "base_uri": "https://localhost:8080/"
        },
        "id": "YsONr6Gmjw3p",
        "outputId": "44862473-e756-4673-9eba-c4a6c0c104fd"
      },
      "source": [
        "# Create 10 random integers between 1 and 20\n",
        "my_array = np.random.randint(1, 20, 10)\n",
        "print(my_array)\n",
        "\n",
        "# Index all even integers in the array using a boolean mask\n",
        "print(my_array[my_array % 2 == 0])"
      ],
      "execution_count": 17,
      "outputs": [
        {
          "output_type": "stream",
          "text": [
            "[14 16 10  7  5 10  1  1  7 11]\n",
            "[14 16 10 10]\n"
          ],
          "name": "stdout"
        }
      ]
    },
    {
      "cell_type": "markdown",
      "metadata": {
        "id": "ajSsRTQzjy_6"
      },
      "source": [
        "Observe that the code `my_array % 2 == 0` outputs an array of booleans.\n"
      ]
    },
    {
      "cell_type": "code",
      "metadata": {
        "colab": {
          "base_uri": "https://localhost:8080/"
        },
        "id": "aEpWUVZxj1s8",
        "outputId": "8a2d1d65-0268-46fd-8c2f-ba9b4daa04a7"
      },
      "source": [
        "my_array % 2 == 0"
      ],
      "execution_count": 18,
      "outputs": [
        {
          "output_type": "execute_result",
          "data": {
            "text/plain": [
              "array([ True,  True,  True, False, False,  True, False, False, False,\n",
              "       False])"
            ]
          },
          "metadata": {
            "tags": []
          },
          "execution_count": 18
        }
      ]
    },
    {
      "cell_type": "markdown",
      "metadata": {
        "id": "MwuAu7Itj3KV"
      },
      "source": [
        "### Integer Mask"
      ]
    },
    {
      "cell_type": "markdown",
      "metadata": {
        "id": "SsstU2D-j4Bw"
      },
      "source": [
        "Let’s select all elements with even indices in the array."
      ]
    },
    {
      "cell_type": "code",
      "metadata": {
        "colab": {
          "base_uri": "https://localhost:8080/"
        },
        "id": "oLOc2NhIj8uh",
        "outputId": "4ea9d8b3-8c81-4b49-dd9f-d86f437db5c3"
      },
      "source": [
        "my_array[np.arange(1,10,2)]"
      ],
      "execution_count": 19,
      "outputs": [
        {
          "output_type": "execute_result",
          "data": {
            "text/plain": [
              "array([16,  7, 10,  1, 11])"
            ]
          },
          "metadata": {
            "tags": []
          },
          "execution_count": 19
        }
      ]
    },
    {
      "cell_type": "markdown",
      "metadata": {
        "id": "tTkEko_Aj-xP"
      },
      "source": [
        "Remember that array indices are indexed from 0. So the second element, 18, is in index 1.\n"
      ]
    },
    {
      "cell_type": "markdown",
      "metadata": {
        "id": "IfrVlRupkCNj"
      },
      "source": [
        "### Slicing a 1-D Array"
      ]
    },
    {
      "cell_type": "markdown",
      "metadata": {
        "id": "svyWY64xkDG8"
      },
      "source": [
        "Slicing a NumPy array is also similar to slicing a Python list."
      ]
    },
    {
      "cell_type": "code",
      "metadata": {
        "colab": {
          "base_uri": "https://localhost:8080/"
        },
        "id": "G8zgYx2vkFqb",
        "outputId": "fba6f425-0794-4c8b-e2c8-1b66b12b8c7b"
      },
      "source": [
        "my_array = np.array([14,  9,  3, 19, 16,  1, 16,  5, 13,  3])\n",
        "print(my_array)\n",
        "\n",
        "# Slice the first 2 elements\n",
        "print(my_array[:2])\n",
        "\n",
        "# slice the last 3 elements\n",
        "print(my_array[-3:])"
      ],
      "execution_count": 20,
      "outputs": [
        {
          "output_type": "stream",
          "text": [
            "[14  9  3 19 16  1 16  5 13  3]\n",
            "[14  9]\n",
            "[ 5 13  3]\n"
          ],
          "name": "stdout"
        }
      ]
    },
    {
      "cell_type": "markdown",
      "metadata": {
        "id": "Fyfk7GrFkH5f"
      },
      "source": [
        "## Basic Math Operations on Arrays: Universal Functions\n"
      ]
    },
    {
      "cell_type": "markdown",
      "metadata": {
        "id": "3gjhXkJakJ6J"
      },
      "source": [
        "The core power of NumPy is in its highly optimized vectorized functions for various mathematical, arithmetic, and string operations. In NumPy these functions are called universal functions. We’ll explore a couple of basic arithmetic with NumPy 1-D arrays."
      ]
    },
    {
      "cell_type": "code",
      "metadata": {
        "colab": {
          "base_uri": "https://localhost:8080/"
        },
        "id": "7H30GZI7kKVv",
        "outputId": "416079c8-2428-4bd1-abb0-1e7fd672a347"
      },
      "source": [
        "# Create an array of even numbers between 2 and 10\n",
        "my_array = np.arange(2,11,2)\n",
        "\n",
        "# Sum of array elements\n",
        "print(np.sum(my_array)) # or my_array.sum()\n",
        "\n",
        "# Square root\n",
        "print(np.sqrt(my_array))\n",
        "\n",
        "# Log\n",
        "print(np.log(my_array))\n",
        "\n",
        "# Exponent\n",
        "print(np.exp(my_array))"
      ],
      "execution_count": 22,
      "outputs": [
        {
          "output_type": "stream",
          "text": [
            "30\n",
            "[1.41421356 2.         2.44948974 2.82842712 3.16227766]\n",
            "[0.69314718 1.38629436 1.79175947 2.07944154 2.30258509]\n",
            "[7.38905610e+00 5.45981500e+01 4.03428793e+02 2.98095799e+03\n",
            " 2.20264658e+04]\n"
          ],
          "name": "stdout"
        }
      ]
    },
    {
      "cell_type": "markdown",
      "metadata": {
        "id": "IIqNOx3lkOlV"
      },
      "source": [
        "## Higher-Dimensional Arrays"
      ]
    },
    {
      "cell_type": "markdown",
      "metadata": {
        "id": "UAtUCJq0kR0p"
      },
      "source": [
        "As we’ve seen earlier, the strength of NumPy is its ability to construct and manipulate n-dimensional arrays with highly optimized (i.e., vectorized) operations. Previously, we covered the creation of 1-D arrays (or vectors) in NumPy to get a feel of how NumPy works.\n",
        "\n",
        "This section will now consider working with 2-D and 3-D arrays. 2-D arrays are ideal for storing data for analysis. Structured data is usually represented in a grid of rows and columns. And even when data is not necessarily represented in this format, it is often transformed into a tabular form before doing any data analytics or machine learning. Each column represents a feature or attribute and each row an observation.\n",
        "\n",
        "Also, other data forms like images are adequately represented using 3-D arrays. A colored image is composed of $n \\times n$ pixel intensity values with a color depth of three for the red, green, and blue (RGB) color profiles."
      ]
    },
    {
      "cell_type": "markdown",
      "metadata": {
        "id": "yiVPbPR8kTO5"
      },
      "source": [
        "### Creating 2-D Arrays (Matrices)"
      ]
    },
    {
      "cell_type": "markdown",
      "metadata": {
        "id": "0GO2jZwWkVaK"
      },
      "source": [
        "Let us construct a simple 2-D array."
      ]
    },
    {
      "cell_type": "code",
      "metadata": {
        "colab": {
          "base_uri": "https://localhost:8080/"
        },
        "id": "dL-pOHtOkW85",
        "outputId": "af1fe8a2-e8b4-4039-b794-8d1c855eb070"
      },
      "source": [
        "# Construct a 2-D array\n",
        "my_2D = np.array([[2,4,6],[8,10,12]])\n",
        "print(my_2D)\n",
        "\n",
        "# Check the number of dimensions\n",
        "print(my_2D.ndim)\n",
        "\n",
        "# Get the shape of the 2-D array - this example has 2 rows and 3 columns: (r, c)\n",
        "print(my_2D.shape)"
      ],
      "execution_count": 23,
      "outputs": [
        {
          "output_type": "stream",
          "text": [
            "[[ 2  4  6]\n",
            " [ 8 10 12]]\n",
            "2\n",
            "(2, 3)\n"
          ],
          "name": "stdout"
        }
      ]
    },
    {
      "cell_type": "markdown",
      "metadata": {
        "id": "KSSgMoi2kY1v"
      },
      "source": [
        "Let’s explore common methods in practice for creating 2-D NumPy arrays, which are also matrices."
      ]
    },
    {
      "cell_type": "code",
      "metadata": {
        "colab": {
          "base_uri": "https://localhost:8080/"
        },
        "id": "EaqxExGUkajg",
        "outputId": "e598ae06-0d05-46bf-9487-44f7ed68966f"
      },
      "source": [
        "# Create a 3x3 array of ones\n",
        "print(np.ones([3,3]))\n",
        "\n",
        "# Create a 3x3 array of zeros\n",
        "print(np.zeros([3,3]))\n",
        "\n",
        "# Create a 3x3 array of a particular scalar - full(shape, fill_value)\n",
        "print(np.full([3,3], 2))\n",
        "\n",
        "# Create a 3x3, empty uninitialized array\n",
        "print(np.empty([3,3]))\n",
        "\n",
        "# Create a 4x4 identity matrix - i.e., a matrix with 1's on its diagonal\n",
        "print(np.eye(4)) # or np.identity(4)"
      ],
      "execution_count": 24,
      "outputs": [
        {
          "output_type": "stream",
          "text": [
            "[[1. 1. 1.]\n",
            " [1. 1. 1.]\n",
            " [1. 1. 1.]]\n",
            "[[0. 0. 0.]\n",
            " [0. 0. 0.]\n",
            " [0. 0. 0.]]\n",
            "[[2 2 2]\n",
            " [2 2 2]\n",
            " [2 2 2]]\n",
            "[[1.e-323 1.e-323 1.e-323]\n",
            " [1.e-323 1.e-323 1.e-323]\n",
            " [1.e-323 1.e-323 1.e-323]]\n",
            "[[1. 0. 0. 0.]\n",
            " [0. 1. 0. 0.]\n",
            " [0. 0. 1. 0.]\n",
            " [0. 0. 0. 1.]]\n"
          ],
          "name": "stdout"
        }
      ]
    },
    {
      "cell_type": "markdown",
      "metadata": {
        "id": "lBPbSAq1kgs5"
      },
      "source": [
        "###  Creating 3-D Arrays\n"
      ]
    },
    {
      "cell_type": "markdown",
      "metadata": {
        "id": "055jRghBkqUk"
      },
      "source": [
        "Let’s construct a basic 3-D array."
      ]
    },
    {
      "cell_type": "code",
      "metadata": {
        "colab": {
          "base_uri": "https://localhost:8080/"
        },
        "id": "wH9oM33Ykr99",
        "outputId": "9d678b31-1d5e-47be-8f74-03ec1412f099"
      },
      "source": [
        "# Construct a 3-D array\n",
        "my_3D = np.array([[[2,4,6],[8,10,12]],\n",
        "                  [[1,2,3],[7,9,11]]])\n",
        "print(my_3D) \n",
        "\n",
        "# Check the number of dimensions\n",
        "print(my_3D.ndim)\n",
        "\n",
        "# Get the shape of the 3-D array - this example has 2 pages, 2 rows and 3 columns: (p, r, c)\n",
        "print(my_3D.shape)"
      ],
      "execution_count": 25,
      "outputs": [
        {
          "output_type": "stream",
          "text": [
            "[[[ 2  4  6]\n",
            "  [ 8 10 12]]\n",
            "\n",
            " [[ 1  2  3]\n",
            "  [ 7  9 11]]]\n",
            "3\n",
            "(2, 2, 3)\n"
          ],
          "name": "stdout"
        }
      ]
    },
    {
      "cell_type": "markdown",
      "metadata": {
        "id": "G7gqErHNkxPn"
      },
      "source": [
        "We can also create 3-D arrays with methods such as **ones**, **zeros**, **full**, and **empty** by passing the configuration for `[page, row, columns]` into the shape parameter of the methods. For example:"
      ]
    },
    {
      "cell_type": "code",
      "metadata": {
        "colab": {
          "base_uri": "https://localhost:8080/"
        },
        "id": "HkkhNcdtkxwM",
        "outputId": "912473ed-8be3-4da1-e1d1-4417e06f2c57"
      },
      "source": [
        "# Create a 2-page, 3x3 array of ones\n",
        "print(np.ones([2,3,3]))\n",
        "\n",
        "# Create a 2-page, 3x3 array of zeros\n",
        "print(np.zeros([2,3,3]))"
      ],
      "execution_count": 26,
      "outputs": [
        {
          "output_type": "stream",
          "text": [
            "[[[1. 1. 1.]\n",
            "  [1. 1. 1.]\n",
            "  [1. 1. 1.]]\n",
            "\n",
            " [[1. 1. 1.]\n",
            "  [1. 1. 1.]\n",
            "  [1. 1. 1.]]]\n",
            "[[[0. 0. 0.]\n",
            "  [0. 0. 0.]\n",
            "  [0. 0. 0.]]\n",
            "\n",
            " [[0. 0. 0.]\n",
            "  [0. 0. 0.]\n",
            "  [0. 0. 0.]]]\n"
          ],
          "name": "stdout"
        }
      ]
    },
    {
      "cell_type": "markdown",
      "metadata": {
        "id": "am0GuofHk1wx"
      },
      "source": [
        "### Indexing/Slicing of Matrices"
      ]
    },
    {
      "cell_type": "markdown",
      "metadata": {
        "id": "n2wRpAV_k4H7"
      },
      "source": [
        "Let’s see some examples of indexing and slicing 2-D arrays. The concept extends nicely from doing the same with 1-D arrays."
      ]
    },
    {
      "cell_type": "code",
      "metadata": {
        "colab": {
          "base_uri": "https://localhost:8080/"
        },
        "id": "EbeXwJ6Wk5nN",
        "outputId": "2fb07462-2e06-41a4-ce27-6de170d2ec47"
      },
      "source": [
        "# Create a 3x3 array contain random normal numbers\n",
        "my_3D = np.random.randn(3,3) \n",
        "\n",
        "# Select a particular cell (or element) from a 2-D array.\n",
        "print(my_3D[1,1])    # In this case, the cell at the 2nd row and column\n",
        "\n",
        "# Slice the last 3 columns\n",
        "print(my_3D[:,1:3])\n",
        "\n",
        "# Slice the first 2 rows and columns\n",
        "print(my_3D[0:2, 0:2]) "
      ],
      "execution_count": 27,
      "outputs": [
        {
          "output_type": "stream",
          "text": [
            "-0.6621639758466638\n",
            "[[ 0.69324994  0.63780168]\n",
            " [-0.66216398 -0.4319984 ]\n",
            " [-0.34869876 -0.03932028]]\n",
            "[[ 0.379065    0.69324994]\n",
            " [ 0.97688821 -0.66216398]]\n"
          ],
          "name": "stdout"
        }
      ]
    },
    {
      "cell_type": "markdown",
      "metadata": {
        "id": "N5cgOimalBKG"
      },
      "source": [
        "## Matrix Operations: Linear Algebra"
      ]
    },
    {
      "cell_type": "markdown",
      "metadata": {
        "id": "H5ARmF1ZlEFL"
      },
      "source": [
        "Linear algebra is a convenient and powerful system for manipulating a set of data features and is one of the strong points of NumPy. Linear algebra is a crucial component of machine learning and deep learning research and implementation of learning algorithms. NumPy has vectorized routines for various matrix operations. Let’s go through a few of them.\n"
      ]
    },
    {
      "cell_type": "markdown",
      "metadata": {
        "id": "kVdA2MTflFk1"
      },
      "source": [
        "### Matrix Multiplication (Dot Product)\n"
      ]
    },
    {
      "cell_type": "markdown",
      "metadata": {
        "id": "ni4_F-P7lHYh"
      },
      "source": [
        "First let’s create random integers using the method `np.random.randint(low, high=None, size=None,)` which returns random integers from low (inclusive) to high (exclusive)."
      ]
    },
    {
      "cell_type": "code",
      "metadata": {
        "colab": {
          "base_uri": "https://localhost:8080/"
        },
        "id": "sMGUmuJ5lH2u",
        "outputId": "6965f046-135f-4899-9a23-7c216313c83b"
      },
      "source": [
        "# Create a 3x3 matrix of random integers in the range of 1 to 50\n",
        "A = np.random.randint(1, 50, size=[3,3])\n",
        "B = np.random.randint(1, 50, size=[3,3])\n",
        "\n",
        "# Print the arrays\n",
        "print(A) \n",
        "print(B)"
      ],
      "execution_count": 28,
      "outputs": [
        {
          "output_type": "stream",
          "text": [
            "[[44 21 15]\n",
            " [27  6 43]\n",
            " [32 30 35]]\n",
            "[[34 28 22]\n",
            " [22 44 39]\n",
            " [ 9 27 20]]\n"
          ],
          "name": "stdout"
        }
      ]
    },
    {
      "cell_type": "markdown",
      "metadata": {
        "id": "ep0bZ_c4lMy6"
      },
      "source": [
        "We can use the following routines for matrix multiplication, `np.matmul(a,b)` or `a @ b` if using Python 3.6. Using `a @ b` is preferred. Remember that when multiplying matrices, the inner matrix dimensions must agree. For example, if A is an $m \\times n$ matrix and B is an $n \\times p$ matrix, the product of the matrices will be an $m \\times p$ matrix.\n",
        "\n",
        "![](https://i.ibb.co/NynHpc9/matrix-multiplication.png)"
      ]
    },
    {
      "cell_type": "code",
      "metadata": {
        "colab": {
          "base_uri": "https://localhost:8080/"
        },
        "id": "IKzIjRo9lQQp",
        "outputId": "722a8b96-ad69-48d2-f0fa-29d1ae37fdd4"
      },
      "source": [
        "# Multiply the two matrices A and B (dot product)\n",
        "A @ B    # or np.matmul(A,B)"
      ],
      "execution_count": 29,
      "outputs": [
        {
          "output_type": "execute_result",
          "data": {
            "text/plain": [
              "array([[2093, 2561, 2087],\n",
              "       [1437, 2181, 1688],\n",
              "       [2063, 3161, 2574]])"
            ]
          },
          "metadata": {
            "tags": []
          },
          "execution_count": 29
        }
      ]
    },
    {
      "cell_type": "markdown",
      "metadata": {
        "id": "Rku9DZSZlSHG"
      },
      "source": [
        "### Element-Wise Operations"
      ]
    },
    {
      "cell_type": "markdown",
      "metadata": {
        "id": "a5Pfi-iplTLG"
      },
      "source": [
        "Element-wise matrix operations involve matrices operating on themselves in an element-wise fashion. The action can be an addition, subtraction, division, or multiplication (which is commonly called the Hadamard product). The matrices must be of the same shape. Note that while a matrix is of shape $n \\times n$, a vector is of shape $n \\times 1$. These concepts easily apply to vectors as well. \n",
        "\n",
        "![](https://i.ibb.co/q13WnHr/element-wise-operation.png)"
      ]
    },
    {
      "cell_type": "code",
      "metadata": {
        "colab": {
          "base_uri": "https://localhost:8080/"
        },
        "id": "rpe02WrmlXhT",
        "outputId": "7a556ec0-39c2-496c-dc42-4bdf9566ce40"
      },
      "source": [
        "# Hadamard multiplication of A and B\n",
        "print(A * B) \n",
        "\n",
        "# add A and B\n",
        "print(A + B)\n",
        "\n",
        "# subtract A from B\n",
        "print(B - A)\n",
        "\n",
        "# divide A with B\n",
        "print(A / B) "
      ],
      "execution_count": 30,
      "outputs": [
        {
          "output_type": "stream",
          "text": [
            "[[1496  588  330]\n",
            " [ 594  264 1677]\n",
            " [ 288  810  700]]\n",
            "[[78 49 37]\n",
            " [49 50 82]\n",
            " [41 57 55]]\n",
            "[[-10   7   7]\n",
            " [ -5  38  -4]\n",
            " [-23  -3 -15]]\n",
            "[[1.29411765 0.75       0.68181818]\n",
            " [1.22727273 0.13636364 1.1025641 ]\n",
            " [3.55555556 1.11111111 1.75      ]]\n"
          ],
          "name": "stdout"
        }
      ]
    },
    {
      "cell_type": "markdown",
      "metadata": {
        "id": "Kcl1A1SCldFV"
      },
      "source": [
        "###  Scalar Operation\n"
      ]
    },
    {
      "cell_type": "markdown",
      "metadata": {
        "id": "X_EU6t6tlgSr"
      },
      "source": [
        "A matrix can be acted upon by a scalar (i.e., a single numeric entity) in the same way element-wise fashion. This time the scalar operates upon each element of the matrix or vector.\n",
        "\n",
        "![](https://i.ibb.co/Gx4X50X/scalar-operations.png)"
      ]
    },
    {
      "cell_type": "code",
      "metadata": {
        "colab": {
          "base_uri": "https://localhost:8080/"
        },
        "id": "olX8x2H_li7R",
        "outputId": "80c5a6c2-acec-47b3-95a3-18486bfa2134"
      },
      "source": [
        "# Hadamard multiplication of A and a scalar, 0.5\n",
        "print(A * 0.5) \n",
        "\n",
        "# Add A and a scalar, 0.5\n",
        "print(A + 0.5)\n",
        "\n",
        "# Subtract a scalar 0.5 from B\n",
        "print(B - 0.5)\n",
        "\n",
        "# Divide A and a scalar, 0.5\n",
        "print(A / 0.5)"
      ],
      "execution_count": 31,
      "outputs": [
        {
          "output_type": "stream",
          "text": [
            "[[22.  10.5  7.5]\n",
            " [13.5  3.  21.5]\n",
            " [16.  15.  17.5]]\n",
            "[[44.5 21.5 15.5]\n",
            " [27.5  6.5 43.5]\n",
            " [32.5 30.5 35.5]]\n",
            "[[33.5 27.5 21.5]\n",
            " [21.5 43.5 38.5]\n",
            " [ 8.5 26.5 19.5]]\n",
            "[[88. 42. 30.]\n",
            " [54. 12. 86.]\n",
            " [64. 60. 70.]]\n"
          ],
          "name": "stdout"
        }
      ]
    },
    {
      "cell_type": "markdown",
      "metadata": {
        "id": "4FJheA3RloaC"
      },
      "source": [
        "### Matrix Transposition"
      ]
    },
    {
      "cell_type": "markdown",
      "metadata": {
        "id": "NwDcxr5Xlp-W"
      },
      "source": [
        "Transposition is a vital matrix operation that reverses the rows and columns of a matrix by flipping the row and column indices. The transpose of a matrix is denoted as $A^T$. Observe that the diagonal elements remain unchanged.\n",
        "\n",
        "![](https://i.ibb.co/0tsh9WS/matrix-transponse.png)"
      ]
    },
    {
      "cell_type": "code",
      "metadata": {
        "colab": {
          "base_uri": "https://localhost:8080/"
        },
        "id": "huclsZ9Rlsx0",
        "outputId": "67dc12a9-3c05-459a-ba3c-1e998745ee16"
      },
      "source": [
        "A = np.array([[15, 29, 24],\n",
        "              [ 5, 23, 26],\n",
        "              [30, 14, 44]])\n",
        "# Transpose A\n",
        "A.T   # or A.transpose()"
      ],
      "execution_count": 32,
      "outputs": [
        {
          "output_type": "execute_result",
          "data": {
            "text/plain": [
              "array([[15,  5, 30],\n",
              "       [29, 23, 14],\n",
              "       [24, 26, 44]])"
            ]
          },
          "metadata": {
            "tags": []
          },
          "execution_count": 32
        }
      ]
    },
    {
      "cell_type": "markdown",
      "metadata": {
        "id": "myAY71bHltYM"
      },
      "source": [
        "###  The Inverse of a Matrix\n"
      ]
    },
    {
      "cell_type": "markdown",
      "metadata": {
        "id": "2kKUA5IIlyLO"
      },
      "source": [
        "A $m \\times m$ matrix A (also called a square matrix) has an inverse if A times another matrix B results in the identity matrix, also of shape $m \\times m$. This matrix B is called the inverse of A and is denoted as $A^{-1}$. This relationship is formally written as\n",
        "\n",
        "$$ A{A}^{-1}={A}^{-1}A=I $$\n",
        "\n",
        "However, not all matrices have an inverse. A matrix with an inverse is called a *nonsingular* or *invertible* matrix, while those without an inverse are known as *singular*.\n",
        "\n",
        "**Note**: A square matrix is a matrix that has the same number of rows and columns.\n",
        "\n",
        "Let’s use NumPy to get the inverse of a matrix. Some linear algebra modules are found in a sub-module of NumPy called `linalg`."
      ]
    },
    {
      "cell_type": "code",
      "metadata": {
        "colab": {
          "base_uri": "https://localhost:8080/"
        },
        "id": "-83zX3hZl3vA",
        "outputId": "9040dcf9-ea28-4323-879b-6e957c6ef5c3"
      },
      "source": [
        "A = np.array([[15,29,24],\n",
        "              [5,23,26],\n",
        "              [30,14,44]])\n",
        "# Find the inverse of A\n",
        "np.linalg.inv(A) "
      ],
      "execution_count": 33,
      "outputs": [
        {
          "output_type": "execute_result",
          "data": {
            "text/plain": [
              "array([[ 0.05848375, -0.08483755,  0.01823105],\n",
              "       [ 0.05054152, -0.00541516, -0.02436823],\n",
              "       [-0.05595668,  0.05956679,  0.01805054]])"
            ]
          },
          "metadata": {
            "tags": []
          },
          "execution_count": 33
        }
      ]
    },
    {
      "cell_type": "markdown",
      "metadata": {
        "id": "SkkyUVMPl4-2"
      },
      "source": [
        "NumPy also implements the *Moore-Penrose pseudo inverse*, which gives an inverse derivation for singular matrices. Here, we use the `pinv` method to find the inverses of invertible matrices."
      ]
    },
    {
      "cell_type": "code",
      "metadata": {
        "colab": {
          "base_uri": "https://localhost:8080/"
        },
        "id": "7I3ojkdPl69G",
        "outputId": "cfd76769-8248-4163-cf8d-43e0fb7f037b"
      },
      "source": [
        "# Using pinv()\n",
        "np.linalg.pinv(A) "
      ],
      "execution_count": 34,
      "outputs": [
        {
          "output_type": "execute_result",
          "data": {
            "text/plain": [
              "array([[ 0.05848375, -0.08483755,  0.01823105],\n",
              "       [ 0.05054152, -0.00541516, -0.02436823],\n",
              "       [-0.05595668,  0.05956679,  0.01805054]])"
            ]
          },
          "metadata": {
            "tags": []
          },
          "execution_count": 34
        }
      ]
    },
    {
      "cell_type": "markdown",
      "metadata": {
        "id": "yU1Y_d7Xl96M"
      },
      "source": [
        "## Reshaping"
      ]
    },
    {
      "cell_type": "markdown",
      "metadata": {
        "id": "Lm2Wq0bll_gR"
      },
      "source": [
        "A NumPy array can be restructured to take on a different shape. Let’s convert a 1-D array to a $m \\times n$ matrix."
      ]
    },
    {
      "cell_type": "code",
      "metadata": {
        "colab": {
          "base_uri": "https://localhost:8080/"
        },
        "id": "8n0mQnB1mAqH",
        "outputId": "0176761a-0619-4803-887d-1229dee21628"
      },
      "source": [
        "# Make 20 elements evenly spaced between 0 and 5\n",
        "a = np.linspace(0,5,20)\n",
        "print(a) \n",
        "\n",
        "# Observe that a is a 1-D array\n",
        "print(a.shape)\n",
        "\n",
        "# Reshape into a 5 x 4 matrix\n",
        "A = a.reshape(5, 4)\n",
        "print(A) \n",
        "\n",
        "# The vector a has been reshaped into a 5 by 4 matrix A\n",
        "print(A.shape) "
      ],
      "execution_count": 35,
      "outputs": [
        {
          "output_type": "stream",
          "text": [
            "[0.         0.26315789 0.52631579 0.78947368 1.05263158 1.31578947\n",
            " 1.57894737 1.84210526 2.10526316 2.36842105 2.63157895 2.89473684\n",
            " 3.15789474 3.42105263 3.68421053 3.94736842 4.21052632 4.47368421\n",
            " 4.73684211 5.        ]\n",
            "(20,)\n",
            "[[0.         0.26315789 0.52631579 0.78947368]\n",
            " [1.05263158 1.31578947 1.57894737 1.84210526]\n",
            " [2.10526316 2.36842105 2.63157895 2.89473684]\n",
            " [3.15789474 3.42105263 3.68421053 3.94736842]\n",
            " [4.21052632 4.47368421 4.73684211 5.        ]]\n",
            "(5, 4)\n"
          ],
          "name": "stdout"
        }
      ]
    },
    {
      "cell_type": "markdown",
      "metadata": {
        "id": "m3owPCZXmGrv"
      },
      "source": [
        "### Reshape vs. Resize Method"
      ]
    },
    {
      "cell_type": "markdown",
      "metadata": {
        "id": "SE2Vr9FimH3T"
      },
      "source": [
        "NumPy has the `np.reshape` and `np.resize` methods. The reshape method returns an ndarray with a modified shape without changing the original array, whereas the resize method changes the original array. Let’s see an example."
      ]
    },
    {
      "cell_type": "code",
      "metadata": {
        "colab": {
          "base_uri": "https://localhost:8080/"
        },
        "id": "LYeqFuxFmKkN",
        "outputId": "f45a8a2a-d9f7-4615-9f95-35dff88f41ca"
      },
      "source": [
        "# Generate 9 elements evenly spaced between 0 and 5\n",
        "a = np.linspace(0,5,9)\n",
        "print(a)\n",
        "\n",
        "# The original shape\n",
        "print(a.shape)\n",
        "\n",
        "# Call the reshape method\n",
        "print(a.reshape(3,3))\n",
        "\n",
        "# The original array maintained its shape\n",
        "print(a.shape)\n",
        "\n",
        "# Call the resize method - resize does not return an array\n",
        "print(a.resize(3,3))\n",
        "\n",
        "# The resize method has changed the shape of the original array\n",
        "print(a.shape)"
      ],
      "execution_count": 36,
      "outputs": [
        {
          "output_type": "stream",
          "text": [
            "[0.    0.625 1.25  1.875 2.5   3.125 3.75  4.375 5.   ]\n",
            "(9,)\n",
            "[[0.    0.625 1.25 ]\n",
            " [1.875 2.5   3.125]\n",
            " [3.75  4.375 5.   ]]\n",
            "(9,)\n",
            "None\n",
            "(3, 3)\n"
          ],
          "name": "stdout"
        }
      ]
    },
    {
      "cell_type": "markdown",
      "metadata": {
        "id": "zfAZvyC7mRIr"
      },
      "source": [
        "### Stacking Arrays"
      ]
    },
    {
      "cell_type": "markdown",
      "metadata": {
        "id": "4A444WLMmSRO"
      },
      "source": [
        "NumPy has methods for concatenating arrays (also called stacking). The methods `hstack` and `vstack` are used to stack several arrays along the horizontal and vertical axis, respectively."
      ]
    },
    {
      "cell_type": "code",
      "metadata": {
        "colab": {
          "base_uri": "https://localhost:8080/"
        },
        "id": "62PVKygZmVfm",
        "outputId": "353ea81b-9d21-4ef4-ac07-65c213a23e2e"
      },
      "source": [
        "# Create a 2x2 matrix of random integers in the range of 1 to 20\n",
        "A = np.random.randint(1, 50, size=[3,3])\n",
        "B = np.random.randint(1, 50, size=[3,3])\n",
        "# Print out the arrays\n",
        "print(A)\n",
        "print(B)"
      ],
      "execution_count": 37,
      "outputs": [
        {
          "output_type": "stream",
          "text": [
            "[[21 37 48]\n",
            " [42 19 21]\n",
            " [22 25 27]]\n",
            "[[39 21 35]\n",
            " [27 14 21]\n",
            " [47  8 45]]\n"
          ],
          "name": "stdout"
        }
      ]
    },
    {
      "cell_type": "markdown",
      "metadata": {
        "id": "HC3xnqgMmXIM"
      },
      "source": [
        "Let’s stack A and B horizontally using `hstack`. To use `hstack`, the arrays must have the same number of rows. Also, the arrays to be stacked are passed as a tuple to the `hstack` method."
      ]
    },
    {
      "cell_type": "code",
      "metadata": {
        "colab": {
          "base_uri": "https://localhost:8080/"
        },
        "id": "6Sd4s9dTmYw2",
        "outputId": "91a049c8-45b4-4b56-9ec7-bb97d0cb2fac"
      },
      "source": [
        "# Arrays are passed as tuple to hstack\n",
        "np.hstack((A,B)) "
      ],
      "execution_count": 38,
      "outputs": [
        {
          "output_type": "execute_result",
          "data": {
            "text/plain": [
              "array([[21, 37, 48, 39, 21, 35],\n",
              "       [42, 19, 21, 27, 14, 21],\n",
              "       [22, 25, 27, 47,  8, 45]])"
            ]
          },
          "metadata": {
            "tags": []
          },
          "execution_count": 38
        }
      ]
    },
    {
      "cell_type": "markdown",
      "metadata": {
        "id": "6MBXECsbmaIY"
      },
      "source": [
        "To stack A and B vertically using `vstack`, the arrays must have the same number of columns. The arrays to be stacked are also passed as a tuple to the `vstack` method."
      ]
    },
    {
      "cell_type": "code",
      "metadata": {
        "colab": {
          "base_uri": "https://localhost:8080/"
        },
        "id": "V1gKipjXmbew",
        "outputId": "b4824749-9b5d-47c6-fc8b-e21fc55b41a3"
      },
      "source": [
        "# Arrays are passed as tuple to hstack\n",
        "np.vstack((A,B)) "
      ],
      "execution_count": 39,
      "outputs": [
        {
          "output_type": "execute_result",
          "data": {
            "text/plain": [
              "array([[21, 37, 48],\n",
              "       [42, 19, 21],\n",
              "       [22, 25, 27],\n",
              "       [39, 21, 35],\n",
              "       [27, 14, 21],\n",
              "       [47,  8, 45]])"
            ]
          },
          "metadata": {
            "tags": []
          },
          "execution_count": 39
        }
      ]
    },
    {
      "cell_type": "markdown",
      "metadata": {
        "id": "KPXyVSYumcnW"
      },
      "source": [
        "## Broadcasting"
      ]
    },
    {
      "cell_type": "markdown",
      "metadata": {
        "id": "KnWbv1B1meQF"
      },
      "source": [
        "NumPy has an elegant mechanism for arithmetic operation on arrays with different dimensions or shapes. As an example, when a scalar is added to a vector (or 1-D array). The scalar value is conceptually broadcasted or stretched across the rows of the array and added element-wise.\n",
        "\n",
        "![](https://i.ibb.co/Gp9zvCC/broadcasting-vector.png)\n",
        "\n",
        "Matrices with different shapes can be broadcasted to perform arithmetic operations by stretching the dimension of the smaller array. Broadcasting is another vectorized operation for speeding up matrix processing. However, not all arrays with different shapes can be broadcasted. For broadcasting to occur, the trailing axes for the arrays must be the same size or 1.\n",
        "In the example that follows, the matrices A and B have the same rows, but the column of matrix B is 1. Hence, an arithmetic operation can be performed on them by broadcasting and adding the cells element-wise.\n",
        "\n",
        "See Figure 10-6 for more illustration.\n",
        "\n",
        "![](https://i.ibb.co/JRLyrBQ/broadcasting-matrix.png)"
      ]
    },
    {
      "cell_type": "code",
      "metadata": {
        "colab": {
          "base_uri": "https://localhost:8080/"
        },
        "id": "lD_bGyuTml8Y",
        "outputId": "ced58779-4b03-4bb3-8623-77bd3ed8818c"
      },
      "source": [
        "# Create a 4 X 3 matrix of random integers between 1 and 10\n",
        "A = np.random.randint(1, 10, [4, 3])\n",
        "print(A)\n",
        "\n",
        "# Create a 4 X 1 matrix of random integers between 1 and 10\n",
        "B = np.random.randint(1, 10, [4, 1])\n",
        "print(B) \n",
        "\n",
        "# Add A and B\n",
        "print(A + B) "
      ],
      "execution_count": 40,
      "outputs": [
        {
          "output_type": "stream",
          "text": [
            "[[6 8 1]\n",
            " [1 2 1]\n",
            " [9 2 8]\n",
            " [6 6 3]]\n",
            "[[9]\n",
            " [2]\n",
            " [5]\n",
            " [9]]\n",
            "[[15 17 10]\n",
            " [ 3  4  3]\n",
            " [14  7 13]\n",
            " [15 15 12]]\n"
          ],
          "name": "stdout"
        }
      ]
    },
    {
      "cell_type": "markdown",
      "metadata": {
        "id": "7qCGG7hYmpCc"
      },
      "source": [
        "The example that follows cannot be broadcasted and will result in a *ValueError: operands could not be broadcasted together with shapes (4,3) (4,2)* because the matrices A and B have different columns and do not fit with the mentioned rules of broadcasting that the trailing axes for the arrays must be the same size or 1."
      ]
    },
    {
      "cell_type": "code",
      "metadata": {
        "id": "U_tvUrsGms5i"
      },
      "source": [
        "A = np.random.randint(1, 10, [4, 3])\n",
        "B = np.random.randint(1, 10, [4, 2])\n",
        "# A + B "
      ],
      "execution_count": 42,
      "outputs": []
    }
  ]
}