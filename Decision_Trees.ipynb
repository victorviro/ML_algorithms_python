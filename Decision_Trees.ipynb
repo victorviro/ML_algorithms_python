{
  "nbformat": 4,
  "nbformat_minor": 0,
  "metadata": {
    "colab": {
      "name": "Decision Trees.ipynb",
      "provenance": [],
      "collapsed_sections": [],
      "toc_visible": true,
      "authorship_tag": "ABX9TyP08IoQY7+rr6l0pfV6NZEt",
      "include_colab_link": true
    },
    "kernelspec": {
      "name": "python3",
      "display_name": "Python 3"
    }
  },
  "cells": [
    {
      "cell_type": "markdown",
      "metadata": {
        "id": "view-in-github",
        "colab_type": "text"
      },
      "source": [
        "<a href=\"https://colab.research.google.com/github/victorviro/Machine-Learning-Python/blob/master/Decision_Trees.ipynb\" target=\"_parent\"><img src=\"https://colab.research.google.com/assets/colab-badge.svg\" alt=\"Open In Colab\"/></a>"
      ]
    },
    {
      "cell_type": "markdown",
      "metadata": {
        "id": "X92k3aOIiAU5"
      },
      "source": [
        "# Decision Trees"
      ]
    },
    {
      "cell_type": "markdown",
      "metadata": {
        "id": "5E0lKmMKc9v_"
      },
      "source": [
        "# Table of contents"
      ]
    },
    {
      "cell_type": "markdown",
      "metadata": {
        "id": "eOunBijSo16s"
      },
      "source": [
        "\n",
        "1. [Introduction](#1)\n",
        "2. [Training and visualizing a decision tree](#2)\n",
        "3. [Making predictions](#3)\n",
        "4. [Model interpretation](#4)\n",
        "5. [Estimating class probabilities](#5)\n",
        "6. [CART training algorithm](#6)\n",
        "7. [Computational complexity](#7)\n",
        "8. [Gini empurity or entropy](#8)\n",
        "9. [Regularization](#9)\n",
        "10. [Regression](#10)\n",
        "11. [Limitations](#11)\n",
        "12. [References](#12)\n",
        "\n",
        "\n",
        "\n"
      ]
    },
    {
      "cell_type": "markdown",
      "metadata": {
        "id": "Uz4XOQnlIJ_O"
      },
      "source": [
        "# Introduction <a name=\"1\"></a>"
      ]
    },
    {
      "cell_type": "markdown",
      "metadata": {
        "id": "KvsBIGzCid7W"
      },
      "source": [
        "**Decision trees are commonly used** in operations research, specifically **in decision analysis**, to help identify a strategy most likely to reach a goal, but are **also a popular tool in machine learning**. In machine learning, decision trees are **versatile algorithms** that can perform **both classification and regression** tasks, and even multioutput tasks. They are very powerful algorithms, capable of fitting complex datasets.\n",
        "\n",
        "Decision Trees are also the fundamental **components of Random Forests**, which are among the most powerful Machine Learning algorithms available today.\n",
        "\n",
        "In this notebook, we will start by discussing how to train, visualize, and make predictions with a decision tree for a classification task. Then we will go through the CART training algorithm used by Scikit-Learn, and we will discuss how to regularize trees and use them for regression tasks. Finally, we will discuss some of the limitations of decision trees."
      ]
    },
    {
      "cell_type": "markdown",
      "metadata": {
        "id": "OF5CN8c7iAf1"
      },
      "source": [
        "# Training and visualizing a decision tree <a name=\"2\"></a>"
      ]
    },
    {
      "cell_type": "markdown",
      "metadata": {
        "id": "z2FSekbMi4Co"
      },
      "source": [
        "To understand decision trees, let’s build one and take a look at how it makes predictions. The following code trains a `DecisionTreeClassifier` on the [iris](https://en.wikipedia.org/wiki/Iris_flower_data_set) dataset. This is a famous dataset that contains the sepal and petal length and width of 150 iris flowers of three different species: Iris-Setosa, Iris-Versicolor, and Iris-Virginica. Let’s build a decision tree classifier to detect the specie of the iris flower based only on the petal width and petal lenght features."
      ]
    },
    {
      "cell_type": "code",
      "metadata": {
        "id": "m6eoZU2-jHMA",
        "colab": {
          "base_uri": "https://localhost:8080/",
          "height": 126
        },
        "outputId": "e7775c9c-83d4-42fc-89ae-a12a90249e51"
      },
      "source": [
        "from sklearn.datasets import load_iris\n",
        "from sklearn.tree import DecisionTreeClassifier\n",
        "# Load data\n",
        "iris = load_iris()\n",
        "# Prepare data\n",
        "X = iris.data[:, 2:] # petal length and width\n",
        "y = iris.target\n",
        "# Build decision tree classifier\n",
        "tree_clf = DecisionTreeClassifier(max_depth=2)\n",
        "# Train the model\n",
        "tree_clf.fit(X, y)"
      ],
      "execution_count": null,
      "outputs": [
        {
          "output_type": "execute_result",
          "data": {
            "text/plain": [
              "DecisionTreeClassifier(ccp_alpha=0.0, class_weight=None, criterion='gini',\n",
              "                       max_depth=2, max_features=None, max_leaf_nodes=None,\n",
              "                       min_impurity_decrease=0.0, min_impurity_split=None,\n",
              "                       min_samples_leaf=1, min_samples_split=2,\n",
              "                       min_weight_fraction_leaf=0.0, presort='deprecated',\n",
              "                       random_state=None, splitter='best')"
            ]
          },
          "metadata": {
            "tags": []
          },
          "execution_count": 2
        }
      ]
    },
    {
      "cell_type": "markdown",
      "metadata": {
        "id": "Wk9NP9aAjWG-"
      },
      "source": [
        "This decision tree looks like Figure 6-1.\n",
        "\n",
        "![texto alternativo](https://i.ibb.co/k87Td7m/decision-tree.png)"
      ]
    },
    {
      "cell_type": "markdown",
      "metadata": {
        "id": "HKL9gIQdiAtT"
      },
      "source": [
        "# Making predictions <a name=\"3\"></a>"
      ]
    },
    {
      "cell_type": "markdown",
      "metadata": {
        "id": "v3G1uO5ukexr"
      },
      "source": [
        "Let’s see how the tree represented in Figure 6-1 makes predictions. Suppose you find an iris flower and you want to classify it. \n",
        "\n",
        "- You **start at the** ***root node*** (depth 0, at the top): this node asks **whether the flower’s petal length is smaller than 2.45** cm. \n",
        "\n",
        "- **If it is**, then you **move down** to the root’s **left** ***child node*** (depth 1, left). In this case, it is a ***leaf node*** (i.e., it does not have any children nodes), so it does not ask any questions: you can simply look at the predicted class for that node and the Decision Tree predicts that your flower is an Iris-Setosa (`class=setosa`).\n",
        "\n",
        "- Now suppose you find another flower, but this time the petal length is greater than 2.45 cm. You must **move down** to the root’s **right child node** (depth 1, right), which is **not a leaf node**, so it asks another question: **is the petal width smaller than 1.75** cm? \n",
        "\n",
        " - If it is, then your flower is most likely an Iris-Versicolor (depth 2, left). \n",
        " - If not, it is likely an Iris-Virginica (depth 2, right).\n",
        "\n",
        "**Note**: One of the many qualities of Decision Trees is that they **require very little data preparation**. In particular, they don’t require **feature scaling** or centering at all."
      ]
    },
    {
      "cell_type": "markdown",
      "metadata": {
        "id": "ckM4sTqIlERC"
      },
      "source": [
        "A node’s samples attribute counts how many training instances it applies to. For example, 100 training instances have a petal length greater than 2.45 cm (depth 1, right), among which 54 have a petal width smaller than 1.75 cm (depth 2, left). **A node’s value attribute tells you how many training instances of each class this node applies to**: for example, the bottom-right node applies to 0 Iris-Setosa, 1 Iris-Versicolor, and 45 Iris-Virginica. Finally, **a node’s `gini` attribute measures its** ***impurity***: **a node is “pure” (`gini=0`) if all training instances it applies to belong to the same class**. For example, since the depth-1 left node applies only to Iris-Setosa training instances, it is pure and its `gini` score is 0. The next equation shows how the training algorithm computes the **gini score** $G_i$ of the $i^{\\text{th}}$ node. \n",
        "\n",
        "$$G_i = 1 - \\sum_{k=1}^{n}p_{i,k}^2$$\n",
        "\n",
        "- $p_{i,k}$ is the ratio of class $k$ instances among the training instances in the $i^{\\text{th}}$ node and $n$ is the number of classes.\n",
        "\n",
        "For example, the depth-2 left node has a `gini` score equal to \n",
        "$$G_i = 1 - \\sum_{k=1}^{3}p_{i,k}^2 = 1 - (\\frac{0}{54})^2 - (\\frac{49}{54})^2 - (\\frac{5}{54})^2 \\approx 0.168$$\n",
        "\n",
        "Another *impurity* measure is discussed later. A node’s Gini impurity is generally lower than its parent's. However，if one child is smaller than the other，it is possible for it to have a higher Gini impurity than its parent，as long as this increase is more than compensated for by a decrease of the other child's impurity.\n",
        "\n",
        "**Note**: Scikit-Learn uses the **CART algorithm**, which **produces only binary trees**: nonleaf nodes always have two children (i.e., questions only have yes/no answers). However, other algorithms such as ID3 can produce Decision Trees with nodes that have more than two children.\n",
        "\n",
        "The next figure shows this Decision Tree’s decision boundaries.\n",
        "\n"
      ]
    },
    {
      "cell_type": "code",
      "metadata": {
        "id": "3ulOIkPFH5sO",
        "cellView": "form",
        "colab": {
          "base_uri": "https://localhost:8080/",
          "height": 396
        },
        "outputId": "e9197a2a-264f-4b91-99fc-836c6e5a67e1"
      },
      "source": [
        "#@title\n",
        "import numpy as np\n",
        "import matplotlib.pyplot as plt\n",
        "from matplotlib.colors import ListedColormap\n",
        "\n",
        "def plot_decision_boundary(clf, X, y, axes=[0, 7.5, 0, 3], iris=True, legend=False, plot_training=True):\n",
        "    x1s = np.linspace(axes[0], axes[1], 100)\n",
        "    x2s = np.linspace(axes[2], axes[3], 100)\n",
        "    x1, x2 = np.meshgrid(x1s, x2s)\n",
        "    X_new = np.c_[x1.ravel(), x2.ravel()]\n",
        "    y_pred = clf.predict(X_new).reshape(x1.shape)\n",
        "    custom_cmap = ListedColormap(['#fafab0','#9898ff','#a0faa0'])\n",
        "    plt.contourf(x1, x2, y_pred, alpha=0.3, cmap=custom_cmap)\n",
        "    if not iris:\n",
        "        custom_cmap2 = ListedColormap(['#7d7d58','#4c4c7f','#507d50'])\n",
        "        plt.contour(x1, x2, y_pred, cmap=custom_cmap2, alpha=0.8)\n",
        "    if plot_training:\n",
        "        plt.plot(X[:, 0][y==0], X[:, 1][y==0], \"yo\", label=\"Iris-Setosa\")\n",
        "        plt.plot(X[:, 0][y==1], X[:, 1][y==1], \"bs\", label=\"Iris-Versicolor\")\n",
        "        plt.plot(X[:, 0][y==2], X[:, 1][y==2], \"g^\", label=\"Iris-Virginica\")\n",
        "        plt.axis(axes)\n",
        "    if iris:\n",
        "        plt.xlabel(\"Petal length\", fontsize=14)\n",
        "        plt.ylabel(\"Petal width\", fontsize=14)\n",
        "    else:\n",
        "        plt.xlabel(r\"$x_1$\", fontsize=18)\n",
        "        plt.ylabel(r\"$x_2$\", fontsize=18, rotation=0)\n",
        "    if legend:\n",
        "        plt.legend(loc=\"lower right\", fontsize=14)\n",
        "\n",
        "plt.figure(figsize=(12, 6))\n",
        "plot_decision_boundary(tree_clf, X, y)\n",
        "plt.plot([2.45, 2.45], [0, 3], \"k-\", linewidth=2)\n",
        "plt.plot([2.45, 7.5], [1.75, 1.75], \"k--\", linewidth=2)\n",
        "plt.plot([4.95, 4.95], [0, 1.75], \"k:\", linewidth=2)\n",
        "plt.plot([4.85, 4.85], [1.75, 3], \"k:\", linewidth=2)\n",
        "plt.text(1.40, 1.0, \"Depth=0\", fontsize=15)\n",
        "plt.text(3.2, 1.80, \"Depth=1\", fontsize=13)\n",
        "plt.text(4.05, 0.5, \"(Depth=2)\", fontsize=11)\n",
        "plt.show()"
      ],
      "execution_count": null,
      "outputs": [
        {
          "output_type": "display_data",
          "data": {
            "image/png": "[encoded data removed]",
            "text/plain": [
              "<Figure size 864x432 with 1 Axes>"
            ]
          },
          "metadata": {
            "tags": [],
            "needs_background": "light"
          }
        }
      ]
    },
    {
      "cell_type": "markdown",
      "metadata": {
        "id": "w8sGID44J8s_"
      },
      "source": [
        "The thick vertical line represents the decision boundary of the root node (depth 0): petal length equal to 2.45 cm. Since the left area is pure (only Iris-Setosa), it cannot be split any further. However, the right area is impure, so the depth-1 right node splits it at petal width equal to 1.75 cm\n",
        "(represented by the dashed line). Since `max_depth` was set to 2, the Decision Tree stops right there. However, if you set `max_depth` to 3, then the two depth-2 nodes would each add another decision boundary (represented by the dotted lines)."
      ]
    },
    {
      "cell_type": "markdown",
      "metadata": {
        "id": "qcvM1yyvYfuT"
      },
      "source": [
        "# Model interpretation <a name=\"4\"></a>"
      ]
    },
    {
      "cell_type": "markdown",
      "metadata": {
        "id": "4DAOmMbqoHS_"
      },
      "source": [
        "As you can see Decision Trees are fairly **intuitive** and their decisions are **easy to interpret**. Such models are often called ***white box models***. In contrast, as we will see, Random Forests or neural networks are generally considered *black box models*. They make great predictions, but it is usually hard to explain in simple terms why the predictions were made. For example, if a neural network says that a particular person appears on a picture, it is hard to know what actually contributed to this prediction: did the model recognize that person’s eyes? Her mouth? Her nose? Conversely, Decision Trees provide nice and simple classification rules that can even be applied manually if need be."
      ]
    },
    {
      "cell_type": "markdown",
      "metadata": {
        "id": "omztZQknofWT"
      },
      "source": [
        "# Estimating class probabilities <a name=\"5\"></a>"
      ]
    },
    {
      "cell_type": "markdown",
      "metadata": {
        "id": "ECcX2Jp5onjg"
      },
      "source": [
        "A decision tree **can also estimate the probability** that an instance belongs to a particular class $k$ : first it traverses the tree to **find the leaf node for this instance**, and then it returns the **ratio of training instances of class $k$ in this node**. \n",
        "\n",
        "For example, suppose you have found a flower whose petals are 5 cm long and 1.5 cm wide. The corresponding leaf node is the depth-2 left node, so the Decision Tree should output the following probabilities: 0% for Iris-Setosa ($\\frac{0}{54}$), 90.7% for Iris-Versicolor ($\\frac{49}{54}$), and 9.3% for Iris-Virginica ($\\frac{5}{54}$). And of course if you ask it to predict the class, it should output Iris-Versicolor (class 1) since it has the highest probability. Let’s check this:"
      ]
    },
    {
      "cell_type": "code",
      "metadata": {
        "id": "Lp0-fv69pDkY",
        "colab": {
          "base_uri": "https://localhost:8080/",
          "height": 54
        },
        "outputId": "d7d2bdd1-6ccd-44e9-9501-876c20fbe447"
      },
      "source": [
        "print(tree_clf.predict_proba([[5, 1.5]]))\n",
        "print(tree_clf.predict([[5, 1.5]]))"
      ],
      "execution_count": null,
      "outputs": [
        {
          "output_type": "stream",
          "text": [
            "[[0.         0.90740741 0.09259259]]\n",
            "[1]\n"
          ],
          "name": "stdout"
        }
      ]
    },
    {
      "cell_type": "markdown",
      "metadata": {
        "id": "u0jmBzcNiAyP"
      },
      "source": [
        "Notice that the estimated probabilities would be identical anywhere else in\n",
        "the bottom-right rectangle of the previous figure."
      ]
    },
    {
      "cell_type": "markdown",
      "metadata": {
        "id": "BgGCE71DpVhG"
      },
      "source": [
        "# CART training algorithm <a name=\"6\"></a>"
      ]
    },
    {
      "cell_type": "markdown",
      "metadata": {
        "id": "cNaV8UgPpc8k"
      },
      "source": [
        "Scikit-Learn uses the ***Classification And Regression Tree*** (CART) algorithm to train decision trees (also called \"growing\" trees). The idea is really quite simple: the algorithm first **splits the training set in two subsets using a single feature** $k$ **and a threshold** $t_k$ (e.g., “petal length ≤ 2.45 cm”). How does it choose $k$ and $t_k$? It searches for **the pair** $(k, t_k)$ **that produces the purest subsets** (weighted by their size). The **cost function**\n",
        "that the algorithm tries to minimize is given by the next equation.\n",
        "\n",
        "$$J(k,t_k)=\\frac{m_{\\text{left}}}{m}G_{\\text{left}}+\\frac{m_{\\text{right}}}{m}G_{\\text{right}}$$\n",
        "\n",
        "- $G_{\\text{left}}$ measures the impurity of the left subset and $G_{\\text{right}}$ measures the impurity of the right subset.\n",
        "\n",
        "- $m_{\\text{left}}$ is the number of instances in the left subset and $m_{\\text{right}}$ is the number of instances in the right subset.\n",
        "\n",
        "**Once** it has successfully **split the training set in two, it splits the subsets using the same logic**, then the sub-subsets and so on, **recursively**. It stops recursing once it reaches the maximum depth (defined by the `max_depth` hyperparameter), or if it cannot find a split that will reduce impurity. A few other hyperparameters (described in a moment) control additional stopping conditions (`min_samples_split` , `min_samples_leaf` , `min_weight_fraction_leaf` , and `max_leaf_nodes`).\n",
        "\n",
        "**Note**: As you can see, the CART algorithm is a ***greedy algorithm***: it greedily searches for an optimum split at the top level, then repeats the process at each level. **It does not check whether or not the split will lead to the lowest possible impurity several levels down**. A greedy algorithm often produces a reasonably good solution, but it is **not guaranteed to be the optimal solution**. Unfortunately, finding the optimal tree is known to be an [NP-\n",
        "Complete problem](https://en.wikipedia.org/wiki/NP-completeness): it requires $O(e^m)$ time, making the problem intractable even for fairly small training sets. This is why we must settle for a “reasonably good” solution."
      ]
    },
    {
      "cell_type": "markdown",
      "metadata": {
        "id": "7n48-tv6pdXI"
      },
      "source": [
        "# Computational complexity <a name=\"7\"></a>"
      ]
    },
    {
      "cell_type": "markdown",
      "metadata": {
        "id": "-WxTgjUtpebg"
      },
      "source": [
        "Making predictions requires traversing the Decision Tree from the root to a leaf. Decision Trees are generally approximately balanced, so traversing the Decision Tree requires going through roughly $O(log_2(m))$ nodes. The approximate depth of a Decision Tree trained (without restrictions) on a training set with m instances is $O(log_2(m))$. Since each node only requires checking the value of one feature, the overall prediction complexity is just $O(log_2(m))$, independent of the number of features. So predictions are very fast, even when dealing with large training sets.\n",
        "\n",
        "However, the training algorithm compares all features (or less if `max_features` is set) on all samples at each node. This results in a training complexity of $O(n \\times m \\times log(m))$. For small training sets (less than a few thousand instances), Scikit-Learn can speed up training by presorting the data (set `presort=True`), but this slows down training considerably for larger training sets."
      ]
    },
    {
      "cell_type": "markdown",
      "metadata": {
        "id": "_PGNpqXypely"
      },
      "source": [
        "# Gini impurity or entropy? <a name=\"8\"></a>"
      ]
    },
    {
      "cell_type": "markdown",
      "metadata": {
        "id": "Ksf4fnGepiQd"
      },
      "source": [
        "**By default, the Gini impurity measure is used**, but you can select the ***entropy impurity*** measure instead by setting the `criterion` hyperparameter to \"`entropy`\" . The concept of entropy originated in thermodynamics as a measure of molecular disorder: entropy approaches zero when molecules are still and well ordered. It later spread to a wide variety of domains, including Shannon’s *information theory*, where it measures the average information content of a message: entropy is zero when all messages are identical. \n",
        "\n",
        "In Machine Learning, it is frequently used as an impurity measure: a set’s **entropy is zero when it contains instances of only one class**. Equation 6-3 shows the definition of the entropy of the i th node.\n",
        "\n",
        "$$H_i= -\\sum_{k=1\\\\p_{i,k} \\neq 0}^{n}p_{i,k}log_2(p_{i,k})$$\n",
        "\n",
        "For example, the depth-2 left node in Figure 6-1 has an entropy equal to\n",
        "$$H_i= -\\sum_{k=1\\\\p_{i,k} \\neq 0}^{3}p_{i,k}log_2(p_{i,k})=\n",
        "- \\frac{49}{54}log_2(\\frac{49}{54}) - \\frac{5}{54}log_2(\\frac{5}{54}) \\approx 0.445$$.\n",
        "\n",
        "So should you use Gini impurity or entropy? The truth is, most of the time it does not make a big difference: **they lead to similar trees**. **Gini impurity is slightly faster** to compute, so it is a good default. However, when they differ, Gini impurity tends to isolate the most frequent class in its own branch of the tree, while **entropy tends to produce slightly more balanced trees**."
      ]
    },
    {
      "cell_type": "markdown",
      "metadata": {
        "id": "rjYCgkrapipl"
      },
      "source": [
        "# Regularization hyperparameters <a name=\"9\"></a>"
      ]
    },
    {
      "cell_type": "markdown",
      "metadata": {
        "id": "_LaTAfbzpk3P"
      },
      "source": [
        "Decision Trees **make very few assumptions** about the training data (as opposed to linear models, which obviously assume that the data is linear, for example). **If left unconstrained**, the tree structure will adapt itself to the training data, fitting it very closely, and most **likely overfitting** it. Such a model is often called a ***nonparametric model***, not because it does not have any parameters (it often has a lot) but because **the number of parameters is not determined prior to training**, so the model structure is free to stick closely to the data. In contrast, a ***parametric model*** such as a linear model **has a predetermined number of parameters**, so its degree of freedom is limited, reducing the risk of overfitting (but increasing the risk of underfitting).\n",
        "\n",
        "**To avoid overfitting** the training data, you need to restrict the Decision Tree’s freedom during training. As you know by now, this is called **regularization**. The regularization hyperparameters depend on the algorithm used, but generally you can at least restrict the **maximum depth** of the Decision Tree. In Scikit-Learn, this is controlled by the `max_depth` hyperparameter (the default value is `None` , which means unlimited). **Reducing `max_depth` will regularize the model and thus reduce the risk of overfitting**.\n",
        "\n",
        "The `DecisionTreeClassifier` class has a few **other parameters** that similarly restrict the shape of the Decision Tree: `min_samples_split` (the minimum number of samples a node must have before it can be split), `min_samples_leaf` (the minimum number of samples a leaf node must have), `min_weight_fraction_leaf` (same as `min_samples_leaf` but expressed as a fraction of the total number of weighted instances), `max_leaf_nodes` (maximum number of leaf nodes), and `max_features` (maximum number of features that are evaluated for splitting at each node). Increasing `min_*` hyperparameters or reducing `max_*` hyperparameters will regularize the model.\n",
        "\n",
        "\n",
        "**Note**: Other algorithms work by first training the Decision Tree without restrictions, then ***pruning*** (deleting) unnecessary nodes. **A node whose children are all leaf nodes is considered unnecessary if the purity improvement it provides is not statistically significant**. Standard statistical tests, such as the $\\chi^2$ test, are used to estimate the probability that the improvement is purely the result of chance (which is called the *null hypothesis*). If this probability, called the *p-value*, is higher than a given threshold (typically 5%, controlled by a hyperparameter), then the node is considered unnecessary and its children are deleted. The pruning continues until all unnecessary nodes have been pruned.\n",
        "\n",
        "The next figure shows two Decision Trees trained on a simple binary clasification dataset (called moon dataset) using two features."
      ]
    },
    {
      "cell_type": "code",
      "metadata": {
        "id": "Lw6ffDSmK10C",
        "colab": {
          "base_uri": "https://localhost:8080/",
          "height": 414
        },
        "cellView": "form",
        "outputId": "673b0b18-459f-4b62-e57a-afffbf5943a0"
      },
      "source": [
        "#@title\n",
        "from sklearn.datasets import make_moons\n",
        "Xm, ym = make_moons(n_samples=100, noise=0.25, random_state=53)\n",
        "\n",
        "deep_tree_clf1 = DecisionTreeClassifier(random_state=42)\n",
        "deep_tree_clf2 = DecisionTreeClassifier(min_samples_leaf=4, random_state=42)\n",
        "deep_tree_clf1.fit(Xm, ym)\n",
        "deep_tree_clf2.fit(Xm, ym)\n",
        "\n",
        "plt.figure(figsize=(12, 6))\n",
        "plt.subplot(121)\n",
        "plot_decision_boundary(deep_tree_clf1, Xm, ym, axes=[-1.5, 2.5, -1, 1.5], iris=False)\n",
        "plt.title(\"No restrictions\", fontsize=16)\n",
        "plt.subplot(122)\n",
        "plot_decision_boundary(deep_tree_clf2, Xm, ym, axes=[-1.5, 2.5, -1, 1.5], iris=False)\n",
        "plt.title(\"min_samples_leaf = {}\".format(deep_tree_clf2.min_samples_leaf), fontsize=14)\n",
        "plt.show()"
      ],
      "execution_count": null,
      "outputs": [
        {
          "output_type": "display_data",
          "data": {
            "image/png": "[encoded data removed]",
            "text/plain": [
              "<Figure size 864x432 with 2 Axes>"
            ]
          },
          "metadata": {
            "tags": [],
            "needs_background": "light"
          }
        }
      ]
    },
    {
      "cell_type": "markdown",
      "metadata": {
        "id": "xj2wYmMUL9S1"
      },
      "source": [
        "On the left, the Decision Tree is trained with the default hyperparameters\n",
        "(i.e., no restrictions), and on the right the Decision Tree is trained with `min_samples_leaf=4`. It is quite obvious that the model on the left is overfitting, and the model on the right will probably generalize better."
      ]
    },
    {
      "cell_type": "markdown",
      "metadata": {
        "id": "pR5EKF3zmh7x"
      },
      "source": [
        "Let's train a decision tree and tune some hyperparameters usinf `GridSearchCV` for the moons dataset."
      ]
    },
    {
      "cell_type": "code",
      "metadata": {
        "id": "unumLhGkmsVN",
        "colab": {
          "base_uri": "https://localhost:8080/",
          "height": 454
        },
        "outputId": "d664a243-39a7-4d40-8065-5a15a80d380c"
      },
      "source": [
        "from sklearn.datasets import make_moons\n",
        "from sklearn.model_selection import train_test_split\n",
        "from sklearn.tree import DecisionTreeClassifier\n",
        "from sklearn.model_selection import GridSearchCV\n",
        "from sklearn.metrics import accuracy_score\n",
        "\n",
        "# Generate a moons dataset\n",
        "X, y = make_moons(n_samples=10000, noise=0.4, random_state=42)\n",
        "\n",
        "# Split dataset into a training set and a test set\n",
        "X_train, X_test, y_train, y_test = train_test_split(X, y, test_size=0.2, random_state=42)\n",
        "\n",
        "params = {'max_leaf_nodes': list(range(2, 100)), 'min_samples_split': [2, 3, 4]}\n",
        "\n",
        "# Grid search with cross-validation to find good hyperparameter values\n",
        "grid_search_cv = GridSearchCV(DecisionTreeClassifier(random_state=42), params, cv=3, verbose=1)\n",
        "# Train model on the full training set\n",
        "grid_search_cv.fit(X_train, y_train)"
      ],
      "execution_count": null,
      "outputs": [
        {
          "output_type": "stream",
          "text": [
            "Fitting 3 folds for each of 294 candidates, totalling 882 fits\n"
          ],
          "name": "stdout"
        },
        {
          "output_type": "stream",
          "text": [
            "[Parallel(n_jobs=1)]: Using backend SequentialBackend with 1 concurrent workers.\n",
            "[Parallel(n_jobs=1)]: Done 882 out of 882 | elapsed:    8.9s finished\n"
          ],
          "name": "stderr"
        },
        {
          "output_type": "execute_result",
          "data": {
            "text/plain": [
              "GridSearchCV(cv=3, error_score=nan,\n",
              "             estimator=DecisionTreeClassifier(ccp_alpha=0.0, class_weight=None,\n",
              "                                              criterion='gini', max_depth=None,\n",
              "                                              max_features=None,\n",
              "                                              max_leaf_nodes=None,\n",
              "                                              min_impurity_decrease=0.0,\n",
              "                                              min_impurity_split=None,\n",
              "                                              min_samples_leaf=1,\n",
              "                                              min_samples_split=2,\n",
              "                                              min_weight_fraction_leaf=0.0,\n",
              "                                              presort='deprecated',\n",
              "                                              random_state=42,\n",
              "                                              splitter='best'),\n",
              "             iid='deprecated', n_jobs=None,\n",
              "             param_grid={'max_leaf_nodes': [2, 3, 4, 5, 6, 7, 8, 9, 10, 11, 12,\n",
              "                                            13, 14, 15, 16, 17, 18, 19, 20, 21,\n",
              "                                            22, 23, 24, 25, 26, 27, 28, 29, 30,\n",
              "                                            31, ...],\n",
              "                         'min_samples_split': [2, 3, 4]},\n",
              "             pre_dispatch='2*n_jobs', refit=True, return_train_score=False,\n",
              "             scoring=None, verbose=1)"
            ]
          },
          "metadata": {
            "tags": []
          },
          "execution_count": 6
        }
      ]
    },
    {
      "cell_type": "code",
      "metadata": {
        "id": "jaufd_A0mnOZ",
        "colab": {
          "base_uri": "https://localhost:8080/",
          "height": 126
        },
        "outputId": "3bfa8d04-95fb-43c4-eea8-bdb07203d6a8"
      },
      "source": [
        "grid_search_cv.best_estimator_"
      ],
      "execution_count": null,
      "outputs": [
        {
          "output_type": "execute_result",
          "data": {
            "text/plain": [
              "DecisionTreeClassifier(ccp_alpha=0.0, class_weight=None, criterion='gini',\n",
              "                       max_depth=None, max_features=None, max_leaf_nodes=17,\n",
              "                       min_impurity_decrease=0.0, min_impurity_split=None,\n",
              "                       min_samples_leaf=1, min_samples_split=2,\n",
              "                       min_weight_fraction_leaf=0.0, presort='deprecated',\n",
              "                       random_state=42, splitter='best')"
            ]
          },
          "metadata": {
            "tags": []
          },
          "execution_count": 7
        }
      ]
    },
    {
      "cell_type": "code",
      "metadata": {
        "id": "LC7GeqXJmyrh",
        "colab": {
          "base_uri": "https://localhost:8080/",
          "height": 35
        },
        "outputId": "0e333a3b-102f-4b46-a5ce-aed85e7a43d7"
      },
      "source": [
        "# Measure the model’s performance on the test set\n",
        "y_pred = grid_search_cv.predict(X_test)\n",
        "print(accuracy_score(y_test, y_pred))"
      ],
      "execution_count": null,
      "outputs": [
        {
          "output_type": "stream",
          "text": [
            "0.8695\n"
          ],
          "name": "stdout"
        }
      ]
    },
    {
      "cell_type": "markdown",
      "metadata": {
        "id": "2VwijnotplPZ"
      },
      "source": [
        "# Regression <a name=\"10\"></a>"
      ]
    },
    {
      "cell_type": "markdown",
      "metadata": {
        "id": "NCiWc3IVpn18"
      },
      "source": [
        "Decision Trees are also capable of performing regression tasks. Let’s build a regression tree using Scikit-Learn’s `DecisionTreeRegressor` class, training it on a noisy quadratic dataset with `max_depth=2`:"
      ]
    },
    {
      "cell_type": "code",
      "metadata": {
        "id": "Z_YkGovt-lNU",
        "colab": {
          "base_uri": "https://localhost:8080/",
          "height": 126
        },
        "outputId": "0cf8e9d5-dde3-4c97-a7c0-3cb511af1c01"
      },
      "source": [
        "import numpy as np\n",
        "from sklearn.tree import DecisionTreeRegressor\n",
        "\n",
        "np.random.seed(42)\n",
        "m = 200\n",
        "X = np.random.rand(m, 1)\n",
        "y = 4 * (X - 0.5) ** 2 + np.random.randn(m, 1) / 10\n",
        "\n",
        "tree_reg = DecisionTreeRegressor(max_depth=2)\n",
        "tree_reg.fit(X, y)"
      ],
      "execution_count": null,
      "outputs": [
        {
          "output_type": "execute_result",
          "data": {
            "text/plain": [
              "DecisionTreeRegressor(ccp_alpha=0.0, criterion='mse', max_depth=2,\n",
              "                      max_features=None, max_leaf_nodes=None,\n",
              "                      min_impurity_decrease=0.0, min_impurity_split=None,\n",
              "                      min_samples_leaf=1, min_samples_split=2,\n",
              "                      min_weight_fraction_leaf=0.0, presort='deprecated',\n",
              "                      random_state=None, splitter='best')"
            ]
          },
          "metadata": {
            "tags": []
          },
          "execution_count": 9
        }
      ]
    },
    {
      "cell_type": "markdown",
      "metadata": {
        "id": "FZ5hT-zE-pfv"
      },
      "source": [
        "The resulting tree is represented on Figure 6-4.\n",
        "\n",
        "![texto alternativo](https://i.ibb.co/D846TFk/regression-tree.png)\n",
        "\n",
        "This tree looks very similar to the classification tree you built earlier. The main difference is that **instead of predicting a class in each node, it predicts a value**. For example, suppose you want to make a prediction for a new instance with $x_1 = 0.6$. You traverse the tree starting at the root, and you eventually reach the leaf node that predicts `value=0.111`. This **prediction is simply the average target value of the 110 training instances associated to this leaf node**. This prediction results in a Mean Squared Error (MSE) equal to 0.015 over these 110 instances.\n",
        "\n",
        "This model’s predictions are represented on the left of Figure 6-5.\n",
        "\n",
        "![texto alternativo](https://i.ibb.co/2d52Jvh/predictions-regression-tree.png)\n",
        "\n",
        "If you set `max_depth=3`, you get the predictions represented on the right. Notice how the predicted value for each region is always the average target value of the instances in that region. The algorithm splits each region in a way that makes most training instances as close as possible to that predicted value.\n",
        "\n",
        "The CART algorithm works mostly the same way as earlier, except that **instead of trying to split the training set in a way that minimizes impurity**, **it now** tries to split the training set **in a way that minimizes the MSE**. The next equation shows the **cost function** that the algorithm tries to minimize.\n",
        "\n",
        "\n",
        "$$J(k,t_k)=\\frac{m_{\\text{left}}}{m} \\text{MSE}_{\\text{left}}+\\frac{m_{\\text{right}}}{m}\\text{MSE}_{\\text{right}}$$\n",
        "\n",
        "$$\\text{MSE}_{\\text{node}}=\\sum_{i \\in \\text{node}}(\\hat{y}_{\\text{node}}-y^{(i)})^2$$\n",
        "\n",
        "$$\\hat{y}_{\\text{node}}=\\frac{1}{m_{\\text{node}}}\\sum_{i \\in \\text{node}}y^{(i)}$$\n",
        "\n",
        "- $m_{\\text{left}}$ is the number of instances in the left subset and $m_{\\text{right}}$ is the number of instances in the right subset.\n",
        "\n",
        "\n",
        "Just like for classification tasks, Decision Trees **are prone to overfitting** when dealing with regression tasks. Without any regularization (i.e., using the default hyperparameters), you get the predictions on the left of Figure 6-6.\n",
        "\n",
        "![texto alternativo](https://i.ibb.co/nbNwXzw/reularization-regression-tree.png)\n",
        "\n",
        "It is obviously overfitting the training set very badly. Just setting `min_samples_leaf=10` results in a much more reasonable model, represented on the right of Figure 6-6."
      ]
    },
    {
      "cell_type": "markdown",
      "metadata": {
        "id": "hHWorarqpoIT"
      },
      "source": [
        "# Limitations <a name=\"11\"></a>"
      ]
    },
    {
      "cell_type": "markdown",
      "metadata": {
        "id": "sA4NHoZECjKn"
      },
      "source": [
        "Hopefully by now you are convinced that Decision Trees have a lot going for them: they are simple to understand and interpret, easy to use, versatile, and powerful. However they do have a few **limitations**. First, as you may have noticed, Decision Trees love **orthogonal decision boundaries** (all splits are perpendicular to an axis), which makes them sensitive to training set rotation. For example, Figure 6-7 shows a simple linearly separable dataset.\n",
        "\n",
        "![texto alternativo](https://i.ibb.co/56pXMJx/tree-sensitive-rotation.png)\n",
        "\n",
        "\n",
        "On the left, a Decision Tree can split it easily, while on the right, after the dataset is rotated by 45°, the decision boundary looks unnecessarily convoluted. Although both Decision Trees fit the training set perfectly, it is very likely that the model on the right will not generalize well. One way to **limit this problem** is to use **PCA** (see [notebook](https://nbviewer.jupyter.org/github/victorviro/ML_algorithms_python/blob/master/Dimensionality_reduction_algorithms.ipynb)), which often results in a better orientation of the training data.\n",
        "\n",
        "More generally, the main issue with Decision Trees is that they are very **sensitive to small variations in the training data (high variance)**. For example, if you just remove the widest Iris-Versicolor from the iris training set (the one with petals 4.8 cm long and 1.8 cm wide) and train a new Decision Tree, you may get the model represented in the next figure. \n",
        "\n",
        "\n"
      ]
    },
    {
      "cell_type": "code",
      "metadata": {
        "id": "T3hEMFrCiy4v",
        "colab": {
          "base_uri": "https://localhost:8080/",
          "height": 396
        },
        "outputId": "59443f7f-1963-46c2-9b05-ad876fbac764"
      },
      "source": [
        "from sklearn.tree import DecisionTreeClassifier\n",
        "\n",
        "iris = load_iris()\n",
        "X = iris.data[:, 2:]  # petal length and width\n",
        "y = iris.target\n",
        "\n",
        "not_widest_versicolor = (X[:, 1] != 1.8) | (y == 2)\n",
        "X_tweaked = X[not_widest_versicolor]\n",
        "y_tweaked = y[not_widest_versicolor]\n",
        "\n",
        "tree_clf = DecisionTreeClassifier(max_depth=2, random_state=40)\n",
        "tree_clf.fit(X_tweaked, y_tweaked)\n",
        "\n",
        "\n",
        "plt.figure(figsize=(12, 6))\n",
        "plot_decision_boundary(tree_clf, X_tweaked, y_tweaked)\n",
        "plt.plot([0, 7.5], [0.8, 0.8], \"k-\", linewidth=2)\n",
        "plt.plot([0, 7.5], [1.75, 1.75], \"k--\", linewidth=2)\n",
        "plt.text(1.0, 0.9, \"Depth=0\", fontsize=15)\n",
        "plt.text(1.0, 1.80, \"Depth=1\", fontsize=13)\n",
        "plt.show()"
      ],
      "execution_count": null,
      "outputs": [
        {
          "output_type": "display_data",
          "data": {
            "image/png": "[encoded data removed]",
            "text/plain": [
              "<Figure size 864x432 with 1 Axes>"
            ]
          },
          "metadata": {
            "tags": [],
            "needs_background": "light"
          }
        }
      ]
    },
    {
      "cell_type": "markdown",
      "metadata": {
        "id": "YAubhJ92jJkn"
      },
      "source": [
        "As you can see, it looks very different from the decision boundaries of the  Tree in figure 6-1. Actually, since the training algorithm used by Scikit-Learn is stochastic (it randomly selects the set of features to evaluate at each node) you may get very different models even on the same training data (unless you set the `random_state` hyperparameter).\n",
        "\n",
        "Random Forests can limit this instability by averaging predictions over many trees.\n"
      ]
    },
    {
      "cell_type": "markdown",
      "metadata": {
        "id": "XMHULzFZbj7Z"
      },
      "source": [
        "# References <a name=\"12\"></a>"
      ]
    },
    {
      "cell_type": "markdown",
      "metadata": {
        "id": "P96XHy5sZ3rd"
      },
      "source": [
        "- [Hands-On Machine Learning with Scikit-Learn, Keras, and TensorFlow](https://www.oreilly.com/library/view/hands-on-machine-learning/9781492032632/)\n",
        "\n",
        "- [Github: Hands-On Machine Learning with Scikit-Learn, Keras, and TensorFlow](https://github.com/ageron/handson-ml2)\n",
        "\n",
        "- [Decision trees in Scikit-learn](https://scikit-learn.org/stable/modules/tree.html)"
      ]
    }
  ]
}