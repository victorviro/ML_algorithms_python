{
  "nbformat": 4,
  "nbformat_minor": 0,
  "metadata": {
    "colab": {
      "name": "Pandas.ipynb",
      "provenance": [],
      "collapsed_sections": [],
      "toc_visible": true,
      "authorship_tag": "ABX9TyO5/pxyeLeNRFaMiiCmRlRz",
      "include_colab_link": true
    },
    "kernelspec": {
      "name": "python3",
      "display_name": "Python 3"
    }
  },
  "cells": [
    {
      "cell_type": "markdown",
      "metadata": {
        "id": "view-in-github",
        "colab_type": "text"
      },
      "source": [
        "<a href=\"https://colab.research.google.com/github/victorviro/Machine-Learning-Python/blob/master/Pandas.ipynb\" target=\"_parent\"><img src=\"https://colab.research.google.com/assets/colab-badge.svg\" alt=\"Open In Colab\"/></a>"
      ]
    },
    {
      "cell_type": "markdown",
      "metadata": {
        "id": "ofUSMCSt1vh6"
      },
      "source": [
        "# Pandas"
      ]
    },
    {
      "cell_type": "markdown",
      "metadata": {
        "id": "wZri9qSN1wgk"
      },
      "source": [
        "[Pandas](https://github.com/pandas-dev/pandas) is a specialized Python library for data analysis, especially on humongous datasets. It boasts easy-to-use functionality for reading and writing data, dealing with missing data, reshaping the dataset, and massaging the data by slicing, indexing, inserting, and deleting data variables and records. Pandas also has an important **groupBy** functionality for aggregating data for defined conditions, useful for plotting and computing data summaries for exploration.\n",
        "\n",
        "In short, Pandas is the go-to tool for data cleaning and data exploration.\n",
        "To use Pandas, first import the Pandas module:"
      ]
    },
    {
      "cell_type": "code",
      "metadata": {
        "id": "DIW_vWTX2pHt"
      },
      "source": [
        "import pandas as pd"
      ],
      "execution_count": null,
      "outputs": []
    },
    {
      "cell_type": "markdown",
      "metadata": {
        "id": "My3ypIjS2qqL"
      },
      "source": [
        "## Pandas Data Structures"
      ]
    },
    {
      "cell_type": "markdown",
      "metadata": {
        "id": "kJMiklhf2t20"
      },
      "source": [
        "Just like NumPy, Pandas can store and manipulate a multi-dimensional array of data. To handle this, Pandas has the **Series** and **DataFrame** data structures.\n"
      ]
    },
    {
      "cell_type": "markdown",
      "metadata": {
        "id": "8AJ-i8vI2wDR"
      },
      "source": [
        "### Series\n",
        "\n"
      ]
    },
    {
      "cell_type": "markdown",
      "metadata": {
        "id": "TLidcImn2yMg"
      },
      "source": [
        "The **Series** data structure is for storing a 1-D array (or vector) of data elements. A series data structure also provides labels to the data items in the form of an **index**. The user can specify this label via the **index** parameter in the **Series** function, but if the **index** parameter is left unspecified, a default label of 0 to one minus the size of the data elements is assigned.\n",
        "Let us consider an example of creating a **Series** data structure."
      ]
    },
    {
      "cell_type": "code",
      "metadata": {
        "id": "r6mBuXOy21UB",
        "colab": {
          "base_uri": "https://localhost:8080/"
        },
        "outputId": "fa041473-57f6-4c03-f3bd-33541abc9ae6"
      },
      "source": [
        "# Create a Series object\n",
        "my_series = pd.Series([2,4,6,8], index=['e1','e2','e3','e4'])\n",
        "# Print out data in Series data structure\n",
        "print(my_series)\n",
        "\n",
        "# Check the data type of the variable\n",
        "print(type(my_series))\n",
        "\n",
        "# Return the elements of the Series data structure\n",
        "print(my_series.values) \n",
        "\n",
        "# Retrieve elements from Series data structure based on their assigned indices\n",
        "print(my_series['e1'])\n",
        "\n",
        "# Return all indices of the Series data structure\n",
        "print(my_series.index)"
      ],
      "execution_count": null,
      "outputs": [
        {
          "output_type": "stream",
          "text": [
            "e1    2\n",
            "e2    4\n",
            "e3    6\n",
            "e4    8\n",
            "dtype: int64\n",
            "<class 'pandas.core.series.Series'>\n",
            "[2 4 6 8]\n",
            "2\n",
            "Index(['e1', 'e2', 'e3', 'e4'], dtype='object')\n"
          ],
          "name": "stdout"
        }
      ]
    },
    {
      "cell_type": "markdown",
      "metadata": {
        "id": "po0ea91I24kP"
      },
      "source": [
        "Elements in a Series data structure can be assigned the same indices."
      ]
    },
    {
      "cell_type": "code",
      "metadata": {
        "id": "S3E-tqcB24-J",
        "colab": {
          "base_uri": "https://localhost:8080/"
        },
        "outputId": "fa2bc9ae-23e2-4518-bf15-52afba497322"
      },
      "source": [
        "# Create a Series object with elements sharing indices\n",
        "my_series = pd.Series([2,4,6,8], index=['e1','e2','e1','e2'])\n",
        "\n",
        "# Note the same index assigned to various elements\n",
        "print(my_series)\n",
        "\n",
        "# Get elements using their index\n",
        "print(my_series['e1'])"
      ],
      "execution_count": null,
      "outputs": [
        {
          "output_type": "stream",
          "text": [
            "e1    2\n",
            "e2    4\n",
            "e1    6\n",
            "e2    8\n",
            "dtype: int64\n",
            "e1    2\n",
            "e1    6\n",
            "dtype: int64\n"
          ],
          "name": "stdout"
        }
      ]
    },
    {
      "cell_type": "markdown",
      "metadata": {
        "id": "OTCYd9SS279A"
      },
      "source": [
        "### DataFrames\n",
        "\n"
      ]
    },
    {
      "cell_type": "markdown",
      "metadata": {
        "id": "gfb71U_k29yA"
      },
      "source": [
        "A DataFrame is a Pandas data structure for storing and manipulating 2-D arrays. A 2-D array is a table-like structure that is similar to an Excel spreadsheet or a relational database table. A DataFrame is a very natural form for storing structured datasets.\n",
        "\n",
        "A DataFrame consists of rows and columns for storing records of information (in rows) across heterogeneous variables (in columns).\n",
        "\n",
        "Let’s see examples of working with DataFrames."
      ]
    },
    {
      "cell_type": "code",
      "metadata": {
        "id": "IbHaB7HA2_Vf",
        "colab": {
          "base_uri": "https://localhost:8080/",
          "height": 198
        },
        "outputId": "f60eeb2f-9df1-4ea6-ee6b-5b4c524739ae"
      },
      "source": [
        "# Create a data frame\n",
        "my_DF = pd.DataFrame({'age': [15,17,21,29,25], \\\n",
        "            'state_of_origin':['Lagos', 'Cross River', 'Kano', 'Abia', 'Benue']})\n",
        "my_DF "
      ],
      "execution_count": null,
      "outputs": [
        {
          "output_type": "execute_result",
          "data": {
            "text/html": [
              "<div>\n",
              "<style scoped>\n",
              "    .dataframe tbody tr th:only-of-type {\n",
              "        vertical-align: middle;\n",
              "    }\n",
              "\n",
              "    .dataframe tbody tr th {\n",
              "        vertical-align: top;\n",
              "    }\n",
              "\n",
              "    .dataframe thead th {\n",
              "        text-align: right;\n",
              "    }\n",
              "</style>\n",
              "<table border=\"1\" class=\"dataframe\">\n",
              "  <thead>\n",
              "    <tr style=\"text-align: right;\">\n",
              "      <th></th>\n",
              "      <th>age</th>\n",
              "      <th>state_of_origin</th>\n",
              "    </tr>\n",
              "  </thead>\n",
              "  <tbody>\n",
              "    <tr>\n",
              "      <th>0</th>\n",
              "      <td>15</td>\n",
              "      <td>Lagos</td>\n",
              "    </tr>\n",
              "    <tr>\n",
              "      <th>1</th>\n",
              "      <td>17</td>\n",
              "      <td>Cross River</td>\n",
              "    </tr>\n",
              "    <tr>\n",
              "      <th>2</th>\n",
              "      <td>21</td>\n",
              "      <td>Kano</td>\n",
              "    </tr>\n",
              "    <tr>\n",
              "      <th>3</th>\n",
              "      <td>29</td>\n",
              "      <td>Abia</td>\n",
              "    </tr>\n",
              "    <tr>\n",
              "      <th>4</th>\n",
              "      <td>25</td>\n",
              "      <td>Benue</td>\n",
              "    </tr>\n",
              "  </tbody>\n",
              "</table>\n",
              "</div>"
            ],
            "text/plain": [
              "   age state_of_origin\n",
              "0   15           Lagos\n",
              "1   17     Cross River\n",
              "2   21            Kano\n",
              "3   29            Abia\n",
              "4   25           Benue"
            ]
          },
          "metadata": {
            "tags": []
          },
          "execution_count": 4
        }
      ]
    },
    {
      "cell_type": "markdown",
      "metadata": {
        "id": "L4Swn2l-3BGr"
      },
      "source": [
        "We will observe from the preceding example that a DataFrame is constructed from a dictionary of records where each value is a **Series** data structure. Also note that each row has an **index** that can be assigned when creating the DataFrame, else the default from 0 to one off the number of records in the DataFrame is used. Creating an index manually is usually not feasible except when working with small dummy datasets.\n",
        "\n",
        "NumPy is frequently used together with Pandas. Let’s import the NumPy library and use some of its functions to demonstrate other ways of creating a quick DataFrame."
      ]
    },
    {
      "cell_type": "code",
      "metadata": {
        "id": "gprpCIvu3E4A",
        "colab": {
          "base_uri": "https://localhost:8080/"
        },
        "outputId": "c762806a-9c3b-4d25-8e98-4b1bc3be4ea1"
      },
      "source": [
        "import numpy as np\n",
        "\n",
        "# Create a 3x3 dataframe of numbers from the normal distribution\n",
        "my_DF = pd.DataFrame(np.random.randn(3,3),\\\n",
        "            columns=['First','Second','Third'])\n",
        "print(my_DF)\n",
        "\n",
        "# Check the dimensions\n",
        "print(my_DF.shape)"
      ],
      "execution_count": null,
      "outputs": [
        {
          "output_type": "stream",
          "text": [
            "      First    Second     Third\n",
            "0 -0.530889  0.202075 -0.202340\n",
            "1 -0.983681 -0.156605  1.208290\n",
            "2 -0.271540 -0.927292  0.861979\n",
            "(3, 3)\n"
          ],
          "name": "stdout"
        }
      ]
    },
    {
      "cell_type": "markdown",
      "metadata": {
        "id": "ko9f_ZTg3H4Z"
      },
      "source": [
        "Let’s examine some other operations with DataFrames."
      ]
    },
    {
      "cell_type": "code",
      "metadata": {
        "id": "-PLFxn3o3KIo",
        "colab": {
          "base_uri": "https://localhost:8080/"
        },
        "outputId": "4dad4130-8807-49b9-9593-5ef5820b7143"
      },
      "source": [
        "# Create a python dictionary\n",
        "my_dict = {'State':['Adamawa', 'Akwa-Ibom', 'Yobe', 'Rivers', 'Taraba'], \\\n",
        "            'Capital':['Yola','Uyo','Damaturu','Port-Harcourt','Jalingo'], \\\n",
        "            'Population':[3178950, 5450758, 2321339, 5198716, 2294800]}\n",
        "print(my_dict)\n",
        "\n",
        "# Confirm dictionary type\n",
        "print(type(my_dict))\n",
        "\n",
        "# Create DataFrame from dictionary\n",
        "my_DF = pd.DataFrame(my_dict)\n",
        "print(my_DF) \n",
        "\n",
        "# Check DataFrame type\n",
        "print(type(my_DF))\n",
        "\n",
        "# Retrieve column names of the DataFrame\n",
        "print(my_DF.columns)\n",
        "\n",
        "# The data type of `DF.columns` method is an Index\n",
        "print(type(my_DF.columns))\n",
        "\n",
        "# Retrieve the DataFrame values as a NumPy ndarray\n",
        "print(my_DF.values) \n",
        "\n",
        "# The data type of  `DF.values` method is an numpy ndarray\n",
        "print(type(my_DF.values)) "
      ],
      "execution_count": null,
      "outputs": [
        {
          "output_type": "stream",
          "text": [
            "{'State': ['Adamawa', 'Akwa-Ibom', 'Yobe', 'Rivers', 'Taraba'], 'Capital': ['Yola', 'Uyo', 'Damaturu', 'Port-Harcourt', 'Jalingo'], 'Population': [3178950, 5450758, 2321339, 5198716, 2294800]}\n",
            "<class 'dict'>\n",
            "       State        Capital  Population\n",
            "0    Adamawa           Yola     3178950\n",
            "1  Akwa-Ibom            Uyo     5450758\n",
            "2       Yobe       Damaturu     2321339\n",
            "3     Rivers  Port-Harcourt     5198716\n",
            "4     Taraba        Jalingo     2294800\n",
            "<class 'pandas.core.frame.DataFrame'>\n",
            "Index(['State', 'Capital', 'Population'], dtype='object')\n",
            "<class 'pandas.core.indexes.base.Index'>\n",
            "[['Adamawa' 'Yola' 3178950]\n",
            " ['Akwa-Ibom' 'Uyo' 5450758]\n",
            " ['Yobe' 'Damaturu' 2321339]\n",
            " ['Rivers' 'Port-Harcourt' 5198716]\n",
            " ['Taraba' 'Jalingo' 2294800]]\n",
            "<class 'numpy.ndarray'>\n"
          ],
          "name": "stdout"
        }
      ]
    },
    {
      "cell_type": "markdown",
      "metadata": {
        "id": "zxfCWMWr3TMK"
      },
      "source": [
        "In summary, a DataFrame is a tabular structure for storing a structured dataset where each column contains a **Series** data structure of records.\n",
        "\n",
        "![]()\n",
        "\n",
        "Let’s check the data type of each column in the DataFrame."
      ]
    },
    {
      "cell_type": "code",
      "metadata": {
        "id": "NTGgqklL3HOB",
        "colab": {
          "base_uri": "https://localhost:8080/"
        },
        "outputId": "81b19666-b39f-4964-e659-475e76ada9d9"
      },
      "source": [
        "my_DF.dtypes"
      ],
      "execution_count": null,
      "outputs": [
        {
          "output_type": "execute_result",
          "data": {
            "text/plain": [
              "State         object\n",
              "Capital       object\n",
              "Population     int64\n",
              "dtype: object"
            ]
          },
          "metadata": {
            "tags": []
          },
          "execution_count": 7
        }
      ]
    },
    {
      "cell_type": "markdown",
      "metadata": {
        "id": "kQkQdKbm3bXn"
      },
      "source": [
        "An **object** data type in Pandas represents **Strings**."
      ]
    },
    {
      "cell_type": "markdown",
      "metadata": {
        "id": "TeNBPD413cvb"
      },
      "source": [
        "## Data Indexing (Selection/Subsets)\n",
        "\n"
      ]
    },
    {
      "cell_type": "markdown",
      "metadata": {
        "id": "ZnDyVGie3ff3"
      },
      "source": [
        "Similar to NumPy, Pandas objects can index or subset the dataset to retrieve a specific sub-record of the larger dataset. Note that data indexing returns a new **DataFrame** or **Series** if a 2-D or 1-D array is retrieved. They do not, however, alter the original dataset. Let’s go through some examples of indexing a Pandas DataFrame.\n",
        "\n",
        "First let’s create a dataframe. Observe the default integer indices assigned."
      ]
    },
    {
      "cell_type": "code",
      "metadata": {
        "id": "cmxHmbkV3i-H",
        "colab": {
          "base_uri": "https://localhost:8080/",
          "height": 198
        },
        "outputId": "1a8f4f78-8fd1-4b7e-97a5-d11faa1e2eee"
      },
      "source": [
        "# Create the dataframe\n",
        "my_DF = pd.DataFrame({'age': [15,17,21,29,25], \\\n",
        "            'state_of_origin':['Lagos', 'Cross River', 'Kano', 'Abia', 'Benue']})\n",
        "my_DF "
      ],
      "execution_count": null,
      "outputs": [
        {
          "output_type": "execute_result",
          "data": {
            "text/html": [
              "<div>\n",
              "<style scoped>\n",
              "    .dataframe tbody tr th:only-of-type {\n",
              "        vertical-align: middle;\n",
              "    }\n",
              "\n",
              "    .dataframe tbody tr th {\n",
              "        vertical-align: top;\n",
              "    }\n",
              "\n",
              "    .dataframe thead th {\n",
              "        text-align: right;\n",
              "    }\n",
              "</style>\n",
              "<table border=\"1\" class=\"dataframe\">\n",
              "  <thead>\n",
              "    <tr style=\"text-align: right;\">\n",
              "      <th></th>\n",
              "      <th>age</th>\n",
              "      <th>state_of_origin</th>\n",
              "    </tr>\n",
              "  </thead>\n",
              "  <tbody>\n",
              "    <tr>\n",
              "      <th>0</th>\n",
              "      <td>15</td>\n",
              "      <td>Lagos</td>\n",
              "    </tr>\n",
              "    <tr>\n",
              "      <th>1</th>\n",
              "      <td>17</td>\n",
              "      <td>Cross River</td>\n",
              "    </tr>\n",
              "    <tr>\n",
              "      <th>2</th>\n",
              "      <td>21</td>\n",
              "      <td>Kano</td>\n",
              "    </tr>\n",
              "    <tr>\n",
              "      <th>3</th>\n",
              "      <td>29</td>\n",
              "      <td>Abia</td>\n",
              "    </tr>\n",
              "    <tr>\n",
              "      <th>4</th>\n",
              "      <td>25</td>\n",
              "      <td>Benue</td>\n",
              "    </tr>\n",
              "  </tbody>\n",
              "</table>\n",
              "</div>"
            ],
            "text/plain": [
              "   age state_of_origin\n",
              "0   15           Lagos\n",
              "1   17     Cross River\n",
              "2   21            Kano\n",
              "3   29            Abia\n",
              "4   25           Benue"
            ]
          },
          "metadata": {
            "tags": []
          },
          "execution_count": 8
        }
      ]
    },
    {
      "cell_type": "markdown",
      "metadata": {
        "id": "N8Idfofn3kr4"
      },
      "source": [
        "### Selecting a Column from a DataFrame"
      ]
    },
    {
      "cell_type": "markdown",
      "metadata": {
        "id": "s5Daulj03mh6"
      },
      "source": [
        "Remember that the data type of a DataFrame column is a **Series** because it is a vector or 1-D array."
      ]
    },
    {
      "cell_type": "code",
      "metadata": {
        "id": "MA4_sbD23oHN",
        "colab": {
          "base_uri": "https://localhost:8080/"
        },
        "outputId": "109d8ad9-65e9-4c1f-a36e-2600586ec8c4"
      },
      "source": [
        "print(my_DF['age'])\n",
        "\n",
        "# Check data type\n",
        "print(type(my_DF['age']))"
      ],
      "execution_count": null,
      "outputs": [
        {
          "output_type": "stream",
          "text": [
            "0    15\n",
            "1    17\n",
            "2    21\n",
            "3    29\n",
            "4    25\n",
            "Name: age, dtype: int64\n",
            "<class 'pandas.core.series.Series'>\n"
          ],
          "name": "stdout"
        }
      ]
    },
    {
      "cell_type": "markdown",
      "metadata": {
        "id": "1VXg_lsP3ppX"
      },
      "source": [
        "To select multiple columns, enclose the column names as **strings** with the double square brackets `[[ ]]`. The following code is an example:"
      ]
    },
    {
      "cell_type": "code",
      "metadata": {
        "id": "Z635NavH3rAm",
        "colab": {
          "base_uri": "https://localhost:8080/",
          "height": 198
        },
        "outputId": "c4cf18cf-20d8-417a-cdd6-de3ff6473691"
      },
      "source": [
        "my_DF[['age','state_of_origin']]"
      ],
      "execution_count": null,
      "outputs": [
        {
          "output_type": "execute_result",
          "data": {
            "text/html": [
              "<div>\n",
              "<style scoped>\n",
              "    .dataframe tbody tr th:only-of-type {\n",
              "        vertical-align: middle;\n",
              "    }\n",
              "\n",
              "    .dataframe tbody tr th {\n",
              "        vertical-align: top;\n",
              "    }\n",
              "\n",
              "    .dataframe thead th {\n",
              "        text-align: right;\n",
              "    }\n",
              "</style>\n",
              "<table border=\"1\" class=\"dataframe\">\n",
              "  <thead>\n",
              "    <tr style=\"text-align: right;\">\n",
              "      <th></th>\n",
              "      <th>age</th>\n",
              "      <th>state_of_origin</th>\n",
              "    </tr>\n",
              "  </thead>\n",
              "  <tbody>\n",
              "    <tr>\n",
              "      <th>0</th>\n",
              "      <td>15</td>\n",
              "      <td>Lagos</td>\n",
              "    </tr>\n",
              "    <tr>\n",
              "      <th>1</th>\n",
              "      <td>17</td>\n",
              "      <td>Cross River</td>\n",
              "    </tr>\n",
              "    <tr>\n",
              "      <th>2</th>\n",
              "      <td>21</td>\n",
              "      <td>Kano</td>\n",
              "    </tr>\n",
              "    <tr>\n",
              "      <th>3</th>\n",
              "      <td>29</td>\n",
              "      <td>Abia</td>\n",
              "    </tr>\n",
              "    <tr>\n",
              "      <th>4</th>\n",
              "      <td>25</td>\n",
              "      <td>Benue</td>\n",
              "    </tr>\n",
              "  </tbody>\n",
              "</table>\n",
              "</div>"
            ],
            "text/plain": [
              "   age state_of_origin\n",
              "0   15           Lagos\n",
              "1   17     Cross River\n",
              "2   21            Kano\n",
              "3   29            Abia\n",
              "4   25           Benue"
            ]
          },
          "metadata": {
            "tags": []
          },
          "execution_count": 11
        }
      ]
    },
    {
      "cell_type": "markdown",
      "metadata": {
        "id": "01b7PQp-3sdX"
      },
      "source": [
        "### Selecting a Row from a DataFrame"
      ]
    },
    {
      "cell_type": "markdown",
      "metadata": {
        "id": "kQpOo_YX3u73"
      },
      "source": [
        "Pandas makes use of two unique wrapper attributes for indexing rows from a **DataFrame** or a cell from a **Series** data structure. These attributes are the `iloc` and `loc` (they are also known as indexers). The `iloc` attribute allows us to select or slice row(s) of a DataFrame using the intrinsic Python index format, whereas the `loc` attribute uses the explicit indices assigned to the DataFrame. If no explicit index is found, `loc` returns the same value as `iloc`.\n",
        "\n",
        "Remember that the data type of a DataFrame row is a **Series** because it is a vector or 1-D array.\n",
        "\n",
        "Let’s select the first row from the DataFrame."
      ]
    },
    {
      "cell_type": "code",
      "metadata": {
        "id": "f7X7yNh83wr6",
        "colab": {
          "base_uri": "https://localhost:8080/"
        },
        "outputId": "937b22fc-e18b-42c7-e79e-a20154d55bfe"
      },
      "source": [
        "# Using explicit indexing\n",
        "print(my_DF.loc[0])\n",
        "\n",
        "# Using implicit indexing\n",
        "print(my_DF.iloc[0])\n",
        "\n",
        "# Let's see the data type\n",
        "print(type(my_DF.loc[0])) "
      ],
      "execution_count": null,
      "outputs": [
        {
          "output_type": "stream",
          "text": [
            "age                   15\n",
            "state_of_origin    Lagos\n",
            "Name: 0, dtype: object\n",
            "age                   15\n",
            "state_of_origin    Lagos\n",
            "Name: 0, dtype: object\n",
            "<class 'pandas.core.series.Series'>\n"
          ],
          "name": "stdout"
        }
      ]
    },
    {
      "cell_type": "markdown",
      "metadata": {
        "id": "RQbqmPcf3yOn"
      },
      "source": [
        "Now let’s create a DataFrame with explicit indexing and test out the `iloc` and `loc` methods. Pandas will return an error if `iloc` is used for explicit indexing or if `loc` is used for implicit Python indexing."
      ]
    },
    {
      "cell_type": "code",
      "metadata": {
        "id": "i0qMhF223zZ-",
        "colab": {
          "base_uri": "https://localhost:8080/"
        },
        "outputId": "d3dcc13e-db85-44eb-91b9-a3f8c567b96f"
      },
      "source": [
        " my_DF = pd.DataFrame({'age': [15,17,21,29,25], \\\n",
        "            'state_of_origin':['Lagos', 'Cross River', 'Kano', 'Abia', 'Benue']},\\\n",
        "            index=['a','a','b','b','c'])\n",
        " \n",
        "# Observe the string indices\n",
        "print(my_DF) \n",
        "\n",
        "# Select using explicit indexing\n",
        "print(my_DF.loc['a'])\n",
        "\n",
        "# Let's try to use loc for implicit indexing\n",
        "#print(my_DF.loc[0])"
      ],
      "execution_count": null,
      "outputs": [
        {
          "output_type": "stream",
          "text": [
            "   age state_of_origin\n",
            "a   15           Lagos\n",
            "a   17     Cross River\n",
            "b   21            Kano\n",
            "b   29            Abia\n",
            "c   25           Benue\n",
            "   age state_of_origin\n",
            "a   15           Lagos\n",
            "a   17     Cross River\n"
          ],
          "name": "stdout"
        }
      ]
    },
    {
      "cell_type": "markdown",
      "metadata": {
        "id": "oNfE3r0m3379"
      },
      "source": [
        "### Selecting Multiple Rows and Columns from a DataFrame"
      ]
    },
    {
      "cell_type": "markdown",
      "metadata": {
        "id": "Dp10zOHm35id"
      },
      "source": [
        "Let’s use the `loc` method to select multiple rows and columns from a Pandas DataFrame."
      ]
    },
    {
      "cell_type": "code",
      "metadata": {
        "id": "1rJtVqRG37IO",
        "colab": {
          "base_uri": "https://localhost:8080/",
          "height": 138
        },
        "outputId": "bb45cc81-d18b-4294-a43e-271fa3616265"
      },
      "source": [
        "# Select rows with age greater than 20\n",
        "my_DF.loc[my_DF.age > 20]"
      ],
      "execution_count": null,
      "outputs": [
        {
          "output_type": "execute_result",
          "data": {
            "text/html": [
              "<div>\n",
              "<style scoped>\n",
              "    .dataframe tbody tr th:only-of-type {\n",
              "        vertical-align: middle;\n",
              "    }\n",
              "\n",
              "    .dataframe tbody tr th {\n",
              "        vertical-align: top;\n",
              "    }\n",
              "\n",
              "    .dataframe thead th {\n",
              "        text-align: right;\n",
              "    }\n",
              "</style>\n",
              "<table border=\"1\" class=\"dataframe\">\n",
              "  <thead>\n",
              "    <tr style=\"text-align: right;\">\n",
              "      <th></th>\n",
              "      <th>age</th>\n",
              "      <th>state_of_origin</th>\n",
              "    </tr>\n",
              "  </thead>\n",
              "  <tbody>\n",
              "    <tr>\n",
              "      <th>b</th>\n",
              "      <td>21</td>\n",
              "      <td>Kano</td>\n",
              "    </tr>\n",
              "    <tr>\n",
              "      <th>b</th>\n",
              "      <td>29</td>\n",
              "      <td>Abia</td>\n",
              "    </tr>\n",
              "    <tr>\n",
              "      <th>c</th>\n",
              "      <td>25</td>\n",
              "      <td>Benue</td>\n",
              "    </tr>\n",
              "  </tbody>\n",
              "</table>\n",
              "</div>"
            ],
            "text/plain": [
              "   age state_of_origin\n",
              "b   21            Kano\n",
              "b   29            Abia\n",
              "c   25           Benue"
            ]
          },
          "metadata": {
            "tags": []
          },
          "execution_count": 15
        }
      ]
    },
    {
      "cell_type": "code",
      "metadata": {
        "colab": {
          "base_uri": "https://localhost:8080/"
        },
        "id": "DSUBrL3ddIq7",
        "outputId": "ebf11dbc-f950-4da3-d685-2a002260e5a3"
      },
      "source": [
        "# Find states of origin with age greater than or equal to 25\n",
        "my_DF.loc[my_DF.age >= 25, 'state_of_origin'] "
      ],
      "execution_count": null,
      "outputs": [
        {
          "output_type": "execute_result",
          "data": {
            "text/plain": [
              "b     Abia\n",
              "c    Benue\n",
              "Name: state_of_origin, dtype: object"
            ]
          },
          "metadata": {
            "tags": []
          },
          "execution_count": 16
        }
      ]
    },
    {
      "cell_type": "markdown",
      "metadata": {
        "id": "KsEZMhkh38_I"
      },
      "source": [
        "### Slice Cells by Row and Column from a DataFrame\n"
      ]
    },
    {
      "cell_type": "markdown",
      "metadata": {
        "id": "cGInAmsS1wxz"
      },
      "source": [
        "First let’s create a DataFrame. Remember, we use `iloc` when no explicit index or row labels are assigned."
      ]
    },
    {
      "cell_type": "code",
      "metadata": {
        "id": "zEy_aAyW4AWJ",
        "colab": {
          "base_uri": "https://localhost:8080/",
          "height": 198
        },
        "outputId": "c7edcaa8-9077-4c40-91b7-220c4a0450e1"
      },
      "source": [
        "my_DF = pd.DataFrame({'age': [15,17,21,29,25], \\\n",
        "            'state_of_origin':['Lagos', 'Cross River', 'Kano', 'Abia', 'Benue']})\n",
        "my_DF"
      ],
      "execution_count": null,
      "outputs": [
        {
          "output_type": "execute_result",
          "data": {
            "text/html": [
              "<div>\n",
              "<style scoped>\n",
              "    .dataframe tbody tr th:only-of-type {\n",
              "        vertical-align: middle;\n",
              "    }\n",
              "\n",
              "    .dataframe tbody tr th {\n",
              "        vertical-align: top;\n",
              "    }\n",
              "\n",
              "    .dataframe thead th {\n",
              "        text-align: right;\n",
              "    }\n",
              "</style>\n",
              "<table border=\"1\" class=\"dataframe\">\n",
              "  <thead>\n",
              "    <tr style=\"text-align: right;\">\n",
              "      <th></th>\n",
              "      <th>age</th>\n",
              "      <th>state_of_origin</th>\n",
              "    </tr>\n",
              "  </thead>\n",
              "  <tbody>\n",
              "    <tr>\n",
              "      <th>0</th>\n",
              "      <td>15</td>\n",
              "      <td>Lagos</td>\n",
              "    </tr>\n",
              "    <tr>\n",
              "      <th>1</th>\n",
              "      <td>17</td>\n",
              "      <td>Cross River</td>\n",
              "    </tr>\n",
              "    <tr>\n",
              "      <th>2</th>\n",
              "      <td>21</td>\n",
              "      <td>Kano</td>\n",
              "    </tr>\n",
              "    <tr>\n",
              "      <th>3</th>\n",
              "      <td>29</td>\n",
              "      <td>Abia</td>\n",
              "    </tr>\n",
              "    <tr>\n",
              "      <th>4</th>\n",
              "      <td>25</td>\n",
              "      <td>Benue</td>\n",
              "    </tr>\n",
              "  </tbody>\n",
              "</table>\n",
              "</div>"
            ],
            "text/plain": [
              "   age state_of_origin\n",
              "0   15           Lagos\n",
              "1   17     Cross River\n",
              "2   21            Kano\n",
              "3   29            Abia\n",
              "4   25           Benue"
            ]
          },
          "metadata": {
            "tags": []
          },
          "execution_count": 17
        }
      ]
    },
    {
      "cell_type": "code",
      "metadata": {
        "colab": {
          "base_uri": "https://localhost:8080/",
          "height": 35
        },
        "id": "nom5XEvWdRNH",
        "outputId": "bc52fbd4-f9bd-4e47-d269-ffa05b0017cf"
      },
      "source": [
        "# Select the third row and second column\n",
        "my_DF.iloc[2,1]"
      ],
      "execution_count": null,
      "outputs": [
        {
          "output_type": "execute_result",
          "data": {
            "application/vnd.google.colaboratory.intrinsic+json": {
              "type": "string"
            },
            "text/plain": [
              "'Kano'"
            ]
          },
          "metadata": {
            "tags": []
          },
          "execution_count": 18
        }
      ]
    },
    {
      "cell_type": "code",
      "metadata": {
        "colab": {
          "base_uri": "https://localhost:8080/",
          "height": 108
        },
        "id": "QgqOpYJldS94",
        "outputId": "6e45feaa-7cdc-4628-a267-88b21c375cb7"
      },
      "source": [
        "# Slice the first 2 rows - indexed from zero, excluding the final index\n",
        "my_DF.iloc[:2,]"
      ],
      "execution_count": null,
      "outputs": [
        {
          "output_type": "execute_result",
          "data": {
            "text/html": [
              "<div>\n",
              "<style scoped>\n",
              "    .dataframe tbody tr th:only-of-type {\n",
              "        vertical-align: middle;\n",
              "    }\n",
              "\n",
              "    .dataframe tbody tr th {\n",
              "        vertical-align: top;\n",
              "    }\n",
              "\n",
              "    .dataframe thead th {\n",
              "        text-align: right;\n",
              "    }\n",
              "</style>\n",
              "<table border=\"1\" class=\"dataframe\">\n",
              "  <thead>\n",
              "    <tr style=\"text-align: right;\">\n",
              "      <th></th>\n",
              "      <th>age</th>\n",
              "      <th>state_of_origin</th>\n",
              "    </tr>\n",
              "  </thead>\n",
              "  <tbody>\n",
              "    <tr>\n",
              "      <th>0</th>\n",
              "      <td>15</td>\n",
              "      <td>Lagos</td>\n",
              "    </tr>\n",
              "    <tr>\n",
              "      <th>1</th>\n",
              "      <td>17</td>\n",
              "      <td>Cross River</td>\n",
              "    </tr>\n",
              "  </tbody>\n",
              "</table>\n",
              "</div>"
            ],
            "text/plain": [
              "   age state_of_origin\n",
              "0   15           Lagos\n",
              "1   17     Cross River"
            ]
          },
          "metadata": {
            "tags": []
          },
          "execution_count": 19
        }
      ]
    },
    {
      "cell_type": "code",
      "metadata": {
        "colab": {
          "base_uri": "https://localhost:8080/"
        },
        "id": "BjTifCALdUC_",
        "outputId": "575b004d-ab0d-4088-dc07-4f1119b14c28"
      },
      "source": [
        "# Slice the last three rows from the last column\n",
        "my_DF.iloc[-3:,-1] "
      ],
      "execution_count": null,
      "outputs": [
        {
          "output_type": "execute_result",
          "data": {
            "text/plain": [
              "2     Kano\n",
              "3     Abia\n",
              "4    Benue\n",
              "Name: state_of_origin, dtype: object"
            ]
          },
          "metadata": {
            "tags": []
          },
          "execution_count": 20
        }
      ]
    },
    {
      "cell_type": "markdown",
      "metadata": {
        "id": "2PKHA9254EjG"
      },
      "source": [
        "## DataFrame Manipulation"
      ]
    },
    {
      "cell_type": "markdown",
      "metadata": {
        "id": "h5LWas4I1wuz"
      },
      "source": [
        "Let’s go through some common tasks for manipulating a DataFrame."
      ]
    },
    {
      "cell_type": "markdown",
      "metadata": {
        "id": "GCyrMKx81wsB"
      },
      "source": [
        "### Removing a Row/Column"
      ]
    },
    {
      "cell_type": "markdown",
      "metadata": {
        "id": "NBD5sqLx1wpJ"
      },
      "source": [
        "In many cases during the data cleaning process, there may be a need to drop unwanted rows or data variables (i.e., columns). We typically do this using the `drop` function. The `drop` function has a parameter `axis` whose default is 0. If `axis` is set to 1, it drops columns in a dataset, but if left at the default, rows are dropped from the dataset.\n",
        "Note that when a column or row is dropped, a new DataFrame or Series is returned without altering the original data structure. However, when the attribute inplace is set to True, the original DataFrame or Series is modified. Let’s see some examples."
      ]
    },
    {
      "cell_type": "code",
      "metadata": {
        "id": "Q2kgYSxf4M1V",
        "colab": {
          "base_uri": "https://localhost:8080/"
        },
        "outputId": "fce7c64e-e55a-4e4f-8a73-314ff877daa9"
      },
      "source": [
        "my_DF = pd.DataFrame({'age': [15,17,21,29,25], \\\n",
        "            'state_of_origin':['Lagos', 'Cross River', 'Kano', 'Abia', 'Benue']})\n",
        "print(my_DF)\n",
        "\n",
        "# Drop the 3rd and 4th column\n",
        "print(my_DF.drop([2,4])) \n",
        "\n",
        "# Drop the `age` column\n",
        "print(my_DF.drop('age', axis=1))\n",
        "\n",
        "# The original DataFrame is unchanged\n",
        "print(my_DF )\n",
        "\n",
        "# Drop using 'inplace' - to modify the original DataFrame\n",
        "print(my_DF.drop('age', axis=1, inplace=True))\n",
        "\n",
        "# The original DataFrame altered\n",
        "print(my_DF)"
      ],
      "execution_count": null,
      "outputs": [
        {
          "output_type": "stream",
          "text": [
            "   age state_of_origin\n",
            "0   15           Lagos\n",
            "1   17     Cross River\n",
            "2   21            Kano\n",
            "3   29            Abia\n",
            "4   25           Benue\n",
            "   age state_of_origin\n",
            "0   15           Lagos\n",
            "1   17     Cross River\n",
            "3   29            Abia\n",
            "  state_of_origin\n",
            "0           Lagos\n",
            "1     Cross River\n",
            "2            Kano\n",
            "3            Abia\n",
            "4           Benue\n",
            "   age state_of_origin\n",
            "0   15           Lagos\n",
            "1   17     Cross River\n",
            "2   21            Kano\n",
            "3   29            Abia\n",
            "4   25           Benue\n",
            "None\n",
            "  state_of_origin\n",
            "0           Lagos\n",
            "1     Cross River\n",
            "2            Kano\n",
            "3            Abia\n",
            "4           Benue\n"
          ],
          "name": "stdout"
        }
      ]
    },
    {
      "cell_type": "markdown",
      "metadata": {
        "id": "cC3QskTt4T0M"
      },
      "source": [
        "Let’s see examples of removing a row given a condition."
      ]
    },
    {
      "cell_type": "code",
      "metadata": {
        "id": "UQPUxnO14VLK",
        "colab": {
          "base_uri": "https://localhost:8080/",
          "height": 247
        },
        "outputId": "533f9340-2b1c-4ee4-cfdf-8858acfe194d"
      },
      "source": [
        "my_DF = pd.DataFrame({'age': [15,17,21,29,25], \\\n",
        "            'state_of_origin':['Lagos', 'Cross River', 'Kano', 'Abia', 'Benue']})\n",
        "print(my_DF)\n",
        "\n",
        "# Drop all rows less than 20\n",
        "my_DF.drop(my_DF[my_DF['age'] < 20].index, inplace=True)\n",
        "my_DF "
      ],
      "execution_count": null,
      "outputs": [
        {
          "output_type": "stream",
          "text": [
            "   age state_of_origin\n",
            "0   15           Lagos\n",
            "1   17     Cross River\n",
            "2   21            Kano\n",
            "3   29            Abia\n",
            "4   25           Benue\n"
          ],
          "name": "stdout"
        },
        {
          "output_type": "execute_result",
          "data": {
            "text/html": [
              "<div>\n",
              "<style scoped>\n",
              "    .dataframe tbody tr th:only-of-type {\n",
              "        vertical-align: middle;\n",
              "    }\n",
              "\n",
              "    .dataframe tbody tr th {\n",
              "        vertical-align: top;\n",
              "    }\n",
              "\n",
              "    .dataframe thead th {\n",
              "        text-align: right;\n",
              "    }\n",
              "</style>\n",
              "<table border=\"1\" class=\"dataframe\">\n",
              "  <thead>\n",
              "    <tr style=\"text-align: right;\">\n",
              "      <th></th>\n",
              "      <th>age</th>\n",
              "      <th>state_of_origin</th>\n",
              "    </tr>\n",
              "  </thead>\n",
              "  <tbody>\n",
              "    <tr>\n",
              "      <th>2</th>\n",
              "      <td>21</td>\n",
              "      <td>Kano</td>\n",
              "    </tr>\n",
              "    <tr>\n",
              "      <th>3</th>\n",
              "      <td>29</td>\n",
              "      <td>Abia</td>\n",
              "    </tr>\n",
              "    <tr>\n",
              "      <th>4</th>\n",
              "      <td>25</td>\n",
              "      <td>Benue</td>\n",
              "    </tr>\n",
              "  </tbody>\n",
              "</table>\n",
              "</div>"
            ],
            "text/plain": [
              "   age state_of_origin\n",
              "2   21            Kano\n",
              "3   29            Abia\n",
              "4   25           Benue"
            ]
          },
          "metadata": {
            "tags": []
          },
          "execution_count": 22
        }
      ]
    },
    {
      "cell_type": "markdown",
      "metadata": {
        "id": "F2kgUiVr4XCj"
      },
      "source": [
        "### Adding a Row/Column"
      ]
    },
    {
      "cell_type": "markdown",
      "metadata": {
        "id": "_BXcwvwS1wm_"
      },
      "source": [
        "We can add a new column to a Pandas DataFrame by using the assign method."
      ]
    },
    {
      "cell_type": "code",
      "metadata": {
        "id": "nS6ZLPtv4ai9",
        "colab": {
          "base_uri": "https://localhost:8080/",
          "height": 307
        },
        "outputId": "74b40a47-76b4-4948-d57d-0b336c9004e5"
      },
      "source": [
        "# show dataframe\n",
        "my_DF = pd.DataFrame({'age': [15,17,21,29,25], \\\n",
        "            'state_of_origin':['Lagos', 'Cross River', 'Kano', 'Abia', 'Benue']})\n",
        "print(my_DF)\n",
        "\n",
        "# Add column to data frame\n",
        "my_DF = my_DF.assign(capital_city = pd.Series(['Ikeja', 'Calabar', \\\n",
        "                                                'Kano', 'Umuahia', 'Makurdi']))\n",
        "my_DF "
      ],
      "execution_count": null,
      "outputs": [
        {
          "output_type": "stream",
          "text": [
            "   age state_of_origin\n",
            "0   15           Lagos\n",
            "1   17     Cross River\n",
            "2   21            Kano\n",
            "3   29            Abia\n",
            "4   25           Benue\n"
          ],
          "name": "stdout"
        },
        {
          "output_type": "execute_result",
          "data": {
            "text/html": [
              "<div>\n",
              "<style scoped>\n",
              "    .dataframe tbody tr th:only-of-type {\n",
              "        vertical-align: middle;\n",
              "    }\n",
              "\n",
              "    .dataframe tbody tr th {\n",
              "        vertical-align: top;\n",
              "    }\n",
              "\n",
              "    .dataframe thead th {\n",
              "        text-align: right;\n",
              "    }\n",
              "</style>\n",
              "<table border=\"1\" class=\"dataframe\">\n",
              "  <thead>\n",
              "    <tr style=\"text-align: right;\">\n",
              "      <th></th>\n",
              "      <th>age</th>\n",
              "      <th>state_of_origin</th>\n",
              "      <th>capital_city</th>\n",
              "    </tr>\n",
              "  </thead>\n",
              "  <tbody>\n",
              "    <tr>\n",
              "      <th>0</th>\n",
              "      <td>15</td>\n",
              "      <td>Lagos</td>\n",
              "      <td>Ikeja</td>\n",
              "    </tr>\n",
              "    <tr>\n",
              "      <th>1</th>\n",
              "      <td>17</td>\n",
              "      <td>Cross River</td>\n",
              "      <td>Calabar</td>\n",
              "    </tr>\n",
              "    <tr>\n",
              "      <th>2</th>\n",
              "      <td>21</td>\n",
              "      <td>Kano</td>\n",
              "      <td>Kano</td>\n",
              "    </tr>\n",
              "    <tr>\n",
              "      <th>3</th>\n",
              "      <td>29</td>\n",
              "      <td>Abia</td>\n",
              "      <td>Umuahia</td>\n",
              "    </tr>\n",
              "    <tr>\n",
              "      <th>4</th>\n",
              "      <td>25</td>\n",
              "      <td>Benue</td>\n",
              "      <td>Makurdi</td>\n",
              "    </tr>\n",
              "  </tbody>\n",
              "</table>\n",
              "</div>"
            ],
            "text/plain": [
              "   age state_of_origin capital_city\n",
              "0   15           Lagos        Ikeja\n",
              "1   17     Cross River      Calabar\n",
              "2   21            Kano         Kano\n",
              "3   29            Abia      Umuahia\n",
              "4   25           Benue      Makurdi"
            ]
          },
          "metadata": {
            "tags": []
          },
          "execution_count": 23
        }
      ]
    },
    {
      "cell_type": "markdown",
      "metadata": {
        "id": "RY4oai5K4dJu"
      },
      "source": [
        "We can also add a new DataFrame column by computing some function on another column. Let’s take an example by adding a column computing the absolute difference of the ages from their mean.\n"
      ]
    },
    {
      "cell_type": "code",
      "metadata": {
        "id": "2j7hYE9P4e2X",
        "colab": {
          "base_uri": "https://localhost:8080/",
          "height": 198
        },
        "outputId": "15c5dadc-3d11-42fd-82c7-b2601cb34b0f"
      },
      "source": [
        "mean_of_age = my_DF['age'].mean()\n",
        "my_DF['diff_age'] = my_DF['age'].map( lambda x: abs(x-mean_of_age))\n",
        "my_DF "
      ],
      "execution_count": null,
      "outputs": [
        {
          "output_type": "execute_result",
          "data": {
            "text/html": [
              "<div>\n",
              "<style scoped>\n",
              "    .dataframe tbody tr th:only-of-type {\n",
              "        vertical-align: middle;\n",
              "    }\n",
              "\n",
              "    .dataframe tbody tr th {\n",
              "        vertical-align: top;\n",
              "    }\n",
              "\n",
              "    .dataframe thead th {\n",
              "        text-align: right;\n",
              "    }\n",
              "</style>\n",
              "<table border=\"1\" class=\"dataframe\">\n",
              "  <thead>\n",
              "    <tr style=\"text-align: right;\">\n",
              "      <th></th>\n",
              "      <th>age</th>\n",
              "      <th>state_of_origin</th>\n",
              "      <th>capital_city</th>\n",
              "      <th>diff_age</th>\n",
              "    </tr>\n",
              "  </thead>\n",
              "  <tbody>\n",
              "    <tr>\n",
              "      <th>0</th>\n",
              "      <td>15</td>\n",
              "      <td>Lagos</td>\n",
              "      <td>Ikeja</td>\n",
              "      <td>6.4</td>\n",
              "    </tr>\n",
              "    <tr>\n",
              "      <th>1</th>\n",
              "      <td>17</td>\n",
              "      <td>Cross River</td>\n",
              "      <td>Calabar</td>\n",
              "      <td>4.4</td>\n",
              "    </tr>\n",
              "    <tr>\n",
              "      <th>2</th>\n",
              "      <td>21</td>\n",
              "      <td>Kano</td>\n",
              "      <td>Kano</td>\n",
              "      <td>0.4</td>\n",
              "    </tr>\n",
              "    <tr>\n",
              "      <th>3</th>\n",
              "      <td>29</td>\n",
              "      <td>Abia</td>\n",
              "      <td>Umuahia</td>\n",
              "      <td>7.6</td>\n",
              "    </tr>\n",
              "    <tr>\n",
              "      <th>4</th>\n",
              "      <td>25</td>\n",
              "      <td>Benue</td>\n",
              "      <td>Makurdi</td>\n",
              "      <td>3.6</td>\n",
              "    </tr>\n",
              "  </tbody>\n",
              "</table>\n",
              "</div>"
            ],
            "text/plain": [
              "   age state_of_origin capital_city  diff_age\n",
              "0   15           Lagos        Ikeja       6.4\n",
              "1   17     Cross River      Calabar       4.4\n",
              "2   21            Kano         Kano       0.4\n",
              "3   29            Abia      Umuahia       7.6\n",
              "4   25           Benue      Makurdi       3.6"
            ]
          },
          "metadata": {
            "tags": []
          },
          "execution_count": 24
        }
      ]
    },
    {
      "cell_type": "markdown",
      "metadata": {
        "id": "RU7LG7N44dHG"
      },
      "source": [
        "Typically in practice, a fully formed dataset is converted into Pandas for cleaning and data analysis, which does not ideally involve adding a new observation to the dataset. But in the event that this is desired, we can use the `append()` method to achieve this. However, it may not be a computationally efficient action. Let’s see an example."
      ]
    },
    {
      "cell_type": "code",
      "metadata": {
        "id": "e0JmC6KA4hXA",
        "colab": {
          "base_uri": "https://localhost:8080/",
          "height": 337
        },
        "outputId": "dc5ad018-2b86-4b80-92c5-ca0e0dd4094b"
      },
      "source": [
        "my_DF = pd.DataFrame({'age': [15,17,21,29,25], \\\n",
        "            'state_of_origin':['Lagos', 'Cross River', 'Kano', 'Abia', 'Benue']})\n",
        "print(my_DF )\n",
        "\n",
        "# Add a row to data frame\n",
        "my_DF = my_DF.append(pd.Series([30 , 'Osun'], index=my_DF.columns), \\\n",
        "                                                        ignore_index=True)\n",
        "my_DF "
      ],
      "execution_count": null,
      "outputs": [
        {
          "output_type": "stream",
          "text": [
            "   age state_of_origin\n",
            "0   15           Lagos\n",
            "1   17     Cross River\n",
            "2   21            Kano\n",
            "3   29            Abia\n",
            "4   25           Benue\n"
          ],
          "name": "stdout"
        },
        {
          "output_type": "execute_result",
          "data": {
            "text/html": [
              "<div>\n",
              "<style scoped>\n",
              "    .dataframe tbody tr th:only-of-type {\n",
              "        vertical-align: middle;\n",
              "    }\n",
              "\n",
              "    .dataframe tbody tr th {\n",
              "        vertical-align: top;\n",
              "    }\n",
              "\n",
              "    .dataframe thead th {\n",
              "        text-align: right;\n",
              "    }\n",
              "</style>\n",
              "<table border=\"1\" class=\"dataframe\">\n",
              "  <thead>\n",
              "    <tr style=\"text-align: right;\">\n",
              "      <th></th>\n",
              "      <th>age</th>\n",
              "      <th>state_of_origin</th>\n",
              "    </tr>\n",
              "  </thead>\n",
              "  <tbody>\n",
              "    <tr>\n",
              "      <th>0</th>\n",
              "      <td>15</td>\n",
              "      <td>Lagos</td>\n",
              "    </tr>\n",
              "    <tr>\n",
              "      <th>1</th>\n",
              "      <td>17</td>\n",
              "      <td>Cross River</td>\n",
              "    </tr>\n",
              "    <tr>\n",
              "      <th>2</th>\n",
              "      <td>21</td>\n",
              "      <td>Kano</td>\n",
              "    </tr>\n",
              "    <tr>\n",
              "      <th>3</th>\n",
              "      <td>29</td>\n",
              "      <td>Abia</td>\n",
              "    </tr>\n",
              "    <tr>\n",
              "      <th>4</th>\n",
              "      <td>25</td>\n",
              "      <td>Benue</td>\n",
              "    </tr>\n",
              "    <tr>\n",
              "      <th>5</th>\n",
              "      <td>30</td>\n",
              "      <td>Osun</td>\n",
              "    </tr>\n",
              "  </tbody>\n",
              "</table>\n",
              "</div>"
            ],
            "text/plain": [
              "   age state_of_origin\n",
              "0   15           Lagos\n",
              "1   17     Cross River\n",
              "2   21            Kano\n",
              "3   29            Abia\n",
              "4   25           Benue\n",
              "5   30            Osun"
            ]
          },
          "metadata": {
            "tags": []
          },
          "execution_count": 25
        }
      ]
    },
    {
      "cell_type": "markdown",
      "metadata": {
        "id": "sIskrpuH4mxE"
      },
      "source": [
        "We observe that adding a new row involves passing to the `append` method, a **Series** object with the **index** attribute set to the columns of the main DataFrame. Since typically, in given datasets, the index is nothing more than the assigned defaults, we set the attribute `ignore_index` to create a new set of default index values with the new row(s)."
      ]
    },
    {
      "cell_type": "markdown",
      "metadata": {
        "id": "jCXDxAE74dEc"
      },
      "source": [
        "### Data Alignment"
      ]
    },
    {
      "cell_type": "markdown",
      "metadata": {
        "id": "-R6Hmgs64bRw"
      },
      "source": [
        "Pandas utilizes data alignment to align indices when performing some binary arithmetic operation on DataFrames. If two or more DataFrames in an arithmetic operation do not share a common index, a `NaN` is introduced denoting missing data. Let’s see examples of this."
      ]
    },
    {
      "cell_type": "code",
      "metadata": {
        "id": "_9x8j8_T4tVp",
        "colab": {
          "base_uri": "https://localhost:8080/"
        },
        "outputId": "b144c23e-d071-4ffc-eb9b-38b176b74b2f"
      },
      "source": [
        "# Create a 3x3 dataframe - remember randint(low, high, size)\n",
        "df_A = pd.DataFrame(np.random.randint(1,10,[3,3]),\\\n",
        "            columns=['First','Second','Third'])\n",
        "print(df_A) \n",
        "\n",
        "# Create a 4x3 dataframe\n",
        "df_B = pd.DataFrame(np.random.randint(1,10,[4,3]),\\\n",
        "            columns=['First','Second','Third'])\n",
        "print(df_B) \n",
        "\n",
        "# Sdd df_A and df_B together\n",
        "print(df_A + df_B) \n",
        "\n",
        "# Divide both dataframes\n",
        "print(df_A / df_B)"
      ],
      "execution_count": null,
      "outputs": [
        {
          "output_type": "stream",
          "text": [
            "   First  Second  Third\n",
            "0      8       1      1\n",
            "1      5       8      7\n",
            "2      5       9      6\n",
            "   First  Second  Third\n",
            "0      9       8      9\n",
            "1      6       9      2\n",
            "2      4       5      7\n",
            "3      5       9      7\n",
            "   First  Second  Third\n",
            "0   17.0     9.0   10.0\n",
            "1   11.0    17.0    9.0\n",
            "2    9.0    14.0   13.0\n",
            "3    NaN     NaN    NaN\n",
            "      First    Second     Third\n",
            "0  0.888889  0.125000  0.111111\n",
            "1  0.833333  0.888889  3.500000\n",
            "2  1.250000  1.800000  0.857143\n",
            "3       NaN       NaN       NaN\n"
          ],
          "name": "stdout"
        }
      ]
    },
    {
      "cell_type": "markdown",
      "metadata": {
        "id": "mpLeeFIb4y4p"
      },
      "source": [
        "If we do not want a `NaN` signifying missing values to be imputed, we can use the `fill_value` attribute to substitute with a default value. However, to take advantage of the `fill_value` attribute, we have to use the Pandas arithmetic methods: `add()`, `sub()`, `mul()`, `div()`, `floordiv()`, `mod()`, and `pow()` for addition, subtraction, multiplication, integer division, numeric division, remainder division, and exponentiation. Let’s see examples."
      ]
    },
    {
      "cell_type": "code",
      "metadata": {
        "id": "SciNsgKk4zUe",
        "colab": {
          "base_uri": "https://localhost:8080/",
          "height": 168
        },
        "outputId": "601468db-4839-4b82-ce92-1bde0b60f318"
      },
      "source": [
        "df_A.add(df_B, fill_value=10)"
      ],
      "execution_count": null,
      "outputs": [
        {
          "output_type": "execute_result",
          "data": {
            "text/html": [
              "<div>\n",
              "<style scoped>\n",
              "    .dataframe tbody tr th:only-of-type {\n",
              "        vertical-align: middle;\n",
              "    }\n",
              "\n",
              "    .dataframe tbody tr th {\n",
              "        vertical-align: top;\n",
              "    }\n",
              "\n",
              "    .dataframe thead th {\n",
              "        text-align: right;\n",
              "    }\n",
              "</style>\n",
              "<table border=\"1\" class=\"dataframe\">\n",
              "  <thead>\n",
              "    <tr style=\"text-align: right;\">\n",
              "      <th></th>\n",
              "      <th>First</th>\n",
              "      <th>Second</th>\n",
              "      <th>Third</th>\n",
              "    </tr>\n",
              "  </thead>\n",
              "  <tbody>\n",
              "    <tr>\n",
              "      <th>0</th>\n",
              "      <td>17.0</td>\n",
              "      <td>9.0</td>\n",
              "      <td>10.0</td>\n",
              "    </tr>\n",
              "    <tr>\n",
              "      <th>1</th>\n",
              "      <td>11.0</td>\n",
              "      <td>17.0</td>\n",
              "      <td>9.0</td>\n",
              "    </tr>\n",
              "    <tr>\n",
              "      <th>2</th>\n",
              "      <td>9.0</td>\n",
              "      <td>14.0</td>\n",
              "      <td>13.0</td>\n",
              "    </tr>\n",
              "    <tr>\n",
              "      <th>3</th>\n",
              "      <td>15.0</td>\n",
              "      <td>19.0</td>\n",
              "      <td>17.0</td>\n",
              "    </tr>\n",
              "  </tbody>\n",
              "</table>\n",
              "</div>"
            ],
            "text/plain": [
              "   First  Second  Third\n",
              "0   17.0     9.0   10.0\n",
              "1   11.0    17.0    9.0\n",
              "2    9.0    14.0   13.0\n",
              "3   15.0    19.0   17.0"
            ]
          },
          "metadata": {
            "tags": []
          },
          "execution_count": 27
        }
      ]
    },
    {
      "cell_type": "markdown",
      "metadata": {
        "id": "ooM7LjHF42Gf"
      },
      "source": [
        "### Combining Datasets"
      ]
    },
    {
      "cell_type": "markdown",
      "metadata": {
        "id": "LN4EMUlg44FO"
      },
      "source": [
        "We may need to combine two or more datasets together; Pandas provides methods for such operations. We would consider the simple case of combining data frames with shared column names using the `concat` method."
      ]
    },
    {
      "cell_type": "code",
      "metadata": {
        "id": "aZvAfzaZ45O2",
        "colab": {
          "base_uri": "https://localhost:8080/",
          "height": 258
        },
        "outputId": "011c4489-64ff-4b1f-c058-943226d1f682"
      },
      "source": [
        "# Combine two dataframes column-wise\n",
        "pd.concat([df_A, df_B]) "
      ],
      "execution_count": null,
      "outputs": [
        {
          "output_type": "execute_result",
          "data": {
            "text/html": [
              "<div>\n",
              "<style scoped>\n",
              "    .dataframe tbody tr th:only-of-type {\n",
              "        vertical-align: middle;\n",
              "    }\n",
              "\n",
              "    .dataframe tbody tr th {\n",
              "        vertical-align: top;\n",
              "    }\n",
              "\n",
              "    .dataframe thead th {\n",
              "        text-align: right;\n",
              "    }\n",
              "</style>\n",
              "<table border=\"1\" class=\"dataframe\">\n",
              "  <thead>\n",
              "    <tr style=\"text-align: right;\">\n",
              "      <th></th>\n",
              "      <th>First</th>\n",
              "      <th>Second</th>\n",
              "      <th>Third</th>\n",
              "    </tr>\n",
              "  </thead>\n",
              "  <tbody>\n",
              "    <tr>\n",
              "      <th>0</th>\n",
              "      <td>8</td>\n",
              "      <td>1</td>\n",
              "      <td>1</td>\n",
              "    </tr>\n",
              "    <tr>\n",
              "      <th>1</th>\n",
              "      <td>5</td>\n",
              "      <td>8</td>\n",
              "      <td>7</td>\n",
              "    </tr>\n",
              "    <tr>\n",
              "      <th>2</th>\n",
              "      <td>5</td>\n",
              "      <td>9</td>\n",
              "      <td>6</td>\n",
              "    </tr>\n",
              "    <tr>\n",
              "      <th>0</th>\n",
              "      <td>9</td>\n",
              "      <td>8</td>\n",
              "      <td>9</td>\n",
              "    </tr>\n",
              "    <tr>\n",
              "      <th>1</th>\n",
              "      <td>6</td>\n",
              "      <td>9</td>\n",
              "      <td>2</td>\n",
              "    </tr>\n",
              "    <tr>\n",
              "      <th>2</th>\n",
              "      <td>4</td>\n",
              "      <td>5</td>\n",
              "      <td>7</td>\n",
              "    </tr>\n",
              "    <tr>\n",
              "      <th>3</th>\n",
              "      <td>5</td>\n",
              "      <td>9</td>\n",
              "      <td>7</td>\n",
              "    </tr>\n",
              "  </tbody>\n",
              "</table>\n",
              "</div>"
            ],
            "text/plain": [
              "   First  Second  Third\n",
              "0      8       1      1\n",
              "1      5       8      7\n",
              "2      5       9      6\n",
              "0      9       8      9\n",
              "1      6       9      2\n",
              "2      4       5      7\n",
              "3      5       9      7"
            ]
          },
          "metadata": {
            "tags": []
          },
          "execution_count": 28
        }
      ]
    },
    {
      "cell_type": "markdown",
      "metadata": {
        "id": "vtJ57Q4T46az"
      },
      "source": [
        "Observe that the `concat` method preserves indices by default. We can also concatenate or combine two dataframes by rows (or horizontally). This is done by setting the `axis` parameter to 1."
      ]
    },
    {
      "cell_type": "code",
      "metadata": {
        "id": "bbM2psG4461T",
        "colab": {
          "base_uri": "https://localhost:8080/",
          "height": 168
        },
        "outputId": "6f1b676c-0028-44f5-b23e-a192d6f52a96"
      },
      "source": [
        "# Combine two dataframes horizontally\n",
        "pd.concat([df_A, df_B], axis=1) "
      ],
      "execution_count": null,
      "outputs": [
        {
          "output_type": "execute_result",
          "data": {
            "text/html": [
              "<div>\n",
              "<style scoped>\n",
              "    .dataframe tbody tr th:only-of-type {\n",
              "        vertical-align: middle;\n",
              "    }\n",
              "\n",
              "    .dataframe tbody tr th {\n",
              "        vertical-align: top;\n",
              "    }\n",
              "\n",
              "    .dataframe thead th {\n",
              "        text-align: right;\n",
              "    }\n",
              "</style>\n",
              "<table border=\"1\" class=\"dataframe\">\n",
              "  <thead>\n",
              "    <tr style=\"text-align: right;\">\n",
              "      <th></th>\n",
              "      <th>First</th>\n",
              "      <th>Second</th>\n",
              "      <th>Third</th>\n",
              "      <th>First</th>\n",
              "      <th>Second</th>\n",
              "      <th>Third</th>\n",
              "    </tr>\n",
              "  </thead>\n",
              "  <tbody>\n",
              "    <tr>\n",
              "      <th>0</th>\n",
              "      <td>8.0</td>\n",
              "      <td>1.0</td>\n",
              "      <td>1.0</td>\n",
              "      <td>9</td>\n",
              "      <td>8</td>\n",
              "      <td>9</td>\n",
              "    </tr>\n",
              "    <tr>\n",
              "      <th>1</th>\n",
              "      <td>5.0</td>\n",
              "      <td>8.0</td>\n",
              "      <td>7.0</td>\n",
              "      <td>6</td>\n",
              "      <td>9</td>\n",
              "      <td>2</td>\n",
              "    </tr>\n",
              "    <tr>\n",
              "      <th>2</th>\n",
              "      <td>5.0</td>\n",
              "      <td>9.0</td>\n",
              "      <td>6.0</td>\n",
              "      <td>4</td>\n",
              "      <td>5</td>\n",
              "      <td>7</td>\n",
              "    </tr>\n",
              "    <tr>\n",
              "      <th>3</th>\n",
              "      <td>NaN</td>\n",
              "      <td>NaN</td>\n",
              "      <td>NaN</td>\n",
              "      <td>5</td>\n",
              "      <td>9</td>\n",
              "      <td>7</td>\n",
              "    </tr>\n",
              "  </tbody>\n",
              "</table>\n",
              "</div>"
            ],
            "text/plain": [
              "   First  Second  Third  First  Second  Third\n",
              "0    8.0     1.0    1.0      9       8      9\n",
              "1    5.0     8.0    7.0      6       9      2\n",
              "2    5.0     9.0    6.0      4       5      7\n",
              "3    NaN     NaN    NaN      5       9      7"
            ]
          },
          "metadata": {
            "tags": []
          },
          "execution_count": 29
        }
      ]
    },
    {
      "cell_type": "markdown",
      "metadata": {
        "id": "vJJ4pVJz487H"
      },
      "source": [
        "## Handling Missing Data"
      ]
    },
    {
      "cell_type": "markdown",
      "metadata": {
        "id": "5jAzBIkp4_Bs"
      },
      "source": [
        "Dealing with missing data is an integral part of the data cleaning/data analysis process. Moreover, some machine learning algorithms will not work in the presence of missing data. Let’s see some simple Pandas methods for identifying and removing missing data, as well as imputing values into missing data."
      ]
    },
    {
      "cell_type": "markdown",
      "metadata": {
        "id": "-6xqJkhf4baz"
      },
      "source": [
        "### Identifying Missing Data"
      ]
    },
    {
      "cell_type": "markdown",
      "metadata": {
        "id": "PsEe7EiZ4bhk"
      },
      "source": [
        "In this section, we’ll use the `isnull()` method to check if missing cells exist in a DataFrame."
      ]
    },
    {
      "cell_type": "code",
      "metadata": {
        "id": "o8iE4ed45GG6",
        "colab": {
          "base_uri": "https://localhost:8080/",
          "height": 198
        },
        "outputId": "b737bb43-707e-4dae-88f8-31540bba2d5c"
      },
      "source": [
        "# Let's create a data frame with missing data\n",
        "my_DF = pd.DataFrame({'age': [15,17,np.nan,29,25], \\\n",
        "            'state_of_origin':['Lagos', 'Cross River', 'Kano', 'Abia', np.nan]})\n",
        "my_DF "
      ],
      "execution_count": null,
      "outputs": [
        {
          "output_type": "execute_result",
          "data": {
            "text/html": [
              "<div>\n",
              "<style scoped>\n",
              "    .dataframe tbody tr th:only-of-type {\n",
              "        vertical-align: middle;\n",
              "    }\n",
              "\n",
              "    .dataframe tbody tr th {\n",
              "        vertical-align: top;\n",
              "    }\n",
              "\n",
              "    .dataframe thead th {\n",
              "        text-align: right;\n",
              "    }\n",
              "</style>\n",
              "<table border=\"1\" class=\"dataframe\">\n",
              "  <thead>\n",
              "    <tr style=\"text-align: right;\">\n",
              "      <th></th>\n",
              "      <th>age</th>\n",
              "      <th>state_of_origin</th>\n",
              "    </tr>\n",
              "  </thead>\n",
              "  <tbody>\n",
              "    <tr>\n",
              "      <th>0</th>\n",
              "      <td>15.0</td>\n",
              "      <td>Lagos</td>\n",
              "    </tr>\n",
              "    <tr>\n",
              "      <th>1</th>\n",
              "      <td>17.0</td>\n",
              "      <td>Cross River</td>\n",
              "    </tr>\n",
              "    <tr>\n",
              "      <th>2</th>\n",
              "      <td>NaN</td>\n",
              "      <td>Kano</td>\n",
              "    </tr>\n",
              "    <tr>\n",
              "      <th>3</th>\n",
              "      <td>29.0</td>\n",
              "      <td>Abia</td>\n",
              "    </tr>\n",
              "    <tr>\n",
              "      <th>4</th>\n",
              "      <td>25.0</td>\n",
              "      <td>NaN</td>\n",
              "    </tr>\n",
              "  </tbody>\n",
              "</table>\n",
              "</div>"
            ],
            "text/plain": [
              "    age state_of_origin\n",
              "0  15.0           Lagos\n",
              "1  17.0     Cross River\n",
              "2   NaN            Kano\n",
              "3  29.0            Abia\n",
              "4  25.0             NaN"
            ]
          },
          "metadata": {
            "tags": []
          },
          "execution_count": 30
        }
      ]
    },
    {
      "cell_type": "markdown",
      "metadata": {
        "id": "IuOMFCSD5HkA"
      },
      "source": [
        "Let’s check for missing data in this data frame. The `isnull()` method will return `True` where there is a missing data, whereas the `notnull()` function returns `False`."
      ]
    },
    {
      "cell_type": "code",
      "metadata": {
        "id": "pkD_tkYp5JPp",
        "colab": {
          "base_uri": "https://localhost:8080/",
          "height": 198
        },
        "outputId": "e4e6b5d5-26bd-4cf6-96d7-953df69d4095"
      },
      "source": [
        "my_DF.isnull() "
      ],
      "execution_count": null,
      "outputs": [
        {
          "output_type": "execute_result",
          "data": {
            "text/html": [
              "<div>\n",
              "<style scoped>\n",
              "    .dataframe tbody tr th:only-of-type {\n",
              "        vertical-align: middle;\n",
              "    }\n",
              "\n",
              "    .dataframe tbody tr th {\n",
              "        vertical-align: top;\n",
              "    }\n",
              "\n",
              "    .dataframe thead th {\n",
              "        text-align: right;\n",
              "    }\n",
              "</style>\n",
              "<table border=\"1\" class=\"dataframe\">\n",
              "  <thead>\n",
              "    <tr style=\"text-align: right;\">\n",
              "      <th></th>\n",
              "      <th>age</th>\n",
              "      <th>state_of_origin</th>\n",
              "    </tr>\n",
              "  </thead>\n",
              "  <tbody>\n",
              "    <tr>\n",
              "      <th>0</th>\n",
              "      <td>False</td>\n",
              "      <td>False</td>\n",
              "    </tr>\n",
              "    <tr>\n",
              "      <th>1</th>\n",
              "      <td>False</td>\n",
              "      <td>False</td>\n",
              "    </tr>\n",
              "    <tr>\n",
              "      <th>2</th>\n",
              "      <td>True</td>\n",
              "      <td>False</td>\n",
              "    </tr>\n",
              "    <tr>\n",
              "      <th>3</th>\n",
              "      <td>False</td>\n",
              "      <td>False</td>\n",
              "    </tr>\n",
              "    <tr>\n",
              "      <th>4</th>\n",
              "      <td>False</td>\n",
              "      <td>True</td>\n",
              "    </tr>\n",
              "  </tbody>\n",
              "</table>\n",
              "</div>"
            ],
            "text/plain": [
              "     age  state_of_origin\n",
              "0  False            False\n",
              "1  False            False\n",
              "2   True            False\n",
              "3  False            False\n",
              "4  False             True"
            ]
          },
          "metadata": {
            "tags": []
          },
          "execution_count": 31
        }
      ]
    },
    {
      "cell_type": "markdown",
      "metadata": {
        "id": "vFDAX96v5LUI"
      },
      "source": [
        "However, if we want a single answer (i.e., either `True` or `False`) to report if there is a missing data in the data frame, we will first convert the DataFrame to a NumPy array and use the function `any()`.\n",
        "\n",
        "The `any` function returns `True` when at least one of the elements in the dataset is `True`. In this case, `isnull()` returns a DataFrame of booleans where `True` designates a cell with a missing value.\n",
        "Let’s see how that works."
      ]
    },
    {
      "cell_type": "code",
      "metadata": {
        "id": "an02SmND5MCc",
        "colab": {
          "base_uri": "https://localhost:8080/"
        },
        "outputId": "529c3701-eb85-4f70-b482-22fc5414dc4d"
      },
      "source": [
        "my_DF.isnull().values.any()"
      ],
      "execution_count": null,
      "outputs": [
        {
          "output_type": "execute_result",
          "data": {
            "text/plain": [
              "True"
            ]
          },
          "metadata": {
            "tags": []
          },
          "execution_count": 32
        }
      ]
    },
    {
      "cell_type": "markdown",
      "metadata": {
        "id": "1PYioOXO5RDw"
      },
      "source": [
        "### Removing Missing Data"
      ]
    },
    {
      "cell_type": "markdown",
      "metadata": {
        "id": "i9mu-tPM5QYF"
      },
      "source": [
        "Pandas has a function `dropna()` which is used to filter or remove missing data from a DataFrame. `dropna()` returns a new DataFrame without missing data. Let’s see examples of how this works."
      ]
    },
    {
      "cell_type": "code",
      "metadata": {
        "id": "QS8uOgsH5UtO",
        "colab": {
          "base_uri": "https://localhost:8080/",
          "height": 247
        },
        "outputId": "6435049b-e051-4824-ffdb-877b12682953"
      },
      "source": [
        "# Let's see our dataframe with missing data\n",
        "my_DF = pd.DataFrame({'age': [15,17,np.nan,29,25], \\\n",
        "            'state_of_origin':['Lagos', 'Cross River', 'Kano', 'Abia', np.nan]})\n",
        "print(my_DF)\n",
        "\n",
        "# Let's run dropna() to remove all rows with missing values\n",
        "my_DF.dropna() "
      ],
      "execution_count": null,
      "outputs": [
        {
          "output_type": "stream",
          "text": [
            "    age state_of_origin\n",
            "0  15.0           Lagos\n",
            "1  17.0     Cross River\n",
            "2   NaN            Kano\n",
            "3  29.0            Abia\n",
            "4  25.0             NaN\n"
          ],
          "name": "stdout"
        },
        {
          "output_type": "execute_result",
          "data": {
            "text/html": [
              "<div>\n",
              "<style scoped>\n",
              "    .dataframe tbody tr th:only-of-type {\n",
              "        vertical-align: middle;\n",
              "    }\n",
              "\n",
              "    .dataframe tbody tr th {\n",
              "        vertical-align: top;\n",
              "    }\n",
              "\n",
              "    .dataframe thead th {\n",
              "        text-align: right;\n",
              "    }\n",
              "</style>\n",
              "<table border=\"1\" class=\"dataframe\">\n",
              "  <thead>\n",
              "    <tr style=\"text-align: right;\">\n",
              "      <th></th>\n",
              "      <th>age</th>\n",
              "      <th>state_of_origin</th>\n",
              "    </tr>\n",
              "  </thead>\n",
              "  <tbody>\n",
              "    <tr>\n",
              "      <th>0</th>\n",
              "      <td>15.0</td>\n",
              "      <td>Lagos</td>\n",
              "    </tr>\n",
              "    <tr>\n",
              "      <th>1</th>\n",
              "      <td>17.0</td>\n",
              "      <td>Cross River</td>\n",
              "    </tr>\n",
              "    <tr>\n",
              "      <th>3</th>\n",
              "      <td>29.0</td>\n",
              "      <td>Abia</td>\n",
              "    </tr>\n",
              "  </tbody>\n",
              "</table>\n",
              "</div>"
            ],
            "text/plain": [
              "    age state_of_origin\n",
              "0  15.0           Lagos\n",
              "1  17.0     Cross River\n",
              "3  29.0            Abia"
            ]
          },
          "metadata": {
            "tags": []
          },
          "execution_count": 33
        }
      ]
    },
    {
      "cell_type": "markdown",
      "metadata": {
        "id": "-E8rvQu15Xbl"
      },
      "source": [
        "As we will observe from the preceding code block, `dropna()` drops all rows that contain a missing value. But we may not want that. We may rather, for example, want to drop columns with missing data or drop rows where all the observations are missing or better still remove consequent on the number of observations present in a particular row.\n",
        "\n",
        "Let’s see examples of this option. First let’s expand our example dataset."
      ]
    },
    {
      "cell_type": "code",
      "metadata": {
        "id": "WRbYJXoP5Zbd",
        "colab": {
          "base_uri": "https://localhost:8080/",
          "height": 198
        },
        "outputId": "43a4487e-a9bb-4ad0-ec21-1ef174334214"
      },
      "source": [
        "my_DF = pd.DataFrame({\n",
        "    'Capital': ['Yola', np.nan, np.nan, 'Port-Harcourt', 'Jalingo'],\n",
        "    'Population': [3178950, np.nan, 2321339, np.nan, 2294800],\n",
        "    'State': ['Adamawa', np.nan, 'Yobe', np.nan, 'Taraba'],\n",
        "    'LGAs': [22, np.nan, 17, 23, 16]})\n",
        "my_DF "
      ],
      "execution_count": null,
      "outputs": [
        {
          "output_type": "execute_result",
          "data": {
            "text/html": [
              "<div>\n",
              "<style scoped>\n",
              "    .dataframe tbody tr th:only-of-type {\n",
              "        vertical-align: middle;\n",
              "    }\n",
              "\n",
              "    .dataframe tbody tr th {\n",
              "        vertical-align: top;\n",
              "    }\n",
              "\n",
              "    .dataframe thead th {\n",
              "        text-align: right;\n",
              "    }\n",
              "</style>\n",
              "<table border=\"1\" class=\"dataframe\">\n",
              "  <thead>\n",
              "    <tr style=\"text-align: right;\">\n",
              "      <th></th>\n",
              "      <th>Capital</th>\n",
              "      <th>Population</th>\n",
              "      <th>State</th>\n",
              "      <th>LGAs</th>\n",
              "    </tr>\n",
              "  </thead>\n",
              "  <tbody>\n",
              "    <tr>\n",
              "      <th>0</th>\n",
              "      <td>Yola</td>\n",
              "      <td>3178950.0</td>\n",
              "      <td>Adamawa</td>\n",
              "      <td>22.0</td>\n",
              "    </tr>\n",
              "    <tr>\n",
              "      <th>1</th>\n",
              "      <td>NaN</td>\n",
              "      <td>NaN</td>\n",
              "      <td>NaN</td>\n",
              "      <td>NaN</td>\n",
              "    </tr>\n",
              "    <tr>\n",
              "      <th>2</th>\n",
              "      <td>NaN</td>\n",
              "      <td>2321339.0</td>\n",
              "      <td>Yobe</td>\n",
              "      <td>17.0</td>\n",
              "    </tr>\n",
              "    <tr>\n",
              "      <th>3</th>\n",
              "      <td>Port-Harcourt</td>\n",
              "      <td>NaN</td>\n",
              "      <td>NaN</td>\n",
              "      <td>23.0</td>\n",
              "    </tr>\n",
              "    <tr>\n",
              "      <th>4</th>\n",
              "      <td>Jalingo</td>\n",
              "      <td>2294800.0</td>\n",
              "      <td>Taraba</td>\n",
              "      <td>16.0</td>\n",
              "    </tr>\n",
              "  </tbody>\n",
              "</table>\n",
              "</div>"
            ],
            "text/plain": [
              "         Capital  Population    State  LGAs\n",
              "0           Yola   3178950.0  Adamawa  22.0\n",
              "1            NaN         NaN      NaN   NaN\n",
              "2            NaN   2321339.0     Yobe  17.0\n",
              "3  Port-Harcourt         NaN      NaN  23.0\n",
              "4        Jalingo   2294800.0   Taraba  16.0"
            ]
          },
          "metadata": {
            "tags": []
          },
          "execution_count": 34
        }
      ]
    },
    {
      "cell_type": "markdown",
      "metadata": {
        "id": "6uV3bYmI5a5T"
      },
      "source": [
        "Drop columns with `NaN`. This option is not often used in practice."
      ]
    },
    {
      "cell_type": "code",
      "metadata": {
        "id": "sEwoVGA05cUW",
        "colab": {
          "base_uri": "https://localhost:8080/",
          "height": 182
        },
        "outputId": "f74d0189-4ed4-4cc6-ca1b-c5ae9c17149a"
      },
      "source": [
        "my_DF.dropna(axis=1)"
      ],
      "execution_count": null,
      "outputs": [
        {
          "output_type": "execute_result",
          "data": {
            "text/html": [
              "<div>\n",
              "<style scoped>\n",
              "    .dataframe tbody tr th:only-of-type {\n",
              "        vertical-align: middle;\n",
              "    }\n",
              "\n",
              "    .dataframe tbody tr th {\n",
              "        vertical-align: top;\n",
              "    }\n",
              "\n",
              "    .dataframe thead th {\n",
              "        text-align: right;\n",
              "    }\n",
              "</style>\n",
              "<table border=\"1\" class=\"dataframe\">\n",
              "  <thead>\n",
              "    <tr style=\"text-align: right;\">\n",
              "      <th></th>\n",
              "    </tr>\n",
              "  </thead>\n",
              "  <tbody>\n",
              "    <tr>\n",
              "      <th>0</th>\n",
              "    </tr>\n",
              "    <tr>\n",
              "      <th>1</th>\n",
              "    </tr>\n",
              "    <tr>\n",
              "      <th>2</th>\n",
              "    </tr>\n",
              "    <tr>\n",
              "      <th>3</th>\n",
              "    </tr>\n",
              "    <tr>\n",
              "      <th>4</th>\n",
              "    </tr>\n",
              "  </tbody>\n",
              "</table>\n",
              "</div>"
            ],
            "text/plain": [
              "Empty DataFrame\n",
              "Columns: []\n",
              "Index: [0, 1, 2, 3, 4]"
            ]
          },
          "metadata": {
            "tags": []
          },
          "execution_count": 35
        }
      ]
    },
    {
      "cell_type": "markdown",
      "metadata": {
        "id": "HLabTwBE5d5t"
      },
      "source": [
        "Drop rows where all the observations are missing."
      ]
    },
    {
      "cell_type": "code",
      "metadata": {
        "id": "U8_vbDJa5eSJ",
        "colab": {
          "base_uri": "https://localhost:8080/",
          "height": 168
        },
        "outputId": "2457201c-3eb4-4b5f-91b0-841840414bee"
      },
      "source": [
        "my_DF.dropna(how='all')"
      ],
      "execution_count": null,
      "outputs": [
        {
          "output_type": "execute_result",
          "data": {
            "text/html": [
              "<div>\n",
              "<style scoped>\n",
              "    .dataframe tbody tr th:only-of-type {\n",
              "        vertical-align: middle;\n",
              "    }\n",
              "\n",
              "    .dataframe tbody tr th {\n",
              "        vertical-align: top;\n",
              "    }\n",
              "\n",
              "    .dataframe thead th {\n",
              "        text-align: right;\n",
              "    }\n",
              "</style>\n",
              "<table border=\"1\" class=\"dataframe\">\n",
              "  <thead>\n",
              "    <tr style=\"text-align: right;\">\n",
              "      <th></th>\n",
              "      <th>Capital</th>\n",
              "      <th>Population</th>\n",
              "      <th>State</th>\n",
              "      <th>LGAs</th>\n",
              "    </tr>\n",
              "  </thead>\n",
              "  <tbody>\n",
              "    <tr>\n",
              "      <th>0</th>\n",
              "      <td>Yola</td>\n",
              "      <td>3178950.0</td>\n",
              "      <td>Adamawa</td>\n",
              "      <td>22.0</td>\n",
              "    </tr>\n",
              "    <tr>\n",
              "      <th>2</th>\n",
              "      <td>NaN</td>\n",
              "      <td>2321339.0</td>\n",
              "      <td>Yobe</td>\n",
              "      <td>17.0</td>\n",
              "    </tr>\n",
              "    <tr>\n",
              "      <th>3</th>\n",
              "      <td>Port-Harcourt</td>\n",
              "      <td>NaN</td>\n",
              "      <td>NaN</td>\n",
              "      <td>23.0</td>\n",
              "    </tr>\n",
              "    <tr>\n",
              "      <th>4</th>\n",
              "      <td>Jalingo</td>\n",
              "      <td>2294800.0</td>\n",
              "      <td>Taraba</td>\n",
              "      <td>16.0</td>\n",
              "    </tr>\n",
              "  </tbody>\n",
              "</table>\n",
              "</div>"
            ],
            "text/plain": [
              "         Capital  Population    State  LGAs\n",
              "0           Yola   3178950.0  Adamawa  22.0\n",
              "2            NaN   2321339.0     Yobe  17.0\n",
              "3  Port-Harcourt         NaN      NaN  23.0\n",
              "4        Jalingo   2294800.0   Taraba  16.0"
            ]
          },
          "metadata": {
            "tags": []
          },
          "execution_count": 36
        }
      ]
    },
    {
      "cell_type": "markdown",
      "metadata": {
        "id": "uedoO_GB5gKJ"
      },
      "source": [
        "Drop rows based on an observation threshold. By adjusting the `thresh` attribute, we can drop rows where the number of observations in the row is less than the `thresh` value."
      ]
    },
    {
      "cell_type": "code",
      "metadata": {
        "id": "wC7KUeKX5grD",
        "colab": {
          "base_uri": "https://localhost:8080/",
          "height": 138
        },
        "outputId": "4d734224-53f8-431c-a91a-c297cd70510f"
      },
      "source": [
        "# Drop rows where number of NaN is less than 3\n",
        "my_DF.dropna(thresh=3) "
      ],
      "execution_count": null,
      "outputs": [
        {
          "output_type": "execute_result",
          "data": {
            "text/html": [
              "<div>\n",
              "<style scoped>\n",
              "    .dataframe tbody tr th:only-of-type {\n",
              "        vertical-align: middle;\n",
              "    }\n",
              "\n",
              "    .dataframe tbody tr th {\n",
              "        vertical-align: top;\n",
              "    }\n",
              "\n",
              "    .dataframe thead th {\n",
              "        text-align: right;\n",
              "    }\n",
              "</style>\n",
              "<table border=\"1\" class=\"dataframe\">\n",
              "  <thead>\n",
              "    <tr style=\"text-align: right;\">\n",
              "      <th></th>\n",
              "      <th>Capital</th>\n",
              "      <th>Population</th>\n",
              "      <th>State</th>\n",
              "      <th>LGAs</th>\n",
              "    </tr>\n",
              "  </thead>\n",
              "  <tbody>\n",
              "    <tr>\n",
              "      <th>0</th>\n",
              "      <td>Yola</td>\n",
              "      <td>3178950.0</td>\n",
              "      <td>Adamawa</td>\n",
              "      <td>22.0</td>\n",
              "    </tr>\n",
              "    <tr>\n",
              "      <th>2</th>\n",
              "      <td>NaN</td>\n",
              "      <td>2321339.0</td>\n",
              "      <td>Yobe</td>\n",
              "      <td>17.0</td>\n",
              "    </tr>\n",
              "    <tr>\n",
              "      <th>4</th>\n",
              "      <td>Jalingo</td>\n",
              "      <td>2294800.0</td>\n",
              "      <td>Taraba</td>\n",
              "      <td>16.0</td>\n",
              "    </tr>\n",
              "  </tbody>\n",
              "</table>\n",
              "</div>"
            ],
            "text/plain": [
              "   Capital  Population    State  LGAs\n",
              "0     Yola   3178950.0  Adamawa  22.0\n",
              "2      NaN   2321339.0     Yobe  17.0\n",
              "4  Jalingo   2294800.0   Taraba  16.0"
            ]
          },
          "metadata": {
            "tags": []
          },
          "execution_count": 37
        }
      ]
    },
    {
      "cell_type": "markdown",
      "metadata": {
        "id": "x8DPW6-P5kF_"
      },
      "source": [
        "### Imputing Values into Missing Data"
      ]
    },
    {
      "cell_type": "markdown",
      "metadata": {
        "id": "OkUJyVJj5Qlz"
      },
      "source": [
        "Imputing values as substitutes for missing data is a standard practice in preparing data for machine learning. Pandas has a `fillna()` function for this purpose. A simple approach is to fill `NaNs` with zeros."
      ]
    },
    {
      "cell_type": "code",
      "metadata": {
        "id": "RXGiUCS85o-Q",
        "colab": {
          "base_uri": "https://localhost:8080/",
          "height": 198
        },
        "outputId": "c7787bac-d4b6-497b-e365-2d2513d2ba2b"
      },
      "source": [
        "my_DF.fillna(0) # we can also run my_DF.replace(np.nan, 0)"
      ],
      "execution_count": null,
      "outputs": [
        {
          "output_type": "execute_result",
          "data": {
            "text/html": [
              "<div>\n",
              "<style scoped>\n",
              "    .dataframe tbody tr th:only-of-type {\n",
              "        vertical-align: middle;\n",
              "    }\n",
              "\n",
              "    .dataframe tbody tr th {\n",
              "        vertical-align: top;\n",
              "    }\n",
              "\n",
              "    .dataframe thead th {\n",
              "        text-align: right;\n",
              "    }\n",
              "</style>\n",
              "<table border=\"1\" class=\"dataframe\">\n",
              "  <thead>\n",
              "    <tr style=\"text-align: right;\">\n",
              "      <th></th>\n",
              "      <th>Capital</th>\n",
              "      <th>Population</th>\n",
              "      <th>State</th>\n",
              "      <th>LGAs</th>\n",
              "    </tr>\n",
              "  </thead>\n",
              "  <tbody>\n",
              "    <tr>\n",
              "      <th>0</th>\n",
              "      <td>Yola</td>\n",
              "      <td>3178950.0</td>\n",
              "      <td>Adamawa</td>\n",
              "      <td>22.0</td>\n",
              "    </tr>\n",
              "    <tr>\n",
              "      <th>1</th>\n",
              "      <td>0</td>\n",
              "      <td>0.0</td>\n",
              "      <td>0</td>\n",
              "      <td>0.0</td>\n",
              "    </tr>\n",
              "    <tr>\n",
              "      <th>2</th>\n",
              "      <td>0</td>\n",
              "      <td>2321339.0</td>\n",
              "      <td>Yobe</td>\n",
              "      <td>17.0</td>\n",
              "    </tr>\n",
              "    <tr>\n",
              "      <th>3</th>\n",
              "      <td>Port-Harcourt</td>\n",
              "      <td>0.0</td>\n",
              "      <td>0</td>\n",
              "      <td>23.0</td>\n",
              "    </tr>\n",
              "    <tr>\n",
              "      <th>4</th>\n",
              "      <td>Jalingo</td>\n",
              "      <td>2294800.0</td>\n",
              "      <td>Taraba</td>\n",
              "      <td>16.0</td>\n",
              "    </tr>\n",
              "  </tbody>\n",
              "</table>\n",
              "</div>"
            ],
            "text/plain": [
              "         Capital  Population    State  LGAs\n",
              "0           Yola   3178950.0  Adamawa  22.0\n",
              "1              0         0.0        0   0.0\n",
              "2              0   2321339.0     Yobe  17.0\n",
              "3  Port-Harcourt         0.0        0  23.0\n",
              "4        Jalingo   2294800.0   Taraba  16.0"
            ]
          },
          "metadata": {
            "tags": []
          },
          "execution_count": 38
        }
      ]
    },
    {
      "cell_type": "markdown",
      "metadata": {
        "id": "pSRNPXgp5rjk"
      },
      "source": [
        "Another tactic is to fill missing values with the mean of the numerical column value (or the mode for categorical features)."
      ]
    },
    {
      "cell_type": "code",
      "metadata": {
        "id": "oL3JHGlw5s4O",
        "colab": {
          "base_uri": "https://localhost:8080/",
          "height": 198
        },
        "outputId": "b5855778-c5d1-4ce8-a9c4-e01f9745858c"
      },
      "source": [
        "my_DF.fillna(my_DF.mean()) "
      ],
      "execution_count": null,
      "outputs": [
        {
          "output_type": "execute_result",
          "data": {
            "text/html": [
              "<div>\n",
              "<style scoped>\n",
              "    .dataframe tbody tr th:only-of-type {\n",
              "        vertical-align: middle;\n",
              "    }\n",
              "\n",
              "    .dataframe tbody tr th {\n",
              "        vertical-align: top;\n",
              "    }\n",
              "\n",
              "    .dataframe thead th {\n",
              "        text-align: right;\n",
              "    }\n",
              "</style>\n",
              "<table border=\"1\" class=\"dataframe\">\n",
              "  <thead>\n",
              "    <tr style=\"text-align: right;\">\n",
              "      <th></th>\n",
              "      <th>Capital</th>\n",
              "      <th>Population</th>\n",
              "      <th>State</th>\n",
              "      <th>LGAs</th>\n",
              "    </tr>\n",
              "  </thead>\n",
              "  <tbody>\n",
              "    <tr>\n",
              "      <th>0</th>\n",
              "      <td>Yola</td>\n",
              "      <td>3178950.0</td>\n",
              "      <td>Adamawa</td>\n",
              "      <td>22.0</td>\n",
              "    </tr>\n",
              "    <tr>\n",
              "      <th>1</th>\n",
              "      <td>NaN</td>\n",
              "      <td>2598363.0</td>\n",
              "      <td>NaN</td>\n",
              "      <td>19.5</td>\n",
              "    </tr>\n",
              "    <tr>\n",
              "      <th>2</th>\n",
              "      <td>NaN</td>\n",
              "      <td>2321339.0</td>\n",
              "      <td>Yobe</td>\n",
              "      <td>17.0</td>\n",
              "    </tr>\n",
              "    <tr>\n",
              "      <th>3</th>\n",
              "      <td>Port-Harcourt</td>\n",
              "      <td>2598363.0</td>\n",
              "      <td>NaN</td>\n",
              "      <td>23.0</td>\n",
              "    </tr>\n",
              "    <tr>\n",
              "      <th>4</th>\n",
              "      <td>Jalingo</td>\n",
              "      <td>2294800.0</td>\n",
              "      <td>Taraba</td>\n",
              "      <td>16.0</td>\n",
              "    </tr>\n",
              "  </tbody>\n",
              "</table>\n",
              "</div>"
            ],
            "text/plain": [
              "         Capital  Population    State  LGAs\n",
              "0           Yola   3178950.0  Adamawa  22.0\n",
              "1            NaN   2598363.0      NaN  19.5\n",
              "2            NaN   2321339.0     Yobe  17.0\n",
              "3  Port-Harcourt   2598363.0      NaN  23.0\n",
              "4        Jalingo   2294800.0   Taraba  16.0"
            ]
          },
          "metadata": {
            "tags": []
          },
          "execution_count": 40
        }
      ]
    },
    {
      "cell_type": "markdown",
      "metadata": {
        "id": "qWsaLCWb5uuB"
      },
      "source": [
        "## Data Aggregation (Grouping)"
      ]
    },
    {
      "cell_type": "markdown",
      "metadata": {
        "id": "DJU2vGc05oSx"
      },
      "source": [
        "We will touch briefly on a common practice in data science, and that is grouping a set of data attributes, either for retrieving some group statistics or applying a particular set of functions to the group. Grouping is commonly used for data exploration and plotting graphs to understand more about the dataset. Missing data are automatically excluded in a grouping operation.\n",
        "Let’s see examples of how this works."
      ]
    },
    {
      "cell_type": "code",
      "metadata": {
        "id": "f12mPUy55zRN",
        "colab": {
          "base_uri": "https://localhost:8080/",
          "height": 288
        },
        "outputId": "0611d1b9-cb2a-45b5-a06e-b00ec90a4c6d"
      },
      "source": [
        "# create a data frame\n",
        "my_DF = pd.DataFrame({\n",
        "    'Sex': ['M', 'F', 'M', 'F','M', 'F','M', 'F'],\n",
        "    'Age': np.random.randint(15,60,8),\n",
        "    'Salary': np.random.rand(8)*10000})\n",
        "my_DF "
      ],
      "execution_count": null,
      "outputs": [
        {
          "output_type": "execute_result",
          "data": {
            "text/html": [
              "<div>\n",
              "<style scoped>\n",
              "    .dataframe tbody tr th:only-of-type {\n",
              "        vertical-align: middle;\n",
              "    }\n",
              "\n",
              "    .dataframe tbody tr th {\n",
              "        vertical-align: top;\n",
              "    }\n",
              "\n",
              "    .dataframe thead th {\n",
              "        text-align: right;\n",
              "    }\n",
              "</style>\n",
              "<table border=\"1\" class=\"dataframe\">\n",
              "  <thead>\n",
              "    <tr style=\"text-align: right;\">\n",
              "      <th></th>\n",
              "      <th>Sex</th>\n",
              "      <th>Age</th>\n",
              "      <th>Salary</th>\n",
              "    </tr>\n",
              "  </thead>\n",
              "  <tbody>\n",
              "    <tr>\n",
              "      <th>0</th>\n",
              "      <td>M</td>\n",
              "      <td>54</td>\n",
              "      <td>6343.357261</td>\n",
              "    </tr>\n",
              "    <tr>\n",
              "      <th>1</th>\n",
              "      <td>F</td>\n",
              "      <td>40</td>\n",
              "      <td>3034.746908</td>\n",
              "    </tr>\n",
              "    <tr>\n",
              "      <th>2</th>\n",
              "      <td>M</td>\n",
              "      <td>46</td>\n",
              "      <td>2202.401190</td>\n",
              "    </tr>\n",
              "    <tr>\n",
              "      <th>3</th>\n",
              "      <td>F</td>\n",
              "      <td>44</td>\n",
              "      <td>4453.729352</td>\n",
              "    </tr>\n",
              "    <tr>\n",
              "      <th>4</th>\n",
              "      <td>M</td>\n",
              "      <td>50</td>\n",
              "      <td>5914.748574</td>\n",
              "    </tr>\n",
              "    <tr>\n",
              "      <th>5</th>\n",
              "      <td>F</td>\n",
              "      <td>23</td>\n",
              "      <td>3924.592456</td>\n",
              "    </tr>\n",
              "    <tr>\n",
              "      <th>6</th>\n",
              "      <td>M</td>\n",
              "      <td>18</td>\n",
              "      <td>3610.366344</td>\n",
              "    </tr>\n",
              "    <tr>\n",
              "      <th>7</th>\n",
              "      <td>F</td>\n",
              "      <td>32</td>\n",
              "      <td>7568.475998</td>\n",
              "    </tr>\n",
              "  </tbody>\n",
              "</table>\n",
              "</div>"
            ],
            "text/plain": [
              "  Sex  Age       Salary\n",
              "0   M   54  6343.357261\n",
              "1   F   40  3034.746908\n",
              "2   M   46  2202.401190\n",
              "3   F   44  4453.729352\n",
              "4   M   50  5914.748574\n",
              "5   F   23  3924.592456\n",
              "6   M   18  3610.366344\n",
              "7   F   32  7568.475998"
            ]
          },
          "metadata": {
            "tags": []
          },
          "execution_count": 41
        }
      ]
    },
    {
      "cell_type": "markdown",
      "metadata": {
        "id": "wqE7tK1150n7"
      },
      "source": [
        "Let’s find the mean age and salary for observations in our dataset grouped by `Sex`."
      ]
    },
    {
      "cell_type": "code",
      "metadata": {
        "id": "M3PU4zH651uG",
        "colab": {
          "base_uri": "https://localhost:8080/",
          "height": 138
        },
        "outputId": "fd69c2b7-5508-4a0e-c7dd-999dbc2b2cb0"
      },
      "source": [
        "my_DF.groupby('Sex').mean()"
      ],
      "execution_count": null,
      "outputs": [
        {
          "output_type": "execute_result",
          "data": {
            "text/html": [
              "<div>\n",
              "<style scoped>\n",
              "    .dataframe tbody tr th:only-of-type {\n",
              "        vertical-align: middle;\n",
              "    }\n",
              "\n",
              "    .dataframe tbody tr th {\n",
              "        vertical-align: top;\n",
              "    }\n",
              "\n",
              "    .dataframe thead th {\n",
              "        text-align: right;\n",
              "    }\n",
              "</style>\n",
              "<table border=\"1\" class=\"dataframe\">\n",
              "  <thead>\n",
              "    <tr style=\"text-align: right;\">\n",
              "      <th></th>\n",
              "      <th>Age</th>\n",
              "      <th>Salary</th>\n",
              "    </tr>\n",
              "    <tr>\n",
              "      <th>Sex</th>\n",
              "      <th></th>\n",
              "      <th></th>\n",
              "    </tr>\n",
              "  </thead>\n",
              "  <tbody>\n",
              "    <tr>\n",
              "      <th>F</th>\n",
              "      <td>34.75</td>\n",
              "      <td>4745.386178</td>\n",
              "    </tr>\n",
              "    <tr>\n",
              "      <th>M</th>\n",
              "      <td>42.00</td>\n",
              "      <td>4517.718342</td>\n",
              "    </tr>\n",
              "  </tbody>\n",
              "</table>\n",
              "</div>"
            ],
            "text/plain": [
              "       Age       Salary\n",
              "Sex                    \n",
              "F    34.75  4745.386178\n",
              "M    42.00  4517.718342"
            ]
          },
          "metadata": {
            "tags": []
          },
          "execution_count": 42
        }
      ]
    },
    {
      "cell_type": "markdown",
      "metadata": {
        "id": "VU2ZbUwL53HC"
      },
      "source": [
        "We can group by more than one variable. In this case for each `Sex` group, also group the `Age` and find the mean of the other numeric variables."
      ]
    },
    {
      "cell_type": "code",
      "metadata": {
        "id": "-Dp1k2fK54zF",
        "colab": {
          "base_uri": "https://localhost:8080/",
          "height": 318
        },
        "outputId": "1b85dee4-615a-45ba-c5c5-c75cfad673ec"
      },
      "source": [
        "my_DF.groupby([my_DF['Sex'], my_DF['Age']]).mean() "
      ],
      "execution_count": null,
      "outputs": [
        {
          "output_type": "execute_result",
          "data": {
            "text/html": [
              "<div>\n",
              "<style scoped>\n",
              "    .dataframe tbody tr th:only-of-type {\n",
              "        vertical-align: middle;\n",
              "    }\n",
              "\n",
              "    .dataframe tbody tr th {\n",
              "        vertical-align: top;\n",
              "    }\n",
              "\n",
              "    .dataframe thead th {\n",
              "        text-align: right;\n",
              "    }\n",
              "</style>\n",
              "<table border=\"1\" class=\"dataframe\">\n",
              "  <thead>\n",
              "    <tr style=\"text-align: right;\">\n",
              "      <th></th>\n",
              "      <th></th>\n",
              "      <th>Salary</th>\n",
              "    </tr>\n",
              "    <tr>\n",
              "      <th>Sex</th>\n",
              "      <th>Age</th>\n",
              "      <th></th>\n",
              "    </tr>\n",
              "  </thead>\n",
              "  <tbody>\n",
              "    <tr>\n",
              "      <th rowspan=\"4\" valign=\"top\">F</th>\n",
              "      <th>23</th>\n",
              "      <td>3924.592456</td>\n",
              "    </tr>\n",
              "    <tr>\n",
              "      <th>32</th>\n",
              "      <td>7568.475998</td>\n",
              "    </tr>\n",
              "    <tr>\n",
              "      <th>40</th>\n",
              "      <td>3034.746908</td>\n",
              "    </tr>\n",
              "    <tr>\n",
              "      <th>44</th>\n",
              "      <td>4453.729352</td>\n",
              "    </tr>\n",
              "    <tr>\n",
              "      <th rowspan=\"4\" valign=\"top\">M</th>\n",
              "      <th>18</th>\n",
              "      <td>3610.366344</td>\n",
              "    </tr>\n",
              "    <tr>\n",
              "      <th>46</th>\n",
              "      <td>2202.401190</td>\n",
              "    </tr>\n",
              "    <tr>\n",
              "      <th>50</th>\n",
              "      <td>5914.748574</td>\n",
              "    </tr>\n",
              "    <tr>\n",
              "      <th>54</th>\n",
              "      <td>6343.357261</td>\n",
              "    </tr>\n",
              "  </tbody>\n",
              "</table>\n",
              "</div>"
            ],
            "text/plain": [
              "              Salary\n",
              "Sex Age             \n",
              "F   23   3924.592456\n",
              "    32   7568.475998\n",
              "    40   3034.746908\n",
              "    44   4453.729352\n",
              "M   18   3610.366344\n",
              "    46   2202.401190\n",
              "    50   5914.748574\n",
              "    54   6343.357261"
            ]
          },
          "metadata": {
            "tags": []
          },
          "execution_count": 43
        }
      ]
    },
    {
      "cell_type": "markdown",
      "metadata": {
        "id": "IQT472HE56kq"
      },
      "source": [
        "Also, we can use a variable as a group key to run a group function on another variable or sets of variables."
      ]
    },
    {
      "cell_type": "code",
      "metadata": {
        "id": "jU4HpQHu5740",
        "colab": {
          "base_uri": "https://localhost:8080/"
        },
        "outputId": "b2906137-7beb-45c5-be2b-4e6aca2d89d3"
      },
      "source": [
        "my_DF['Age'].groupby(my_DF['Salary']).mean() "
      ],
      "execution_count": null,
      "outputs": [
        {
          "output_type": "execute_result",
          "data": {
            "text/plain": [
              "Salary\n",
              "2202.401190    46\n",
              "3034.746908    40\n",
              "3610.366344    18\n",
              "3924.592456    23\n",
              "4453.729352    44\n",
              "5914.748574    50\n",
              "6343.357261    54\n",
              "7568.475998    32\n",
              "Name: Age, dtype: int64"
            ]
          },
          "metadata": {
            "tags": []
          },
          "execution_count": 44
        }
      ]
    },
    {
      "cell_type": "markdown",
      "metadata": {
        "id": "eQRNU7W_59lb"
      },
      "source": [
        "## Statistical Summaries"
      ]
    },
    {
      "cell_type": "markdown",
      "metadata": {
        "id": "HZwYV1V95_bL"
      },
      "source": [
        "Descriptive statistics is an essential component in data science. By investigating the properties of the dataset, we can gain a better understanding of the data and the relationship between the variables. This information is useful in making decisions about the type of data transformations to carry out or the types of learning algorithms to spot check. Let’s see some examples of simple statistical functions in Pandas.\n",
        "First, we’ll create a Pandas dataframe."
      ]
    },
    {
      "cell_type": "code",
      "metadata": {
        "id": "e51t65V76BD9"
      },
      "source": [
        " my_DF = pd.DataFrame(np.random.randint(10,80,[7,4]),\\\n",
        "            columns=['First','Second','Third', 'Fourth'])"
      ],
      "execution_count": null,
      "outputs": []
    },
    {
      "cell_type": "markdown",
      "metadata": {
        "id": "HWc-v-eq6Cda"
      },
      "source": [
        "We use the `describe` function to obtain summary statistics of a dataset. Eight statistical measures are displayed. They are count, mean, standard deviation, minimum value, 25th percentile, 50th percentile or median, 75th percentile, and the maximum value."
      ]
    },
    {
      "cell_type": "code",
      "metadata": {
        "id": "XJp6oQ_H6D9S",
        "colab": {
          "base_uri": "https://localhost:8080/",
          "height": 288
        },
        "outputId": "78a92fde-cc2e-4a19-f10c-07b101f98456"
      },
      "source": [
        "my_DF.describe() "
      ],
      "execution_count": null,
      "outputs": [
        {
          "output_type": "execute_result",
          "data": {
            "text/html": [
              "<div>\n",
              "<style scoped>\n",
              "    .dataframe tbody tr th:only-of-type {\n",
              "        vertical-align: middle;\n",
              "    }\n",
              "\n",
              "    .dataframe tbody tr th {\n",
              "        vertical-align: top;\n",
              "    }\n",
              "\n",
              "    .dataframe thead th {\n",
              "        text-align: right;\n",
              "    }\n",
              "</style>\n",
              "<table border=\"1\" class=\"dataframe\">\n",
              "  <thead>\n",
              "    <tr style=\"text-align: right;\">\n",
              "      <th></th>\n",
              "      <th>First</th>\n",
              "      <th>Second</th>\n",
              "      <th>Third</th>\n",
              "      <th>Fourth</th>\n",
              "    </tr>\n",
              "  </thead>\n",
              "  <tbody>\n",
              "    <tr>\n",
              "      <th>count</th>\n",
              "      <td>7.000000</td>\n",
              "      <td>7.000000</td>\n",
              "      <td>7.000000</td>\n",
              "      <td>7.000000</td>\n",
              "    </tr>\n",
              "    <tr>\n",
              "      <th>mean</th>\n",
              "      <td>35.714286</td>\n",
              "      <td>31.000000</td>\n",
              "      <td>38.428571</td>\n",
              "      <td>49.285714</td>\n",
              "    </tr>\n",
              "    <tr>\n",
              "      <th>std</th>\n",
              "      <td>13.877011</td>\n",
              "      <td>19.485037</td>\n",
              "      <td>11.602545</td>\n",
              "      <td>12.539462</td>\n",
              "    </tr>\n",
              "    <tr>\n",
              "      <th>min</th>\n",
              "      <td>14.000000</td>\n",
              "      <td>10.000000</td>\n",
              "      <td>25.000000</td>\n",
              "      <td>34.000000</td>\n",
              "    </tr>\n",
              "    <tr>\n",
              "      <th>25%</th>\n",
              "      <td>28.000000</td>\n",
              "      <td>14.000000</td>\n",
              "      <td>28.500000</td>\n",
              "      <td>40.500000</td>\n",
              "    </tr>\n",
              "    <tr>\n",
              "      <th>50%</th>\n",
              "      <td>37.000000</td>\n",
              "      <td>31.000000</td>\n",
              "      <td>38.000000</td>\n",
              "      <td>52.000000</td>\n",
              "    </tr>\n",
              "    <tr>\n",
              "      <th>75%</th>\n",
              "      <td>43.000000</td>\n",
              "      <td>43.000000</td>\n",
              "      <td>47.000000</td>\n",
              "      <td>53.500000</td>\n",
              "    </tr>\n",
              "    <tr>\n",
              "      <th>max</th>\n",
              "      <td>57.000000</td>\n",
              "      <td>62.000000</td>\n",
              "      <td>55.000000</td>\n",
              "      <td>71.000000</td>\n",
              "    </tr>\n",
              "  </tbody>\n",
              "</table>\n",
              "</div>"
            ],
            "text/plain": [
              "           First     Second      Third     Fourth\n",
              "count   7.000000   7.000000   7.000000   7.000000\n",
              "mean   35.714286  31.000000  38.428571  49.285714\n",
              "std    13.877011  19.485037  11.602545  12.539462\n",
              "min    14.000000  10.000000  25.000000  34.000000\n",
              "25%    28.000000  14.000000  28.500000  40.500000\n",
              "50%    37.000000  31.000000  38.000000  52.000000\n",
              "75%    43.000000  43.000000  47.000000  53.500000\n",
              "max    57.000000  62.000000  55.000000  71.000000"
            ]
          },
          "metadata": {
            "tags": []
          },
          "execution_count": 46
        }
      ]
    },
    {
      "cell_type": "markdown",
      "metadata": {
        "id": "xs-8TNgz6Frx"
      },
      "source": [
        "### Correlation"
      ]
    },
    {
      "cell_type": "markdown",
      "metadata": {
        "id": "5lDqYEGe5Qip"
      },
      "source": [
        "Correlation shows how much relationship exists between two numerical variables. Parametric machine learning methods such as logistic and linear regression can take a performance hit when variables are highly correlated. The correlation values range from –1 to 1, with 0 indicating no correlation at all. –1 signifies that the variables are strongly negatively correlated, while 1 shows that the variables are strongly positively correlated. In practice, it is safe to eliminate variables that have a correlation value greater than –0.7 or 0.7. A common correlation estimate in use is the Pearson’s correlation coefficient."
      ]
    },
    {
      "cell_type": "code",
      "metadata": {
        "id": "yZ7eicAc6LM2",
        "colab": {
          "base_uri": "https://localhost:8080/",
          "height": 168
        },
        "outputId": "7d548ac2-2dfb-4929-a325-4559ebb1b3a2"
      },
      "source": [
        "my_DF.corr(method='pearson')"
      ],
      "execution_count": null,
      "outputs": [
        {
          "output_type": "execute_result",
          "data": {
            "text/html": [
              "<div>\n",
              "<style scoped>\n",
              "    .dataframe tbody tr th:only-of-type {\n",
              "        vertical-align: middle;\n",
              "    }\n",
              "\n",
              "    .dataframe tbody tr th {\n",
              "        vertical-align: top;\n",
              "    }\n",
              "\n",
              "    .dataframe thead th {\n",
              "        text-align: right;\n",
              "    }\n",
              "</style>\n",
              "<table border=\"1\" class=\"dataframe\">\n",
              "  <thead>\n",
              "    <tr style=\"text-align: right;\">\n",
              "      <th></th>\n",
              "      <th>First</th>\n",
              "      <th>Second</th>\n",
              "      <th>Third</th>\n",
              "      <th>Fourth</th>\n",
              "    </tr>\n",
              "  </thead>\n",
              "  <tbody>\n",
              "    <tr>\n",
              "      <th>First</th>\n",
              "      <td>1.000000</td>\n",
              "      <td>0.514681</td>\n",
              "      <td>-0.468032</td>\n",
              "      <td>0.228503</td>\n",
              "    </tr>\n",
              "    <tr>\n",
              "      <th>Second</th>\n",
              "      <td>0.514681</td>\n",
              "      <td>1.000000</td>\n",
              "      <td>-0.043496</td>\n",
              "      <td>-0.338338</td>\n",
              "    </tr>\n",
              "    <tr>\n",
              "      <th>Third</th>\n",
              "      <td>-0.468032</td>\n",
              "      <td>-0.043496</td>\n",
              "      <td>1.000000</td>\n",
              "      <td>-0.822346</td>\n",
              "    </tr>\n",
              "    <tr>\n",
              "      <th>Fourth</th>\n",
              "      <td>0.228503</td>\n",
              "      <td>-0.338338</td>\n",
              "      <td>-0.822346</td>\n",
              "      <td>1.000000</td>\n",
              "    </tr>\n",
              "  </tbody>\n",
              "</table>\n",
              "</div>"
            ],
            "text/plain": [
              "           First    Second     Third    Fourth\n",
              "First   1.000000  0.514681 -0.468032  0.228503\n",
              "Second  0.514681  1.000000 -0.043496 -0.338338\n",
              "Third  -0.468032 -0.043496  1.000000 -0.822346\n",
              "Fourth  0.228503 -0.338338 -0.822346  1.000000"
            ]
          },
          "metadata": {
            "tags": []
          },
          "execution_count": 47
        }
      ]
    },
    {
      "cell_type": "markdown",
      "metadata": {
        "id": "jTGZiN4X6M6F"
      },
      "source": [
        "### Skewness"
      ]
    },
    {
      "cell_type": "markdown",
      "metadata": {
        "id": "Slqofesp5Qey"
      },
      "source": [
        "Another important statistical metric is the skewness of the dataset. Skewness is when a bell-shaped or normal distribution is shifted toward the right or the left. Pandas offers a convenient function called `skew()` to check the skewness of each variable. Values close to 0 are more normally distributed with less skew."
      ]
    },
    {
      "cell_type": "code",
      "metadata": {
        "id": "810CvWsT6QZY",
        "colab": {
          "base_uri": "https://localhost:8080/"
        },
        "outputId": "58d60f09-8472-4fea-b2b3-9cc7fb9ef0a9"
      },
      "source": [
        "my_DF.skew() "
      ],
      "execution_count": null,
      "outputs": [
        {
          "output_type": "execute_result",
          "data": {
            "text/plain": [
              "First    -0.064567\n",
              "Second    0.436020\n",
              "Third     0.242302\n",
              "Fourth    0.522977\n",
              "dtype: float64"
            ]
          },
          "metadata": {
            "tags": []
          },
          "execution_count": 48
        }
      ]
    },
    {
      "cell_type": "markdown",
      "metadata": {
        "id": "UMT_9cvB6TFK"
      },
      "source": [
        "## Importing Data\n"
      ]
    },
    {
      "cell_type": "markdown",
      "metadata": {
        "id": "WUOH4sWq6VHW"
      },
      "source": [
        "Again, getting data into the programming environment for analysis is a fundamental and first step for any data analytics or machine learning task. In practice, data usually comes in a comma-separated value, csv, format. We c an also export a DataFrame back to csv."
      ]
    },
    {
      "cell_type": "code",
      "metadata": {
        "id": "3tHcJ-r06WVN"
      },
      "source": [
        "my_DF.to_csv('file_name.csv', index=False)"
      ],
      "execution_count": null,
      "outputs": []
    },
    {
      "cell_type": "code",
      "metadata": {
        "colab": {
          "base_uri": "https://localhost:8080/",
          "height": 258
        },
        "id": "wklfg0uipmm8",
        "outputId": "b7ac1f5e-385f-42ab-e0e9-2de19dbd55c6"
      },
      "source": [
        "my_DF = pd.read_csv('file_name.csv', sep=',')\n",
        "my_DF"
      ],
      "execution_count": null,
      "outputs": [
        {
          "output_type": "execute_result",
          "data": {
            "text/html": [
              "<div>\n",
              "<style scoped>\n",
              "    .dataframe tbody tr th:only-of-type {\n",
              "        vertical-align: middle;\n",
              "    }\n",
              "\n",
              "    .dataframe tbody tr th {\n",
              "        vertical-align: top;\n",
              "    }\n",
              "\n",
              "    .dataframe thead th {\n",
              "        text-align: right;\n",
              "    }\n",
              "</style>\n",
              "<table border=\"1\" class=\"dataframe\">\n",
              "  <thead>\n",
              "    <tr style=\"text-align: right;\">\n",
              "      <th></th>\n",
              "      <th>First</th>\n",
              "      <th>Second</th>\n",
              "      <th>Third</th>\n",
              "      <th>Fourth</th>\n",
              "    </tr>\n",
              "  </thead>\n",
              "  <tbody>\n",
              "    <tr>\n",
              "      <th>0</th>\n",
              "      <td>53</td>\n",
              "      <td>63</td>\n",
              "      <td>62</td>\n",
              "      <td>64</td>\n",
              "    </tr>\n",
              "    <tr>\n",
              "      <th>1</th>\n",
              "      <td>49</td>\n",
              "      <td>60</td>\n",
              "      <td>46</td>\n",
              "      <td>60</td>\n",
              "    </tr>\n",
              "    <tr>\n",
              "      <th>2</th>\n",
              "      <td>45</td>\n",
              "      <td>62</td>\n",
              "      <td>16</td>\n",
              "      <td>46</td>\n",
              "    </tr>\n",
              "    <tr>\n",
              "      <th>3</th>\n",
              "      <td>46</td>\n",
              "      <td>17</td>\n",
              "      <td>48</td>\n",
              "      <td>45</td>\n",
              "    </tr>\n",
              "    <tr>\n",
              "      <th>4</th>\n",
              "      <td>46</td>\n",
              "      <td>77</td>\n",
              "      <td>39</td>\n",
              "      <td>43</td>\n",
              "    </tr>\n",
              "    <tr>\n",
              "      <th>5</th>\n",
              "      <td>44</td>\n",
              "      <td>58</td>\n",
              "      <td>48</td>\n",
              "      <td>68</td>\n",
              "    </tr>\n",
              "    <tr>\n",
              "      <th>6</th>\n",
              "      <td>48</td>\n",
              "      <td>65</td>\n",
              "      <td>15</td>\n",
              "      <td>27</td>\n",
              "    </tr>\n",
              "  </tbody>\n",
              "</table>\n",
              "</div>"
            ],
            "text/plain": [
              "   First  Second  Third  Fourth\n",
              "0     53      63     62      64\n",
              "1     49      60     46      60\n",
              "2     45      62     16      46\n",
              "3     46      17     48      45\n",
              "4     46      77     39      43\n",
              "5     44      58     48      68\n",
              "6     48      65     15      27"
            ]
          },
          "metadata": {
            "tags": []
          },
          "execution_count": 63
        }
      ]
    }
  ]
}