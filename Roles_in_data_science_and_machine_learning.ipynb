{
  "nbformat": 4,
  "nbformat_minor": 0,
  "metadata": {
    "colab": {
      "name": "Roles in data science and machine learning.ipynb",
      "provenance": [],
      "collapsed_sections": [],
      "toc_visible": true,
      "authorship_tag": "ABX9TyPLs6M01lay/beGWYY2wq76",
      "include_colab_link": true
    },
    "kernelspec": {
      "name": "python3",
      "display_name": "Python 3"
    }
  },
  "cells": [
    {
      "cell_type": "markdown",
      "metadata": {
        "id": "view-in-github",
        "colab_type": "text"
      },
      "source": [
        "<a href=\"https://colab.research.google.com/github/victorviro/Machine-Learning-Python/blob/master/Roles_in_data_science_and_machine_learning.ipynb\" target=\"_parent\"><img src=\"https://colab.research.google.com/assets/colab-badge.svg\" alt=\"Open In Colab\"/></a>"
      ]
    },
    {
      "cell_type": "markdown",
      "metadata": {
        "id": "oNqFbXrEop9S"
      },
      "source": [
        "# Table of contents"
      ]
    },
    {
      "cell_type": "markdown",
      "metadata": {
        "id": "eOunBijSo16s"
      },
      "source": [
        "\n",
        "1. [Introduction](#1)\n",
        "2. [Data scientist vs data analyst](#2)\n",
        "3. [Data scientist vs data engineer](#3)\n",
        "4. [Data scientist vs ML engineer](#4)\n",
        "5. [References](#5)\n",
        "\n",
        "\n"
      ]
    },
    {
      "cell_type": "markdown",
      "metadata": {
        "id": "IF_23viFQlKm"
      },
      "source": [
        "# Introduction <a name=\"1\"></a>"
      ]
    },
    {
      "cell_type": "markdown",
      "metadata": {
        "id": "XfPehf0ZQlOi"
      },
      "source": [
        "There’s some confusion surrounding the **roles of data analyst, data scientist, data engineer and ML engineer**.\n",
        "\n",
        "At a high level, we’re talking about scientists and engineers. While a scientist needs to fully understand the, well, science behind their work, an engineer is tasked with building something."
      ]
    },
    {
      "cell_type": "markdown",
      "metadata": {
        "id": "mspq54eAv95I"
      },
      "source": [
        "**Machine learning** (ML) is a branch of artificial intelligence where a class of **data-driven algorithms** enables software applications to become highly accurate in predicting outcomes **without any need for explicit programming**. The basic premise here is to develop algorithms that can **receive input data and leverage statistical models to predict an output** while updating outputs as new data becomes available. The processes involved have a lot in **common with predictive modeling and data mining** since these both approaches demand one to search through the data to identify patterns and adjust the program accordingly.\n",
        "\n",
        "**Data science** (DS) can be described as the **description, prediction, and causal inference from** both structured and unstructured **data**. This discipline helps individuals and enterprises **make better business decisions**. It’s also a study of where data originates, what it represents, and how it could be transformed into a valuable resource. To achieve the latter, a massive amount of data has to be mined to identify patterns to help businesses for gaining a competitive advantage, identifying new market opportunities, increasing efficiencies or reining in costs. The field of data science employs disciplines like **mathematics and statistics** and incorporates techniques like **data mining, cluster analysis, visualization, and, ML**."
      ]
    },
    {
      "cell_type": "markdown",
      "metadata": {
        "id": "pBB2wtxURm_p"
      },
      "source": [
        "# Data scientist vs data analyst <a name=\"2\"></a>"
      ]
    },
    {
      "cell_type": "markdown",
      "metadata": {
        "id": "UC_2lId2RAN9"
      },
      "source": [
        "The key difference between a data scientist and a data analyst is **what they do with the data**. \n",
        "\n",
        "**Data analysts** sift through data and seek to **identify trends**. **What stories do the numbers tell?** What **business decisions** can be made based on these insights? They may also create **reports** or visual representations, such as charts and graphs to better **showcase what the data reveals** and what the insights the data hiding. We can think of them as the first step on the way to a data science job.\n",
        "\n",
        "The responsibilities of a data analyst vary depending on the industry, but all require **analyzing and interpreting data**. It focus **less on programming skills** than data science positions. At their core, most may include:\n",
        "\n",
        "- Conduct consumer data research and analytics\n",
        "- Work with customer-centric algorithm models and tailor them to each customer as required\n",
        "- Extract actionable **insights** from large databases\n",
        "- Perform recurring and **ad hoc quantitative analysis** to support **day-to-day decision making**\n",
        "- Support **reporting and analytics**, such as KPIs, financial reports, and creating and improving **dashboards**\n",
        "- Help translate data into **visualizations**, metrics, and goals\n",
        "- Write **SQL queries to extract data** from the data warehouse\n",
        "\n",
        "\n",
        "**Data scientists** are pros at **interpreting data, but also tend to have coding and math modeling expertise**. They can do the work of a data analyst, but are also hands-on in **ML**, skilled with **advanced programming**, and can create new processes for **data modeling**. They can work with **algorithms, predictive models**, and more. At its core, a data scientist’s job is to **collect and analyze data, garner actionable insights, and share those insights** with their company. A data scientist usually spends **a lot of time in the process of collecting, cleaning, and munging data**, because data is never clean. Once the data is clean, a crucial part is exploratory data analysis (**EDA**), which combines visualization and data sense. They’ll **find patterns, build models**, and algorithms, some with the **intention of understanding product usage** and the overall health of the product, and others **to serve as prototypes** that ultimately get baked back into the product. They may **design experiments**, and they are a critical part of data-driven decision making. So, not only must a data scientist know how to collect and clean data, but they must also know how to build algorithms, find patterns, design experiments, and share the results of the data with team members in an easily digestible format. \n",
        "\n",
        "The responsabilities for a data scientist may include: \n",
        "\n",
        "- Mine and **analyze data** from company databases **to drive optimization and improvement of product development**, marketing techniques, and business strategies\n",
        "- Use **predictive modeling** to increase and optimize customer experiences, revenue generation, ad targeting, and more\n",
        "- Develop **custom data models** and algorithms\n",
        "- Develop processes and tools to **monitor and analyze model performance** and data accuracy\n",
        "- Assess the effectiveness and accuracy of new data sources and data-gathering techniques\n",
        "- Coordinate with different functional teams to implement models and monitor outcomes\n",
        "\n",
        "![](https://i.ibb.co/HnKVy2v/data-scientist-vs-data-analyst.png)"
      ]
    },
    {
      "cell_type": "markdown",
      "metadata": {
        "id": "46OvCpToSWyj"
      },
      "source": [
        "# Data scientist vs data engineer <a name=\"3\"></a>"
      ]
    },
    {
      "cell_type": "markdown",
      "metadata": {
        "id": "072lMuEYV-F5"
      },
      "source": [
        "A **data engineer** can be described as a data professional who **prepares the data infrastructure for analysis**. They are focused on the **production readiness of data** and things like **formats, resilience, scaling, and security**. They are also experienced in developing and managing **distributed systems** for the analysis of **large volumes of data**. However, their primary objective is to help data scientists turn oceans of data into valuable and actionable insights.\n",
        "\n",
        "Data engineers usually hail from a software engineering background and are **proficient in programming languages like Python, and Scala**. Alternatively, they might have a degree in math or statistics that helps them apply different approaches to solve business problems.\n",
        "\n",
        "Data engineers are tasked with **designing, building, testing, integrating, managing, and optimizing data from a variety of sources**. They also build the **infrastructure and architecture** that enable data generation. Their primary focus is to build free-flowing **data pipelines** by combining a variety of big data technologies that enable real-time analytics. Data engineers also write **complex queries to ensure that data is easily accessible**.\n",
        "\n",
        "Data scienctist and data engineers work together, complimenting one another to help businesses achieve their goals. There are some **overlapping skills**, but this doesn’t mean that the roles are interchangeable. Both data engineers and data scientists are programmers. However, **data engineers tend to have a far superior grasp of programming while data scientists are much better at data analytics**. Data engineers aren’t required to have advanced analytical skills, they just need to be able to understand the requirements of each project.\n",
        "\n",
        "![](https://i.ibb.co/C8qZMMb/data-engineer-vs-data-scientist.png)\n",
        "\n",
        "Data scientists regularly interact with the data infrastructure, but they don’t build or maintain it.\n",
        "\n",
        "Data engineers are responsible for developing, designing, testing, and maintaining architectures like large-scale databases and processing systems. They are also tasked with cleaning and wrangling raw data to get it ready for analysis. Sometimes, they will also implement complex analytical projects that focus on collecting, managing, testing, analyzing, and visualizing data in real-time. Here’s what data engineering roles typically demand:\n",
        "\n",
        "- **Build, test, and maintain optimal data pipeline architecture**\n",
        "- Assemble large, complex data sets to meet both functional and non-functional business demands\n",
        "- Build the **infrastructure** necessary for optimal **extraction, transformation, and loading of data** (from a variety of sources leveraging AWS and SQL technologies)\n",
        "- Identify, design, implement, and enhance internal processes\n",
        "- Automate manual processes\n",
        "- Optimize data delivery\n",
        "- Re-design infrastructure for greater **scalability**\n",
        "- Build analytics tools that utilize data pipelines to deliver actionable insights\n",
        "- Work with all stakeholders across departments\n",
        "- Assist data scientists in building and optimizing products\n",
        "\n",
        "\n",
        "\n",
        "\n",
        "![](https://i.ibb.co/cJzQprq/data-engineer-vs-data-scientist-tools.png)\n",
        "\n",
        "\n",
        "\n"
      ]
    },
    {
      "cell_type": "markdown",
      "metadata": {
        "id": "eRZAT5uhqyyY"
      },
      "source": [
        "\n",
        "![](https://i.ibb.co/tYhVFTG/data-engineer-vs-data-scientist-vs-data-analyst.png)\n",
        "\n",
        " [Image from](https://www.picuki.com/media/2209113117563181701)"
      ]
    },
    {
      "cell_type": "markdown",
      "metadata": {
        "id": "v8XFHQtpS2nO"
      },
      "source": [
        "# Data scientist vs ML engineer <a name=\"4\"></a>"
      ]
    },
    {
      "cell_type": "markdown",
      "metadata": {
        "id": "BHpFTiY4RAKu"
      },
      "source": [
        "There are similarities in the roles of ML engineers and data scientists. However, if we look at the two roles as members of the same team, a **data scientist does the statistical analysis** required to determine which ML approach to use, then they **model the algorithm and prototype it for testing**. At that point, a **ML engineer takes the prototyped model and makes it work in a production environment at scale**. A ML engineer isn’t necessarily expected to understand the predictive models and their underlying maths the way a data scientist is. A ML engineer is, however, expected to **master the software tools that make these models usable**.\n",
        "\n",
        "ML engineers sit at the intersection of software engineering and data science. They leverage big data tools and programming frameworks to ensure that the raw data gathered from data pipelines are redefined as data science models that are ready to scale as needed. ML engineers **feed data into models defined by data scientists**. They’re also responsible for taking theoretical ML models and **helping scale them out to production-level models** that can handle terabytes of **real-time data**. They also build programs that control computers and robots. The algorithms developed by ML engineers enable a machine to identify patterns in its own programming data and teach itself to understand commands and even think for itself.\n",
        "\n",
        "ML engineers usually will be responsible for **building algorithms** that are based on statistical modeling procedures and **maintaining scalable ML solutions in production**.\n",
        "\n",
        "Here’s what these roles typically demand:\n",
        "\n",
        "- **Develop ML models**\n",
        "- Collaborate with data engineers to develop data and model pipelines\n",
        "- Apply ML and data science techniques and design **distributed systems**\n",
        "- **Write production-level code**\n",
        "- Bring code to production\n",
        "- Engage in **code reviews**\n",
        "- Improve existing ML models\n",
        "- Be in charge of the **entire lifecycle** (research, design, experimentation, development. deployment, monitoring, and maintenance)\n",
        "- Produce project outcomes and isolate issues\n",
        "- Implement ML algorithms and libraries\n",
        "- Communicate complex processes to business leaders\n",
        "- Analyze large and complex data sets to derive valuable insights\n",
        "- Research and implement **best practices to enhance existing ML infrastructure**\n",
        "\n",
        "![](https://i.ibb.co/Dr7nnvD/ML-engineer-vs-data-scientist-png.png)"
      ]
    },
    {
      "cell_type": "markdown",
      "metadata": {
        "id": "GSCi0pqXRAIX"
      },
      "source": [
        "# References <a name=\"5\"></a>"
      ]
    },
    {
      "cell_type": "markdown",
      "metadata": {
        "id": "W2aDg1Psn-1I"
      },
      "source": [
        "- [Springboard: data analyst vs data scientist](https://www.springboard.com/blog/data-analyst-vs-data-scientist/)\n",
        "\n",
        "- [Data-flair: data analyst vs data scientist](https://data-flair.training/blogs/data-scientist-vs-data-analyst/)\n",
        "\n",
        "- [Data-flair: business analyst vs data scientist](https://data-flair.training/blogs/data-scientist-vs-business-analyst/)\n",
        "\n",
        "- [Analyticscourse blog: data analyst vs data scientist tools](https://analyticscourse.blog/digital-analytics-tools-and-skills-to-learn-in-2020/)\n",
        "\n",
        "\n",
        "\n",
        "- [SAS: What is a Data Scientist?](https://www.sas.com/en_us/insights/analytics/what-is-a-data-scientist.html)\n",
        "\n",
        "- [Springboard: data engineer vs data scientist](https://www.springboard.com/blog/data-engineer-vs-data-scientist/)\n",
        "\n",
        "- [ITconsultors: data engineer vs data scientist](https://www.itconsultors.com/diferencias-entre-data-analyst-desarrollador-business-intelligence-data-scientist-y-data-engineer)\n",
        "\n",
        "- [Datacamp: data engineer vs data scientist](https://www.datacamp.com/community/blog/data-scientist-vs-data-engineer)\n",
        "\n",
        "- [OREILLY: data engineer vs data scientist](https://www.oreilly.com/radar/data-engineers-vs-data-scientists/)\n",
        "\n",
        "- [ELU: data engineer vs data scientist](https://elu.nl/careers-in-data-science-data-analyst-vs-data-engineer-vs-data-scientist/)\n",
        "\n",
        "- [Data engineer roadmap repo](https://github.com/datastacktv/data-engineer-roadmap)\n",
        "\n",
        "- [Springboard: ML engineer vs data scientist](https://www.springboard.com/blog/machine-learning-engineer-vs-data-scientist/)\n",
        "\n",
        "- [Medium: ML engineer vs data scientist](https://medium.com/swlh/machine-learning-engineer-vs-data-scientist-f6d46bf90e87)\n",
        "\n",
        "- [OREILLY: Becoming a ML engineer](https://www.oreilly.com/radar/podcast/becoming-a-machine-learning-engineer/)\n",
        "\n",
        "- [OREILLY: What are ML engineers?](https://www.oreilly.com/radar/what-are-machine-learning-engineers/)\n",
        "\n",
        "- [OREILLY: What ML engineers need to know](https://www.oreilly.com/radar/podcast/what-machine-learning-engineers-need-to-know/)\n",
        "\n",
        "- [OREILLY: Becoming a ML company](https://www.oreilly.com/radar/becoming-a-machine-learning-company-means-investing-in-foundational-technologies/)\n",
        "\n",
        "- [OREILLY: We need to build ML tools to augment ML engineers](https://www.oreilly.com/radar/we-need-to-build-machine-learning-tools-to-augment-machine-learning-engineers/)\n",
        "\n"
      ]
    }
  ]
}