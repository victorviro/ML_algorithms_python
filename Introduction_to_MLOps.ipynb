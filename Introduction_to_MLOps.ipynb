{
  "nbformat": 4,
  "nbformat_minor": 0,
  "metadata": {
    "colab": {
      "name": "Introduction to MLOps.ipynb",
      "provenance": [],
      "collapsed_sections": [],
      "toc_visible": true,
      "authorship_tag": "ABX9TyNibXRQ/WG7O9NNagJvIgnL",
      "include_colab_link": true
    },
    "kernelspec": {
      "name": "python3",
      "display_name": "Python 3"
    },
    "language_info": {
      "name": "python"
    }
  },
  "cells": [
    {
      "cell_type": "markdown",
      "metadata": {
        "id": "view-in-github",
        "colab_type": "text"
      },
      "source": [
        "<a href=\"https://colab.research.google.com/github/victorviro/Machine-Learning-Python/blob/master/Introduction_to_MLOps.ipynb\" target=\"_parent\"><img src=\"https://colab.research.google.com/assets/colab-badge.svg\" alt=\"Open In Colab\"/></a>"
      ]
    },
    {
      "cell_type": "markdown",
      "metadata": {
        "id": "oNqFbXrEop9S"
      },
      "source": [
        "# Table of contents"
      ]
    },
    {
      "cell_type": "markdown",
      "metadata": {
        "id": "eOunBijSo16s"
      },
      "source": [
        "\n",
        "\n",
        "1. [Defining MLOps](#1)\n",
        "2. [Challenges of MLOps](#2)\n",
        "3. [MLOps to mitigate risk](#3)\n",
        "4. [MLOps for responsible AI](#4)\n",
        "5. [MLOps for scale](#5)\n",
        "6. [References](#6)\n",
        "\n",
        "    \n",
        "\n",
        "\n"
      ]
    },
    {
      "cell_type": "markdown",
      "metadata": {
        "id": "r23bZ79Td1vs"
      },
      "source": [
        "# Introduction to MLOps"
      ]
    },
    {
      "cell_type": "markdown",
      "metadata": {
        "id": "NR5Nbv7keGGf"
      },
      "source": [
        "***Machine learning operations (MLOps)*** is a critical component of successful data science projects. This introductory notebook will delve into what MLOps is at a high level, its challenges, and why it’s become essential."
      ]
    },
    {
      "cell_type": "markdown",
      "metadata": {
        "id": "_0o1jADAcpaB"
      },
      "source": [
        "# Defining MLOps <a name=\"1\"></a>"
      ]
    },
    {
      "cell_type": "markdown",
      "metadata": {
        "id": "JquLNJgrcvPa"
      },
      "source": [
        "ML Engineering (MLOps) is about applying Software Engineering fundamentals (DevOps) to ML. At its core, MLOps is a set of **standards, tools, processes**, and methodology to **standarize and streamline the ML lifecycle management**. It aims at **unifying ML system development and ML system operation**. Practicing MLOps means that we advocate for **automation and monitoring at all steps** of ML system construction, including **integration, testing, releasing, deployment and infrastructure management**.\n",
        "\n",
        " \n",
        "It helps to increase the chances of having efficient project work, make easier to manage complex code bases, and eliminate the chances of projects getting cancelled (budget, time, or complexity) or code being abandoned (unmaintainable or fragile code).\n",
        " \n",
        "\n",
        "Looking at the steps to go from a business problem to a ML model at a very high level, it seems straightforward:\n",
        "\n",
        "![](https://i.ibb.co/k1rY3ZD/short-ML-lifecycle.png)\n",
        "\n",
        "The previous figure shows a simple representation of the ML model lifecycle, which often **underplays the need for MLOps**."
      ]
    },
    {
      "cell_type": "markdown",
      "metadata": {
        "id": "RgPGxFRtdM2Q"
      },
      "source": [
        "The development of multiple ML models and their deployment in a production environment are relatively new. With decision automation, models become more critical, and in parallel, managing model risks becomes more important at the top level. **Operationalization** of data science is the process of **pushing models to production and measuring their performance** against business goals. **MLOps encompass not just the push to production but the maintenance and updating of those models, and the entire data pipeline, in production**.\n",
        "\n",
        "The reality of the ML lifecycle is **complex**. \n",
        "\n",
        "![](https://i.ibb.co/GxQLfJh/full-ML-lifecycle.png)\n",
        "\n",
        "The ML model lifecycle **involves many different people** with completely different skill sets and who are often using different tools.\n",
        "\n",
        "The next figure (from [MLOps: Continuous delivery and automation pipelines in machine learning](https://cloud.google.com/solutions/machine-learning/mlops-continuous-delivery-and-automation-pipelines-in-machine-learning)) shows that **only a small fraction of a real-world ML system is composed of the ML code**. The required surrounding elements are vast and complex.\n",
        "\n",
        "![](https://i.ibb.co/HgYtQsG/ml-system.png)\n"
      ]
    },
    {
      "cell_type": "markdown",
      "metadata": {
        "id": "LZQ34rssv9ra"
      },
      "source": [
        "# Challenges of MLOps <a name=\"2\"></a>"
      ]
    },
    {
      "cell_type": "markdown",
      "metadata": {
        "id": "Qwkm0vCLeNEN"
      },
      "source": [
        "There are **key reasons** that managing ML lifecycles at scale are challenging:\n",
        "\n",
        "- There are many **dependencies**: Data and business needs are constantly changing. Results need to be continually checked to ensure that the model and data in production align with expectations and address the original problem.\n",
        "\n",
        "- **Not everyone speaks the same language** and are using the **same tools** or share the same skills.\n",
        "\n",
        "\n",
        "- The term MLOps pulls from the concept of **DevOps**, a practice in **developing and operating large-scale software systems**, which streamlines the practice of software changes and updates. The **two have a bit in common**: they both center around robust automation, collaboration and communication between teams, the end-to-end service lifecycle (build-test-release), continuous delivery...\n",
        "\n",
        " But there is a critical **difference** between MLOps and DevOps: deploying software code into production is different than deploying ML models. While **software code is** relatively **static**, **data is always changing**, which means ML models are constantly learning and adapting. ML systems also differ from other software systems in the following ways:\n",
        "\n",
        " - *Team skills*: In an ML project, the team usually includes **data scientists**, who **focus on data analysis and model development, but they might not be experienced building production-class services**.\n",
        "\n",
        " - *Development*: **ML is experimental**. We should try different features, algorithms, and hyperparameters to find what works best for the problem. The challenge is **tracking the results**, and maintaining **reproducibility** while maximizing code reusability.\n",
        "\n",
        " - *Testing*: Testing an ML system is more involved than testing other software systems. **In addition to typical unit and integration tests, we need data validation, model evaluation, and model validation**.\n",
        "\n",
        " - *Deployment*: In ML systems, deployment isn't as simple as deploying an offline ML model as a prediction service. **ML systems can require to deploy a pipeline to automatically retrain and deploy the model**.\n",
        "\n",
        " - *Production*: **Model performance can decay in more ways than conventional software systems**. Therefore, we need to track summary statistics of our data and **monitor the online performance of our model** to send notifications or roll back when values deviate from our expectations.\n",
        "\n",
        "![](https://i.ibb.co/8YLJ2SG/mlops-vs-devops.png)"
      ]
    },
    {
      "cell_type": "markdown",
      "metadata": {
        "id": "JmFPJYltgT6l"
      },
      "source": [
        "# MLOps to mitigate risk <a name=\"3\"></a>"
      ]
    },
    {
      "cell_type": "markdown",
      "metadata": {
        "id": "kIEHQlx9gXBK"
      },
      "source": [
        "Continuous **performance monitoring and adjusting of ML models is essential**. However, MLOps really tips the scales as critical for risk mitigation when a team has a lot of operational models since it is difficult to have a global view of the states of these models without some standardization. \n",
        "\n",
        "Pushing ML models into production without MLOps infrastructure is risky for many reasons. First because **assessing the performance of a ML model can often only be done in the production environment** since prediction models are only as good as the data they are trained on, which means the **training data must be a good reflection of the data in the production environment**. If the production environment changes, then the model performance is likely to decrease rapidly. \n",
        "\n",
        "Another risk factor is that **ML model performance is often very sensitive to the production environment** it is running in, including the **versions of software** and **operating systems** they use. They are often built on a pile of open-source software (e.g., libraries, like Scikit-Learn, to Python to Linux), and having versions of this software in production that match those that the model was verified on is critically important. \n",
        "\n",
        "Ultimately, **pushing models into production** is not the final step of the ML lifecycle. It’s often **just the beginning of monitoring** its performance and ensuring that it behaves as expected."
      ]
    },
    {
      "cell_type": "markdown",
      "metadata": {
        "id": "0i_amYLBgXo7"
      },
      "source": [
        "# MLOps for responsible AI <a name=\"4\"></a>"
      ]
    },
    {
      "cell_type": "markdown",
      "metadata": {
        "id": "k6GOBajFgcOb"
      },
      "source": [
        "A responsible use of ML (referred as **Responsible AI**) covers three main dimensions: \n",
        "\n",
        "- *Accountability*: Ensuring that ML models are designed and **behave** in ways **aligned with their purpose**.\n",
        "\n",
        "- *Sustainability*: Establishing the continued **reliability** of ML models in their operation as well as execution.\n",
        "\n",
        "- *Governability*: Centrally controlling, managing, and auditing ML capabilities.\n",
        "\n",
        "Decisions that were perhaps previously made by individuals who operated within a margin of guidelines are now being made by a model. It’s important to consider that ML models **lack the transparency** of traditional imperative code. It is harder to understand what features are used to determine a prediction, which in turn can make it harder to demonstrate that models comply with the necessary regulatory or requirements. "
      ]
    },
    {
      "cell_type": "markdown",
      "metadata": {
        "id": "VKlpLWurgevq"
      },
      "source": [
        "# MLOps for scale <a name=\"5\"></a>"
      ]
    },
    {
      "cell_type": "markdown",
      "metadata": {
        "id": "Dgcdwya4ggsA"
      },
      "source": [
        "MLOps is also an essential component to scaling ML efforts. Going from one or a handful of models in production to tens, hundreds, or thousands that have a positive business impact will require MLOps. Good MLOps practices will help teams at a minimum:\n",
        "\n",
        "- Keep track of **versioning**, especially with experiments in the design phase.\n",
        "\n",
        "- Understand if **retrained models are better than the previous versions** (and promoting models to production that perform better).\n",
        "\n",
        "- Ensure that **model performance is not degrading** in production."
      ]
    },
    {
      "cell_type": "markdown",
      "metadata": {
        "id": "36AF-VFcZh1u"
      },
      "source": [
        "# References <a name=\"6\"></a>"
      ]
    },
    {
      "cell_type": "markdown",
      "metadata": {
        "id": "QQQhszhWZjL7"
      },
      "source": [
        "- [MLOps: Continuous delivery and automation pipelines in machine learning](https://cloud.google.com/solutions/machine-learning/mlops-continuous-delivery-and-automation-pipelines-in-machine-learning)\n",
        "\n",
        "- [Introducing MLOps](https://www.oreilly.com/library/view/introducing-mlops/9781492083283/)\n",
        "\n",
        "- [MLinproduction blog](https://mlinproduction.com/)\n",
        "\n",
        "- [MLOps.Community](https://www.youtube.com/channel/UCG6qpjVnBTTT8wLGBygANOQ)\n",
        "\n",
        "- [Machine learning engineering in action](https://livebook.manning.com/book/machine-learning-engineering/)"
      ]
    }
  ]
}