{
  "nbformat": 4,
  "nbformat_minor": 0,
  "metadata": {
    "kernelspec": {
      "display_name": "Python 3",
      "language": "python",
      "name": "python3"
    },
    "language_info": {
      "codemirror_mode": {
        "name": "ipython",
        "version": 3
      },
      "file_extension": ".py",
      "mimetype": "text/x-python",
      "name": "python",
      "nbconvert_exporter": "python",
      "pygments_lexer": "ipython3",
      "version": "3.6.6"
    },
    "colab": {
      "name": "Introduction_generalized_linear_models.ipynb",
      "provenance": [],
      "collapsed_sections": [],
      "toc_visible": true,
      "include_colab_link": true
    }
  },
  "cells": [
    {
      "cell_type": "markdown",
      "metadata": {
        "id": "view-in-github",
        "colab_type": "text"
      },
      "source": [
        "<a href=\"https://colab.research.google.com/github/victorviro/ML_algorithms_python/blob/master/Introduction_generalized_linear_models.ipynb\" target=\"_parent\"><img src=\"https://colab.research.google.com/assets/colab-badge.svg\" alt=\"Open In Colab\"/></a>"
      ]
    },
    {
      "cell_type": "markdown",
      "metadata": {
        "id": "KNPMaIpb4tRz",
        "colab_type": "text"
      },
      "source": [
        "# Introduction to Generalized Linear Models (GLM)\n",
        "\n",
        "We will use a dataset that contains data about houses for practice purposes. We will try to predict the house prices using different linear regression models (the data used and the info of the task can be seen [here](https://github.com/victorviro/House-price-prediction-python)). Finally, we will see the logistic regression model for classification problems.\n",
        "\n",
        "\n",
        "* **3. Data preparation**\n",
        "    * 3.1 Dummy variables\n",
        "    * 3.2 Split dataset\n",
        "    \n",
        "    \n",
        "* **4. Generalized Linear Models**\n",
        "    * 4.1 Introduction\n",
        "    * 4.2 Linear regression\n",
        "    * 4.3 Polynomial regression\n",
        "    * 4.4 Regularized linear models \n",
        "    * 4.5 Robustness regression \n",
        "    * 4.6 Stochastic Gradient Descent\n",
        "    * 4.7 Logistic regression"
      ]
    },
    {
      "cell_type": "markdown",
      "metadata": {
        "id": "VdYUgXfY4tR1",
        "colab_type": "text"
      },
      "source": [
        "We import required libraries."
      ]
    },
    {
      "cell_type": "code",
      "metadata": {
        "id": "M-cLDzEx4tR3",
        "colab_type": "code",
        "outputId": "a6de6e5f-1b61-425e-ae90-e936091e3344",
        "colab": {
          "base_uri": "https://localhost:8080/",
          "height": 74
        }
      },
      "source": [
        "import numpy as np\n",
        "import pandas as pd\n",
        "import matplotlib.pyplot as plt\n",
        "import seaborn as sns\n",
        "\n",
        "from sklearn.linear_model import LinearRegression, Lasso, LassoCV, Ridge, RidgeCV, ElasticNet, ElasticNetCV, \\\n",
        "                                 SGDRegressor, HuberRegressor, LogisticRegression\n",
        "\n",
        "from sklearn.preprocessing import StandardScaler, PolynomialFeatures\n",
        "from sklearn.model_selection import train_test_split, GridSearchCV\n",
        "from sklearn.metrics import mean_squared_error"
      ],
      "execution_count": 1,
      "outputs": [
        {
          "output_type": "stream",
          "text": [
            "/usr/local/lib/python3.6/dist-packages/statsmodels/tools/_testing.py:19: FutureWarning: pandas.util.testing is deprecated. Use the functions in the public API at pandas.testing instead.\n",
            "  import pandas.util.testing as tm\n"
          ],
          "name": "stderr"
        }
      ]
    },
    {
      "cell_type": "code",
      "metadata": {
        "id": "78-MYLLrVYNG",
        "colab_type": "code",
        "colab": {}
      },
      "source": [
        "from google.colab import drive\n",
        "drive.mount('/content/drive')"
      ],
      "execution_count": 0,
      "outputs": []
    },
    {
      "cell_type": "markdown",
      "metadata": {
        "id": "YDrVIHYa4tR_",
        "colab_type": "text"
      },
      "source": [
        "## Read data processed "
      ]
    },
    {
      "cell_type": "code",
      "metadata": {
        "id": "Qtb-fH9S4tSA",
        "colab_type": "code",
        "outputId": "24d70fe7-c754-4d2e-8c23-d207fc4363c4",
        "colab": {
          "base_uri": "https://localhost:8080/",
          "height": 35
        }
      },
      "source": [
        "dataset = pd.read_csv('/content/drive/My Drive/datasets/dataset.csv')\n",
        "dataset.shape"
      ],
      "execution_count": 3,
      "outputs": [
        {
          "output_type": "execute_result",
          "data": {
            "text/plain": [
              "(1456, 80)"
            ]
          },
          "metadata": {
            "tags": []
          },
          "execution_count": 3
        }
      ]
    },
    {
      "cell_type": "code",
      "metadata": {
        "id": "CqGyhuQ24tSG",
        "colab_type": "code",
        "outputId": "d5a735bb-6cbb-4753-abe0-f743604d6527",
        "colab": {
          "base_uri": "https://localhost:8080/",
          "height": 205
        }
      },
      "source": [
        "dataset.head(4)"
      ],
      "execution_count": 4,
      "outputs": [
        {
          "output_type": "execute_result",
          "data": {
            "text/html": [
              "<div>\n",
              "<style scoped>\n",
              "    .dataframe tbody tr th:only-of-type {\n",
              "        vertical-align: middle;\n",
              "    }\n",
              "\n",
              "    .dataframe tbody tr th {\n",
              "        vertical-align: top;\n",
              "    }\n",
              "\n",
              "    .dataframe thead th {\n",
              "        text-align: right;\n",
              "    }\n",
              "</style>\n",
              "<table border=\"1\" class=\"dataframe\">\n",
              "  <thead>\n",
              "    <tr style=\"text-align: right;\">\n",
              "      <th></th>\n",
              "      <th>Unnamed: 0</th>\n",
              "      <th>MSSubClass</th>\n",
              "      <th>MSZoning</th>\n",
              "      <th>LotFrontage</th>\n",
              "      <th>LotArea</th>\n",
              "      <th>Street</th>\n",
              "      <th>Alley</th>\n",
              "      <th>LotShape</th>\n",
              "      <th>LandContour</th>\n",
              "      <th>LotConfig</th>\n",
              "      <th>LandSlope</th>\n",
              "      <th>Neighborhood</th>\n",
              "      <th>Condition1</th>\n",
              "      <th>Condition2</th>\n",
              "      <th>BldgType</th>\n",
              "      <th>HouseStyle</th>\n",
              "      <th>OverallQual</th>\n",
              "      <th>OverallCond</th>\n",
              "      <th>YearBuilt</th>\n",
              "      <th>YearRemodAdd</th>\n",
              "      <th>RoofStyle</th>\n",
              "      <th>RoofMatl</th>\n",
              "      <th>Exterior1st</th>\n",
              "      <th>Exterior2nd</th>\n",
              "      <th>MasVnrType</th>\n",
              "      <th>MasVnrArea</th>\n",
              "      <th>ExterQual</th>\n",
              "      <th>ExterCond</th>\n",
              "      <th>Foundation</th>\n",
              "      <th>BsmtQual</th>\n",
              "      <th>BsmtCond</th>\n",
              "      <th>BsmtExposure</th>\n",
              "      <th>BsmtFinType1</th>\n",
              "      <th>BsmtFinSF1</th>\n",
              "      <th>BsmtFinType2</th>\n",
              "      <th>BsmtFinSF2</th>\n",
              "      <th>BsmtUnfSF</th>\n",
              "      <th>TotalBsmtSF</th>\n",
              "      <th>Heating</th>\n",
              "      <th>HeatingQC</th>\n",
              "      <th>CentralAir</th>\n",
              "      <th>Electrical</th>\n",
              "      <th>1stFlrSF</th>\n",
              "      <th>2ndFlrSF</th>\n",
              "      <th>LowQualFinSF</th>\n",
              "      <th>GrLivArea</th>\n",
              "      <th>BsmtFullBath</th>\n",
              "      <th>BsmtHalfBath</th>\n",
              "      <th>FullBath</th>\n",
              "      <th>HalfBath</th>\n",
              "      <th>BedroomAbvGr</th>\n",
              "      <th>KitchenAbvGr</th>\n",
              "      <th>KitchenQual</th>\n",
              "      <th>TotRmsAbvGrd</th>\n",
              "      <th>Functional</th>\n",
              "      <th>Fireplaces</th>\n",
              "      <th>FireplaceQu</th>\n",
              "      <th>GarageType</th>\n",
              "      <th>GarageYrBlt</th>\n",
              "      <th>GarageFinish</th>\n",
              "      <th>GarageCars</th>\n",
              "      <th>GarageArea</th>\n",
              "      <th>GarageQual</th>\n",
              "      <th>GarageCond</th>\n",
              "      <th>PavedDrive</th>\n",
              "      <th>WoodDeckSF</th>\n",
              "      <th>OpenPorchSF</th>\n",
              "      <th>EnclosedPorch</th>\n",
              "      <th>3SsnPorch</th>\n",
              "      <th>ScreenPorch</th>\n",
              "      <th>PoolArea</th>\n",
              "      <th>PoolQC</th>\n",
              "      <th>Fence</th>\n",
              "      <th>MiscFeature</th>\n",
              "      <th>MiscVal</th>\n",
              "      <th>MoSold</th>\n",
              "      <th>YrSold</th>\n",
              "      <th>SaleType</th>\n",
              "      <th>SaleCondition</th>\n",
              "      <th>SalePrice</th>\n",
              "    </tr>\n",
              "  </thead>\n",
              "  <tbody>\n",
              "    <tr>\n",
              "      <th>0</th>\n",
              "      <td>0</td>\n",
              "      <td>60</td>\n",
              "      <td>RL</td>\n",
              "      <td>65.0</td>\n",
              "      <td>8450</td>\n",
              "      <td>Pave</td>\n",
              "      <td>None</td>\n",
              "      <td>3</td>\n",
              "      <td>Lvl</td>\n",
              "      <td>Inside</td>\n",
              "      <td>Gtl</td>\n",
              "      <td>CollgCr</td>\n",
              "      <td>Norm</td>\n",
              "      <td>Norm</td>\n",
              "      <td>1Fam</td>\n",
              "      <td>2Story</td>\n",
              "      <td>7</td>\n",
              "      <td>5</td>\n",
              "      <td>2003</td>\n",
              "      <td>2003</td>\n",
              "      <td>Gable</td>\n",
              "      <td>CompShg</td>\n",
              "      <td>VinylSd</td>\n",
              "      <td>VinylSd</td>\n",
              "      <td>2</td>\n",
              "      <td>196.0</td>\n",
              "      <td>4</td>\n",
              "      <td>3</td>\n",
              "      <td>PConc</td>\n",
              "      <td>4</td>\n",
              "      <td>3</td>\n",
              "      <td>1</td>\n",
              "      <td>6</td>\n",
              "      <td>706.0</td>\n",
              "      <td>1</td>\n",
              "      <td>0.0</td>\n",
              "      <td>150.0</td>\n",
              "      <td>856.0</td>\n",
              "      <td>GasA</td>\n",
              "      <td>5</td>\n",
              "      <td>Y</td>\n",
              "      <td>SBrkr</td>\n",
              "      <td>856</td>\n",
              "      <td>854</td>\n",
              "      <td>0</td>\n",
              "      <td>1710</td>\n",
              "      <td>1.0</td>\n",
              "      <td>0.0</td>\n",
              "      <td>2</td>\n",
              "      <td>1</td>\n",
              "      <td>3</td>\n",
              "      <td>1</td>\n",
              "      <td>4</td>\n",
              "      <td>8</td>\n",
              "      <td>7</td>\n",
              "      <td>0</td>\n",
              "      <td>0</td>\n",
              "      <td>Attchd</td>\n",
              "      <td>2003.0</td>\n",
              "      <td>2</td>\n",
              "      <td>2.0</td>\n",
              "      <td>548.0</td>\n",
              "      <td>3</td>\n",
              "      <td>3</td>\n",
              "      <td>Y</td>\n",
              "      <td>0</td>\n",
              "      <td>61</td>\n",
              "      <td>0</td>\n",
              "      <td>0</td>\n",
              "      <td>0</td>\n",
              "      <td>0</td>\n",
              "      <td>0</td>\n",
              "      <td>None</td>\n",
              "      <td>None</td>\n",
              "      <td>0</td>\n",
              "      <td>2</td>\n",
              "      <td>2008</td>\n",
              "      <td>WD</td>\n",
              "      <td>Normal</td>\n",
              "      <td>12.247699</td>\n",
              "    </tr>\n",
              "    <tr>\n",
              "      <th>1</th>\n",
              "      <td>1</td>\n",
              "      <td>20</td>\n",
              "      <td>RL</td>\n",
              "      <td>80.0</td>\n",
              "      <td>9600</td>\n",
              "      <td>Pave</td>\n",
              "      <td>None</td>\n",
              "      <td>3</td>\n",
              "      <td>Lvl</td>\n",
              "      <td>FR2</td>\n",
              "      <td>Gtl</td>\n",
              "      <td>Veenker</td>\n",
              "      <td>Feedr</td>\n",
              "      <td>Norm</td>\n",
              "      <td>1Fam</td>\n",
              "      <td>1Story</td>\n",
              "      <td>6</td>\n",
              "      <td>8</td>\n",
              "      <td>1976</td>\n",
              "      <td>1976</td>\n",
              "      <td>Gable</td>\n",
              "      <td>CompShg</td>\n",
              "      <td>MetalSd</td>\n",
              "      <td>MetalSd</td>\n",
              "      <td>0</td>\n",
              "      <td>0.0</td>\n",
              "      <td>3</td>\n",
              "      <td>3</td>\n",
              "      <td>CBlock</td>\n",
              "      <td>4</td>\n",
              "      <td>3</td>\n",
              "      <td>4</td>\n",
              "      <td>5</td>\n",
              "      <td>978.0</td>\n",
              "      <td>1</td>\n",
              "      <td>0.0</td>\n",
              "      <td>284.0</td>\n",
              "      <td>1262.0</td>\n",
              "      <td>GasA</td>\n",
              "      <td>5</td>\n",
              "      <td>Y</td>\n",
              "      <td>SBrkr</td>\n",
              "      <td>1262</td>\n",
              "      <td>0</td>\n",
              "      <td>0</td>\n",
              "      <td>1262</td>\n",
              "      <td>0.0</td>\n",
              "      <td>1.0</td>\n",
              "      <td>2</td>\n",
              "      <td>0</td>\n",
              "      <td>3</td>\n",
              "      <td>1</td>\n",
              "      <td>3</td>\n",
              "      <td>6</td>\n",
              "      <td>7</td>\n",
              "      <td>1</td>\n",
              "      <td>3</td>\n",
              "      <td>Attchd</td>\n",
              "      <td>1976.0</td>\n",
              "      <td>2</td>\n",
              "      <td>2.0</td>\n",
              "      <td>460.0</td>\n",
              "      <td>3</td>\n",
              "      <td>3</td>\n",
              "      <td>Y</td>\n",
              "      <td>298</td>\n",
              "      <td>0</td>\n",
              "      <td>0</td>\n",
              "      <td>0</td>\n",
              "      <td>0</td>\n",
              "      <td>0</td>\n",
              "      <td>0</td>\n",
              "      <td>None</td>\n",
              "      <td>None</td>\n",
              "      <td>0</td>\n",
              "      <td>5</td>\n",
              "      <td>2007</td>\n",
              "      <td>WD</td>\n",
              "      <td>Normal</td>\n",
              "      <td>12.109016</td>\n",
              "    </tr>\n",
              "    <tr>\n",
              "      <th>2</th>\n",
              "      <td>2</td>\n",
              "      <td>60</td>\n",
              "      <td>RL</td>\n",
              "      <td>68.0</td>\n",
              "      <td>11250</td>\n",
              "      <td>Pave</td>\n",
              "      <td>None</td>\n",
              "      <td>2</td>\n",
              "      <td>Lvl</td>\n",
              "      <td>Inside</td>\n",
              "      <td>Gtl</td>\n",
              "      <td>CollgCr</td>\n",
              "      <td>Norm</td>\n",
              "      <td>Norm</td>\n",
              "      <td>1Fam</td>\n",
              "      <td>2Story</td>\n",
              "      <td>7</td>\n",
              "      <td>5</td>\n",
              "      <td>2001</td>\n",
              "      <td>2002</td>\n",
              "      <td>Gable</td>\n",
              "      <td>CompShg</td>\n",
              "      <td>VinylSd</td>\n",
              "      <td>VinylSd</td>\n",
              "      <td>2</td>\n",
              "      <td>162.0</td>\n",
              "      <td>4</td>\n",
              "      <td>3</td>\n",
              "      <td>PConc</td>\n",
              "      <td>4</td>\n",
              "      <td>3</td>\n",
              "      <td>2</td>\n",
              "      <td>6</td>\n",
              "      <td>486.0</td>\n",
              "      <td>1</td>\n",
              "      <td>0.0</td>\n",
              "      <td>434.0</td>\n",
              "      <td>920.0</td>\n",
              "      <td>GasA</td>\n",
              "      <td>5</td>\n",
              "      <td>Y</td>\n",
              "      <td>SBrkr</td>\n",
              "      <td>920</td>\n",
              "      <td>866</td>\n",
              "      <td>0</td>\n",
              "      <td>1786</td>\n",
              "      <td>1.0</td>\n",
              "      <td>0.0</td>\n",
              "      <td>2</td>\n",
              "      <td>1</td>\n",
              "      <td>3</td>\n",
              "      <td>1</td>\n",
              "      <td>4</td>\n",
              "      <td>6</td>\n",
              "      <td>7</td>\n",
              "      <td>1</td>\n",
              "      <td>3</td>\n",
              "      <td>Attchd</td>\n",
              "      <td>2001.0</td>\n",
              "      <td>2</td>\n",
              "      <td>2.0</td>\n",
              "      <td>608.0</td>\n",
              "      <td>3</td>\n",
              "      <td>3</td>\n",
              "      <td>Y</td>\n",
              "      <td>0</td>\n",
              "      <td>42</td>\n",
              "      <td>0</td>\n",
              "      <td>0</td>\n",
              "      <td>0</td>\n",
              "      <td>0</td>\n",
              "      <td>0</td>\n",
              "      <td>None</td>\n",
              "      <td>None</td>\n",
              "      <td>0</td>\n",
              "      <td>9</td>\n",
              "      <td>2008</td>\n",
              "      <td>WD</td>\n",
              "      <td>Normal</td>\n",
              "      <td>12.317171</td>\n",
              "    </tr>\n",
              "    <tr>\n",
              "      <th>3</th>\n",
              "      <td>3</td>\n",
              "      <td>70</td>\n",
              "      <td>RL</td>\n",
              "      <td>60.0</td>\n",
              "      <td>9550</td>\n",
              "      <td>Pave</td>\n",
              "      <td>None</td>\n",
              "      <td>2</td>\n",
              "      <td>Lvl</td>\n",
              "      <td>Corner</td>\n",
              "      <td>Gtl</td>\n",
              "      <td>Crawfor</td>\n",
              "      <td>Norm</td>\n",
              "      <td>Norm</td>\n",
              "      <td>1Fam</td>\n",
              "      <td>2Story</td>\n",
              "      <td>7</td>\n",
              "      <td>5</td>\n",
              "      <td>1915</td>\n",
              "      <td>1970</td>\n",
              "      <td>Gable</td>\n",
              "      <td>CompShg</td>\n",
              "      <td>Wd Sdng</td>\n",
              "      <td>Wd Shng</td>\n",
              "      <td>0</td>\n",
              "      <td>0.0</td>\n",
              "      <td>3</td>\n",
              "      <td>3</td>\n",
              "      <td>BrkTil</td>\n",
              "      <td>3</td>\n",
              "      <td>4</td>\n",
              "      <td>1</td>\n",
              "      <td>5</td>\n",
              "      <td>216.0</td>\n",
              "      <td>1</td>\n",
              "      <td>0.0</td>\n",
              "      <td>540.0</td>\n",
              "      <td>756.0</td>\n",
              "      <td>GasA</td>\n",
              "      <td>4</td>\n",
              "      <td>Y</td>\n",
              "      <td>SBrkr</td>\n",
              "      <td>961</td>\n",
              "      <td>756</td>\n",
              "      <td>0</td>\n",
              "      <td>1717</td>\n",
              "      <td>1.0</td>\n",
              "      <td>0.0</td>\n",
              "      <td>1</td>\n",
              "      <td>0</td>\n",
              "      <td>3</td>\n",
              "      <td>1</td>\n",
              "      <td>4</td>\n",
              "      <td>7</td>\n",
              "      <td>7</td>\n",
              "      <td>1</td>\n",
              "      <td>4</td>\n",
              "      <td>Detchd</td>\n",
              "      <td>1998.0</td>\n",
              "      <td>1</td>\n",
              "      <td>3.0</td>\n",
              "      <td>642.0</td>\n",
              "      <td>3</td>\n",
              "      <td>3</td>\n",
              "      <td>Y</td>\n",
              "      <td>0</td>\n",
              "      <td>35</td>\n",
              "      <td>272</td>\n",
              "      <td>0</td>\n",
              "      <td>0</td>\n",
              "      <td>0</td>\n",
              "      <td>0</td>\n",
              "      <td>None</td>\n",
              "      <td>None</td>\n",
              "      <td>0</td>\n",
              "      <td>2</td>\n",
              "      <td>2006</td>\n",
              "      <td>WD</td>\n",
              "      <td>Abnorml</td>\n",
              "      <td>11.849405</td>\n",
              "    </tr>\n",
              "  </tbody>\n",
              "</table>\n",
              "</div>"
            ],
            "text/plain": [
              "   Unnamed: 0  MSSubClass MSZoning  ...  SaleType  SaleCondition  SalePrice\n",
              "0           0          60       RL  ...        WD         Normal  12.247699\n",
              "1           1          20       RL  ...        WD         Normal  12.109016\n",
              "2           2          60       RL  ...        WD         Normal  12.317171\n",
              "3           3          70       RL  ...        WD        Abnorml  11.849405\n",
              "\n",
              "[4 rows x 80 columns]"
            ]
          },
          "metadata": {
            "tags": []
          },
          "execution_count": 4
        }
      ]
    },
    {
      "cell_type": "markdown",
      "metadata": {
        "id": "WAaouZmW4tYc",
        "colab_type": "text"
      },
      "source": [
        "# 3. Data preparation\n",
        "\n",
        "## 3.1 Dummy variables"
      ]
    },
    {
      "cell_type": "markdown",
      "metadata": {
        "id": "7saOaqMV4tYd",
        "colab_type": "text"
      },
      "source": [
        "#### We  convert categorical variables to dummy variables. "
      ]
    },
    {
      "cell_type": "code",
      "metadata": {
        "scrolled": true,
        "id": "EHQVQtJN4tYd",
        "colab_type": "code",
        "outputId": "886ff9c5-8c63-4819-dd59-ee84a70d93db",
        "colab": {
          "base_uri": "https://localhost:8080/",
          "height": 35
        }
      },
      "source": [
        "dataset = pd.get_dummies(dataset)\n",
        "print(dataset.shape)"
      ],
      "execution_count": 5,
      "outputs": [
        {
          "output_type": "stream",
          "text": [
            "(1456, 230)\n"
          ],
          "name": "stdout"
        }
      ]
    },
    {
      "cell_type": "markdown",
      "metadata": {
        "id": "sQhtbwCu4tYh",
        "colab_type": "text"
      },
      "source": [
        "##  3.2 Split dataset in test and train"
      ]
    },
    {
      "cell_type": "markdown",
      "metadata": {
        "id": "Uih4AS-y4tYh",
        "colab_type": "text"
      },
      "source": [
        "#### We split data in training and testing datasets."
      ]
    },
    {
      "cell_type": "code",
      "metadata": {
        "id": "cZvnyM6K4tYi",
        "colab_type": "code",
        "colab": {}
      },
      "source": [
        "x_train,x_test,y_train,y_test=train_test_split(dataset.drop('SalePrice', axis=1),dataset.SalePrice,test_size=0.33,random_state=66)\n"
      ],
      "execution_count": 0,
      "outputs": []
    },
    {
      "cell_type": "markdown",
      "metadata": {
        "id": "uVkt4gZz4tY3",
        "colab_type": "text"
      },
      "source": [
        "#  4. Generalized Linear Models"
      ]
    },
    {
      "cell_type": "markdown",
      "metadata": {
        "id": "EG5HipZf4tY4",
        "colab_type": "text"
      },
      "source": [
        "## 4.1 Introduction\n"
      ]
    },
    {
      "cell_type": "markdown",
      "metadata": {
        "id": "RtefogQm4tY5",
        "colab_type": "text"
      },
      "source": [
        "\n",
        "\n",
        "The following are a set of methods intended for regression in which the target value is expected to be a linear combination of the features. In mathematical notation,\n",
        "\n",
        "$$\\hat{y}(\\theta,x)=\\theta_{0}+\\theta_{1}x_{1}+...+\\theta_{n}x_{n}$$\n",
        "- $\\hat{y}$ is the predicted value.\n",
        "- $n$ is the number of features (independent variables).\n",
        "- $x_i$ is the $i$th feature.\n",
        "- $\\theta_j$ is the $j$th model parameter (including the bias term $\\theta_0$ and the feature weights $\\theta_1,...,\\theta_n$).\n",
        "\n",
        "This equation can be written using a vectorized form $\\hat{y}=h_{\\boldsymbol{\\theta}}(\\boldsymbol{x})= \\boldsymbol{\\theta}\\boldsymbol{x}$\n",
        "\n",
        "- $\\boldsymbol{\\theta}$ is the models's parameter vector, containing the bias term $\\theta_0$ and the feature weights $\\theta_1,...,\\theta_n$.\n",
        "- $\\boldsymbol{x}$ is the instance’s feature vector, containing $x_0$ to $x_n$ , with $x_0$ always equal to 1.\n",
        "- $\\boldsymbol{\\theta}\\boldsymbol{x}$ is the dot product of the vectors $\\boldsymbol{\\theta}$ and $\\boldsymbol{x}$.\n",
        "\n",
        "**Notation** Vectors are often represented as column vectors. If $\\boldsymbol{\\theta}$ and $\\boldsymbol{x}$ are column vectors, then the prediction is: $\\hat{y}= \\boldsymbol{\\theta^T}\\boldsymbol{x}$, where $\\boldsymbol{\\theta^T}$ is the transpose of $\\boldsymbol{\\theta}$ (a row vector instead of a column vector) and $\\boldsymbol{\\theta^T}\\boldsymbol{x}$ is the matrix multiplication of $\\boldsymbol{\\theta^T}$ and $\\boldsymbol{x}$ ."
      ]
    },
    {
      "cell_type": "markdown",
      "metadata": {
        "id": "sKdtWGVg4tY6",
        "colab_type": "text"
      },
      "source": [
        "## 4.2 LinearRegression\n"
      ]
    },
    {
      "cell_type": "markdown",
      "metadata": {
        "id": "UB8DqSug4tY7",
        "colab_type": "text"
      },
      "source": [
        "\n",
        "That’s the linear regression model. Recall that training a model means setting its parameters so that the model best fits the training set. For this purpose, we first need a measure of how well the model fits the training data. The most common performance measure of a regression model is the Mean Square Error (MSE) (the residual sum of squares between the observed targets in the dataset, and the targets predicted by the linear approximation). Therefore, to train a linear regression model, you need to find the value of $\\boldsymbol{\\theta}$ that minimizes the MSE. \n",
        "\n",
        "\n",
        "$$\\text{MSE}(\\boldsymbol{\\theta})= \\frac{1}{m}\\sum_{i=1}^{m}(\\hat{y}^{(i)} - y^{(i)})=\\frac{1}{m}\\sum_{i=1}^{m}(\\boldsymbol{\\theta}^T\\boldsymbol{x}^{(i)} - y^{(i)})$$\n",
        "\n",
        "To find the value of $\\boldsymbol{\\theta}$ that minimizes the cost function (MSE), there is an explicit solution (a mathematical equation that gives the result directly). This is called the **Normal Equation** and can be calculated using the ordinary least squares method.\n",
        "\n",
        "$$\\boldsymbol{\\hat{\\theta}}=(\\boldsymbol{X^T}\\boldsymbol{X})^{-1}\\boldsymbol{X^T}\\boldsymbol{y}$$\n",
        "\n",
        "where $\\boldsymbol{\\hat{\\theta}}$ is the value of $\\boldsymbol{\\theta}$ that minimizes the cost function, $\\boldsymbol{y}$ is the vector of target values and $\\boldsymbol{X}$ is the matrix of data where the columns represent the independent variables $\\boldsymbol{X_1},...,\\boldsymbol{X_n}$ ($\\boldsymbol{X_0}$ is a 1's vector column corresponding to the bias term).\n",
        "\n",
        "The `LinearRegression` class implemented in Scikit-learn is based on the `scipy.linalg.lstsq()` function which computes $\\boldsymbol{\\hat{\\theta}}=\\boldsymbol{X^+}\\boldsymbol{y}$ where $\\boldsymbol{X^+}$ is the *pseudoinverse* of $\\boldsymbol{X}$ (specifically the Moore-Penrose inverse). The pseudoinverse is computed using a standard matrix factorization technique called *Singular Value Decomposition* (SVD). This approach is more efficient than computing the Normal Equation, plus it handles edge cases nicely: indeed, the Normal Equation may not work if the matrix $\\boldsymbol{X^T}\\boldsymbol{X}$ is not invertible (singular), such as if $m< p$  or if some features are redundant, but the pseudoinverse is always defined. The computational complexity of inverting the matrix $\\boldsymbol{X^T}\\boldsymbol{X}$ is bigger than the SVD approach used by Scikit-Learn’s `LinearRegression` class. Both the Normal Equation and the SVD approach get very slow when the number of features grows large ($100000$). On the positive side, both are linear with regards to the number of instances in the training set, so they handle large training sets efficiently."
      ]
    },
    {
      "cell_type": "markdown",
      "metadata": {
        "id": "Svs2KrIb4tY8",
        "colab_type": "text"
      },
      "source": [
        "The coefficient estimates for Ordinary Least Squares rely on the independence of the features among other assumptions like the normality of the errors. When features are correlated and the columns of the design matrix $\\boldsymbol{X}$ have an approximately linear dependence, the design matrix becomes close to singular and as a result, the least-squares estimate becomes highly sensitive to random errors in the observed target, producing a large variance. This situation of [*multicollinearity*](https://en.wikipedia.org/wiki/Multicollinearity) can arise, for example, when data are collected without an experimental design.\n",
        "\n",
        "We can train the model using fewer variables. For that, we can use different techniques to choose the most relevant variables. We can use algorithms of feature selection before to run our models or we can apply directly models which do the selection of variables innerly like regularized linear models. We could use PCA to reduce variables without loss information but we will lose certain interpretability of the model.\n"
      ]
    },
    {
      "cell_type": "code",
      "metadata": {
        "scrolled": true,
        "id": "A3TG12BL4tY-",
        "colab_type": "code",
        "colab": {}
      },
      "source": [
        "# We choose the model\n",
        "model = LinearRegression()\n",
        "\n",
        "# We train the model\n",
        "fit_regression = model.fit(x_train, y_train)"
      ],
      "execution_count": 0,
      "outputs": []
    },
    {
      "cell_type": "code",
      "metadata": {
        "id": "zgVyn0pkVqx5",
        "colab_type": "code",
        "outputId": "afacf523-c830-4c92-da10-338b01f5ced4",
        "colab": {
          "base_uri": "https://localhost:8080/",
          "height": 90
        }
      },
      "source": [
        "# We show the coefficient of determination R^2, which is the proportion of the variance in the dependent variable that is \n",
        "# predictable/explained from the independent variables.\n",
        "print('Explained variance in training set: %.3f' % fit_regression.score(x_train, y_train))\n",
        "print('Explained variance in test set: %.3f' % fit_regression.score(x_test, y_test))\n",
        "\n",
        "# We see the mean squared error\n",
        "y_pred_train = fit_regression.predict(x_train)\n",
        "y_pred_test = fit_regression.predict(x_test)\n",
        "print(\"Mean squared error in training set: %.4f\" % mean_squared_error(y_train, y_pred_train))\n",
        "print(\"Mean squared error in test set: %.4f\" % mean_squared_error(y_test, y_pred_test))"
      ],
      "execution_count": 8,
      "outputs": [
        {
          "output_type": "stream",
          "text": [
            "Explained variance in training set: 0.950\n",
            "Explained variance in test set: 0.899\n",
            "Mean squared error in training set: 0.0082\n",
            "Mean squared error in test set: 0.0144\n"
          ],
          "name": "stdout"
        }
      ]
    },
    {
      "cell_type": "markdown",
      "metadata": {
        "id": "J8zXmrfo4tZH",
        "colab_type": "text"
      },
      "source": [
        "Note that there are very different ways to train a linear regression model, better suited for cases where there are a large number of features or too many training instances. For example, if the training set has a large number of features we could train the linear model using an optimization algorithm like gradient descent instead using the normal equation or the SVD approach used by `LinearRegression` class implemented in Scikit-learn. Later we will use the stochastic gradient descent algorithm implemented Scikit-learn by `SGDRegressor` class to train our model."
      ]
    },
    {
      "cell_type": "markdown",
      "metadata": {
        "id": "h2wjQ1xW4tZI",
        "colab_type": "text"
      },
      "source": [
        "## 4.3 Polynomial regression"
      ]
    },
    {
      "cell_type": "markdown",
      "metadata": {
        "id": "RLJmdaAf4tZJ",
        "colab_type": "text"
      },
      "source": [
        "One common pattern within machine learning is to use linear models trained on nonlinear functions of the data. This approach maintains the generally fast performance of linear methods while allowing them to fit a much wider range of data.\n",
        "\n",
        "For example, a simple linear regression can be extended by constructing polynomial features from the coefficients. In the standard linear regression case, you might have a model that looks like this for two-dimensional data:\n",
        "\n",
        "$$y(\\theta_,x)=\\theta_{0}+\\theta_{1}x_{1}+\\theta_{2}x_{2}$$\n",
        "\n",
        "If we want to fit a paraboloid to the data instead of a plane, we can combine the features in second-order polynomials, so that the model looks like this:\n",
        "\n",
        "$$y(\\theta_,x)=\\theta_{0}+\\theta_{1}x_{1}+\\theta_{2}x_{2}+\\theta_{3}x_{1}x_{2}+\\theta_{4}x_{1}^{2}+\\theta_{5}x_{2}^{2}$$\n",
        "\n",
        "The (sometimes surprising) observation is that this is still a linear model: to see this, imagine creating a new set of features\n",
        "\n",
        "$$z=[x_{1},x_{2},x_{1}x_{2},x_{1}^{2},x_{2}^{2}]$$\n",
        "\n",
        "With this re-labeling of the data, our problem can be written\n",
        "\n",
        "$$y(\\theta_,x)=\\theta_{0}+\\theta_{1}z_{1}+\\theta_{2}z_{2}+\\theta_{3}z_{3}+\\theta_{4}z_{4}+\\theta_{5}z_{5}$$\n",
        "\n",
        "We see that the resulting polynomial regression is in the same class of linear models we considered above and can be solved by the same techniques. By considering linear fits within a higher-dimensional space built with these basis functions, the model has the flexibility to fit a much broader range of data.\n",
        "\n",
        "\n",
        "Here is an example of applying this idea to one-dimensional data, using polynomial features. First, let’s generate some nonlinear data, based on a simple quadratic equation.\n",
        "\n"
      ]
    },
    {
      "cell_type": "code",
      "metadata": {
        "id": "A8lxuRVm4tZK",
        "colab_type": "code",
        "outputId": "1ab25468-c91f-49e2-e07d-787d8d3cc52b",
        "colab": {
          "base_uri": "https://localhost:8080/",
          "height": 279
        }
      },
      "source": [
        "m = 100\n",
        "X = 6 * np.random.rand(m, 1) - 3\n",
        "y = 0.5 * X**2 + X + 2 + np.random.randn(m, 1)\n",
        "plt.scatter(X, y, color='b')\n",
        "plt.xlabel(\"X1\")\n",
        "plt.ylabel(\"y\")\n",
        "plt.show()"
      ],
      "execution_count": 9,
      "outputs": [
        {
          "output_type": "display_data",
          "data": {
            "image/png": "[encoded data removed]",
            "text/plain": [
              "<Figure size 432x288 with 1 Axes>"
            ]
          },
          "metadata": {
            "tags": [],
            "needs_background": "light"
          }
        }
      ]
    },
    {
      "cell_type": "markdown",
      "metadata": {
        "id": "4Vy4lqezuPko",
        "colab_type": "text"
      },
      "source": [
        "A straight line will never fit this data properly. So let’s use Scikit-Learn’s `PolynomialFeatures` class to transform our training data, adding the square ($2^{\\text{nd}}$-degree polynomial) of each feature in the training set as new features (in this case there is just one feature):\n",
        "\n",
        "**Note**: `PolynomialFeatures(degree=d)` generates a new feature matrix consisting of all polynomial combinations of the features with a degree less than or equal to the specified degree $d$. Specifically, it transforms an array containing $n$ features into an array containing $\\frac{(n+d)!}{d!n!}$ \n",
        "features, where $n!$ is the [factorial](https://en.wikipedia.org/wiki/Factorial) of $n$. Beware of the combinatorial explosion of the number of features!"
      ]
    },
    {
      "cell_type": "code",
      "metadata": {
        "id": "w_wASQE04tZN",
        "colab_type": "code",
        "outputId": "735aa718-22dc-4c76-f836-19422a895587",
        "colab": {
          "base_uri": "https://localhost:8080/",
          "height": 295
        }
      },
      "source": [
        "poly_features = PolynomialFeatures(degree=2, include_bias=False)\n",
        "X_poly = poly_features.fit_transform(X)\n",
        "lin_reg = LinearRegression()\n",
        "lin_reg.fit(X_poly, y)\n",
        "y_predict = lin_reg.predict(X_poly)\n",
        "\n",
        "plt.scatter(X, y, color='b')\n",
        "plt.scatter(X, y_predict, color= \"r\")\n",
        "\n",
        "plt.xlabel(\"Size\")\n",
        "plt.ylabel(\"Cost\")\n",
        "plt.title(\"prediction\")\n",
        "plt.show()"
      ],
      "execution_count": 10,
      "outputs": [
        {
          "output_type": "display_data",
          "data": {
            "image/png": "[encoded data removed]",
            "text/plain": [
              "<Figure size 432x288 with 1 Axes>"
            ]
          },
          "metadata": {
            "tags": [],
            "needs_background": "light"
          }
        }
      ]
    },
    {
      "cell_type": "markdown",
      "metadata": {
        "id": "c2G0RuDp4tZS",
        "colab_type": "text"
      },
      "source": [
        "`X_poly` contains the original feature of $X$ plus the square of this feature. Then we fit a `LinearRegression` model to this extended training data.\n",
        "\n",
        "\n",
        "A high-degree Polynomial Regression model would be severely overfitting the training data, while a linear model would be underfitting it. The model that will generalize best is the quadratic model.\n",
        "\n",
        "How can you decide how complex your model should be? If a model performs well on the training data but generalizes poorly according to the cross-validation metrics, then your model is overfitting. If it performs poorly on both, then it is underfitting.\n",
        "\n",
        "Another way is to look at the learning curves: these are plots of the model’s performance on the training set and the validation set as a function of the training set size (or the training iteration). To generate the plots, simply train the model several times on different sized subsets of the training set."
      ]
    },
    {
      "cell_type": "markdown",
      "metadata": {
        "id": "E5efr6qG4tZT",
        "colab_type": "text"
      },
      "source": [
        "## 4.4  Regularized linear models "
      ]
    },
    {
      "cell_type": "markdown",
      "metadata": {
        "id": "5nYjEPPL4tZT",
        "colab_type": "text"
      },
      "source": [
        "A good way to reduce overfitting is to regularize the model (i.e., to constrain it): the fewer degrees of freedom it has, the harder it will be for it to overfit the data. For example, a simple way to regularize a polynomial model is to reduce the number of polynomial degrees.\n",
        "\n",
        "For a linear model, regularization is typically achieved by constraining the weights of the model. We will now look at Lasso Regression, Ridge Regression, and Elastic Net, which implement three different ways to constrain the weights."
      ]
    },
    {
      "cell_type": "markdown",
      "metadata": {
        "id": "I9MAmdsb4tZU",
        "colab_type": "text"
      },
      "source": [
        "### 4.4.1 Lasso "
      ]
    },
    {
      "cell_type": "markdown",
      "metadata": {
        "id": "aPxcJo474tZU",
        "colab_type": "text"
      },
      "source": [
        "Least Absolute Shrinkage and Selection Operator Regression (simply called *Lasso Regression*) is a linear model that estimates sparse coefficients. An important characteristic of Lasso Regression is that it tends to eliminate the weights of the least important features (i.e., set them to zero). In other words, Lasso Regression automatically performs feature selection and outputs a sparse model (i.e., with few nonzero feature weights).\n",
        "\n",
        "Mathematically, it consists of a linear model with an added regularization term to the cost function. The objective function to minimize is:\n",
        "\n",
        "\n",
        "$$J(\\boldsymbol{\\theta}) = \\text{MSE}(\\boldsymbol{\\theta})+ \\alpha \\sum_{i=1}^{n}|\\theta_i|$$\n",
        "\n",
        "\n",
        "Note that the bias term $\\theta_0$ is not regularized (the sum starts at $i = 1$, not 0). If we define $\\boldsymbol{\\omega}$ as the vector of feature weights ($\\theta_1$ to $\\theta_n$), then the regularization term is simply equal to $||\\boldsymbol{\\omega}||_{1}$, where $||\\boldsymbol{\\omega}||_{1}$ represents the $l_1$ norm of the weight vector.\n",
        "\n",
        "The lasso estimate thus solves the minimization of the least-squares penalty with $\\alpha||\\boldsymbol{\\omega}||_{1}$ added, where $\\alpha$ is a constant. The parameter $\\alpha$ controls the degree of sparsity of the estimated coefficients.\n",
        "\n",
        "The Lasso cost function is not differentiable at $\\theta_i = 0$, but Gradient\n",
        "Descent still works fine if you use a [subgradient vector](http://www.cs.cmu.edu/~ggordon/10725-F12/slides/08-general-gd.pdf) instead when any $\\theta_i = 0$.\n",
        "\n",
        "It is important to scale the data (e.g., using a `StandardScaler`) before performing Lasso Regression, as it is sensitive to the scale of the input features. This is true of most regularized models.\n",
        "\n",
        "The implementation in the class `Lasso` uses [coordinate descent](https://en.wikipedia.org/wiki/Coordinate_descent) as the algorithm to fit the coefficients. Note that you could instead use an `SGDRegressor(penalty=\"l1\")`."
      ]
    },
    {
      "cell_type": "code",
      "metadata": {
        "id": "KKNLXsnaW8sp",
        "colab_type": "code",
        "colab": {}
      },
      "source": [
        "# We scale regresor variables (target variable has already scaled)\n",
        "scaler = StandardScaler()\n",
        "x_train_scaled = scaler.fit_transform(x_train)\n",
        "x_test_scaled = scaler.transform(x_test)\n",
        "\n",
        "# Model\n",
        "model = Lasso(alpha=0.001)\n",
        "\n",
        "# We train the model\n",
        "fit_lasso = model.fit(x_train_scaled, y_train)\n"
      ],
      "execution_count": 0,
      "outputs": []
    },
    {
      "cell_type": "code",
      "metadata": {
        "id": "_PYE_NUXXEqm",
        "colab_type": "code",
        "outputId": "cfdec4ca-2c01-4f07-8454-a3542d65040f",
        "colab": {
          "base_uri": "https://localhost:8080/",
          "height": 90
        }
      },
      "source": [
        "# Coefficient of determination R^2\n",
        "print('Explained variance in training set: %.3f' % fit_lasso.score(x_train_scaled, y_train))\n",
        "print('Explained variance in test set: %.3f' % fit_lasso.score(x_test_scaled, y_test))\n",
        "\n",
        "# Mean squared error\n",
        "y_pred_train = fit_lasso.predict(x_train_scaled)\n",
        "y_pred_test = fit_lasso.predict(x_test_scaled)\n",
        "\n",
        "print(\"Mean squared error in training set: %.4f\" % mean_squared_error(y_train, y_pred_train))\n",
        "print(\"Mean squared error in test set: %.4f\" % mean_squared_error(y_test, y_pred_test))"
      ],
      "execution_count": 12,
      "outputs": [
        {
          "output_type": "stream",
          "text": [
            "Explained variance in training set: 0.948\n",
            "Explained variance in test set: 0.908\n",
            "Mean squared error in training set: 0.0085\n",
            "Mean squared error in test set: 0.0131\n"
          ],
          "name": "stdout"
        }
      ]
    },
    {
      "cell_type": "markdown",
      "metadata": {
        "id": "dxFup35h4tZs",
        "colab_type": "text"
      },
      "source": [
        "All linear models find a set of coefficients to use in the weighted sum in order to make a prediction. These coefficients can be used directly as a crude type of feature importance score (this assumes that the input variables have the same scale or have been scaled prior to fitting a model). We can visualize the importance of each feature in the model."
      ]
    },
    {
      "cell_type": "code",
      "metadata": {
        "id": "QJ8yYNbD4tZs",
        "colab_type": "code",
        "outputId": "6ea9e034-4446-4c35-9002-063c32d7f534",
        "colab": {
          "base_uri": "https://localhost:8080/",
          "height": 348
        }
      },
      "source": [
        "dict_importance_lasso = {'Features':list(x_train), 'Importance': abs(fit_lasso.coef_)}\n",
        "df_importance_lasso = pd.DataFrame(dict_importance_lasso)\n",
        "df_importance_lasso_sorted = df_importance_lasso.sort_values(by=['Importance'], ascending=False)\n",
        "df_importance_lasso_sorted.head(10)"
      ],
      "execution_count": 13,
      "outputs": [
        {
          "output_type": "execute_result",
          "data": {
            "text/html": [
              "<div>\n",
              "<style scoped>\n",
              "    .dataframe tbody tr th:only-of-type {\n",
              "        vertical-align: middle;\n",
              "    }\n",
              "\n",
              "    .dataframe tbody tr th {\n",
              "        vertical-align: top;\n",
              "    }\n",
              "\n",
              "    .dataframe thead th {\n",
              "        text-align: right;\n",
              "    }\n",
              "</style>\n",
              "<table border=\"1\" class=\"dataframe\">\n",
              "  <thead>\n",
              "    <tr style=\"text-align: right;\">\n",
              "      <th></th>\n",
              "      <th>Features</th>\n",
              "      <th>Importance</th>\n",
              "    </tr>\n",
              "  </thead>\n",
              "  <tbody>\n",
              "    <tr>\n",
              "      <th>26</th>\n",
              "      <td>GrLivArea</td>\n",
              "      <td>0.135794</td>\n",
              "    </tr>\n",
              "    <tr>\n",
              "      <th>5</th>\n",
              "      <td>OverallQual</td>\n",
              "      <td>0.064329</td>\n",
              "    </tr>\n",
              "    <tr>\n",
              "      <th>7</th>\n",
              "      <td>YearBuilt</td>\n",
              "      <td>0.048287</td>\n",
              "    </tr>\n",
              "    <tr>\n",
              "      <th>6</th>\n",
              "      <td>OverallCond</td>\n",
              "      <td>0.037732</td>\n",
              "    </tr>\n",
              "    <tr>\n",
              "      <th>17</th>\n",
              "      <td>BsmtFinSF1</td>\n",
              "      <td>0.031994</td>\n",
              "    </tr>\n",
              "    <tr>\n",
              "      <th>21</th>\n",
              "      <td>TotalBsmtSF</td>\n",
              "      <td>0.029879</td>\n",
              "    </tr>\n",
              "    <tr>\n",
              "      <th>35</th>\n",
              "      <td>Functional</td>\n",
              "      <td>0.029364</td>\n",
              "    </tr>\n",
              "    <tr>\n",
              "      <th>187</th>\n",
              "      <td>CentralAir_N</td>\n",
              "      <td>0.020738</td>\n",
              "    </tr>\n",
              "    <tr>\n",
              "      <th>82</th>\n",
              "      <td>Neighborhood_Crawfor</td>\n",
              "      <td>0.020343</td>\n",
              "    </tr>\n",
              "    <tr>\n",
              "      <th>40</th>\n",
              "      <td>GarageCars</td>\n",
              "      <td>0.020112</td>\n",
              "    </tr>\n",
              "  </tbody>\n",
              "</table>\n",
              "</div>"
            ],
            "text/plain": [
              "                 Features  Importance\n",
              "26              GrLivArea    0.135794\n",
              "5             OverallQual    0.064329\n",
              "7               YearBuilt    0.048287\n",
              "6             OverallCond    0.037732\n",
              "17             BsmtFinSF1    0.031994\n",
              "21            TotalBsmtSF    0.029879\n",
              "35             Functional    0.029364\n",
              "187          CentralAir_N    0.020738\n",
              "82   Neighborhood_Crawfor    0.020343\n",
              "40             GarageCars    0.020112"
            ]
          },
          "metadata": {
            "tags": []
          },
          "execution_count": 13
        }
      ]
    },
    {
      "cell_type": "code",
      "metadata": {
        "id": "HvsC6ZJ94tZu",
        "colab_type": "code",
        "outputId": "d20379d2-7871-4ed7-8215-19d48a3eacc9",
        "colab": {
          "base_uri": "https://localhost:8080/",
          "height": 625
        }
      },
      "source": [
        "# plot importance of the features\n",
        "plt.figure(figsize=(15, 10))\n",
        "sns.barplot(data=df_importance_lasso_sorted.head(20), x='Importance', y = 'Features')"
      ],
      "execution_count": 14,
      "outputs": [
        {
          "output_type": "execute_result",
          "data": {
            "text/plain": [
              "<matplotlib.axes._subplots.AxesSubplot at 0x7f1c5f3eee10>"
            ]
          },
          "metadata": {
            "tags": []
          },
          "execution_count": 14
        },
        {
          "output_type": "display_data",
          "data": {
            "image/png": "[encoded data removed]",
            "text/plain": [
              "<Figure size 1080x720 with 1 Axes>"
            ]
          },
          "metadata": {
            "tags": [],
            "needs_background": "light"
          }
        }
      ]
    },
    {
      "cell_type": "markdown",
      "metadata": {
        "id": "dUbj4eBSmpOG",
        "colab_type": "text"
      },
      "source": [
        "We show all the coefficients or weights of the model. Notice that only a few weights are nonzero."
      ]
    },
    {
      "cell_type": "code",
      "metadata": {
        "id": "C3rPv5tdmqhD",
        "colab_type": "code",
        "outputId": "be40fa83-bf11-4356-f394-bc0d68a32729",
        "colab": {
          "base_uri": "https://localhost:8080/",
          "height": 1000
        }
      },
      "source": [
        "print(fit_lasso.coef_)"
      ],
      "execution_count": 15,
      "outputs": [
        {
          "output_type": "stream",
          "text": [
            "[-0.00000000e+00 -8.50213207e-03  1.87327500e-02  1.77173697e-02\n",
            " -4.01687390e-03  6.43294951e-02  3.77321720e-02  4.82868803e-02\n",
            "  1.43777358e-02  9.32435154e-03 -3.12351669e-04  5.15084511e-04\n",
            " -2.69721484e-03  7.19110792e-03 -1.05408884e-03  1.55588403e-02\n",
            "  3.34935039e-03  3.19941551e-02 -0.00000000e+00  2.31703917e-03\n",
            " -0.00000000e+00  2.98785284e-02  8.26314933e-03  7.34046183e-03\n",
            "  0.00000000e+00  0.00000000e+00  1.35794147e-01  1.21243887e-02\n",
            "  2.89770682e-03  1.47491344e-02  8.93816085e-03  0.00000000e+00\n",
            " -9.52197221e-03  1.42839320e-02  1.45641517e-03  2.93635593e-02\n",
            "  3.31090732e-04  1.14786956e-02  0.00000000e+00  0.00000000e+00\n",
            "  2.01120125e-02  9.13582469e-03  7.68328558e-03  0.00000000e+00\n",
            "  7.91863449e-03  9.97300964e-03  6.57857888e-03  1.57553881e-03\n",
            "  1.65576403e-02  4.08424278e-06  5.45491149e-03  0.00000000e+00\n",
            " -2.41555791e-03 -0.00000000e+00 -1.70912003e-02  0.00000000e+00\n",
            "  1.85307393e-03  0.00000000e+00 -1.24496394e-02 -1.31671399e-04\n",
            "  3.64380890e-18 -1.29667867e-03 -0.00000000e+00  4.61844920e-03\n",
            " -1.34709788e-03  1.53611011e-03 -1.80389392e-03  0.00000000e+00\n",
            "  2.71732918e-03  8.62293757e-03 -2.74892233e-03 -2.71845060e-03\n",
            " -0.00000000e+00 -0.00000000e+00  1.98622947e-03 -5.87765022e-03\n",
            " -0.00000000e+00  1.22114520e-03 -2.56826087e-03  2.27622475e-03\n",
            "  7.40431575e-03 -5.77410465e-05  2.03432010e-02 -5.23361174e-03\n",
            " -8.19487888e-04  0.00000000e+00 -1.25010431e-02 -3.00298510e-03\n",
            " -0.00000000e+00  0.00000000e+00 -3.32431484e-03  1.63335136e-03\n",
            "  1.75417199e-02 -3.60622214e-03  3.71482301e-03  2.67878581e-03\n",
            " -3.07477937e-04  9.79869763e-03  1.81679915e-02  0.00000000e+00\n",
            "  5.77508031e-03 -8.10095858e-03 -0.00000000e+00  1.22995922e-02\n",
            " -6.66830733e-03 -5.33620124e-04 -2.26561026e-03  9.50630942e-04\n",
            " -6.41348665e-05  1.15620317e-03 -5.80052426e-04  6.25537847e-04\n",
            " -0.00000000e+00  3.41920335e-03 -1.86256046e-03 -5.67732813e-03\n",
            "  0.00000000e+00  0.00000000e+00  6.54934481e-03  4.33302749e-03\n",
            " -0.00000000e+00 -5.59143293e-03 -0.00000000e+00 -2.80918891e-04\n",
            "  3.12919366e-03  0.00000000e+00 -8.87308482e-03  1.37306392e-03\n",
            " -0.00000000e+00  0.00000000e+00  0.00000000e+00  0.00000000e+00\n",
            " -7.90272816e-04  1.31379165e-03  0.00000000e+00  1.89708077e-03\n",
            "  4.11208604e-03 -0.00000000e+00  0.00000000e+00  4.19015831e-03\n",
            "  0.00000000e+00 -6.93096391e-03  2.22031314e-03  6.64327465e-03\n",
            " -0.00000000e+00  0.00000000e+00 -6.54733473e-03  1.87071265e-02\n",
            " -1.09281920e-03 -0.00000000e+00 -1.10067734e-02  0.00000000e+00\n",
            "  0.00000000e+00 -2.84012485e-03  0.00000000e+00  4.04088058e-03\n",
            "  0.00000000e+00 -5.84833147e-03  1.50071223e-04 -7.46103688e-03\n",
            "  0.00000000e+00  1.58937068e-03 -7.73944648e-03 -1.96844454e-04\n",
            "  1.30068142e-03 -0.00000000e+00  4.37410586e-04  0.00000000e+00\n",
            " -2.67694372e-03 -0.00000000e+00 -6.24083770e-04 -1.03262914e-03\n",
            " -0.00000000e+00  2.74864127e-03 -1.29077841e-03 -0.00000000e+00\n",
            " -0.00000000e+00  1.18384626e-02 -0.00000000e+00 -0.00000000e+00\n",
            " -6.45390810e-03 -1.09448188e-03 -0.00000000e+00  7.68308416e-03\n",
            " -1.19122824e-03 -4.93460790e-04  5.37667410e-03 -2.07375899e-02\n",
            "  6.45181914e-16 -0.00000000e+00 -1.50845721e-03 -0.00000000e+00\n",
            "  0.00000000e+00  4.77409823e-04 -2.29030146e-03 -0.00000000e+00\n",
            " -1.26788154e-03  0.00000000e+00 -3.86305008e-03  0.00000000e+00\n",
            "  0.00000000e+00 -0.00000000e+00 -4.94474989e-03  3.04498869e-04\n",
            "  0.00000000e+00 -2.18212691e-03 -0.00000000e+00 -1.19073098e-04\n",
            "  1.25863150e-03  0.00000000e+00  0.00000000e+00 -8.02504984e-04\n",
            " -0.00000000e+00 -7.73845529e-03 -7.80530279e-04  8.73756456e-04\n",
            "  3.86643736e-03  2.48741726e-03 -2.64053494e-03  0.00000000e+00\n",
            "  1.08728835e-02  2.48867881e-03 -2.64515045e-03 -1.49348579e-02\n",
            " -0.00000000e+00 -3.95085810e-03 -9.57742179e-03  0.00000000e+00\n",
            "  0.00000000e+00]\n"
          ],
          "name": "stdout"
        }
      ]
    },
    {
      "cell_type": "markdown",
      "metadata": {
        "id": "c89PYHSv4tZw",
        "colab_type": "text"
      },
      "source": [
        "`LassoCV` is used to estimate the parameter using cross-validation.\n",
        "For high-dimensional datasets with many collinear features, `LassoCV` is most often preferable.\n",
        "\n"
      ]
    },
    {
      "cell_type": "code",
      "metadata": {
        "_kg_hide-input": false,
        "_kg_hide-output": true,
        "scrolled": true,
        "id": "kHDnZImR4tZz",
        "colab_type": "code",
        "outputId": "9b1ee959-249b-4a20-bc7d-d284497ee73c",
        "colab": {
          "base_uri": "https://localhost:8080/",
          "height": 35
        }
      },
      "source": [
        "model_lassoCV = LassoCV( alphas=np.arange(0.001,0.5,0.001), cv=5, random_state=0, max_iter=10000)\n",
        "\n",
        "# We train the model\n",
        "fit_lassoCV = model_lassoCV.fit(x_train_scaled, y_train)\n",
        "\n",
        "print(fit_lassoCV.alpha_)\n",
        "\n"
      ],
      "execution_count": 16,
      "outputs": [
        {
          "output_type": "stream",
          "text": [
            "0.004\n"
          ],
          "name": "stdout"
        }
      ]
    },
    {
      "cell_type": "markdown",
      "metadata": {
        "id": "aa-6bjw64tZ-",
        "colab_type": "text"
      },
      "source": [
        "### 4.4.2 Ridge "
      ]
    },
    {
      "cell_type": "markdown",
      "metadata": {
        "id": "dE3-N1kp4tZ-",
        "colab_type": "text"
      },
      "source": [
        "*Ridge regression* addresses some of the problems of ordinary least squares by imposing a penalty on the size of the coefficients. A regularization term is added to the cost function. This forces the learning algorithm to not only fit the data but also keep the model weights as small as possible.\n",
        "\n",
        "The ridge coefficients minimize a penalized residual sum of squares:\n",
        "\n",
        "\n",
        "$$ J(\\boldsymbol{\\theta})= \\text{MSE}(\\boldsymbol{\\theta})+ \\alpha \\frac{1}{2} \\sum_{i=1}^{n}\\theta_i^2$$\n",
        "\n",
        "Note that the bias term $\\theta_0$ is not regularized (the sum starts at $i = 1$, not 0). If we define $\\boldsymbol{\\omega}$ as the vector of feature weights ($\\theta_1$ to $\\theta_n$), then the regularization term is simply equal to $\\frac{1}{2}||\\boldsymbol{\\omega}||_{2}^{2}$, where $||\\boldsymbol{\\omega}||_{2}$ represents the $l_2$ norm of the weight vector.\n",
        "\n",
        "\n",
        "The complexity hyperparameter $\\alpha < 0$ controls how much you want to regularize the model: the larger the value of $\\alpha$, the greater the amount of shrinkage and thus the coefficients become more robust to collinearity. If $\\alpha=0$ then Ridge Regression is just Linear Regression.\n",
        "\n",
        "\n",
        "\n",
        "**Note**: As with Linear Regression, we can perform Ridge Regression either by computing a closed-form equation or by performing Gradient Descent (using `SGDRegressor` and selecting `penalty=\"l2\"`). The pros and cons are the same. The next equation shows the closed-form solution (where $\\boldsymbol{A}$ is the $(n + 1) × (n + 1)$ [identity matrix](https://en.wikipedia.org/wiki/Identity_matrix#:~:text=In%20linear%20algebra%2C%20the%20identity,trivially%20determined%20by%20the%20context.) except with a 0 in the top-left cell, corresponding to the bias term).\n",
        "\n",
        "$$\\boldsymbol{\\hat{\\theta}}=(\\boldsymbol{X^T}\\boldsymbol{X}+\\alpha\\boldsymbol{A})^{-1}\\boldsymbol{X^T}\\boldsymbol{y}$$\n",
        "\n",
        "Here is how to perform Ridge Regression with Scikit-Learn using a closed-form solution (a variant of the previous equation using a matrix factorization technique by André-Louis Cholesky)."
      ]
    },
    {
      "cell_type": "code",
      "metadata": {
        "id": "FSzvcYd6dG6c",
        "colab_type": "code",
        "colab": {}
      },
      "source": [
        "# We choose the model\n",
        "model = Ridge(alpha=1, solver=\"cholesky\")\n",
        "\n",
        "# We train the model\n",
        "fit_ridge = model.fit(x_train_scaled, y_train)"
      ],
      "execution_count": 0,
      "outputs": []
    },
    {
      "cell_type": "code",
      "metadata": {
        "id": "BRoJ8NOLYJXf",
        "colab_type": "code",
        "outputId": "85a93bff-64bd-468e-d7ad-a0b413d46188",
        "colab": {
          "base_uri": "https://localhost:8080/",
          "height": 90
        }
      },
      "source": [
        "# Coefficient of determination R^2\n",
        "print('Explained variance in training set: %.3f' % fit_ridge.score(x_train_scaled, y_train))\n",
        "print('Explained variance in test set: %.3f' % fit_ridge.score(x_test_scaled, y_test))\n",
        "\n",
        "# Mean squared error\n",
        "y_pred_train = fit_ridge.predict(x_train_scaled)\n",
        "y_pred_test = fit_ridge.predict(x_test_scaled)\n",
        "\n",
        "print(\"Mean squared error in training set: %.4f\" % mean_squared_error(y_train, y_pred_train))\n",
        "print(\"Mean squared error in test set: %.4f\" % mean_squared_error(y_test, y_pred_test))"
      ],
      "execution_count": 18,
      "outputs": [
        {
          "output_type": "stream",
          "text": [
            "Explained variance in training set: 0.950\n",
            "Explained variance in test set: 0.899\n",
            "Mean squared error in training set: 0.0082\n",
            "Mean squared error in test set: 0.0144\n"
          ],
          "name": "stdout"
        }
      ]
    },
    {
      "cell_type": "markdown",
      "metadata": {
        "id": "IH8Qrm0O4taN",
        "colab_type": "text"
      },
      "source": [
        "We can use `RidgeCV` that implements ridge regression with built-in cross-validation of the `alpha` parameter similarly to `LassoCV`."
      ]
    },
    {
      "cell_type": "markdown",
      "metadata": {
        "id": "aBL1FNHR4taN",
        "colab_type": "text"
      },
      "source": [
        "### 4.4.3 ElasticNet"
      ]
    },
    {
      "cell_type": "markdown",
      "metadata": {
        "id": "iLWOgVDL4taO",
        "colab_type": "text"
      },
      "source": [
        "\n",
        "ElasticNet is a linear regression model trained with both $l_{1}$ and $l_{2}$-norm regularization of the coefficients. This combination allows for learning a sparse model where few of the weights are non-zero like Lasso, while still maintaining the regularization properties of Ridge. We control the convex combination of $l_{1}$ and $l_{2}$ using the $r$ parameter. When $r=0$, Elastic Net is equivalent to Ridge Regression, and when $r=1$, it is equivalent to Lasso Regression\n",
        "\n",
        "Elastic-net is useful when multiple features are correlated with one another. Lasso is likely to pick one of these at random, while elasticnet is likely to pick both.\n",
        "\n",
        "The objective function to minimize in this case is:\n",
        "\n",
        "\n",
        "$$J(\\boldsymbol{\\theta})=\\text{MSE}(\\boldsymbol{\\theta}) + \\alpha r\\sum_{i=1}^{n}|\\theta_i|+\\frac{\\alpha(1-r)}{2}\\sum_{i=1}^{n}\\theta_i^2$$"
      ]
    },
    {
      "cell_type": "code",
      "metadata": {
        "id": "OUvkfF_MYeMj",
        "colab_type": "code",
        "colab": {}
      },
      "source": [
        "# We choose the model\n",
        "model = ElasticNet(alpha=0.0098, l1_ratio=0.4)\n",
        "\n",
        "# We train the model\n",
        "fit_elasticnet = model.fit(x_train_scaled, y_train)\n"
      ],
      "execution_count": 0,
      "outputs": []
    },
    {
      "cell_type": "code",
      "metadata": {
        "id": "0GeIeMPh4taW",
        "colab_type": "code",
        "outputId": "99afebea-0088-4601-e7da-775ea3e6c3cd",
        "colab": {
          "base_uri": "https://localhost:8080/",
          "height": 90
        }
      },
      "source": [
        "# Coefficient of determination R^2\n",
        "print('Explained variance in training set: %.3f' % fit_elasticnet.score(x_train_scaled, y_train))\n",
        "print('Explained variance in test set: %.3f' % fit_elasticnet.score(x_test_scaled, y_test))\n",
        "\n",
        "# Mean squared error\n",
        "y_pred_train = fit_elasticnet.predict(x_train_scaled)\n",
        "y_pred_test = fit_elasticnet.predict(x_test_scaled)\n",
        "print(\"Mean squared error train: %.4f\" % mean_squared_error(y_train, y_pred_train))\n",
        "print(\"Mean squared error test: %.4f\" % mean_squared_error(y_test, y_pred_test))"
      ],
      "execution_count": 20,
      "outputs": [
        {
          "output_type": "stream",
          "text": [
            "Explained variance in training set: 0.940\n",
            "Explained variance in test set: 0.910\n",
            "Mean squared error train: 0.0099\n",
            "Mean squared error test: 0.0128\n"
          ],
          "name": "stdout"
        }
      ]
    },
    {
      "cell_type": "markdown",
      "metadata": {
        "id": "eMERDDZO4taa",
        "colab_type": "text"
      },
      "source": [
        "We can visualize the importance of each feature in the model."
      ]
    },
    {
      "cell_type": "code",
      "metadata": {
        "id": "EyEo_tbW4taa",
        "colab_type": "code",
        "outputId": "0eb9a1de-1b23-4b4b-82e6-502c2ac4d2a2",
        "colab": {
          "base_uri": "https://localhost:8080/",
          "height": 348
        }
      },
      "source": [
        "dict_importance_elasticnet = {'Features':list(x_train), 'Importance': abs(fit_elasticnet.coef_)}\n",
        "df_importance_elasticnet = pd.DataFrame(dict_importance_elasticnet)\n",
        "df_importance_elasticnet_sorted = df_importance_elasticnet.sort_values(by=['Importance'], ascending=False)\n",
        "df_importance_elasticnet_sorted.head(10)"
      ],
      "execution_count": 21,
      "outputs": [
        {
          "output_type": "execute_result",
          "data": {
            "text/html": [
              "<div>\n",
              "<style scoped>\n",
              "    .dataframe tbody tr th:only-of-type {\n",
              "        vertical-align: middle;\n",
              "    }\n",
              "\n",
              "    .dataframe tbody tr th {\n",
              "        vertical-align: top;\n",
              "    }\n",
              "\n",
              "    .dataframe thead th {\n",
              "        text-align: right;\n",
              "    }\n",
              "</style>\n",
              "<table border=\"1\" class=\"dataframe\">\n",
              "  <thead>\n",
              "    <tr style=\"text-align: right;\">\n",
              "      <th></th>\n",
              "      <th>Features</th>\n",
              "      <th>Importance</th>\n",
              "    </tr>\n",
              "  </thead>\n",
              "  <tbody>\n",
              "    <tr>\n",
              "      <th>26</th>\n",
              "      <td>GrLivArea</td>\n",
              "      <td>0.132679</td>\n",
              "    </tr>\n",
              "    <tr>\n",
              "      <th>5</th>\n",
              "      <td>OverallQual</td>\n",
              "      <td>0.076425</td>\n",
              "    </tr>\n",
              "    <tr>\n",
              "      <th>7</th>\n",
              "      <td>YearBuilt</td>\n",
              "      <td>0.039394</td>\n",
              "    </tr>\n",
              "    <tr>\n",
              "      <th>21</th>\n",
              "      <td>TotalBsmtSF</td>\n",
              "      <td>0.036071</td>\n",
              "    </tr>\n",
              "    <tr>\n",
              "      <th>6</th>\n",
              "      <td>OverallCond</td>\n",
              "      <td>0.032791</td>\n",
              "    </tr>\n",
              "    <tr>\n",
              "      <th>17</th>\n",
              "      <td>BsmtFinSF1</td>\n",
              "      <td>0.031376</td>\n",
              "    </tr>\n",
              "    <tr>\n",
              "      <th>35</th>\n",
              "      <td>Functional</td>\n",
              "      <td>0.025974</td>\n",
              "    </tr>\n",
              "    <tr>\n",
              "      <th>40</th>\n",
              "      <td>GarageCars</td>\n",
              "      <td>0.024596</td>\n",
              "    </tr>\n",
              "    <tr>\n",
              "      <th>58</th>\n",
              "      <td>MSZoning_RM</td>\n",
              "      <td>0.018801</td>\n",
              "    </tr>\n",
              "    <tr>\n",
              "      <th>33</th>\n",
              "      <td>KitchenQual</td>\n",
              "      <td>0.016383</td>\n",
              "    </tr>\n",
              "  </tbody>\n",
              "</table>\n",
              "</div>"
            ],
            "text/plain": [
              "       Features  Importance\n",
              "26    GrLivArea    0.132679\n",
              "5   OverallQual    0.076425\n",
              "7     YearBuilt    0.039394\n",
              "21  TotalBsmtSF    0.036071\n",
              "6   OverallCond    0.032791\n",
              "17   BsmtFinSF1    0.031376\n",
              "35   Functional    0.025974\n",
              "40   GarageCars    0.024596\n",
              "58  MSZoning_RM    0.018801\n",
              "33  KitchenQual    0.016383"
            ]
          },
          "metadata": {
            "tags": []
          },
          "execution_count": 21
        }
      ]
    },
    {
      "cell_type": "code",
      "metadata": {
        "id": "rjhgBC134tah",
        "colab_type": "code",
        "outputId": "b853b509-0c1d-4539-d2a0-b9d3c6d5c6a6",
        "colab": {
          "base_uri": "https://localhost:8080/",
          "height": 625
        }
      },
      "source": [
        "# plot importance of the features\n",
        "plt.figure(figsize=(15, 10))\n",
        "sns.barplot(data=df_importance_elasticnet_sorted.head(20), x='Importance', y = 'Features')"
      ],
      "execution_count": 22,
      "outputs": [
        {
          "output_type": "execute_result",
          "data": {
            "text/plain": [
              "<matplotlib.axes._subplots.AxesSubplot at 0x7f1c5f405ba8>"
            ]
          },
          "metadata": {
            "tags": []
          },
          "execution_count": 22
        },
        {
          "output_type": "display_data",
          "data": {
            "image/png": "[encoded data removed]",
            "text/plain": [
              "<Figure size 1080x720 with 1 Axes>"
            ]
          },
          "metadata": {
            "tags": [],
            "needs_background": "light"
          }
        }
      ]
    },
    {
      "cell_type": "markdown",
      "metadata": {
        "id": "w0ZSVYH24tam",
        "colab_type": "text"
      },
      "source": [
        "The class `ElasticNetCV` can be used to set the parameters `alpha` ($\\alpha$) and `l1_ratio` ($r$) by cross-validation."
      ]
    },
    {
      "cell_type": "code",
      "metadata": {
        "scrolled": true,
        "id": "PM6bWITW4tan",
        "colab_type": "code",
        "outputId": "4878f752-2be4-4632-c5df-4c97e12a78e1",
        "colab": {
          "base_uri": "https://localhost:8080/",
          "height": 54
        }
      },
      "source": [
        "model_elasticNetCV = ElasticNetCV(alphas=np.arange(0.0001,0.01,0.0001),\n",
        "                                  l1_ratio=np.arange(0.1,1,0.1), cv=5)\n",
        "\n",
        "# We train the model\n",
        "fit_elasticNetCV = model_elasticNetCV.fit(x_train_scaled, y_train)\n",
        "\n",
        "print(fit_elasticNetCV.alpha_)\n",
        "print(fit_elasticNetCV.l1_ratio_)\n"
      ],
      "execution_count": 23,
      "outputs": [
        {
          "output_type": "stream",
          "text": [
            "0.0098\n",
            "0.4\n"
          ],
          "name": "stdout"
        }
      ]
    },
    {
      "cell_type": "markdown",
      "metadata": {
        "id": "5IxPtosk4tav",
        "colab_type": "text"
      },
      "source": [
        "So when should you use plain Linear Regression (i.e., without any regularization), Ridge, Lasso, or Elastic Net? It is almost always preferable to have at least a little bit of regularization, so generally you should avoid plain Linear Regression. Ridge is a good default, but if you suspect that only a few features are useful, you should prefer Lasso or Elastic Net since they tend to reduce the useless features weights down to zero as we have discussed. In general, Elastic Net is preferred over Lasso since Lasso may behave erratically when the number of features is greater than the number of training instances or when several features are strongly correlated."
      ]
    },
    {
      "cell_type": "markdown",
      "metadata": {
        "id": "jw2a0x804aJk",
        "colab_type": "text"
      },
      "source": [
        "## 4.5 Robustness regression\n"
      ]
    },
    {
      "cell_type": "markdown",
      "metadata": {
        "id": "JUS1LNkb4fBU",
        "colab_type": "text"
      },
      "source": [
        "### Huber Regression\n",
        "\n",
        "The *HuberRegressor* applies a linear loss to samples that are classified as [outliers](https://en.wikipedia.org/wiki/Outlier). A sample is classified as an outlier if the absolute error of that sample is lesser than a certain threshold. It does not ignore the effect of the outliers but gives a lesser weight to them.\n",
        "\n",
        "The loss function that HuberRegressor minimizes is given by\n",
        "\n",
        "$$J(\\boldsymbol{\\theta})= \\sum_{i=1}^{m}(\\sigma+H_{\\epsilon}(\\frac{\\boldsymbol{\\theta}^T\\boldsymbol{x}^{(i)} - y^{(i)}}{\\sigma})\\sigma)+\\alpha||\\boldsymbol{\\theta}||_{2}^{2}$$\n",
        "\n",
        "where\n",
        "\n",
        "$$H_{\\epsilon}(z)=\\begin{cases}\n",
        "       z^{2} ,&\\quad\\text{if}|z|\\le\\epsilon\\\\\n",
        "       2\\epsilon|z|-\\epsilon^{2} ,&\\quad\\text{otherwhise}\\\\\n",
        "     \\end{cases}$$"
      ]
    },
    {
      "cell_type": "code",
      "metadata": {
        "id": "F0gO0iOS4iQC",
        "colab_type": "code",
        "colab": {}
      },
      "source": [
        "model = HuberRegressor(alpha=0.006,epsilon=3.6,max_iter=1000)\n",
        "\n",
        "# We train the model\n",
        "fit_huber = model.fit(x_train_scaled, y_train)"
      ],
      "execution_count": 0,
      "outputs": []
    },
    {
      "cell_type": "code",
      "metadata": {
        "id": "9DvvLIdw4itS",
        "colab_type": "code",
        "outputId": "973691aa-3947-49ab-902d-548a48849dd3",
        "colab": {
          "base_uri": "https://localhost:8080/",
          "height": 90
        }
      },
      "source": [
        "# Coefficient of determination R^2\n",
        "print('Explained variance in training: %.3f' % fit_huber.score(x_train_scaled, y_train))\n",
        "print('Explained variance in test set: %.3f' % fit_huber.score(x_test_scaled, y_test))\n",
        "\n",
        "# Mean squared error\n",
        "y_pred_train = fit_huber.predict(x_train_scaled)\n",
        "y_pred_test = fit_huber.predict(x_test_scaled)\n",
        "print(\"Mean squared error in training set: %.4f\" % mean_squared_error(y_train, y_pred_train))\n",
        "print(\"Mean squared error in test set: %.4f\" % mean_squared_error(y_test, y_pred_test))\n",
        "\n"
      ],
      "execution_count": 25,
      "outputs": [
        {
          "output_type": "stream",
          "text": [
            "Explained variance in training: 0.950\n",
            "Explained variance in test set: 0.899\n",
            "Mean squared error in training set: 0.0082\n",
            "Mean squared error in test set: 0.0143\n"
          ],
          "name": "stdout"
        }
      ]
    },
    {
      "cell_type": "markdown",
      "metadata": {
        "id": "tXpwxdhj4qbk",
        "colab_type": "text"
      },
      "source": [
        "We can tune some hyperparameters of the model."
      ]
    },
    {
      "cell_type": "code",
      "metadata": {
        "id": "nusv5GhX4q0m",
        "colab_type": "code",
        "outputId": "a90fff36-637c-4787-9936-9986cb2d5e69",
        "colab": {
          "base_uri": "https://localhost:8080/",
          "height": 145
        }
      },
      "source": [
        "\n",
        "# We choose the model\n",
        "model_huber = HuberRegressor()\n",
        "\n",
        "# We input possible values of parameters\n",
        "param_grid = {\n",
        "    'epsilon': np.arange(1,5,0.1),\n",
        "    'alpha': np.arange(0.001,0.01,0.005),\n",
        "}\n",
        "clf = GridSearchCV(model_huber, param_grid, cv=5, n_jobs=5)\n",
        "\n",
        "# We train the model for diferent values of parameters\n",
        "clf.fit(x_train_scaled, y_train)\n",
        "\n",
        "clf.best_params_"
      ],
      "execution_count": 26,
      "outputs": [
        {
          "output_type": "stream",
          "text": [
            "/usr/local/lib/python3.6/dist-packages/sklearn/linear_model/_huber.py:296: ConvergenceWarning: lbfgs failed to converge (status=1):\n",
            "STOP: TOTAL NO. of ITERATIONS REACHED LIMIT.\n",
            "\n",
            "Increase the number of iterations (max_iter) or scale the data as shown in:\n",
            "    https://scikit-learn.org/stable/modules/preprocessing.html\n",
            "  self.n_iter_ = _check_optimize_result(\"lbfgs\", opt_res, self.max_iter)\n"
          ],
          "name": "stderr"
        },
        {
          "output_type": "execute_result",
          "data": {
            "text/plain": [
              "{'alpha': 0.006, 'epsilon': 3.6000000000000023}"
            ]
          },
          "metadata": {
            "tags": []
          },
          "execution_count": 26
        }
      ]
    },
    {
      "cell_type": "markdown",
      "metadata": {
        "id": "GoINTQA34taw",
        "colab_type": "text"
      },
      "source": [
        "## 4.6 Stochastic Gradient Descent - SGD\n"
      ]
    },
    {
      "cell_type": "markdown",
      "metadata": {
        "id": "qm3gtPYr4tax",
        "colab_type": "text"
      },
      "source": [
        "SGD stands for Stochastic Gradient Descent: the gradient of the loss is estimated each sample at a time and the model is updated along the way with a decreasing strength schedule (aka learning rate). More info about gradient descent algorithm [here](https://github.com/victorviro/ML_algorithms_python/blob/master/Introduction_gradient_descent_algorithm.ipynb).\n",
        "\n",
        "The regularizer is a penalty added to the loss function that shrinks model parameters towards the zero vector using either the squared euclidean norm $l_2$ or the absolute norm $l_1$ or a combination of both (Elastic Net).\n",
        "\n",
        "Stochastic gradient descent is a simple yet very efficient approach to fit linear models. It is particularly useful when the number of samples (and the number of features) is very large.\n",
        "\n",
        "The classes `SGDRegressor` provides functionality to fit linear models for regression using different (convex) loss functions and different penalties.\n"
      ]
    },
    {
      "cell_type": "code",
      "metadata": {
        "scrolled": true,
        "id": "AzIvrgNH4ta3",
        "colab_type": "code",
        "colab": {
          "base_uri": "https://localhost:8080/",
          "height": 35
        },
        "outputId": "5d0ffa4e-1dfd-4d8d-e87e-4f7689ff7a50"
      },
      "source": [
        "model_SGD = SGDRegressor()\n",
        "\n",
        "# We input possible values of parameters\n",
        "param_grid = {\n",
        "    'alpha': np.arange(0.01,0.1,0.01),\n",
        "    'loss': ['squared_loss', 'huber'],\n",
        "    'penalty': ['l2', 'l1', 'elasticnet'],\n",
        "    'learning_rate': ['constant', 'optimal', 'invscaling'],\n",
        "}\n",
        "\n",
        "grid_SGD = GridSearchCV(model_SGD, param_grid, cv=5, n_jobs=5)\n",
        "\n",
        "# We train the model\n",
        "fit_SGD = grid_SGD.fit(x_train_scaled, y_train)\n",
        "print(fit_SGD.best_params_)"
      ],
      "execution_count": 27,
      "outputs": [
        {
          "output_type": "stream",
          "text": [
            "{'alpha': 0.02, 'learning_rate': 'optimal', 'loss': 'huber', 'penalty': 'elasticnet'}\n"
          ],
          "name": "stdout"
        }
      ]
    },
    {
      "cell_type": "code",
      "metadata": {
        "id": "ZICma9cvD45g",
        "colab_type": "code",
        "colab": {
          "base_uri": "https://localhost:8080/",
          "height": 90
        },
        "outputId": "61b1018c-5dd0-4b00-fb99-6ea27552f58b"
      },
      "source": [
        "# Coefficient of determination R^2\n",
        "print('Explained variance in training set: %.3f' % fit_SGD.score(x_train_scaled, y_train))\n",
        "print('Explained variance in test set: %.3f' % fit_SGD.score(x_test_scaled, y_test))\n",
        "\n",
        "# Mean squared error\n",
        "y_pred_train = fit_SGD.predict(x_train_scaled)\n",
        "y_pred_test = fit_SGD.predict(x_test_scaled)\n",
        "print(\"Mean squared error in training set: %.4f\" % mean_squared_error(y_train, y_pred_train))\n",
        "print(\"Mean squared error in test set: %.4f\" % mean_squared_error(y_test, y_pred_test))\n"
      ],
      "execution_count": 28,
      "outputs": [
        {
          "output_type": "stream",
          "text": [
            "Explained variance in training set: 0.922\n",
            "Explained variance in test set: 0.888\n",
            "Mean squared error in training set: 0.0127\n",
            "Mean squared error in test set: 0.0160\n"
          ],
          "name": "stdout"
        }
      ]
    },
    {
      "cell_type": "markdown",
      "metadata": {
        "id": "v83HQbY64ta9",
        "colab_type": "text"
      },
      "source": [
        "A very different way to regularize iterative learning algorithms such as Gradient Descent is to stop training as soon as the validation error reaches a minimum. This is called *early stopping*. We can implement this setting the parameter `warm_start=True` when we define the `SGDRegressor` model.\n",
        "\n",
        "**Note** With Stochastic and Mini-batch Gradient Descent, the curves are not so smooth, and it may be hard to know whether you have reached the minimum or not. One solution is to stop only after the validation error has been above the minimum for some time (when you are confident that the model will not do any better)."
      ]
    },
    {
      "cell_type": "markdown",
      "metadata": {
        "id": "DP_sr3OurhZO",
        "colab_type": "text"
      },
      "source": [
        "## 4.7 Logistic regression"
      ]
    },
    {
      "cell_type": "markdown",
      "metadata": {
        "id": "fGXpoZk7AeDj",
        "colab_type": "text"
      },
      "source": [
        "We have seen how we can make predictions using linear regression. In this section, we will dive deep into the generalized model of linear regression for classification instead of prediction. *Logistic regression* (also called *logit regression*) is a linear classifier. It calculates the probability of two classes between 0 and 1. We can simply classify an item if it’s probability score is less than 0.5 is classified in class 0 (negative class) otherwise in class 1 (positive class)."
      ]
    },
    {
      "cell_type": "markdown",
      "metadata": {
        "id": "q4Zt8TL3AevP",
        "colab_type": "text"
      },
      "source": [
        "#### 4.7.1 Estimating probabilities"
      ]
    },
    {
      "cell_type": "markdown",
      "metadata": {
        "id": "qqw5JYcvrkQc",
        "colab_type": "text"
      },
      "source": [
        "Just like a Linear Regression model, a Logistic Regression model computes a weighted sum of the input features (plus a bias term), but instead of outputting the result directly like the Linear Regression model does, it outputs the logistic of this result.\n",
        "\n",
        "$$\\hat{p}=h_{\\boldsymbol{\\theta}}(\\boldsymbol{x})=\\sigma(\\boldsymbol{\\theta^T}\\boldsymbol{x})=\\frac{1}{1+e^{-\\boldsymbol{\\theta^T}\\boldsymbol{x}}}$$\n",
        "\n",
        "- $\\sigma(.)$ is the logistic function (also called *sigmoid*) that outputs a number between 0 and 1.\n",
        "- $\\hat{p}$ is the probability estimated that the target variable $Y$ is equal to 1 given the input features $\\boldsymbol{x}$, this is, the estimation of $P(Y=1|X=\\boldsymbol{x})$\n",
        "\n",
        "The linear regression model is not good for binary classification because we want $\\hat{p} \\in (0,1)$ and $\\boldsymbol{\\theta^T}\\boldsymbol{x}$ can be much bigger or can even be negative which does not sense for probability. Applying the sigmoid function we get values between 0 and 1.\n",
        "\n",
        "\n",
        "![texto alternativo](https://i.ibb.co/QX4tRCc/logistic-function.png)\n",
        "\n",
        "Notice that if $t$ is large, then $\\sigma(t) \\approx \\frac{1}{1+0}=1$, and conversely, if $t$ is small, then $\\sigma(t) \\approx \\frac{1}{1+\\infty}=0$ (see figure 4-21).\n",
        "\n",
        "\n",
        "\n",
        "Once the Logistic Regression model has estimated the probability $\\hat{p}$ that an instance $\\boldsymbol{x}$ belongs to the positive class, it can make its prediction $\\hat{y}$ easily.\n",
        "\n",
        "$$\n",
        "   \\hat{y}  = \\begin{cases}\n",
        "               0 & \\text{if } \\hat{p} < 0.5\\\\\n",
        "               1 & \\text{if } \\hat{p} \\geq 0.5\n",
        "          \\end{cases}\n",
        "$$\n",
        "\n",
        "**Note**: The *Odds* are defined as the probability that the event will occur divided by the probability that the event will not occur. If the probability of success is $P$, then the odds of that event is: $\\text{odds} = \\frac{P}{1-P}$. We can use a linear regression model to predict the log of the odds (*logit* function), this is, $\\text{logit}(P)=ln(\\frac{P}{1-P}) = \\boldsymbol{\\theta^T}\\boldsymbol{x} \\implies \\frac{P}{1-P} = e^{\\boldsymbol{\\theta^T}\\boldsymbol{x}} \\implies P = \\frac{e^{\\boldsymbol{\\theta^T}\\boldsymbol{x}}}{1+e^{\\boldsymbol{\\theta^T}\\boldsymbol{x}}}=\\frac{1}{1+e^{-\\boldsymbol{\\theta^T}\\boldsymbol{x}}} = \\sigma(\\boldsymbol{\\theta^T}\\boldsymbol{x})$\n",
        "\n",
        "\n",
        "\n"
      ]
    },
    {
      "cell_type": "markdown",
      "metadata": {
        "id": "jEQ-zVycF_wf",
        "colab_type": "text"
      },
      "source": [
        "#### 4.7.2 Training and cost function"
      ]
    },
    {
      "cell_type": "markdown",
      "metadata": {
        "id": "V8xPR_o0GEGT",
        "colab_type": "text"
      },
      "source": [
        "The objective of the training process is to set the parameter vector $\\boldsymbol{\\theta}$ so that the model estimates high probabilities for positive instances ($y =\n",
        "1$) and low probabilities for negative instances ($y = 0$).\n",
        "\n",
        "Linear regression uses the MSE as loss function that gives a convex graph and then we can complete the optimization by finding its global minimum. However, it’s not an option for logistic regression since the hypothesis is changed, the MSE will result in a non-convex graph with local minimums so gradient descent may not find a global optimum.\n",
        "\n",
        "![texto alternativo](https://i.ibb.co/qJq6h4L/local-minima.png)\n",
        "\n",
        "Instead of MSE, we use a cost function for a single training instance $\\boldsymbol{x}$ (logistic loss):\n",
        "\n",
        "$$\n",
        "   c(h_{\\boldsymbol{\\theta}}(\\boldsymbol{x}),y)  = \\begin{cases}\n",
        "               -log(\\hat{p}) & \\text{if } y = 1\\\\\n",
        "               -log(1-\\hat{p}) & \\text{if } y=0\n",
        "          \\end{cases}\n",
        "$$\n",
        "\n",
        "This cost function makes sense because $-log(t)$ grows very large when $t$ approaches 0, so the cost will be large if the model estimates a probability close to 0 for a positive instance, and it will also be very large if the model estimates a probability close to 1 for a negative instance. On the other hand, $-log(t)$ is close to 0 when t is close to 1, so the cost will be close to 0 if the estimated probability is close to 0 for a negative\n",
        "instance or close to 1 for a positive instance, which is precisely what we want.\n",
        "\n",
        "Another advantage of this loss function is that although we are looking at it by $y = 1$ and $y = 0$ separately, it can be written as one single formula which brings convenience for calculation:\n",
        "\n",
        "$$c(h_{\\boldsymbol{\\theta}}(\\boldsymbol{x}),y)=-ylog(\\hat{p})+(1-y)log(1-\\hat{p})$$\n",
        "\n",
        "The cost function over the whole training set is simply the average cost over all training instances. It can be written in a single expression called\n",
        "the *log loss*:\n",
        "\n",
        "$$J(\\boldsymbol{\\theta})=\\frac{1}{m}\\sum_{i=1}^{m}c(h_{\\boldsymbol{\\theta}}(\\boldsymbol{x}^{(i)}),y^{(i)})= -\\frac{1}{m}\\sum_{i=1}^{m}y^{(i)}log(\\hat{p}^{(i)})+(1-y^{(i)})log(1-\\hat{p}^{(i)})$$\n",
        "\n",
        "There is no analytical solution to compute the value of $\\boldsymbol{\\theta}$ that minimizes this cost function (there is no equivalent of the Normal Equation). But this cost function is convex, so Gradient Descent (or any other optimization algorithm such as [Newton–Raphson method](https://en.wikipedia.org/wiki/Newton%27s_method)) is guaranteed to find the global minimum (if the learning rate is not too large and you wait long enough if we use Gradient Descent). The partial derivatives of the cost function with regards to the parameter $\\theta_j$, $\\frac{\\partial J(\\boldsymbol{\\theta})}{\\partial\\theta_j}$, can be easily calculated. Once you have the gradient vector containing all the partial derivatives you can use it in the Batch Gradient Descent algorithm.\n",
        "\n",
        "\n",
        "\n",
        "**Note**: In statistics, *maximum likelihood estimation* ([MLE](https://en.wikipediaorgwikiMaximum_likelihood_estimation#:~:text=In%20statistics%2C%20maximum%20likelihood%20estimation,observed%20data%20is%20most%20probable.)) is widely used to obtain the parameter for a distribution. To use maximum likelihood, we need to assume a probability distribution. In the case of logistic regression, a Binomial probability distribution is assumed for the data sample, where each example is one outcome of a Bernoulli trial. In this context, calculating the negative of the log-likelihood function for the Bernoulli distribution is equivalent to calculating the log loss function for the Bernoulli distribution."
      ]
    },
    {
      "cell_type": "markdown",
      "metadata": {
        "id": "XNxvnDarRtM2",
        "colab_type": "text"
      },
      "source": [
        "#### 4.7.3 Example"
      ]
    },
    {
      "cell_type": "markdown",
      "metadata": {
        "id": "Dakgg1vbHE-4",
        "colab_type": "text"
      },
      "source": [
        "Let’s use the [iris dataset](https://en.wikipedia.org/wiki/Iris_flower_data_set) to illustrate Logistic Regression. This is a famous dataset that contains the sepal and petal length and width of 150 iris flowers of three different species: Iris-Setosa, Iris-Versicolor, and Iris-Virginica.\n",
        "\n",
        "Let’s try to build a classifier to detect the Iris-Virginica type based only on the petal width feature. First, let’s load the data:"
      ]
    },
    {
      "cell_type": "code",
      "metadata": {
        "id": "3SBNMybtxl6O",
        "colab_type": "code",
        "outputId": "cb245853-2b79-451b-bad3-0c2f568c4159",
        "colab": {
          "base_uri": "https://localhost:8080/",
          "height": 35
        }
      },
      "source": [
        "from sklearn import datasets\n",
        "\n",
        "iris = datasets.load_iris()\n",
        "print(list(iris.keys()))\n",
        "X = iris[\"data\"][:, 3:] # petal width\n",
        "y = (iris[\"target\"] == 2).astype(np.int)"
      ],
      "execution_count": 29,
      "outputs": [
        {
          "output_type": "stream",
          "text": [
            "['data', 'target', 'target_names', 'DESCR', 'feature_names', 'filename']\n"
          ],
          "name": "stdout"
        }
      ]
    },
    {
      "cell_type": "markdown",
      "metadata": {
        "id": "2qbcFNViHth2",
        "colab_type": "text"
      },
      "source": [
        "Now let’s train a Logistic Regression model:"
      ]
    },
    {
      "cell_type": "code",
      "metadata": {
        "id": "f8rnGdwYHuHl",
        "colab_type": "code",
        "outputId": "e8b22f9b-be26-4012-9c63-ebc1edf010bc",
        "colab": {
          "base_uri": "https://localhost:8080/",
          "height": 108
        }
      },
      "source": [
        "log_reg = LogisticRegression()\n",
        "log_reg.fit(X, y)"
      ],
      "execution_count": 30,
      "outputs": [
        {
          "output_type": "execute_result",
          "data": {
            "text/plain": [
              "LogisticRegression(C=1.0, class_weight=None, dual=False, fit_intercept=True,\n",
              "                   intercept_scaling=1, l1_ratio=None, max_iter=100,\n",
              "                   multi_class='auto', n_jobs=None, penalty='l2',\n",
              "                   random_state=None, solver='lbfgs', tol=0.0001, verbose=0,\n",
              "                   warm_start=False)"
            ]
          },
          "metadata": {
            "tags": []
          },
          "execution_count": 30
        }
      ]
    },
    {
      "cell_type": "markdown",
      "metadata": {
        "id": "BWd9U9HRHycq",
        "colab_type": "text"
      },
      "source": [
        "Let’s look at the model’s estimated probabilities for flowers with petal widths varying from 0 to 3 cm."
      ]
    },
    {
      "cell_type": "code",
      "metadata": {
        "id": "BoEJG4fVH0I9",
        "colab_type": "code",
        "outputId": "d5963cbf-e68b-4eb8-ce68-5601a35be068",
        "colab": {
          "base_uri": "https://localhost:8080/",
          "height": 279
        }
      },
      "source": [
        "X_new = np.linspace(0, 3, 1000).reshape(-1, 1)\n",
        "y_proba = log_reg.predict_proba(X_new)\n",
        "\n",
        "plt.scatter(X, y, c='black', s=2)\n",
        "plt.plot(X_new, y_proba[:, 1], \"g-\", label=\"Iris-Virginica\")\n",
        "plt.plot(X_new, y_proba[:, 0], \"b--\", label=\"Not Iris-Virginica\")\n",
        "\n",
        "plt.xlabel(\"Petal Width (cm)\")\n",
        "plt.ylabel(\"Probability is Virginica\")\n",
        "plt.legend()\n",
        "plt.show()"
      ],
      "execution_count": 31,
      "outputs": [
        {
          "output_type": "display_data",
          "data": {
            "image/png": "[encoded data removed]",
            "text/plain": [
              "<Figure size 432x288 with 1 Axes>"
            ]
          },
          "metadata": {
            "tags": [],
            "needs_background": "light"
          }
        }
      ]
    },
    {
      "cell_type": "markdown",
      "metadata": {
        "id": "GtiCb9gILMxE",
        "colab_type": "text"
      },
      "source": [
        "The petal width of Iris-Virginica flowers ranges from 1.4 cm to 2.5 cm, while the other iris flowers (not Iris-Virginica) generally have a smaller petal width, ranging from 0.1 cm to 1.8 cm. Notice that there is a bit of overlap. Above about 2 cm the classifier is highly confident that the flower is an Iris-Virginica (it outputs a high probability to that class), while below 1 cm it is highly confident that it is not an Iris-Virginica (high probability for the “Not Iris-Virginica” class). In between these extremes, the classifier is unsure. However, if you ask it to predict the class (using the `predict()` method rather than the `predict_proba()` method), it will return whichever class is the most likely. Therefore, there is a decision boundary at around 1.6 cm where both probabilities are equal to 50%: if the petal width is higher than 1.6 cm, the classifier will predict that the flower is an Iris-Virginica, or else it will predict that it is not (even if it is not very confident):\n",
        "\n"
      ]
    },
    {
      "cell_type": "code",
      "metadata": {
        "id": "XazFhfoAL03t",
        "colab_type": "code",
        "outputId": "3d3ae706-5cd6-4a88-ceb5-000f45a3948a",
        "colab": {
          "base_uri": "https://localhost:8080/",
          "height": 35
        }
      },
      "source": [
        "log_reg.predict([[1.7], [1.5]])"
      ],
      "execution_count": 32,
      "outputs": [
        {
          "output_type": "execute_result",
          "data": {
            "text/plain": [
              "array([1, 0])"
            ]
          },
          "metadata": {
            "tags": []
          },
          "execution_count": 32
        }
      ]
    },
    {
      "cell_type": "markdown",
      "metadata": {
        "id": "KSpWFYh1MP8F",
        "colab_type": "text"
      },
      "source": [
        "Figure 4-24 shows the same dataset but this time displaying two features: petal width and length. Once trained, the Logistic Regression classifier can estimate the probability that a new flower is an Iris-Virginica based on these two features. \n",
        "\n",
        "![alt text](https://i.ibb.co/r06mngv/decision-boundary-logistic-regression-png.png)\n",
        "\n",
        "\n",
        "The dashed line represents the points where the model estimates a 50% probability: this is the model’s decision boundary. Note that it is a linear boundary. Each parallel line represents the points where the model outputs a specific probability, from 15% (bottom left) to 90% (top right). All the flowers beyond the top-right line have an over 90% chance of being Iris-Virginica according to the model.\n",
        "\n",
        "Just like the other linear models, Logistic Regression models can be regularized using $l_1$ or $l_2$ penalties. Scitkit-Learn actually adds an $l_2$ penalty by default. The hyperparameter controlling the regularization strength of a Scikit-Learn `LogisticRegression` model is not alpha (as in other\n",
        "linear models), but its inverse: `C` . The higher the value of `C`, the less\n",
        "the model is regularized.\n",
        "\n"
      ]
    },
    {
      "cell_type": "markdown",
      "metadata": {
        "id": "KcH8MEwvM2i9",
        "colab_type": "text"
      },
      "source": [
        "#### 4.7.4 Multinomial logistic regression\n",
        "\n"
      ]
    },
    {
      "cell_type": "markdown",
      "metadata": {
        "id": "fej4U55SM9I4",
        "colab_type": "text"
      },
      "source": [
        "The Logistic Regression model can be generalized to support multiple classes directly. This is called *Softmax Regression*, or *Multinomial Logistic Regression*.\n",
        "\n",
        "The idea is quite simple: when given an instance $\\boldsymbol{x}$, the Softmax Regression model first computes a score $s_{k}(\\boldsymbol{x})$ for each class $k$, then estimates the probability of each class by applying the *softmax function* (also called the *normalized exponential*) to the scores. The equation to compute $s_{k}(\\boldsymbol{x})$ is just like the equation for Linear Regression prediction.\n",
        "\n",
        "$$s_{k}(\\boldsymbol{x})=\\boldsymbol{x}^T\\boldsymbol{\\theta}^{(k)}$$\n",
        "\n",
        "Each class has its own dedicated parameter vector $\\boldsymbol{\\theta}^{(k)}$ . All these vectors are usually stored as rows in a parameter matrix $\\boldsymbol{\\Theta}$.\n",
        "\n",
        "Once you have computed the score of every class for the instance $\\boldsymbol{x}$, you can estimate the probability $\\hat{p}_k$ that the instance belongs to class $k$ by running the scores through the softmax function:\n",
        "\n",
        "$$\\hat{p}_k=\\sigma(\\boldsymbol{s}(\\boldsymbol{x}))_{k}=\\frac{e^{s_{k}(\\boldsymbol{x})}}{\\sum_{j=1}^{K}e^{s_{j}(\\boldsymbol{x})}}$$\n",
        "\n",
        "The softmax function computes the exponential of every score, then normalizes them (dividing by the sum of all the exponentials). The scores are generally called logits or log-odds (although they are actually unnormalized log-odds).\n",
        "\n",
        "- $K$ is the number of classes.\n",
        "- $\\boldsymbol{s}(\\boldsymbol{x})$ is a vector containing the scores of each class for the instance $\\boldsymbol{x}$.\n",
        "\n",
        "- $\\sigma(\\boldsymbol{s}(\\boldsymbol{x}))_{k}$ is the estimated probability that the instance $\\boldsymbol{x}$ belongs to class $k$ given the scores of each class for that instance.\n",
        "\n",
        "\n",
        "Just like the Logistic Regression classifier, the Softmax Regression classifier predicts the class with the highest estimated probability (which is simply the class with the highest score).\n",
        "\n",
        "$$\\hat{y}=\\text{arg}\\max\\limits_{k}\\sigma(\\boldsymbol{s}(\\boldsymbol{x}))_{k}=\\text{arg}\\max\\limits_{k}s_{k}(\\boldsymbol{x})=\\text{arg}\\max\\limits_{k}((\\boldsymbol{\\theta}^{(k)})^T \\boldsymbol{x})$$\n",
        "\n",
        "- The *argmax* operator returns the value of a variable that maximizes a function. In this equation, it returns the value of $k$ that maximizes the estimated probability $\\sigma(\\boldsymbol{s}(\\boldsymbol{x}))_{k}$.\n",
        "\n",
        "**Note**: The Softmax Regression classifier predicts only one class at a time\n",
        "(i.e., it is multiclass, not multioutput) so it should be used only with\n",
        "mutually exclusive classes such as different types of plants. You cannot use it to recognize multiple objects in one picture."
      ]
    },
    {
      "cell_type": "markdown",
      "metadata": {
        "id": "0VRTsqAsjjTE",
        "colab_type": "text"
      },
      "source": [
        "Let’s take a look at training. The objective is to have a model that estimates a high probability for the target class (and consequently a low probability for the other classes). Minimizing the cost function called the *cross-entropy*, should lead to this objective because it penalizes the model when it estimates\n",
        "a low probability for a target class. \n",
        "\n",
        "$$J(\\boldsymbol{\\Theta})= -\\frac{1}{m}\\sum_{i=1}^{m} \\sum_{k=1}^{K} y^{(i)}_klog(\\hat{p}_k^{(i)})$$\n",
        "\n",
        "- $y^{(i)}_k$ is the target probability that the $i^{\\text{th}}$ instance belongs to class $k$. In general, it is either equal to 1 or 0, depending on whether the instance belongs to the class or not.\n",
        "\n",
        "Cross entropy is frequently used to measure how well a set of estimated class probabilities match the target classes.\n",
        "\n",
        "Notice that when there are just two classes ($K = 2$), this cost function is equivalent to the Logistic Regression’s cost function (log loss).\n",
        "\n",
        "**Note**: Cross entropy originated from information theory. Suppose you want to efficiently transmit information about the weather every day. If there are eight options (sunny, rainy, etc.), you could encode each option using 3 bits since $2^3 = 8$. However, if you think it will be sunny almost every day, it would be much more efficient to code “sunny” on just one bit (0) and the other seven options on 4 bits (starting with a 1). Cross entropy measures the average number of bits you actually send per option. If your assumption about the weather is perfect, cross-entropy will just be equal to the entropy of the weather itself (i.e., its intrinsic unpredictability). But if your assumptions are wrong (e.g., if it rains often), cross-entropy will be greater by an amount called the [K–L divergence](https://en.wikipedia.org/wiki/Kullback%E2%80%93Leibler_divergence). The cross-entropy between two probability distributions $p$ and $q$ is defined as $H(p,q)=-\\sum_{x}p(x)log(q(x))$ (at least when the distributions are discrete). For more details, check out this [video](https://www.youtube.com/watch?v=ErfnhcEV1O8).\n",
        "\n",
        "The gradient vector of this cost function with regards to $\\boldsymbol{\\theta}^{(k)}$, $\\nabla_{\\boldsymbol{\\theta}^{(k)}}J(\\boldsymbol{\\Theta})$, can be easily calculated. We can compute the gradient vector for every class, then use Gradient Descent (or any other optimization algorithm) to find the parameter matrix $\\boldsymbol{\\Theta}$ that minimizes the cost function.\n",
        "\n",
        "\n"
      ]
    },
    {
      "cell_type": "markdown",
      "metadata": {
        "id": "-59PCaQU2w5C",
        "colab_type": "text"
      },
      "source": [
        "Let’s use Softmax Regression to classify the iris flowers into all three classes. Scikit-Learn’s `LogisticRegression` uses one-versus-all by default when you train it on more than two classes, but you can set the `multi_class` hyperparameter to `\"multinomial\"` to switch it to Softmax Regression instead. You must also specify a solver that supports Softmax Regression, such as the `\"lbfgs\"` solver (see Scikit-Learn’s documentation for more details). It also applies $l_2$ regularization by default, which you can control using the hyperparameter `C`."
      ]
    },
    {
      "cell_type": "code",
      "metadata": {
        "id": "AnW0ntPHWjmi",
        "colab_type": "code",
        "outputId": "8292c550-33c4-4eb3-ee77-8878bb15c505",
        "colab": {
          "base_uri": "https://localhost:8080/",
          "height": 108
        }
      },
      "source": [
        "X = iris[\"data\"][:, (2, 3)] # petal length, petal width\n",
        "y = iris[\"target\"]\n",
        "\n",
        "softmax_reg = LogisticRegression(multi_class=\"multinomial\",solver=\"lbfgs\", C=10)\n",
        "softmax_reg.fit(X, y)"
      ],
      "execution_count": 33,
      "outputs": [
        {
          "output_type": "execute_result",
          "data": {
            "text/plain": [
              "LogisticRegression(C=10, class_weight=None, dual=False, fit_intercept=True,\n",
              "                   intercept_scaling=1, l1_ratio=None, max_iter=100,\n",
              "                   multi_class='multinomial', n_jobs=None, penalty='l2',\n",
              "                   random_state=None, solver='lbfgs', tol=0.0001, verbose=0,\n",
              "                   warm_start=False)"
            ]
          },
          "metadata": {
            "tags": []
          },
          "execution_count": 33
        }
      ]
    },
    {
      "cell_type": "markdown",
      "metadata": {
        "id": "WYA4eBgx3NCf",
        "colab_type": "text"
      },
      "source": [
        "If we find an iris with 5 cm long and 2 cm wide petals, we can ask\n",
        "our model to tell you what type of iris it is"
      ]
    },
    {
      "cell_type": "code",
      "metadata": {
        "id": "HvkqJuQh3UL7",
        "colab_type": "code",
        "outputId": "813f0690-2894-45ac-d04f-71f4410dd8a9",
        "colab": {
          "base_uri": "https://localhost:8080/",
          "height": 54
        }
      },
      "source": [
        "print(softmax_reg.predict([[5, 2]]))\n",
        "print(softmax_reg.predict_proba([[5, 2]]))"
      ],
      "execution_count": 34,
      "outputs": [
        {
          "output_type": "stream",
          "text": [
            "[2]\n",
            "[[6.38014896e-07 5.74929995e-02 9.42506362e-01]]\n"
          ],
          "name": "stdout"
        }
      ]
    },
    {
      "cell_type": "markdown",
      "metadata": {
        "id": "OkAnzJw_3UWo",
        "colab_type": "text"
      },
      "source": [
        "The model answers Iris-Virginica (class 2) with 94.2% probability (or Iris-Versicolor with 5.8% probability).\n",
        "\n",
        "Figure 4-25 shows the resulting decision boundaries, represented by the background colors.\n",
        "\n",
        "![texto alternativo](https://i.ibb.co/k8SjSB7/softmax-regression-boundaries.png)\n",
        "\n",
        "Notice that the decision boundaries between any two classes are linear. The\n",
        "figure also shows the probabilities for the Iris-Versicolor class, represented by the curved lines (e.g., the line labeled with 0.450 represents the 45% probability boundary). Notice that the model can predict a class that has an estimated probability below 50%. For example, at the point where all decision boundaries meet, all classes have an equal estimated probability of 33%."
      ]
    }
  ]
}