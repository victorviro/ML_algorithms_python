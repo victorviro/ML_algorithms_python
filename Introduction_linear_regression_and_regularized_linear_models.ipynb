{
  "nbformat": 4,
  "nbformat_minor": 0,
  "metadata": {
    "kernelspec": {
      "display_name": "Python 3",
      "language": "python",
      "name": "python3"
    },
    "language_info": {
      "codemirror_mode": {
        "name": "ipython",
        "version": 3
      },
      "file_extension": ".py",
      "mimetype": "text/x-python",
      "name": "python",
      "nbconvert_exporter": "python",
      "pygments_lexer": "ipython3",
      "version": "3.6.6"
    },
    "colab": {
      "name": "Introduction_linear_regression_and_regularized_linear_models.ipynb",
      "provenance": [],
      "collapsed_sections": [
        "YDrVIHYa4tR_",
        "WAaouZmW4tYc"
      ],
      "toc_visible": true,
      "include_colab_link": true
    }
  },
  "cells": [
    {
      "cell_type": "markdown",
      "metadata": {
        "id": "view-in-github",
        "colab_type": "text"
      },
      "source": [
        "<a href=\"https://colab.research.google.com/github/victorviro/ML_algorithms_python/blob/master/Introduction_linear_regression_and_regularized_linear_models.ipynb\" target=\"_parent\"><img src=\"https://colab.research.google.com/assets/colab-badge.svg\" alt=\"Open In Colab\"/></a>"
      ]
    },
    {
      "cell_type": "markdown",
      "metadata": {
        "id": "KNPMaIpb4tRz",
        "colab_type": "text"
      },
      "source": [
        "# Introduction to Generalized Linear Models (GLM)\n",
        "\n",
        "We will use a dataset that contains data about houses for practice purposes. We will try to predict the house prices using different linear regression models (the data used and the info of the task can be seen [here](https://github.com/victorviro/House-price-prediction-python)).\n",
        "\n",
        "\n",
        "* **3. Data preparation**\n",
        "    * 3.1 Dummy variables\n",
        "    * 3.2 Split dataset\n",
        "    \n",
        "    \n",
        "* **4. Generalized Linear Models**\n",
        "    * 4.1 Introduction\n",
        "    * 4.2 Linear regression\n",
        "    * 4.3 Polynomial regression\n",
        "    * 4.4 Regularized linear models \n",
        "    * 4.5 Robustness regression \n",
        "    * 4.6 Stochastic Gradient Descent"
      ]
    },
    {
      "cell_type": "markdown",
      "metadata": {
        "id": "VdYUgXfY4tR1",
        "colab_type": "text"
      },
      "source": [
        "We import required libraries."
      ]
    },
    {
      "cell_type": "code",
      "metadata": {
        "id": "M-cLDzEx4tR3",
        "colab_type": "code",
        "colab": {
          "base_uri": "https://localhost:8080/",
          "height": 74
        },
        "outputId": "73a25750-4b6a-4ade-b4ab-79d04dcfc6ca"
      },
      "source": [
        "import numpy as np\n",
        "import pandas as pd\n",
        "import matplotlib.pyplot as plt\n",
        "import seaborn as sns\n",
        "\n",
        "from sklearn.linear_model import LinearRegression, Lasso, LassoCV, Ridge, RidgeCV, ElasticNet, ElasticNetCV, \\\n",
        "                                 SGDRegressor, HuberRegressor, LogisticRegression\n",
        "\n",
        "from sklearn.preprocessing import StandardScaler, PolynomialFeatures\n",
        "from sklearn.model_selection import train_test_split, GridSearchCV\n",
        "from sklearn.metrics import mean_squared_error"
      ],
      "execution_count": 1,
      "outputs": [
        {
          "output_type": "stream",
          "text": [
            "/usr/local/lib/python3.6/dist-packages/statsmodels/tools/_testing.py:19: FutureWarning: pandas.util.testing is deprecated. Use the functions in the public API at pandas.testing instead.\n",
            "  import pandas.util.testing as tm\n"
          ],
          "name": "stderr"
        }
      ]
    },
    {
      "cell_type": "code",
      "metadata": {
        "id": "78-MYLLrVYNG",
        "colab_type": "code",
        "colab": {}
      },
      "source": [
        "from google.colab import drive\n",
        "drive.mount('/content/drive')"
      ],
      "execution_count": null,
      "outputs": []
    },
    {
      "cell_type": "markdown",
      "metadata": {
        "id": "YDrVIHYa4tR_",
        "colab_type": "text"
      },
      "source": [
        "# Read data "
      ]
    },
    {
      "cell_type": "code",
      "metadata": {
        "id": "Qtb-fH9S4tSA",
        "colab_type": "code",
        "colab": {
          "base_uri": "https://localhost:8080/",
          "height": 35
        },
        "outputId": "94185203-1a64-47ed-e01d-7751ed6e2c28"
      },
      "source": [
        "dataset = pd.read_csv('/content/drive/My Drive/datasets/dataset.csv')\n",
        "dataset.shape"
      ],
      "execution_count": 7,
      "outputs": [
        {
          "output_type": "execute_result",
          "data": {
            "text/plain": [
              "(1456, 80)"
            ]
          },
          "metadata": {
            "tags": []
          },
          "execution_count": 7
        }
      ]
    },
    {
      "cell_type": "code",
      "metadata": {
        "id": "CqGyhuQ24tSG",
        "colab_type": "code",
        "colab": {
          "base_uri": "https://localhost:8080/",
          "height": 205
        },
        "outputId": "7dc480ab-651f-474f-8f8a-84c1f1ff058a"
      },
      "source": [
        "dataset.head(4)"
      ],
      "execution_count": 8,
      "outputs": [
        {
          "output_type": "execute_result",
          "data": {
            "text/html": [
              "<div>\n",
              "<style scoped>\n",
              "    .dataframe tbody tr th:only-of-type {\n",
              "        vertical-align: middle;\n",
              "    }\n",
              "\n",
              "    .dataframe tbody tr th {\n",
              "        vertical-align: top;\n",
              "    }\n",
              "\n",
              "    .dataframe thead th {\n",
              "        text-align: right;\n",
              "    }\n",
              "</style>\n",
              "<table border=\"1\" class=\"dataframe\">\n",
              "  <thead>\n",
              "    <tr style=\"text-align: right;\">\n",
              "      <th></th>\n",
              "      <th>Unnamed: 0</th>\n",
              "      <th>MSSubClass</th>\n",
              "      <th>MSZoning</th>\n",
              "      <th>LotFrontage</th>\n",
              "      <th>LotArea</th>\n",
              "      <th>Street</th>\n",
              "      <th>Alley</th>\n",
              "      <th>LotShape</th>\n",
              "      <th>LandContour</th>\n",
              "      <th>LotConfig</th>\n",
              "      <th>LandSlope</th>\n",
              "      <th>Neighborhood</th>\n",
              "      <th>Condition1</th>\n",
              "      <th>Condition2</th>\n",
              "      <th>BldgType</th>\n",
              "      <th>HouseStyle</th>\n",
              "      <th>OverallQual</th>\n",
              "      <th>OverallCond</th>\n",
              "      <th>YearBuilt</th>\n",
              "      <th>YearRemodAdd</th>\n",
              "      <th>RoofStyle</th>\n",
              "      <th>RoofMatl</th>\n",
              "      <th>Exterior1st</th>\n",
              "      <th>Exterior2nd</th>\n",
              "      <th>MasVnrType</th>\n",
              "      <th>MasVnrArea</th>\n",
              "      <th>ExterQual</th>\n",
              "      <th>ExterCond</th>\n",
              "      <th>Foundation</th>\n",
              "      <th>BsmtQual</th>\n",
              "      <th>BsmtCond</th>\n",
              "      <th>BsmtExposure</th>\n",
              "      <th>BsmtFinType1</th>\n",
              "      <th>BsmtFinSF1</th>\n",
              "      <th>BsmtFinType2</th>\n",
              "      <th>BsmtFinSF2</th>\n",
              "      <th>BsmtUnfSF</th>\n",
              "      <th>TotalBsmtSF</th>\n",
              "      <th>Heating</th>\n",
              "      <th>HeatingQC</th>\n",
              "      <th>CentralAir</th>\n",
              "      <th>Electrical</th>\n",
              "      <th>1stFlrSF</th>\n",
              "      <th>2ndFlrSF</th>\n",
              "      <th>LowQualFinSF</th>\n",
              "      <th>GrLivArea</th>\n",
              "      <th>BsmtFullBath</th>\n",
              "      <th>BsmtHalfBath</th>\n",
              "      <th>FullBath</th>\n",
              "      <th>HalfBath</th>\n",
              "      <th>BedroomAbvGr</th>\n",
              "      <th>KitchenAbvGr</th>\n",
              "      <th>KitchenQual</th>\n",
              "      <th>TotRmsAbvGrd</th>\n",
              "      <th>Functional</th>\n",
              "      <th>Fireplaces</th>\n",
              "      <th>FireplaceQu</th>\n",
              "      <th>GarageType</th>\n",
              "      <th>GarageYrBlt</th>\n",
              "      <th>GarageFinish</th>\n",
              "      <th>GarageCars</th>\n",
              "      <th>GarageArea</th>\n",
              "      <th>GarageQual</th>\n",
              "      <th>GarageCond</th>\n",
              "      <th>PavedDrive</th>\n",
              "      <th>WoodDeckSF</th>\n",
              "      <th>OpenPorchSF</th>\n",
              "      <th>EnclosedPorch</th>\n",
              "      <th>3SsnPorch</th>\n",
              "      <th>ScreenPorch</th>\n",
              "      <th>PoolArea</th>\n",
              "      <th>PoolQC</th>\n",
              "      <th>Fence</th>\n",
              "      <th>MiscFeature</th>\n",
              "      <th>MiscVal</th>\n",
              "      <th>MoSold</th>\n",
              "      <th>YrSold</th>\n",
              "      <th>SaleType</th>\n",
              "      <th>SaleCondition</th>\n",
              "      <th>SalePrice</th>\n",
              "    </tr>\n",
              "  </thead>\n",
              "  <tbody>\n",
              "    <tr>\n",
              "      <th>0</th>\n",
              "      <td>0</td>\n",
              "      <td>60</td>\n",
              "      <td>RL</td>\n",
              "      <td>65.0</td>\n",
              "      <td>8450</td>\n",
              "      <td>Pave</td>\n",
              "      <td>None</td>\n",
              "      <td>3</td>\n",
              "      <td>Lvl</td>\n",
              "      <td>Inside</td>\n",
              "      <td>Gtl</td>\n",
              "      <td>CollgCr</td>\n",
              "      <td>Norm</td>\n",
              "      <td>Norm</td>\n",
              "      <td>1Fam</td>\n",
              "      <td>2Story</td>\n",
              "      <td>7</td>\n",
              "      <td>5</td>\n",
              "      <td>2003</td>\n",
              "      <td>2003</td>\n",
              "      <td>Gable</td>\n",
              "      <td>CompShg</td>\n",
              "      <td>VinylSd</td>\n",
              "      <td>VinylSd</td>\n",
              "      <td>2</td>\n",
              "      <td>196.0</td>\n",
              "      <td>4</td>\n",
              "      <td>3</td>\n",
              "      <td>PConc</td>\n",
              "      <td>4</td>\n",
              "      <td>3</td>\n",
              "      <td>1</td>\n",
              "      <td>6</td>\n",
              "      <td>706.0</td>\n",
              "      <td>1</td>\n",
              "      <td>0.0</td>\n",
              "      <td>150.0</td>\n",
              "      <td>856.0</td>\n",
              "      <td>GasA</td>\n",
              "      <td>5</td>\n",
              "      <td>Y</td>\n",
              "      <td>SBrkr</td>\n",
              "      <td>856</td>\n",
              "      <td>854</td>\n",
              "      <td>0</td>\n",
              "      <td>1710</td>\n",
              "      <td>1.0</td>\n",
              "      <td>0.0</td>\n",
              "      <td>2</td>\n",
              "      <td>1</td>\n",
              "      <td>3</td>\n",
              "      <td>1</td>\n",
              "      <td>4</td>\n",
              "      <td>8</td>\n",
              "      <td>7</td>\n",
              "      <td>0</td>\n",
              "      <td>0</td>\n",
              "      <td>Attchd</td>\n",
              "      <td>2003.0</td>\n",
              "      <td>2</td>\n",
              "      <td>2.0</td>\n",
              "      <td>548.0</td>\n",
              "      <td>3</td>\n",
              "      <td>3</td>\n",
              "      <td>Y</td>\n",
              "      <td>0</td>\n",
              "      <td>61</td>\n",
              "      <td>0</td>\n",
              "      <td>0</td>\n",
              "      <td>0</td>\n",
              "      <td>0</td>\n",
              "      <td>0</td>\n",
              "      <td>None</td>\n",
              "      <td>None</td>\n",
              "      <td>0</td>\n",
              "      <td>2</td>\n",
              "      <td>2008</td>\n",
              "      <td>WD</td>\n",
              "      <td>Normal</td>\n",
              "      <td>12.247699</td>\n",
              "    </tr>\n",
              "    <tr>\n",
              "      <th>1</th>\n",
              "      <td>1</td>\n",
              "      <td>20</td>\n",
              "      <td>RL</td>\n",
              "      <td>80.0</td>\n",
              "      <td>9600</td>\n",
              "      <td>Pave</td>\n",
              "      <td>None</td>\n",
              "      <td>3</td>\n",
              "      <td>Lvl</td>\n",
              "      <td>FR2</td>\n",
              "      <td>Gtl</td>\n",
              "      <td>Veenker</td>\n",
              "      <td>Feedr</td>\n",
              "      <td>Norm</td>\n",
              "      <td>1Fam</td>\n",
              "      <td>1Story</td>\n",
              "      <td>6</td>\n",
              "      <td>8</td>\n",
              "      <td>1976</td>\n",
              "      <td>1976</td>\n",
              "      <td>Gable</td>\n",
              "      <td>CompShg</td>\n",
              "      <td>MetalSd</td>\n",
              "      <td>MetalSd</td>\n",
              "      <td>0</td>\n",
              "      <td>0.0</td>\n",
              "      <td>3</td>\n",
              "      <td>3</td>\n",
              "      <td>CBlock</td>\n",
              "      <td>4</td>\n",
              "      <td>3</td>\n",
              "      <td>4</td>\n",
              "      <td>5</td>\n",
              "      <td>978.0</td>\n",
              "      <td>1</td>\n",
              "      <td>0.0</td>\n",
              "      <td>284.0</td>\n",
              "      <td>1262.0</td>\n",
              "      <td>GasA</td>\n",
              "      <td>5</td>\n",
              "      <td>Y</td>\n",
              "      <td>SBrkr</td>\n",
              "      <td>1262</td>\n",
              "      <td>0</td>\n",
              "      <td>0</td>\n",
              "      <td>1262</td>\n",
              "      <td>0.0</td>\n",
              "      <td>1.0</td>\n",
              "      <td>2</td>\n",
              "      <td>0</td>\n",
              "      <td>3</td>\n",
              "      <td>1</td>\n",
              "      <td>3</td>\n",
              "      <td>6</td>\n",
              "      <td>7</td>\n",
              "      <td>1</td>\n",
              "      <td>3</td>\n",
              "      <td>Attchd</td>\n",
              "      <td>1976.0</td>\n",
              "      <td>2</td>\n",
              "      <td>2.0</td>\n",
              "      <td>460.0</td>\n",
              "      <td>3</td>\n",
              "      <td>3</td>\n",
              "      <td>Y</td>\n",
              "      <td>298</td>\n",
              "      <td>0</td>\n",
              "      <td>0</td>\n",
              "      <td>0</td>\n",
              "      <td>0</td>\n",
              "      <td>0</td>\n",
              "      <td>0</td>\n",
              "      <td>None</td>\n",
              "      <td>None</td>\n",
              "      <td>0</td>\n",
              "      <td>5</td>\n",
              "      <td>2007</td>\n",
              "      <td>WD</td>\n",
              "      <td>Normal</td>\n",
              "      <td>12.109016</td>\n",
              "    </tr>\n",
              "    <tr>\n",
              "      <th>2</th>\n",
              "      <td>2</td>\n",
              "      <td>60</td>\n",
              "      <td>RL</td>\n",
              "      <td>68.0</td>\n",
              "      <td>11250</td>\n",
              "      <td>Pave</td>\n",
              "      <td>None</td>\n",
              "      <td>2</td>\n",
              "      <td>Lvl</td>\n",
              "      <td>Inside</td>\n",
              "      <td>Gtl</td>\n",
              "      <td>CollgCr</td>\n",
              "      <td>Norm</td>\n",
              "      <td>Norm</td>\n",
              "      <td>1Fam</td>\n",
              "      <td>2Story</td>\n",
              "      <td>7</td>\n",
              "      <td>5</td>\n",
              "      <td>2001</td>\n",
              "      <td>2002</td>\n",
              "      <td>Gable</td>\n",
              "      <td>CompShg</td>\n",
              "      <td>VinylSd</td>\n",
              "      <td>VinylSd</td>\n",
              "      <td>2</td>\n",
              "      <td>162.0</td>\n",
              "      <td>4</td>\n",
              "      <td>3</td>\n",
              "      <td>PConc</td>\n",
              "      <td>4</td>\n",
              "      <td>3</td>\n",
              "      <td>2</td>\n",
              "      <td>6</td>\n",
              "      <td>486.0</td>\n",
              "      <td>1</td>\n",
              "      <td>0.0</td>\n",
              "      <td>434.0</td>\n",
              "      <td>920.0</td>\n",
              "      <td>GasA</td>\n",
              "      <td>5</td>\n",
              "      <td>Y</td>\n",
              "      <td>SBrkr</td>\n",
              "      <td>920</td>\n",
              "      <td>866</td>\n",
              "      <td>0</td>\n",
              "      <td>1786</td>\n",
              "      <td>1.0</td>\n",
              "      <td>0.0</td>\n",
              "      <td>2</td>\n",
              "      <td>1</td>\n",
              "      <td>3</td>\n",
              "      <td>1</td>\n",
              "      <td>4</td>\n",
              "      <td>6</td>\n",
              "      <td>7</td>\n",
              "      <td>1</td>\n",
              "      <td>3</td>\n",
              "      <td>Attchd</td>\n",
              "      <td>2001.0</td>\n",
              "      <td>2</td>\n",
              "      <td>2.0</td>\n",
              "      <td>608.0</td>\n",
              "      <td>3</td>\n",
              "      <td>3</td>\n",
              "      <td>Y</td>\n",
              "      <td>0</td>\n",
              "      <td>42</td>\n",
              "      <td>0</td>\n",
              "      <td>0</td>\n",
              "      <td>0</td>\n",
              "      <td>0</td>\n",
              "      <td>0</td>\n",
              "      <td>None</td>\n",
              "      <td>None</td>\n",
              "      <td>0</td>\n",
              "      <td>9</td>\n",
              "      <td>2008</td>\n",
              "      <td>WD</td>\n",
              "      <td>Normal</td>\n",
              "      <td>12.317171</td>\n",
              "    </tr>\n",
              "    <tr>\n",
              "      <th>3</th>\n",
              "      <td>3</td>\n",
              "      <td>70</td>\n",
              "      <td>RL</td>\n",
              "      <td>60.0</td>\n",
              "      <td>9550</td>\n",
              "      <td>Pave</td>\n",
              "      <td>None</td>\n",
              "      <td>2</td>\n",
              "      <td>Lvl</td>\n",
              "      <td>Corner</td>\n",
              "      <td>Gtl</td>\n",
              "      <td>Crawfor</td>\n",
              "      <td>Norm</td>\n",
              "      <td>Norm</td>\n",
              "      <td>1Fam</td>\n",
              "      <td>2Story</td>\n",
              "      <td>7</td>\n",
              "      <td>5</td>\n",
              "      <td>1915</td>\n",
              "      <td>1970</td>\n",
              "      <td>Gable</td>\n",
              "      <td>CompShg</td>\n",
              "      <td>Wd Sdng</td>\n",
              "      <td>Wd Shng</td>\n",
              "      <td>0</td>\n",
              "      <td>0.0</td>\n",
              "      <td>3</td>\n",
              "      <td>3</td>\n",
              "      <td>BrkTil</td>\n",
              "      <td>3</td>\n",
              "      <td>4</td>\n",
              "      <td>1</td>\n",
              "      <td>5</td>\n",
              "      <td>216.0</td>\n",
              "      <td>1</td>\n",
              "      <td>0.0</td>\n",
              "      <td>540.0</td>\n",
              "      <td>756.0</td>\n",
              "      <td>GasA</td>\n",
              "      <td>4</td>\n",
              "      <td>Y</td>\n",
              "      <td>SBrkr</td>\n",
              "      <td>961</td>\n",
              "      <td>756</td>\n",
              "      <td>0</td>\n",
              "      <td>1717</td>\n",
              "      <td>1.0</td>\n",
              "      <td>0.0</td>\n",
              "      <td>1</td>\n",
              "      <td>0</td>\n",
              "      <td>3</td>\n",
              "      <td>1</td>\n",
              "      <td>4</td>\n",
              "      <td>7</td>\n",
              "      <td>7</td>\n",
              "      <td>1</td>\n",
              "      <td>4</td>\n",
              "      <td>Detchd</td>\n",
              "      <td>1998.0</td>\n",
              "      <td>1</td>\n",
              "      <td>3.0</td>\n",
              "      <td>642.0</td>\n",
              "      <td>3</td>\n",
              "      <td>3</td>\n",
              "      <td>Y</td>\n",
              "      <td>0</td>\n",
              "      <td>35</td>\n",
              "      <td>272</td>\n",
              "      <td>0</td>\n",
              "      <td>0</td>\n",
              "      <td>0</td>\n",
              "      <td>0</td>\n",
              "      <td>None</td>\n",
              "      <td>None</td>\n",
              "      <td>0</td>\n",
              "      <td>2</td>\n",
              "      <td>2006</td>\n",
              "      <td>WD</td>\n",
              "      <td>Abnorml</td>\n",
              "      <td>11.849405</td>\n",
              "    </tr>\n",
              "  </tbody>\n",
              "</table>\n",
              "</div>"
            ],
            "text/plain": [
              "   Unnamed: 0  MSSubClass MSZoning  ...  SaleType  SaleCondition  SalePrice\n",
              "0           0          60       RL  ...        WD         Normal  12.247699\n",
              "1           1          20       RL  ...        WD         Normal  12.109016\n",
              "2           2          60       RL  ...        WD         Normal  12.317171\n",
              "3           3          70       RL  ...        WD        Abnorml  11.849405\n",
              "\n",
              "[4 rows x 80 columns]"
            ]
          },
          "metadata": {
            "tags": []
          },
          "execution_count": 8
        }
      ]
    },
    {
      "cell_type": "markdown",
      "metadata": {
        "id": "WAaouZmW4tYc",
        "colab_type": "text"
      },
      "source": [
        "# 3. Data preparation\n",
        "\n"
      ]
    },
    {
      "cell_type": "markdown",
      "metadata": {
        "id": "7saOaqMV4tYd",
        "colab_type": "text"
      },
      "source": [
        "We  convert categorical variables to dummy variables. "
      ]
    },
    {
      "cell_type": "code",
      "metadata": {
        "scrolled": true,
        "id": "EHQVQtJN4tYd",
        "colab_type": "code",
        "colab": {
          "base_uri": "https://localhost:8080/",
          "height": 35
        },
        "outputId": "519dbc02-c3fc-41bd-b2bc-29a55eb353fa"
      },
      "source": [
        "dataset = pd.get_dummies(dataset)\n",
        "print(dataset.shape)"
      ],
      "execution_count": 9,
      "outputs": [
        {
          "output_type": "stream",
          "text": [
            "(1456, 230)\n"
          ],
          "name": "stdout"
        }
      ]
    },
    {
      "cell_type": "markdown",
      "metadata": {
        "id": "Uih4AS-y4tYh",
        "colab_type": "text"
      },
      "source": [
        "We split data in training and testing datasets."
      ]
    },
    {
      "cell_type": "code",
      "metadata": {
        "id": "cZvnyM6K4tYi",
        "colab_type": "code",
        "colab": {}
      },
      "source": [
        "x_train,x_test,y_train,y_test=train_test_split(dataset.drop('SalePrice', axis=1),dataset.SalePrice,test_size=0.33,random_state=66)\n"
      ],
      "execution_count": 10,
      "outputs": []
    },
    {
      "cell_type": "markdown",
      "metadata": {
        "id": "uVkt4gZz4tY3",
        "colab_type": "text"
      },
      "source": [
        "#  4. Generalized Linear Models"
      ]
    },
    {
      "cell_type": "markdown",
      "metadata": {
        "id": "EG5HipZf4tY4",
        "colab_type": "text"
      },
      "source": [
        "## 4.1 Introduction\n"
      ]
    },
    {
      "cell_type": "markdown",
      "metadata": {
        "id": "RtefogQm4tY5",
        "colab_type": "text"
      },
      "source": [
        "\n",
        "\n",
        "The following are a set of methods intended for regression in which the target value is expected to be a linear combination of the features. In mathematical notation,\n",
        "\n",
        "$$\\hat{y}(\\theta,x)=\\theta_{0}+\\theta_{1}x_{1}+...+\\theta_{n}x_{n}$$\n",
        "- $\\hat{y}$ is the predicted value.\n",
        "- $n$ is the number of features (independent variables).\n",
        "- $x_i$ is the $i$th feature.\n",
        "- $\\theta_j$ is the $j$th model parameter (including the bias term $\\theta_0$ and the feature weights $\\theta_1,...,\\theta_n$).\n",
        "\n",
        "This equation can be written using a vectorized form $\\hat{y}=h_{\\boldsymbol{\\theta}}(\\boldsymbol{x})= \\boldsymbol{\\theta}\\boldsymbol{x}$\n",
        "\n",
        "- $\\boldsymbol{\\theta}$ is the models's parameter vector, containing the bias term $\\theta_0$ and the feature weights $\\theta_1,...,\\theta_n$.\n",
        "- $\\boldsymbol{x}$ is the instance’s feature vector, containing $x_0$ to $x_n$ , with $x_0$ always equal to 1.\n",
        "- $\\boldsymbol{\\theta}\\boldsymbol{x}$ is the dot product of the vectors $\\boldsymbol{\\theta}$ and $\\boldsymbol{x}$.\n",
        "\n",
        "**Notation** Vectors are often represented as column vectors. If $\\boldsymbol{\\theta}$ and $\\boldsymbol{x}$ are column vectors, then the prediction is: $\\hat{y}= \\boldsymbol{\\theta^T}\\boldsymbol{x}$, where $\\boldsymbol{\\theta^T}$ is the transpose of $\\boldsymbol{\\theta}$ (a row vector instead of a column vector) and $\\boldsymbol{\\theta^T}\\boldsymbol{x}$ is the matrix multiplication of $\\boldsymbol{\\theta^T}$ and $\\boldsymbol{x}$ ."
      ]
    },
    {
      "cell_type": "markdown",
      "metadata": {
        "id": "sKdtWGVg4tY6",
        "colab_type": "text"
      },
      "source": [
        "## 4.2 LinearRegression\n"
      ]
    },
    {
      "cell_type": "markdown",
      "metadata": {
        "id": "UB8DqSug4tY7",
        "colab_type": "text"
      },
      "source": [
        "\n",
        "That’s the linear regression model. Recall that training a model means setting its parameters so that the model best fits the training set. For this purpose, we first need a measure of how well the model fits the training data. The most common performance measure of a regression model is the Mean Square Error (MSE) (the residual sum of squares between the observed targets in the dataset, and the targets predicted by the linear approximation). Therefore, to train a linear regression model, you need to find the value of $\\boldsymbol{\\theta}$ that minimizes the MSE. \n",
        "\n",
        "\n",
        "$$\\text{MSE}(\\boldsymbol{\\theta})= \\frac{1}{m}\\sum_{i=1}^{m} (e^{(i)})^2 =  \\frac{1}{m}\\sum_{i=1}^{m}(\\hat{y}^{(i)} - y^{(i)})^2=\\frac{1}{m}\\sum_{i=1}^{m}(\\boldsymbol{\\theta}^T\\boldsymbol{x}^{(i)} - y^{(i)})^2$$\n",
        "\n",
        "To find the value of $\\boldsymbol{\\theta}$ that minimizes the cost function (MSE), there is an explicit solution (a mathematical equation that gives the result directly). This is called the **Normal Equation** and can be calculated using the ordinary least squares method (minimizing the MSE  by\n",
        "explicitly taking its derivatives with respect to the $\\theta_j$’s, and setting them to zero).\n",
        "\n",
        "$$\\boldsymbol{\\hat{\\theta}}=(\\boldsymbol{X^T}\\boldsymbol{X})^{-1}\\boldsymbol{X^T}\\boldsymbol{y}$$\n",
        "\n",
        "where $\\boldsymbol{\\hat{\\theta}}$ is the value of $\\boldsymbol{\\theta}$ that minimizes the cost function, $\\boldsymbol{y}$ is the vector of target values and $\\boldsymbol{X}$ is the matrix of data where the columns represent the independent variables $\\boldsymbol{X_1},...,\\boldsymbol{X_n}$ ($\\boldsymbol{X_0}$ is a 1's vector column corresponding to the bias/intercept term).\n",
        "\n",
        "The `LinearRegression` class implemented in Scikit-learn is based on the `scipy.linalg.lstsq()` function which computes $\\boldsymbol{\\hat{\\theta}}=\\boldsymbol{X^+}\\boldsymbol{y}$ where $\\boldsymbol{X^+}$ is the *pseudoinverse* of $\\boldsymbol{X}$ (specifically the Moore-Penrose inverse). The pseudoinverse is computed using a standard matrix factorization technique called *Singular Value Decomposition* (SVD). This approach is more efficient than computing the Normal Equation, plus it handles edge cases nicely: indeed, the Normal Equation may not work if the matrix $\\boldsymbol{X^T}\\boldsymbol{X}$ is not invertible (singular), such as if $m< p$  or if some features are redundant, but the pseudoinverse is always defined. The computational complexity of inverting the matrix $\\boldsymbol{X^T}\\boldsymbol{X}$ is bigger than the SVD approach used by Scikit-Learn’s `LinearRegression` class. Both the Normal Equation and the SVD approach get very slow when the number of features grows large ($100000$). On the positive side, both are linear with regards to the number of instances in the training set, so they handle large training sets efficiently."
      ]
    },
    {
      "cell_type": "markdown",
      "metadata": {
        "id": "Svs2KrIb4tY8",
        "colab_type": "text"
      },
      "source": [
        "The coefficient estimates for Ordinary Least Squares rely on the independence of the features among other assumptions like the normality of the errors. When features are correlated and the columns of the design matrix $\\boldsymbol{X}$ have an approximately linear dependence, the design matrix becomes close to singular and as a result, the least-squares estimate becomes highly sensitive to random errors in the observed target, producing a large variance. This situation of [*multicollinearity*](https://en.wikipedia.org/wiki/Multicollinearity) can arise, for example, when data are collected without an experimental design.\n",
        "\n",
        "We can train the model using fewer variables. For that, we can use different techniques to choose the most relevant variables. We can use algorithms of feature selection before to run our models or we can apply directly models which do the selection of variables innerly like regularized linear models. We could use PCA to reduce variables without loss information but we will lose certain interpretability of the model.\n"
      ]
    },
    {
      "cell_type": "code",
      "metadata": {
        "scrolled": true,
        "id": "A3TG12BL4tY-",
        "colab_type": "code",
        "colab": {}
      },
      "source": [
        "# We choose the model\n",
        "model = LinearRegression()\n",
        "\n",
        "# We train the model\n",
        "fit_regression = model.fit(x_train, y_train)"
      ],
      "execution_count": 11,
      "outputs": []
    },
    {
      "cell_type": "code",
      "metadata": {
        "id": "zgVyn0pkVqx5",
        "colab_type": "code",
        "colab": {
          "base_uri": "https://localhost:8080/",
          "height": 90
        },
        "outputId": "5b928d5a-babd-49e4-9832-2d5a6af59f19"
      },
      "source": [
        "# We show the coefficient of determination R^2, which is the proportion of the variance in the dependent variable that is \n",
        "# predictable/explained from the independent variables.\n",
        "print('Explained variance in training set: %.3f' % fit_regression.score(x_train, y_train))\n",
        "print('Explained variance in test set: %.3f' % fit_regression.score(x_test, y_test))\n",
        "\n",
        "# We see the mean squared error\n",
        "y_pred_train = fit_regression.predict(x_train)\n",
        "y_pred_test = fit_regression.predict(x_test)\n",
        "print(\"Mean squared error in training set: %.4f\" % mean_squared_error(y_train, y_pred_train))\n",
        "print(\"Mean squared error in test set: %.4f\" % mean_squared_error(y_test, y_pred_test))"
      ],
      "execution_count": 12,
      "outputs": [
        {
          "output_type": "stream",
          "text": [
            "Explained variance in training set: 0.950\n",
            "Explained variance in test set: 0.899\n",
            "Mean squared error in training set: 0.0082\n",
            "Mean squared error in test set: 0.0144\n"
          ],
          "name": "stdout"
        }
      ]
    },
    {
      "cell_type": "markdown",
      "metadata": {
        "id": "J8zXmrfo4tZH",
        "colab_type": "text"
      },
      "source": [
        "Note that there are very different ways to train a linear regression model, better suited for cases where there are a large number of features or too many training instances. For example, if the training set has a large number of features we could train the linear model using an optimization algorithm like gradient descent instead using the normal equation or the SVD approach used by `LinearRegression` class implemented in Scikit-learn. Later we will use the stochastic gradient descent algorithm implemented Scikit-learn by `SGDRegressor` class to train our model."
      ]
    },
    {
      "cell_type": "markdown",
      "metadata": {
        "id": "yCWL9hVJX8Cq",
        "colab_type": "text"
      },
      "source": [
        "### Assumptions"
      ]
    },
    {
      "cell_type": "markdown",
      "metadata": {
        "id": "ID-jAVjyX_Oa",
        "colab_type": "text"
      },
      "source": [
        "- We assume that the target variable (dependent variable) and the inputs (independent variables) are related **linearly**, this is, verify the equation $y^{(i)}=\\boldsymbol{\\theta}^T\\boldsymbol{x}^{(i)}+\\epsilon^{(i)}$, where $\\epsilon^{(i)}$ is an error term that captures either unmodeled effects (such as some important features left out of the model), or random noise.\n",
        "\n",
        "- We assume that the $\\epsilon^{(i)}$ are distributed IID (independently and identically distributed) according to a Gaussian distribution (Normal distribution) with mean zero and some variance $\\sigma^2$. We can write this assumption as $\\epsilon^{(i)}\\sim \\mathcal{N}(0,\\sigma^2)$. The assumption that the variance of residual is the same for any observation is known as **homocedasticity**.\n",
        "\n",
        "- Observations are independent of each other.\n",
        "\n",
        "Violations of the basic assumptions and model adequacy can be easily investigated by the examination of residuals. A check of the normality assumption could be made by plotting a histogram of the residuals or a normal probability plot (we also can use statistical test to check the normality of the residuals). If the model is correct and the assumptions are satisfied, the residuals should be structureless; in particular, they should be unrelated to any other variable including the predicted response. A simple check is to plot the residuals versus the fitted values. This plot should not reveal any obvious pattern (there are also statistical tests to check the homoicedasticity of the residuals).\n",
        "\n"
      ]
    },
    {
      "cell_type": "markdown",
      "metadata": {
        "id": "f8ErcoAwbuIX",
        "colab_type": "text"
      },
      "source": [
        "### Probabilistic interpretation of linear regression model"
      ]
    },
    {
      "cell_type": "markdown",
      "metadata": {
        "id": "Pq1cln5BbxGi",
        "colab_type": "text"
      },
      "source": [
        "By the assumptions in the regression model we have that $\\epsilon^{(i)}\\sim \\mathcal{N}(0,\\sigma^2)$ and  $y^{(i)}=\\boldsymbol{\\theta}^T\\boldsymbol{x}^{(i)}+\\epsilon^{(i)}$. Hence, $y^{(i)}|\\boldsymbol{x}^{(i)};\\boldsymbol{\\theta} \\sim \\mathcal{N}(\\boldsymbol{\\theta}^T\\boldsymbol{x}^{(i)},\\sigma^2)$.\n",
        "\n",
        "The probability of the data is given by\n",
        "$p(\\boldsymbol{y}|\\boldsymbol{X}; \\boldsymbol{\\theta})$. This quantity is typically viewed a function of $\\boldsymbol{y}$ (and perhaps $\\boldsymbol{X}$),for a fixed value of $\\boldsymbol{\\theta}$. When we wish to explicitly view this as a function of $\\boldsymbol{\\theta}$, we call it the **likelihood** function:\n",
        "\n",
        "$$L(\\boldsymbol{\\theta})=L(\\boldsymbol{\\theta};\\boldsymbol{X},\\boldsymbol{y})=p(\\boldsymbol{y}|\\boldsymbol{X}; \\boldsymbol{\\theta})$$\n",
        "\n",
        "Now, what is a reasonable way of choosing our best guess of the parameters $\\boldsymbol{\\theta}$? The principal of maximum likelihood says that we should choose $\\boldsymbol{\\theta}$ so as to make the data as high probability as possible. This is, we should choose $\\boldsymbol{\\theta}$ to\n",
        "maximize $L(\\boldsymbol{\\theta})$. The derivations will be a bit simpler if we instead maximize the log likelihood,  $\\text{log}L(\\boldsymbol{\\theta})$. Taking its derivatives with respect to the parameters, and setting them to zero we could get the normal equation again. So, under the probabilistic assumptions on the data, least-squares regression and maximum likelihood give us the same estimation of the parameters $\\boldsymbol{\\theta}$. \n",
        "\n"
      ]
    },
    {
      "cell_type": "markdown",
      "metadata": {
        "id": "h2wjQ1xW4tZI",
        "colab_type": "text"
      },
      "source": [
        "## 4.3 Polynomial regression"
      ]
    },
    {
      "cell_type": "markdown",
      "metadata": {
        "id": "RLJmdaAf4tZJ",
        "colab_type": "text"
      },
      "source": [
        "One common pattern within machine learning is to use linear models trained on nonlinear functions of the data. This approach maintains the generally fast performance of linear methods while allowing them to fit a much wider range of data.\n",
        "\n",
        "For example, a simple linear regression can be extended by constructing polynomial features from the coefficients. In the standard linear regression case, you might have a model that looks like this for two-dimensional data:\n",
        "\n",
        "$$y(\\theta_,x)=\\theta_{0}+\\theta_{1}x_{1}+\\theta_{2}x_{2}$$\n",
        "\n",
        "If we want to fit a paraboloid to the data instead of a plane, we can combine the features in second-order polynomials, so that the model looks like this:\n",
        "\n",
        "$$y(\\theta_,x)=\\theta_{0}+\\theta_{1}x_{1}+\\theta_{2}x_{2}+\\theta_{3}x_{1}x_{2}+\\theta_{4}x_{1}^{2}+\\theta_{5}x_{2}^{2}$$\n",
        "\n",
        "The (sometimes surprising) observation is that this is still a linear model: to see this, imagine creating a new set of features\n",
        "\n",
        "$$z=[x_{1},x_{2},x_{1}x_{2},x_{1}^{2},x_{2}^{2}]$$\n",
        "\n",
        "With this re-labeling of the data, our problem can be written\n",
        "\n",
        "$$y(\\theta_,x)=\\theta_{0}+\\theta_{1}z_{1}+\\theta_{2}z_{2}+\\theta_{3}z_{3}+\\theta_{4}z_{4}+\\theta_{5}z_{5}$$\n",
        "\n",
        "We see that the resulting polynomial regression is in the same class of linear models we considered above and can be solved by the same techniques. By considering linear fits within a higher-dimensional space built with these basis functions, the model has the flexibility to fit a much broader range of data.\n",
        "\n",
        "\n",
        "Here is an example of applying this idea to one-dimensional data, using polynomial features. First, let’s generate some nonlinear data, based on a simple quadratic equation.\n",
        "\n"
      ]
    },
    {
      "cell_type": "code",
      "metadata": {
        "id": "A8lxuRVm4tZK",
        "colab_type": "code",
        "colab": {
          "base_uri": "https://localhost:8080/",
          "height": 291
        },
        "outputId": "a0db3e1a-d0b5-4560-e4af-1b83a209a8fa"
      },
      "source": [
        "m = 100\n",
        "X = 6 * np.random.rand(m, 1) - 3\n",
        "y = 0.5 * X**2 + X + 2 + np.random.randn(m, 1)\n",
        "\n",
        "plt.plot(X, y, \"b.\")\n",
        "plt.xlabel(\"$x_1$\", fontsize=18)\n",
        "plt.ylabel(\"$y$\", rotation=0, fontsize=18)\n",
        "plt.axis([-3, 3, 0, 10])\n",
        "plt.show()"
      ],
      "execution_count": 13,
      "outputs": [
        {
          "output_type": "display_data",
          "data": {
            "image/png": "[encoded data removed]",
            "text/plain": [
              "<Figure size 432x288 with 1 Axes>"
            ]
          },
          "metadata": {
            "tags": [],
            "needs_background": "light"
          }
        }
      ]
    },
    {
      "cell_type": "markdown",
      "metadata": {
        "id": "4Vy4lqezuPko",
        "colab_type": "text"
      },
      "source": [
        "A straight line will never fit this data properly. So let’s use Scikit-Learn’s `PolynomialFeatures` class to transform our training data, adding the square ($2^{\\text{nd}}$-degree polynomial) of each feature in the training set as new features (in this case there is just one feature):\n",
        "\n",
        "**Note**: `PolynomialFeatures(degree=d)` generates a new feature matrix consisting of all polynomial combinations of the features with a degree less than or equal to the specified degree $d$. Specifically, it transforms an array containing $n$ features into an array containing $\\frac{(n+d)!}{d!n!}$ \n",
        "features, where $n!$ is the [factorial](https://en.wikipedia.org/wiki/Factorial) of $n$. Beware of the combinatorial explosion of the number of features!"
      ]
    },
    {
      "cell_type": "code",
      "metadata": {
        "id": "w_wASQE04tZN",
        "colab_type": "code",
        "colab": {
          "base_uri": "https://localhost:8080/",
          "height": 291
        },
        "outputId": "f028297f-9f48-4fc9-995a-7bb4a0bf4cbd"
      },
      "source": [
        "poly_features = PolynomialFeatures(degree=2, include_bias=False)\n",
        "X_poly = poly_features.fit_transform(X)\n",
        "lin_reg = LinearRegression()\n",
        "lin_reg.fit(X_poly, y)\n",
        "\n",
        "X_new=np.linspace(-3, 3, 100).reshape(100, 1)\n",
        "X_new_poly = poly_features.transform(X_new)\n",
        "y_new = lin_reg.predict(X_new_poly)\n",
        "plt.plot(X, y, \"b.\")\n",
        "plt.plot(X_new, y_new, \"r-\", linewidth=2, label=\"Predictions\")\n",
        "plt.xlabel(\"$x_1$\", fontsize=18)\n",
        "plt.ylabel(\"$y$\", rotation=0, fontsize=18)\n",
        "plt.legend(loc=\"upper left\", fontsize=14)\n",
        "plt.axis([-3, 3, 0, 10])\n",
        "plt.show()"
      ],
      "execution_count": 14,
      "outputs": [
        {
          "output_type": "display_data",
          "data": {
            "image/png": "[encoded data removed]",
            "text/plain": [
              "<Figure size 432x288 with 1 Axes>"
            ]
          },
          "metadata": {
            "tags": [],
            "needs_background": "light"
          }
        }
      ]
    },
    {
      "cell_type": "markdown",
      "metadata": {
        "id": "Q5WPy4lcoOXW",
        "colab_type": "text"
      },
      "source": [
        "`X_poly` contains the original feature of $X$ plus the square of this feature. Then we fit a `LinearRegression` model to this extended training data."
      ]
    },
    {
      "cell_type": "code",
      "metadata": {
        "id": "D5tnN8lLoOur",
        "colab_type": "code",
        "colab": {
          "base_uri": "https://localhost:8080/",
          "height": 291
        },
        "outputId": "10ec41cc-6e90-4585-b776-9e21d8ed0a38"
      },
      "source": [
        "from sklearn.preprocessing import StandardScaler\n",
        "from sklearn.pipeline import Pipeline\n",
        "\n",
        "for style, width, degree in ((\"g-\", 1, 300), (\"b--\", 2, 2), (\"r-+\", 2, 1)):\n",
        "    polybig_features = PolynomialFeatures(degree=degree, include_bias=False)\n",
        "    std_scaler = StandardScaler()\n",
        "    lin_reg = LinearRegression()\n",
        "    polynomial_regression = Pipeline([\n",
        "            (\"poly_features\", polybig_features),\n",
        "            (\"std_scaler\", std_scaler),\n",
        "            (\"lin_reg\", lin_reg),\n",
        "        ])\n",
        "    polynomial_regression.fit(X, y)\n",
        "    y_newbig = polynomial_regression.predict(X_new)\n",
        "    plt.plot(X_new, y_newbig, style, label=str(degree), linewidth=width)\n",
        "\n",
        "plt.plot(X, y, \"b.\", linewidth=3)\n",
        "plt.legend(loc=\"upper left\")\n",
        "plt.xlabel(\"$x_1$\", fontsize=18)\n",
        "plt.ylabel(\"$y$\", rotation=0, fontsize=18)\n",
        "plt.axis([-3, 3, 0, 10])\n",
        "plt.show()"
      ],
      "execution_count": 15,
      "outputs": [
        {
          "output_type": "display_data",
          "data": {
            "image/png": "[encoded data removed]",
            "text/plain": [
              "<Figure size 432x288 with 1 Axes>"
            ]
          },
          "metadata": {
            "tags": [],
            "needs_background": "light"
          }
        }
      ]
    },
    {
      "cell_type": "markdown",
      "metadata": {
        "id": "c2G0RuDp4tZS",
        "colab_type": "text"
      },
      "source": [
        "\n",
        "\n",
        "\n",
        "A high-degree Polynomial Regression model would be severely overfitting the training data, while a linear model would be underfitting it. The model that will generalize best is the quadratic model.\n",
        "\n",
        "How can you decide how complex your model should be? If a model performs well on the training data but generalizes poorly according to the cross-validation metrics, then your model is overfitting. If it performs poorly on both, then it is underfitting.\n",
        "\n",
        "Another way is to look at the learning curves: these are plots of the model’s performance on the training set and the validation set as a function of the training set size (or the training iteration). To generate the plots, simply train the model several times on different sized subsets of the training set."
      ]
    },
    {
      "cell_type": "code",
      "metadata": {
        "id": "YOPxPx3Oqku2",
        "colab_type": "code",
        "colab": {}
      },
      "source": [
        "from sklearn.metrics import mean_squared_error\n",
        "from sklearn.model_selection import train_test_split\n",
        "\n",
        "def plot_learning_curves(model, X, y):\n",
        "    X_train, X_val, y_train, y_val = train_test_split(X, y, test_size=0.2, random_state=10)\n",
        "    train_errors, val_errors = [], []\n",
        "    for m in range(1, len(X_train)):\n",
        "        model.fit(X_train[:m], y_train[:m])\n",
        "        y_train_predict = model.predict(X_train[:m])\n",
        "        y_val_predict = model.predict(X_val)\n",
        "        train_errors.append(mean_squared_error(y_train[:m], y_train_predict))\n",
        "        val_errors.append(mean_squared_error(y_val, y_val_predict))\n",
        "\n",
        "    plt.plot(np.sqrt(train_errors), \"r-+\", linewidth=2, label=\"train\")\n",
        "    plt.plot(np.sqrt(val_errors), \"b-\", linewidth=3, label=\"val\")\n",
        "    plt.legend(loc=\"upper right\", fontsize=14)\n",
        "    plt.xlabel(\"Training set size\", fontsize=14) \n",
        "    plt.ylabel(\"RMSE\", fontsize=14)              "
      ],
      "execution_count": 16,
      "outputs": []
    },
    {
      "cell_type": "code",
      "metadata": {
        "id": "Jy0xXUOKqm2w",
        "colab_type": "code",
        "colab": {
          "base_uri": "https://localhost:8080/",
          "height": 287
        },
        "outputId": "ae656109-7312-412e-81e8-de0587af9282"
      },
      "source": [
        "\n",
        "lin_reg = LinearRegression()\n",
        "plot_learning_curves(lin_reg, X, y)\n",
        "plt.axis([0, 80, 0, 3])\n",
        "plt.show()  "
      ],
      "execution_count": 17,
      "outputs": [
        {
          "output_type": "display_data",
          "data": {
            "image/png": "[encoded data removed]",
            "text/plain": [
              "<Figure size 432x288 with 1 Axes>"
            ]
          },
          "metadata": {
            "tags": [],
            "needs_background": "light"
          }
        }
      ]
    },
    {
      "cell_type": "code",
      "metadata": {
        "id": "JksoobxQqvdu",
        "colab_type": "code",
        "colab": {
          "base_uri": "https://localhost:8080/",
          "height": 287
        },
        "outputId": "0b618a39-2f49-459e-ca3e-3fe47c6d2a3c"
      },
      "source": [
        "from sklearn.pipeline import Pipeline\n",
        "\n",
        "polynomial_regression = Pipeline([\n",
        "        (\"poly_features\", PolynomialFeatures(degree=10, include_bias=False)),\n",
        "        (\"lin_reg\", LinearRegression()),\n",
        "    ])\n",
        "\n",
        "plot_learning_curves(polynomial_regression, X, y)\n",
        "plt.axis([0, 80, 0, 3]) \n",
        "plt.show()                        "
      ],
      "execution_count": 18,
      "outputs": [
        {
          "output_type": "display_data",
          "data": {
            "image/png": "[encoded data removed]",
            "text/plain": [
              "<Figure size 432x288 with 1 Axes>"
            ]
          },
          "metadata": {
            "tags": [],
            "needs_background": "light"
          }
        }
      ]
    },
    {
      "cell_type": "markdown",
      "metadata": {
        "id": "E5efr6qG4tZT",
        "colab_type": "text"
      },
      "source": [
        "## 4.4  Regularized linear models "
      ]
    },
    {
      "cell_type": "markdown",
      "metadata": {
        "id": "5nYjEPPL4tZT",
        "colab_type": "text"
      },
      "source": [
        "A good way to reduce overfitting is to regularize the model (i.e., to constrain it): the fewer degrees of freedom it has, the harder it will be for it to overfit the data. For example, a simple way to regularize a polynomial model is to reduce the number of polynomial degrees.\n",
        "\n",
        "For a linear model, regularization is typically achieved by constraining the weights of the model. We will now look at Lasso Regression, Ridge Regression, and Elastic Net, which implement three different ways to constrain the weights."
      ]
    },
    {
      "cell_type": "markdown",
      "metadata": {
        "id": "I9MAmdsb4tZU",
        "colab_type": "text"
      },
      "source": [
        "### 4.4.1 Lasso "
      ]
    },
    {
      "cell_type": "markdown",
      "metadata": {
        "id": "aPxcJo474tZU",
        "colab_type": "text"
      },
      "source": [
        "Least Absolute Shrinkage and Selection Operator Regression (simply called *Lasso Regression*) is a linear model that estimates sparse coefficients. An important characteristic of Lasso Regression is that it tends to eliminate the weights of the least important features (i.e., set them to zero). In other words, Lasso Regression automatically performs feature selection and outputs a sparse model (i.e., with few nonzero feature weights).\n",
        "\n",
        "Mathematically, it consists of a linear model with an added regularization term to the cost function. The objective function to minimize is:\n",
        "\n",
        "\n",
        "$$J(\\boldsymbol{\\theta}) = \\text{MSE}(\\boldsymbol{\\theta})+ \\alpha \\sum_{i=1}^{n}|\\theta_i|$$\n",
        "\n",
        "\n",
        "Note that the bias term $\\theta_0$ is not regularized (the sum starts at $i = 1$, not 0). If we define $\\boldsymbol{\\omega}$ as the vector of feature weights ($\\theta_1$ to $\\theta_n$), then the regularization term is simply equal to $||\\boldsymbol{\\omega}||_{1}$, where $||\\boldsymbol{\\omega}||_{1}$ represents the $l_1$ norm of the weight vector.\n",
        "\n",
        "The lasso estimate thus solves the minimization of the least-squares penalty with $\\alpha||\\boldsymbol{\\omega}||_{1}$ added, where $\\alpha$ is a constant. The parameter $\\alpha$ controls the degree of sparsity of the estimated coefficients.\n",
        "\n",
        "The Lasso cost function is not differentiable at $\\theta_i = 0$, but Gradient\n",
        "Descent still works fine if you use a [subgradient vector](http://www.cs.cmu.edu/~ggordon/10725-F12/slides/08-general-gd.pdf) instead when any $\\theta_i = 0$.\n",
        "\n",
        "It is important to scale the data (e.g., using a `StandardScaler`) before performing Lasso Regression, as it is sensitive to the scale of the input features. This is true of most regularized models.\n",
        "\n",
        "The implementation in the class `Lasso` uses [coordinate descent](https://en.wikipedia.org/wiki/Coordinate_descent) as the algorithm to fit the coefficients. Note that you could instead use an `SGDRegressor(penalty=\"l1\")`."
      ]
    },
    {
      "cell_type": "code",
      "metadata": {
        "id": "KKNLXsnaW8sp",
        "colab_type": "code",
        "colab": {}
      },
      "source": [
        "# We scale regresor variables (target variable has already scaled)\n",
        "scaler = StandardScaler()\n",
        "x_train_scaled = scaler.fit_transform(x_train)\n",
        "x_test_scaled = scaler.transform(x_test)\n",
        "\n",
        "# Model\n",
        "model = Lasso(alpha=0.004)\n",
        "\n",
        "# We train the model\n",
        "fit_lasso = model.fit(x_train_scaled, y_train)\n"
      ],
      "execution_count": 19,
      "outputs": []
    },
    {
      "cell_type": "code",
      "metadata": {
        "id": "0zke57Uliy0G",
        "colab_type": "code",
        "colab": {
          "base_uri": "https://localhost:8080/",
          "height": 90
        },
        "outputId": "2a950ab7-c1d1-4bdd-b3ef-9c104b16149c"
      },
      "source": [
        "# Coefficient of determination R^2\n",
        "print('Explained variance in training set: %.3f' % fit_lasso.score(x_train_scaled, y_train))\n",
        "print('Explained variance in test set: %.3f' % fit_lasso.score(x_test_scaled, y_test))\n",
        "\n",
        "# Mean squared error\n",
        "y_pred_train = fit_lasso.predict(x_train_scaled)\n",
        "y_pred_test = fit_lasso.predict(x_test_scaled)\n",
        "\n",
        "print(\"Mean squared error in training set: %.4f\" % mean_squared_error(y_train, y_pred_train))\n",
        "print(\"Mean squared error in test set: %.4f\" % mean_squared_error(y_test, y_pred_test))"
      ],
      "execution_count": 20,
      "outputs": [
        {
          "output_type": "stream",
          "text": [
            "Explained variance in training set: 0.940\n",
            "Explained variance in test set: 0.910\n",
            "Mean squared error in training set: 0.0099\n",
            "Mean squared error in test set: 0.0129\n"
          ],
          "name": "stdout"
        }
      ]
    },
    {
      "cell_type": "markdown",
      "metadata": {
        "id": "dxFup35h4tZs",
        "colab_type": "text"
      },
      "source": [
        "All linear models find a set of coefficients to use in the weighted sum in order to make a prediction. These coefficients can be used directly as a crude type of feature importance score (this assumes that the input variables have the same scale or have been scaled prior to fitting a model). We can visualize the importance of each feature in the model."
      ]
    },
    {
      "cell_type": "code",
      "metadata": {
        "id": "QJ8yYNbD4tZs",
        "colab_type": "code",
        "colab": {
          "base_uri": "https://localhost:8080/",
          "height": 348
        },
        "outputId": "6964a5b6-767e-4ce2-eb0b-16fdfd7a3f5e"
      },
      "source": [
        "dict_importance_lasso = {'Features':list(x_train), 'Importance': abs(fit_lasso.coef_)}\n",
        "df_importance_lasso = pd.DataFrame(dict_importance_lasso)\n",
        "df_importance_lasso_sorted = df_importance_lasso.sort_values(by=['Importance'], ascending=False)\n",
        "df_importance_lasso_sorted.head(10)"
      ],
      "execution_count": 21,
      "outputs": [
        {
          "output_type": "execute_result",
          "data": {
            "text/html": [
              "<div>\n",
              "<style scoped>\n",
              "    .dataframe tbody tr th:only-of-type {\n",
              "        vertical-align: middle;\n",
              "    }\n",
              "\n",
              "    .dataframe tbody tr th {\n",
              "        vertical-align: top;\n",
              "    }\n",
              "\n",
              "    .dataframe thead th {\n",
              "        text-align: right;\n",
              "    }\n",
              "</style>\n",
              "<table border=\"1\" class=\"dataframe\">\n",
              "  <thead>\n",
              "    <tr style=\"text-align: right;\">\n",
              "      <th></th>\n",
              "      <th>Features</th>\n",
              "      <th>Importance</th>\n",
              "    </tr>\n",
              "  </thead>\n",
              "  <tbody>\n",
              "    <tr>\n",
              "      <th>26</th>\n",
              "      <td>GrLivArea</td>\n",
              "      <td>0.137254</td>\n",
              "    </tr>\n",
              "    <tr>\n",
              "      <th>5</th>\n",
              "      <td>OverallQual</td>\n",
              "      <td>0.077224</td>\n",
              "    </tr>\n",
              "    <tr>\n",
              "      <th>7</th>\n",
              "      <td>YearBuilt</td>\n",
              "      <td>0.041901</td>\n",
              "    </tr>\n",
              "    <tr>\n",
              "      <th>21</th>\n",
              "      <td>TotalBsmtSF</td>\n",
              "      <td>0.037603</td>\n",
              "    </tr>\n",
              "    <tr>\n",
              "      <th>6</th>\n",
              "      <td>OverallCond</td>\n",
              "      <td>0.033083</td>\n",
              "    </tr>\n",
              "    <tr>\n",
              "      <th>17</th>\n",
              "      <td>BsmtFinSF1</td>\n",
              "      <td>0.031941</td>\n",
              "    </tr>\n",
              "    <tr>\n",
              "      <th>35</th>\n",
              "      <td>Functional</td>\n",
              "      <td>0.026043</td>\n",
              "    </tr>\n",
              "    <tr>\n",
              "      <th>40</th>\n",
              "      <td>GarageCars</td>\n",
              "      <td>0.025343</td>\n",
              "    </tr>\n",
              "    <tr>\n",
              "      <th>58</th>\n",
              "      <td>MSZoning_RM</td>\n",
              "      <td>0.019265</td>\n",
              "    </tr>\n",
              "    <tr>\n",
              "      <th>187</th>\n",
              "      <td>CentralAir_N</td>\n",
              "      <td>0.016853</td>\n",
              "    </tr>\n",
              "  </tbody>\n",
              "</table>\n",
              "</div>"
            ],
            "text/plain": [
              "         Features  Importance\n",
              "26      GrLivArea    0.137254\n",
              "5     OverallQual    0.077224\n",
              "7       YearBuilt    0.041901\n",
              "21    TotalBsmtSF    0.037603\n",
              "6     OverallCond    0.033083\n",
              "17     BsmtFinSF1    0.031941\n",
              "35     Functional    0.026043\n",
              "40     GarageCars    0.025343\n",
              "58    MSZoning_RM    0.019265\n",
              "187  CentralAir_N    0.016853"
            ]
          },
          "metadata": {
            "tags": []
          },
          "execution_count": 21
        }
      ]
    },
    {
      "cell_type": "code",
      "metadata": {
        "id": "HvsC6ZJ94tZu",
        "colab_type": "code",
        "colab": {
          "base_uri": "https://localhost:8080/",
          "height": 625
        },
        "outputId": "098ffd43-654b-466c-81f5-42b7bbeb27f6"
      },
      "source": [
        "# plot importance of the features\n",
        "plt.figure(figsize=(15, 10))\n",
        "sns.barplot(data=df_importance_lasso_sorted.head(20), x='Importance', y = 'Features')"
      ],
      "execution_count": 22,
      "outputs": [
        {
          "output_type": "execute_result",
          "data": {
            "text/plain": [
              "<matplotlib.axes._subplots.AxesSubplot at 0x7f0a00583828>"
            ]
          },
          "metadata": {
            "tags": []
          },
          "execution_count": 22
        },
        {
          "output_type": "display_data",
          "data": {
            "image/png": "[encoded data removed]",
            "text/plain": [
              "<Figure size 1080x720 with 1 Axes>"
            ]
          },
          "metadata": {
            "tags": [],
            "needs_background": "light"
          }
        }
      ]
    },
    {
      "cell_type": "markdown",
      "metadata": {
        "id": "dUbj4eBSmpOG",
        "colab_type": "text"
      },
      "source": [
        "We show all the coefficients or weights of the model. Notice that only a few weights are nonzero."
      ]
    },
    {
      "cell_type": "code",
      "metadata": {
        "id": "C3rPv5tdmqhD",
        "colab_type": "code",
        "colab": {
          "base_uri": "https://localhost:8080/",
          "height": 1000
        },
        "outputId": "fef05a64-11e3-4b50-f1b5-6e405642050b"
      },
      "source": [
        "print(fit_lasso.coef_)"
      ],
      "execution_count": 23,
      "outputs": [
        {
          "output_type": "stream",
          "text": [
            "[-0.00000000e+00 -0.00000000e+00  1.48779509e-02  1.47859830e-02\n",
            " -3.14823170e-03  7.72238638e-02  3.30831823e-02  4.19010245e-02\n",
            "  1.47140140e-02  3.87533663e-03  0.00000000e+00  6.46870647e-03\n",
            " -0.00000000e+00  4.60454263e-03 -0.00000000e+00  1.44137771e-02\n",
            "  1.88483229e-03  3.19408451e-02  0.00000000e+00  0.00000000e+00\n",
            " -0.00000000e+00  3.76033678e-02  8.35173709e-03  6.78922799e-04\n",
            "  0.00000000e+00 -0.00000000e+00  1.37254064e-01  8.48967081e-03\n",
            "  0.00000000e+00  6.92536808e-03  2.64440870e-03  0.00000000e+00\n",
            " -6.66367024e-03  1.61863793e-02  0.00000000e+00  2.60433316e-02\n",
            "  2.08584595e-04  1.21293560e-02  0.00000000e+00  0.00000000e+00\n",
            "  2.53433603e-02  8.89972648e-03  4.41957908e-03  0.00000000e+00\n",
            "  7.37436041e-03  7.90984138e-03  9.85883809e-04  0.00000000e+00\n",
            "  1.18960471e-02  0.00000000e+00  0.00000000e+00 -0.00000000e+00\n",
            " -0.00000000e+00 -0.00000000e+00 -1.40035129e-02  0.00000000e+00\n",
            "  0.00000000e+00  0.00000000e+00 -1.92648092e-02 -0.00000000e+00\n",
            "  0.00000000e+00 -0.00000000e+00 -0.00000000e+00  1.44445574e-03\n",
            " -0.00000000e+00  7.12492480e-05 -0.00000000e+00 -0.00000000e+00\n",
            "  0.00000000e+00  5.95336107e-03 -0.00000000e+00 -0.00000000e+00\n",
            " -0.00000000e+00 -0.00000000e+00  0.00000000e+00 -0.00000000e+00\n",
            " -0.00000000e+00  0.00000000e+00 -7.08849579e-04  0.00000000e+00\n",
            "  5.47409537e-03 -0.00000000e+00  1.37788383e-02 -3.92285407e-03\n",
            " -0.00000000e+00 -0.00000000e+00 -8.13172271e-03 -2.18716776e-05\n",
            " -0.00000000e+00 -0.00000000e+00 -0.00000000e+00  0.00000000e+00\n",
            "  1.11264372e-02 -1.85602928e-03  0.00000000e+00  0.00000000e+00\n",
            " -0.00000000e+00  5.59147168e-03  1.22121680e-02  0.00000000e+00\n",
            "  2.52067312e-03 -6.61490824e-03 -0.00000000e+00  9.63315775e-03\n",
            " -7.84632920e-04 -0.00000000e+00 -1.10110298e-04  0.00000000e+00\n",
            " -0.00000000e+00  0.00000000e+00 -0.00000000e+00  0.00000000e+00\n",
            "  0.00000000e+00  0.00000000e+00 -0.00000000e+00 -0.00000000e+00\n",
            "  0.00000000e+00  0.00000000e+00  9.97612589e-03  0.00000000e+00\n",
            " -0.00000000e+00 -4.52902109e-03 -0.00000000e+00 -0.00000000e+00\n",
            "  0.00000000e+00  0.00000000e+00 -4.42379738e-03  0.00000000e+00\n",
            "  0.00000000e+00 -0.00000000e+00  0.00000000e+00 -0.00000000e+00\n",
            " -0.00000000e+00  0.00000000e+00  0.00000000e+00  0.00000000e+00\n",
            "  0.00000000e+00 -0.00000000e+00  0.00000000e+00  0.00000000e+00\n",
            " -0.00000000e+00 -4.64920615e-03  0.00000000e+00  1.53321819e-03\n",
            " -0.00000000e+00 -0.00000000e+00 -3.68658781e-03  1.28339421e-02\n",
            " -0.00000000e+00 -0.00000000e+00 -5.50344666e-03  0.00000000e+00\n",
            "  0.00000000e+00 -0.00000000e+00  0.00000000e+00  0.00000000e+00\n",
            "  0.00000000e+00 -0.00000000e+00  0.00000000e+00 -5.57466115e-03\n",
            "  0.00000000e+00 -0.00000000e+00 -0.00000000e+00 -0.00000000e+00\n",
            "  0.00000000e+00 -0.00000000e+00  0.00000000e+00  0.00000000e+00\n",
            " -0.00000000e+00 -0.00000000e+00 -0.00000000e+00  0.00000000e+00\n",
            "  0.00000000e+00  0.00000000e+00 -0.00000000e+00 -0.00000000e+00\n",
            " -0.00000000e+00  1.06441423e-02  0.00000000e+00 -0.00000000e+00\n",
            " -3.55047209e-03 -0.00000000e+00 -0.00000000e+00  4.00544066e-03\n",
            " -0.00000000e+00 -0.00000000e+00  1.64142857e-03 -1.68532388e-02\n",
            "  2.32292817e-17 -0.00000000e+00 -0.00000000e+00 -0.00000000e+00\n",
            "  0.00000000e+00  0.00000000e+00 -0.00000000e+00  0.00000000e+00\n",
            " -0.00000000e+00  0.00000000e+00 -1.85656410e-03 -0.00000000e+00\n",
            " -0.00000000e+00 -0.00000000e+00 -2.37534269e-03  0.00000000e+00\n",
            "  0.00000000e+00 -0.00000000e+00 -0.00000000e+00 -0.00000000e+00\n",
            "  0.00000000e+00 -0.00000000e+00  0.00000000e+00 -0.00000000e+00\n",
            "  0.00000000e+00 -1.80881368e-03 -0.00000000e+00  0.00000000e+00\n",
            "  1.45060054e-03  0.00000000e+00 -1.28511606e-04  0.00000000e+00\n",
            "  1.29764628e-02  0.00000000e+00 -4.36131628e-04 -1.53070471e-02\n",
            " -0.00000000e+00 -0.00000000e+00 -7.96430454e-03  0.00000000e+00\n",
            "  0.00000000e+00]\n"
          ],
          "name": "stdout"
        }
      ]
    },
    {
      "cell_type": "markdown",
      "metadata": {
        "id": "c89PYHSv4tZw",
        "colab_type": "text"
      },
      "source": [
        "`LassoCV` is used to estimate the parameter using cross-validation.\n",
        "For high-dimensional datasets with many collinear features, `LassoCV` is most often preferable.\n",
        "\n"
      ]
    },
    {
      "cell_type": "code",
      "metadata": {
        "_kg_hide-input": false,
        "_kg_hide-output": true,
        "scrolled": true,
        "id": "kHDnZImR4tZz",
        "colab_type": "code",
        "colab": {
          "base_uri": "https://localhost:8080/",
          "height": 35
        },
        "outputId": "2e9d9e6f-73c8-40bc-9eaf-fc3c87033c5d"
      },
      "source": [
        "model_lassoCV = LassoCV( alphas=np.arange(0.001,0.5,0.001), cv=5, random_state=0, max_iter=10000)\n",
        "\n",
        "# We train the model\n",
        "fit_lassoCV = model_lassoCV.fit(x_train_scaled, y_train)\n",
        "\n",
        "print(fit_lassoCV.alpha_)\n",
        "\n"
      ],
      "execution_count": 24,
      "outputs": [
        {
          "output_type": "stream",
          "text": [
            "0.004\n"
          ],
          "name": "stdout"
        }
      ]
    },
    {
      "cell_type": "markdown",
      "metadata": {
        "id": "aa-6bjw64tZ-",
        "colab_type": "text"
      },
      "source": [
        "### 4.4.2 Ridge "
      ]
    },
    {
      "cell_type": "markdown",
      "metadata": {
        "id": "dE3-N1kp4tZ-",
        "colab_type": "text"
      },
      "source": [
        "*Ridge regression* addresses some of the problems of ordinary least squares by imposing a penalty on the size of the coefficients. A regularization term is added to the cost function. This forces the learning algorithm to not only fit the data but also keep the model weights as small as possible.\n",
        "\n",
        "The ridge coefficients minimize a penalized residual sum of squares:\n",
        "\n",
        "\n",
        "$$ J(\\boldsymbol{\\theta})= \\text{MSE}(\\boldsymbol{\\theta})+ \\alpha \\frac{1}{2} \\sum_{i=1}^{n}\\theta_i^2$$\n",
        "\n",
        "Note that the bias term $\\theta_0$ is not regularized (the sum starts at $i = 1$, not 0). If we define $\\boldsymbol{\\omega}$ as the vector of feature weights ($\\theta_1$ to $\\theta_n$), then the regularization term is simply equal to $\\frac{1}{2}||\\boldsymbol{\\omega}||_{2}^{2}$, where $||\\boldsymbol{\\omega}||_{2}$ represents the $l_2$ norm of the weight vector.\n",
        "\n",
        "\n",
        "The complexity hyperparameter $\\alpha < 0$ controls how much you want to regularize the model: the larger the value of $\\alpha$, the greater the amount of shrinkage and thus the coefficients become more robust to collinearity. If $\\alpha=0$ then Ridge Regression is just Linear Regression.\n",
        "\n",
        "\n",
        "\n",
        "**Note**: As with Linear Regression, we can perform Ridge Regression either by computing a closed-form equation or by performing Gradient Descent (using `SGDRegressor` and selecting `penalty=\"l2\"`). The pros and cons are the same. The next equation shows the closed-form solution (where $\\boldsymbol{A}$ is the $(n + 1) × (n + 1)$ [identity matrix](https://en.wikipedia.org/wiki/Identity_matrix#:~:text=In%20linear%20algebra%2C%20the%20identity,trivially%20determined%20by%20the%20context.) except with a 0 in the top-left cell, corresponding to the bias term).\n",
        "\n",
        "$$\\boldsymbol{\\hat{\\theta}}=(\\boldsymbol{X^T}\\boldsymbol{X}+\\alpha\\boldsymbol{A})^{-1}\\boldsymbol{X^T}\\boldsymbol{y}$$\n",
        "\n",
        "Here is how to perform Ridge Regression with Scikit-Learn using a closed-form solution (a variant of the previous equation using a matrix factorization technique by André-Louis Cholesky)."
      ]
    },
    {
      "cell_type": "code",
      "metadata": {
        "id": "FSzvcYd6dG6c",
        "colab_type": "code",
        "colab": {}
      },
      "source": [
        "# We choose the model\n",
        "model = Ridge(alpha=1, solver=\"cholesky\")\n",
        "\n",
        "# We train the model\n",
        "fit_ridge = model.fit(x_train_scaled, y_train)"
      ],
      "execution_count": 25,
      "outputs": []
    },
    {
      "cell_type": "code",
      "metadata": {
        "id": "BRoJ8NOLYJXf",
        "colab_type": "code",
        "colab": {
          "base_uri": "https://localhost:8080/",
          "height": 90
        },
        "outputId": "96020204-7dbd-4366-c54c-de1daebdee8e"
      },
      "source": [
        "# Coefficient of determination R^2\n",
        "print('Explained variance in training set: %.3f' % fit_ridge.score(x_train_scaled, y_train))\n",
        "print('Explained variance in test set: %.3f' % fit_ridge.score(x_test_scaled, y_test))\n",
        "\n",
        "# Mean squared error\n",
        "y_pred_train = fit_ridge.predict(x_train_scaled)\n",
        "y_pred_test = fit_ridge.predict(x_test_scaled)\n",
        "\n",
        "print(\"Mean squared error in training set: %.4f\" % mean_squared_error(y_train, y_pred_train))\n",
        "print(\"Mean squared error in test set: %.4f\" % mean_squared_error(y_test, y_pred_test))"
      ],
      "execution_count": 26,
      "outputs": [
        {
          "output_type": "stream",
          "text": [
            "Explained variance in training set: 0.950\n",
            "Explained variance in test set: 0.899\n",
            "Mean squared error in training set: 0.0082\n",
            "Mean squared error in test set: 0.0144\n"
          ],
          "name": "stdout"
        }
      ]
    },
    {
      "cell_type": "markdown",
      "metadata": {
        "id": "IH8Qrm0O4taN",
        "colab_type": "text"
      },
      "source": [
        "We could use `RidgeCV` that implements ridge regression with built-in cross-validation of the `alpha` parameter similarly to `LassoCV`."
      ]
    },
    {
      "cell_type": "markdown",
      "metadata": {
        "id": "aBL1FNHR4taN",
        "colab_type": "text"
      },
      "source": [
        "### 4.4.3 ElasticNet"
      ]
    },
    {
      "cell_type": "markdown",
      "metadata": {
        "id": "iLWOgVDL4taO",
        "colab_type": "text"
      },
      "source": [
        "\n",
        "ElasticNet is a linear regression model trained with both $l_{1}$ and $l_{2}$-norm regularization of the coefficients. This combination allows for learning a sparse model where few of the weights are non-zero like Lasso, while still maintaining the regularization properties of Ridge. We control the convex combination of $l_{1}$ and $l_{2}$ using the $r$ parameter. When $r=0$, Elastic Net is equivalent to Ridge Regression, and when $r=1$, it is equivalent to Lasso Regression\n",
        "\n",
        "Elastic-net is useful when multiple features are correlated with one another. Lasso is likely to pick one of these at random, while elasticnet is likely to pick both.\n",
        "\n",
        "The objective function to minimize in this case is:\n",
        "\n",
        "\n",
        "$$J(\\boldsymbol{\\theta})=\\text{MSE}(\\boldsymbol{\\theta}) + \\alpha r\\sum_{i=1}^{n}|\\theta_i|+\\frac{\\alpha(1-r)}{2}\\sum_{i=1}^{n}\\theta_i^2$$"
      ]
    },
    {
      "cell_type": "code",
      "metadata": {
        "id": "OUvkfF_MYeMj",
        "colab_type": "code",
        "colab": {}
      },
      "source": [
        "# We choose the model\n",
        "model = ElasticNet(alpha=0.0098, l1_ratio=0.4)\n",
        "\n",
        "# We train the model\n",
        "fit_elasticnet = model.fit(x_train_scaled, y_train)\n"
      ],
      "execution_count": 27,
      "outputs": []
    },
    {
      "cell_type": "code",
      "metadata": {
        "id": "0GeIeMPh4taW",
        "colab_type": "code",
        "colab": {
          "base_uri": "https://localhost:8080/",
          "height": 90
        },
        "outputId": "9c3af778-34cc-49de-b149-05318042bb0a"
      },
      "source": [
        "# Coefficient of determination R^2\n",
        "print('Explained variance in training set: %.3f' % fit_elasticnet.score(x_train_scaled, y_train))\n",
        "print('Explained variance in test set: %.3f' % fit_elasticnet.score(x_test_scaled, y_test))\n",
        "\n",
        "# Mean squared error\n",
        "y_pred_train = fit_elasticnet.predict(x_train_scaled)\n",
        "y_pred_test = fit_elasticnet.predict(x_test_scaled)\n",
        "print(\"Mean squared error train: %.4f\" % mean_squared_error(y_train, y_pred_train))\n",
        "print(\"Mean squared error test: %.4f\" % mean_squared_error(y_test, y_pred_test))"
      ],
      "execution_count": 28,
      "outputs": [
        {
          "output_type": "stream",
          "text": [
            "Explained variance in training set: 0.940\n",
            "Explained variance in test set: 0.910\n",
            "Mean squared error train: 0.0099\n",
            "Mean squared error test: 0.0128\n"
          ],
          "name": "stdout"
        }
      ]
    },
    {
      "cell_type": "markdown",
      "metadata": {
        "id": "eMERDDZO4taa",
        "colab_type": "text"
      },
      "source": [
        "We can visualize the importance of each feature in the model."
      ]
    },
    {
      "cell_type": "code",
      "metadata": {
        "id": "EyEo_tbW4taa",
        "colab_type": "code",
        "colab": {
          "base_uri": "https://localhost:8080/",
          "height": 348
        },
        "outputId": "2a826c78-29ba-4360-e92c-9979ed247dff"
      },
      "source": [
        "dict_importance_elasticnet = {'Features':list(x_train), 'Importance': abs(fit_elasticnet.coef_)}\n",
        "df_importance_elasticnet = pd.DataFrame(dict_importance_elasticnet)\n",
        "df_importance_elasticnet_sorted = df_importance_elasticnet.sort_values(by=['Importance'], ascending=False)\n",
        "df_importance_elasticnet_sorted.head(10)"
      ],
      "execution_count": 29,
      "outputs": [
        {
          "output_type": "execute_result",
          "data": {
            "text/html": [
              "<div>\n",
              "<style scoped>\n",
              "    .dataframe tbody tr th:only-of-type {\n",
              "        vertical-align: middle;\n",
              "    }\n",
              "\n",
              "    .dataframe tbody tr th {\n",
              "        vertical-align: top;\n",
              "    }\n",
              "\n",
              "    .dataframe thead th {\n",
              "        text-align: right;\n",
              "    }\n",
              "</style>\n",
              "<table border=\"1\" class=\"dataframe\">\n",
              "  <thead>\n",
              "    <tr style=\"text-align: right;\">\n",
              "      <th></th>\n",
              "      <th>Features</th>\n",
              "      <th>Importance</th>\n",
              "    </tr>\n",
              "  </thead>\n",
              "  <tbody>\n",
              "    <tr>\n",
              "      <th>26</th>\n",
              "      <td>GrLivArea</td>\n",
              "      <td>0.132679</td>\n",
              "    </tr>\n",
              "    <tr>\n",
              "      <th>5</th>\n",
              "      <td>OverallQual</td>\n",
              "      <td>0.076425</td>\n",
              "    </tr>\n",
              "    <tr>\n",
              "      <th>7</th>\n",
              "      <td>YearBuilt</td>\n",
              "      <td>0.039394</td>\n",
              "    </tr>\n",
              "    <tr>\n",
              "      <th>21</th>\n",
              "      <td>TotalBsmtSF</td>\n",
              "      <td>0.036071</td>\n",
              "    </tr>\n",
              "    <tr>\n",
              "      <th>6</th>\n",
              "      <td>OverallCond</td>\n",
              "      <td>0.032791</td>\n",
              "    </tr>\n",
              "    <tr>\n",
              "      <th>17</th>\n",
              "      <td>BsmtFinSF1</td>\n",
              "      <td>0.031376</td>\n",
              "    </tr>\n",
              "    <tr>\n",
              "      <th>35</th>\n",
              "      <td>Functional</td>\n",
              "      <td>0.025974</td>\n",
              "    </tr>\n",
              "    <tr>\n",
              "      <th>40</th>\n",
              "      <td>GarageCars</td>\n",
              "      <td>0.024596</td>\n",
              "    </tr>\n",
              "    <tr>\n",
              "      <th>58</th>\n",
              "      <td>MSZoning_RM</td>\n",
              "      <td>0.018801</td>\n",
              "    </tr>\n",
              "    <tr>\n",
              "      <th>33</th>\n",
              "      <td>KitchenQual</td>\n",
              "      <td>0.016383</td>\n",
              "    </tr>\n",
              "  </tbody>\n",
              "</table>\n",
              "</div>"
            ],
            "text/plain": [
              "       Features  Importance\n",
              "26    GrLivArea    0.132679\n",
              "5   OverallQual    0.076425\n",
              "7     YearBuilt    0.039394\n",
              "21  TotalBsmtSF    0.036071\n",
              "6   OverallCond    0.032791\n",
              "17   BsmtFinSF1    0.031376\n",
              "35   Functional    0.025974\n",
              "40   GarageCars    0.024596\n",
              "58  MSZoning_RM    0.018801\n",
              "33  KitchenQual    0.016383"
            ]
          },
          "metadata": {
            "tags": []
          },
          "execution_count": 29
        }
      ]
    },
    {
      "cell_type": "code",
      "metadata": {
        "id": "rjhgBC134tah",
        "colab_type": "code",
        "colab": {
          "base_uri": "https://localhost:8080/",
          "height": 625
        },
        "outputId": "9008bdcc-d5fb-4d22-9c93-2ceb4529121b"
      },
      "source": [
        "# plot importance of the features\n",
        "plt.figure(figsize=(15, 10))\n",
        "sns.barplot(data=df_importance_elasticnet_sorted.head(20), x='Importance', y = 'Features')"
      ],
      "execution_count": 30,
      "outputs": [
        {
          "output_type": "execute_result",
          "data": {
            "text/plain": [
              "<matplotlib.axes._subplots.AxesSubplot at 0x7f0a0046ecf8>"
            ]
          },
          "metadata": {
            "tags": []
          },
          "execution_count": 30
        },
        {
          "output_type": "display_data",
          "data": {
            "image/png": "[encoded data removed]",
            "text/plain": [
              "<Figure size 1080x720 with 1 Axes>"
            ]
          },
          "metadata": {
            "tags": [],
            "needs_background": "light"
          }
        }
      ]
    },
    {
      "cell_type": "markdown",
      "metadata": {
        "id": "w0ZSVYH24tam",
        "colab_type": "text"
      },
      "source": [
        "The class `ElasticNetCV` can be used to set the parameters `alpha` ($\\alpha$) and `l1_ratio` ($r$) by cross-validation."
      ]
    },
    {
      "cell_type": "code",
      "metadata": {
        "scrolled": true,
        "id": "PM6bWITW4tan",
        "colab_type": "code",
        "colab": {
          "base_uri": "https://localhost:8080/",
          "height": 54
        },
        "outputId": "64a8c24d-8173-4ad3-a263-6b2c7402fdf6"
      },
      "source": [
        "model_elasticNetCV = ElasticNetCV(alphas=np.arange(0.0001,0.01,0.0001),\n",
        "                                  l1_ratio=np.arange(0.1,1,0.1), cv=5)\n",
        "\n",
        "# We train the model\n",
        "fit_elasticNetCV = model_elasticNetCV.fit(x_train_scaled, y_train)\n",
        "\n",
        "print(fit_elasticNetCV.alpha_)\n",
        "print(fit_elasticNetCV.l1_ratio_)\n"
      ],
      "execution_count": 31,
      "outputs": [
        {
          "output_type": "stream",
          "text": [
            "0.0098\n",
            "0.4\n"
          ],
          "name": "stdout"
        }
      ]
    },
    {
      "cell_type": "markdown",
      "metadata": {
        "id": "5IxPtosk4tav",
        "colab_type": "text"
      },
      "source": [
        "So when should you use plain Linear Regression (i.e., without any regularization), Ridge, Lasso, or Elastic Net? It is almost always preferable to have at least a little bit of regularization, so generally you should avoid plain Linear Regression. Ridge is a good default, but if you suspect that only a few features are useful, you should prefer Lasso or Elastic Net since they tend to reduce the useless features weights down to zero as we have discussed. In general, Elastic Net is preferred over Lasso since Lasso may behave erratically when the number of features is greater than the number of training instances or when several features are strongly correlated."
      ]
    },
    {
      "cell_type": "markdown",
      "metadata": {
        "id": "jw2a0x804aJk",
        "colab_type": "text"
      },
      "source": [
        "## 4.5 Robustness regression\n"
      ]
    },
    {
      "cell_type": "markdown",
      "metadata": {
        "id": "JUS1LNkb4fBU",
        "colab_type": "text"
      },
      "source": [
        "### Huber Regression\n",
        "\n"
      ]
    },
    {
      "cell_type": "markdown",
      "metadata": {
        "id": "t6foJ16MlnsD",
        "colab_type": "text"
      },
      "source": [
        "The *HuberRegressor* applies a linear loss to samples that are classified as [outliers](https://en.wikipedia.org/wiki/Outlier). A sample is classified as an outlier if the absolute error of that sample is lesser than a certain threshold. It does not ignore the effect of the outliers but gives a lesser weight to them.\n",
        "\n",
        "The loss function that HuberRegressor minimizes is given by\n",
        "\n",
        "$$J(\\boldsymbol{\\theta})= \\sum_{i=1}^{m}(\\sigma+H_{\\epsilon}(\\frac{\\boldsymbol{\\theta}^T\\boldsymbol{x}^{(i)} - y^{(i)}}{\\sigma})\\sigma)+\\alpha||\\boldsymbol{\\theta}||_{2}^{2}$$\n",
        "\n",
        "where\n",
        "\n",
        "$$H_{\\epsilon}(z)=\\begin{cases}\n",
        "       z^{2} ,&\\quad\\text{if}|z|\\le\\epsilon\\\\\n",
        "       2\\epsilon|z|-\\epsilon^{2} ,&\\quad\\text{otherwhise}\\\\\n",
        "     \\end{cases}$$"
      ]
    },
    {
      "cell_type": "code",
      "metadata": {
        "id": "F0gO0iOS4iQC",
        "colab_type": "code",
        "colab": {}
      },
      "source": [
        "model = HuberRegressor(alpha=0.006,epsilon=3.6,max_iter=1000)\n",
        "\n",
        "# We train the model\n",
        "fit_huber = model.fit(x_train_scaled, y_train)"
      ],
      "execution_count": 32,
      "outputs": []
    },
    {
      "cell_type": "code",
      "metadata": {
        "id": "9DvvLIdw4itS",
        "colab_type": "code",
        "colab": {
          "base_uri": "https://localhost:8080/",
          "height": 90
        },
        "outputId": "158b032d-d1a6-409f-b600-fa776475228d"
      },
      "source": [
        "# Coefficient of determination R^2\n",
        "print('Explained variance in training: %.3f' % fit_huber.score(x_train_scaled, y_train))\n",
        "print('Explained variance in test set: %.3f' % fit_huber.score(x_test_scaled, y_test))\n",
        "\n",
        "# Mean squared error\n",
        "y_pred_train = fit_huber.predict(x_train_scaled)\n",
        "y_pred_test = fit_huber.predict(x_test_scaled)\n",
        "print(\"Mean squared error in training set: %.4f\" % mean_squared_error(y_train, y_pred_train))\n",
        "print(\"Mean squared error in test set: %.4f\" % mean_squared_error(y_test, y_pred_test))\n",
        "\n"
      ],
      "execution_count": 33,
      "outputs": [
        {
          "output_type": "stream",
          "text": [
            "Explained variance in training: 0.950\n",
            "Explained variance in test set: 0.899\n",
            "Mean squared error in training set: 0.0082\n",
            "Mean squared error in test set: 0.0143\n"
          ],
          "name": "stdout"
        }
      ]
    },
    {
      "cell_type": "markdown",
      "metadata": {
        "id": "tXpwxdhj4qbk",
        "colab_type": "text"
      },
      "source": [
        "We can tune some hyperparameters of the model."
      ]
    },
    {
      "cell_type": "code",
      "metadata": {
        "id": "nusv5GhX4q0m",
        "colab_type": "code",
        "colab": {
          "base_uri": "https://localhost:8080/",
          "height": 145
        },
        "outputId": "e78deddd-f579-4cbc-e6da-c8ffc722385a"
      },
      "source": [
        "# We choose the model\n",
        "model_huber = HuberRegressor()\n",
        "\n",
        "# We input possible values of parameters\n",
        "param_grid = {\n",
        "    'epsilon': np.arange(1,5,0.1),\n",
        "    'alpha': np.arange(0.001,0.01,0.005),\n",
        "}\n",
        "clf = GridSearchCV(model_huber, param_grid, cv=5, n_jobs=5)\n",
        "\n",
        "# We train the model for diferent values of parameters\n",
        "clf.fit(x_train_scaled, y_train)\n",
        "\n",
        "clf.best_params_"
      ],
      "execution_count": 34,
      "outputs": [
        {
          "output_type": "stream",
          "text": [
            "/usr/local/lib/python3.6/dist-packages/sklearn/linear_model/_huber.py:296: ConvergenceWarning: lbfgs failed to converge (status=1):\n",
            "STOP: TOTAL NO. of ITERATIONS REACHED LIMIT.\n",
            "\n",
            "Increase the number of iterations (max_iter) or scale the data as shown in:\n",
            "    https://scikit-learn.org/stable/modules/preprocessing.html\n",
            "  self.n_iter_ = _check_optimize_result(\"lbfgs\", opt_res, self.max_iter)\n"
          ],
          "name": "stderr"
        },
        {
          "output_type": "execute_result",
          "data": {
            "text/plain": [
              "{'alpha': 0.006, 'epsilon': 3.6000000000000023}"
            ]
          },
          "metadata": {
            "tags": []
          },
          "execution_count": 34
        }
      ]
    },
    {
      "cell_type": "markdown",
      "metadata": {
        "id": "GoINTQA34taw",
        "colab_type": "text"
      },
      "source": [
        "## 4.6 Stochastic Gradient Descent - SGD\n"
      ]
    },
    {
      "cell_type": "markdown",
      "metadata": {
        "id": "qm3gtPYr4tax",
        "colab_type": "text"
      },
      "source": [
        "Alternatively to the Normal equation, we can estimate the parameters of the regression linear model using an interative algorithm like gradient descent. SGD stands for Stochastic Gradient Descent: the gradient of the loss is estimated each sample at a time. More info about gradient descent algorithm [here](https://github.com/victorviro/ML_algorithms_python/blob/master/Introduction_gradient_descent_algorithm.ipynb).\n",
        "\n",
        "The regularizer is a penalty added to the loss function that shrinks model parameters towards the zero vector using either the squared euclidean norm $l_2$ or the absolute norm $l_1$ or a combination of both (Elastic Net).\n",
        "\n",
        "Stochastic gradient descent is a simple yet very efficient approach to fit linear models. It is particularly useful when the number of samples (and the number of features) is very large.\n",
        "\n",
        "The classes `SGDRegressor` provides functionality to fit linear models for regression using different (convex) loss functions and different penalties.\n"
      ]
    },
    {
      "cell_type": "code",
      "metadata": {
        "scrolled": true,
        "id": "AzIvrgNH4ta3",
        "colab_type": "code",
        "colab": {
          "base_uri": "https://localhost:8080/",
          "height": 35
        },
        "outputId": "e9f139b2-c597-4b21-f113-5c3e050bb155"
      },
      "source": [
        "model_SGD = SGDRegressor()\n",
        "\n",
        "# We input possible values of parameters\n",
        "param_grid = {\n",
        "    'alpha': np.arange(0.01,0.1,0.01),\n",
        "    'loss': ['squared_loss', 'huber'],\n",
        "    'penalty': ['l2', 'l1', 'elasticnet'],\n",
        "    'learning_rate': ['constant', 'optimal', 'invscaling'],\n",
        "}\n",
        "\n",
        "grid_SGD = GridSearchCV(model_SGD, param_grid, cv=5, n_jobs=5)\n",
        "\n",
        "# We train the model\n",
        "fit_SGD = grid_SGD.fit(x_train_scaled, y_train)\n",
        "print(fit_SGD.best_params_)"
      ],
      "execution_count": 35,
      "outputs": [
        {
          "output_type": "stream",
          "text": [
            "{'alpha': 0.02, 'learning_rate': 'optimal', 'loss': 'huber', 'penalty': 'elasticnet'}\n"
          ],
          "name": "stdout"
        }
      ]
    },
    {
      "cell_type": "code",
      "metadata": {
        "id": "ZICma9cvD45g",
        "colab_type": "code",
        "colab": {
          "base_uri": "https://localhost:8080/",
          "height": 90
        },
        "outputId": "b2467ea2-b4de-4790-c8f9-d77320bff120"
      },
      "source": [
        "# Coefficient of determination R^2\n",
        "print('Explained variance in training set: %.3f' % fit_SGD.score(x_train_scaled, y_train))\n",
        "print('Explained variance in test set: %.3f' % fit_SGD.score(x_test_scaled, y_test))\n",
        "\n",
        "# Mean squared error\n",
        "y_pred_train = fit_SGD.predict(x_train_scaled)\n",
        "y_pred_test = fit_SGD.predict(x_test_scaled)\n",
        "print(\"Mean squared error in training set: %.4f\" % mean_squared_error(y_train, y_pred_train))\n",
        "print(\"Mean squared error in test set: %.4f\" % mean_squared_error(y_test, y_pred_test))\n"
      ],
      "execution_count": 36,
      "outputs": [
        {
          "output_type": "stream",
          "text": [
            "Explained variance in training set: 0.917\n",
            "Explained variance in test set: 0.885\n",
            "Mean squared error in training set: 0.0136\n",
            "Mean squared error in test set: 0.0164\n"
          ],
          "name": "stdout"
        }
      ]
    },
    {
      "cell_type": "markdown",
      "metadata": {
        "id": "v83HQbY64ta9",
        "colab_type": "text"
      },
      "source": [
        "A very different way to regularize iterative learning algorithms such as Gradient Descent is to stop training as soon as the validation error reaches a minimum. This is called *early stopping*. We can implement this setting the parameter `warm_start=True` when we define the `SGDRegressor` model.\n",
        "\n",
        "**Note** With Stochastic and Mini-batch Gradient Descent, the curves are not so smooth, and it may be hard to know whether you have reached the minimum or not. One solution is to stop only after the validation error has been above the minimum for some time (when you are confident that the model will not do any better)."
      ]
    },
    {
      "cell_type": "markdown",
      "metadata": {
        "id": "nReV8839twzv",
        "colab_type": "text"
      },
      "source": [
        "# References"
      ]
    },
    {
      "cell_type": "markdown",
      "metadata": {
        "id": "J1dZv7nTtycQ",
        "colab_type": "text"
      },
      "source": [
        "\n",
        "- [Hands-On Machine Learning with Scikit-Learn, Keras, and TensorFlow](https://www.oreilly.com/library/view/hands-on-machine-learning/9781492032632/)\n",
        "\n",
        "- [Github: Hands-On Machine Learning with Scikit-Learn, Keras, and TensorFlow](https://github.com/ageron/handson-ml2)\n",
        "\n",
        "- [Standford notes](http://cs229.stanford.edu/notes/cs229-notes1.pdf)\n",
        "\n",
        "\n"
      ]
    }
  ]
}