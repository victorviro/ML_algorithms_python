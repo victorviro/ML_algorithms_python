{
  "nbformat": 4,
  "nbformat_minor": 0,
  "metadata": {
    "colab": {
      "name": "Roles in MLOps.ipynb",
      "provenance": [],
      "collapsed_sections": [],
      "toc_visible": true,
      "authorship_tag": "ABX9TyPd16Vt3KCx0jJROA8n8NcA",
      "include_colab_link": true
    },
    "kernelspec": {
      "name": "python3",
      "display_name": "Python 3"
    },
    "language_info": {
      "name": "python"
    }
  },
  "cells": [
    {
      "cell_type": "markdown",
      "metadata": {
        "id": "view-in-github",
        "colab_type": "text"
      },
      "source": [
        "<a href=\"https://colab.research.google.com/github/victorviro/Machine-Learning-Python/blob/master/Roles_in_MLOps.ipynb\" target=\"_parent\"><img src=\"https://colab.research.google.com/assets/colab-badge.svg\" alt=\"Open In Colab\"/></a>"
      ]
    },
    {
      "cell_type": "markdown",
      "metadata": {
        "id": "lns2AQXimwd6"
      },
      "source": [
        "# Roles in MLOps <a name=\"2\"></a>"
      ]
    },
    {
      "cell_type": "markdown",
      "metadata": {
        "id": "oNqFbXrEop9S"
      },
      "source": [
        "# Table of contents"
      ]
    },
    {
      "cell_type": "markdown",
      "metadata": {
        "id": "eOunBijSo16s"
      },
      "source": [
        "\n",
        "\n",
        "1. [Introduction](#1)\n",
        "2. [Roles](#2)\n",
        "    1. [Subject matter experts](#2.1)\n",
        "    2. [Data scientists](#2.2)\n",
        "    3. [Data engineers](#2.3)\n",
        "    4. [Software engineers](#2.4)\n",
        "    5. [DevOps](#2.5)\n",
        "    6. [Model risk manager](#2.6)\n",
        "    7. [Machine learning architect](#2.6)\n",
        "3. [Summary](#3)\n",
        "4. [References](#4)\n",
        "\n",
        "    \n",
        "\n",
        "\n"
      ]
    },
    {
      "cell_type": "markdown",
      "metadata": {
        "id": "r23bZ79Td1vs"
      },
      "source": [
        "# Introduction <a name=\"1\"></a>"
      ]
    },
    {
      "cell_type": "markdown",
      "metadata": {
        "id": "Gko0MaMenESa"
      },
      "source": [
        "In a previous [notebook](https://nbviewer.jupyter.org/github/victorviro/Machine-Learning-Python/blob/master/Introduction_to_MLOps.ipynb) we introduced MLOps, its challenges, and why it’s become essential of successful machine learning projects. Even though ML models are primarily built by data scientists, **MLOps affects everyone** working on the ML model lifecycle.\n",
        "\n",
        "![](https://i.ibb.co/GxQLfJh/full-ML-lifecycle.png)\n",
        "\n",
        "This notebook will cover the roles each of these people play in the ML lifecycle, who they should ideally be connected and working together to achieve the best possible results.\n",
        "\n"
      ]
    },
    {
      "cell_type": "markdown",
      "metadata": {
        "id": "H5ohw_F5XHzb"
      },
      "source": [
        "# Roles <a name=\"2\"></a>"
      ]
    },
    {
      "cell_type": "markdown",
      "metadata": {
        "id": "TTy8JijBoqCB"
      },
      "source": [
        "## Subject Matter Experts <a name=\"2.1\"></a>"
      ]
    },
    {
      "cell_type": "markdown",
      "metadata": {
        "id": "mLnR9FakTMPQ"
      },
      "source": [
        "The **ML model lifecycle starts and ends with subject matter experts**. Data-oriented profiles tend to lack a **deep understanding of the business and the problems or questions** at hand that need to be addressed using ML."
      ]
    },
    {
      "cell_type": "markdown",
      "metadata": {
        "id": "LDO29WwjTSNM"
      },
      "source": [
        "**Role in the ML model lifecycle**\n",
        "\n",
        "Subject matter experts usually provide **goals, business questions, and key performance indicators (KPIs)** that they want to achieve or address. In some cases, they might be extremely well defined (e.g., \"we need to reduce customer churn by 10%\"), and in other cases, less so (e.g., \"How can we get people to buy more widgets?\"). Working with a less-defined business goal can be an **opportunity for subject matter experts to work directly with data scientists** upfront to better *frame the problem* and brainstorm possible solutions. \n",
        "\n",
        "Without this starting point from subject matter experts, other data professionals (data scientists) risk starting the ML lifecycle process trying to solve problems that don’t provide larger value to the business. Business decision modeling methodologies can be applied to formalize the business problems to be solved and frame the role of ML in the solution. \n",
        "\n",
        "Subject matter experts also play a role at the **end** (post-production) of the ML model lifecycle. Oftentimes, **to understand if a ML model is performing as expected**, data scientists need subject matter experts to close the feedback loop, **traditional metrics** (like accuracy) **are not enough**. \n",
        "\n",
        "For example, data scientists could build a simple churn prediction model that has very high accuracy in a production environment; however, marketing does not manage to prevent anyone from churning. From a business perspective, that means the model didn’t work, and that’s important information that needs to make its way back to those building the ML model so that they can find another possible solution, e.g., introducing uplift modeling that helps marketing better target potential churners who might be receptive to marketing messaging.\n",
        "\n",
        "**Needs from MLOps**\n",
        "\n",
        "Subject matter experts need have an **easy way to understand deployed model performance in business terms**. That is, not just model accuracy, but its **impact on the business process** identified upfront. In addition, when there are unexpected shifts in performance, they need a scalable way for **flagging model results that don’t align with business expectations**.\n",
        "\n",
        "More generally, MLOps increase **transparency** for subject matter experts. That is, they should be able to explore the data pipelines behind the models, **understand what data is being used, how it’s being transformed and enhanced, and what kind of ML techniques are being applied**.\n",
        "\n",
        "For subject matter experts who are also concerned with compliance of ML models with regulations, MLOps serves as a way to bring transparency and understanding to these processes. This includes being able to dig into individual decisions made by a model to understand why the model came to that decision (**ML interpretability**)."
      ]
    },
    {
      "cell_type": "markdown",
      "metadata": {
        "id": "U043_Ir8TnNv"
      },
      "source": [
        "## Data Scientists <a name=\"2.2\"></a>"
      ]
    },
    {
      "cell_type": "markdown",
      "metadata": {
        "id": "yuuxv6ceTsqo"
      },
      "source": [
        "**Role in the ML model lifecycle**\n",
        "\n",
        "From the beginning, data scientists need to be **involved with subject matter experts**, understanding and helping **to frame business problems**. This first step, is often the hardest because it can take time. Moreover, data scientists are often siloed from the core of the business, so they don’t have the organizational infrastructure that allows **easy collaboration between these profiles**.\n",
        "\n",
        "After overcoming the first hurdle, depending on the organization, the project might get handed off to either data engineers or analysts to do some of the initial data gathering, and preparation. In some cases, data scientists themselves also manage these parts. In any case, data scientists step back in when it comes time to **build, test, robustify, and then deploy the model**. \n",
        "\n",
        "Following deployment, data scientist's roles include constantly **assessing model quality** to ensure the way it’s working in production answers initial business questions. The **person monitoring also needs to quickly be able to jump in and take action** if the model starts negatively to affect the business.\n",
        "\n",
        "**Needs from MLOps**\n",
        "\n",
        "MLOps must provide data scientists with **visibility into the performance of all deployed models**. But, **it’s not just about monitoring, it’s also about action**. MLOps should also allow to select winning models from tests and easily deploy them.\n",
        "\n",
        "The ability to **drill down into data pipelines** and to **make** quick assessments and **adjustments** is critical. Automated **model packaging** and delivery **for quick, easy and safe deployment to production** is a crucial component, especially to bring data scientists together to a place of trust with software engineers and DevOps teams.\n",
        "\n",
        "Another theme is **efficiency**. As ocurr with DecOps, agility and speed matter. Of course, data scientists can deploy, test, and monitor models in an ad-hoc fashion. But they will lose enormous amounts of time re-inventing the wheel with every single ML model, and that will never add up to scalable ML processes."
      ]
    },
    {
      "cell_type": "markdown",
      "metadata": {
        "id": "ZIrl_fW3T8fR"
      },
      "source": [
        "## Data Engineers <a name=\"2.3\"></a>"
      ]
    },
    {
      "cell_type": "markdown",
      "metadata": {
        "id": "MesUlznPT-V5"
      },
      "source": [
        "**Data pipelines** are at the core of the ML model lifecycle, and data engineers are at the core of data pipelines.\n",
        "\n",
        "**Role in the ML model lifecycle**\n",
        "\n",
        "In large organizations, **managing the flow of data** itself outside of the application of ML models is a full-time job. Depending on the technical stack and structure of the enterprise, data engineers might, therefore, be more focused on databases themselves than on pipelines.\n",
        "\n",
        "The **role** of data engineers in the ML model lifecycle **is to optimize the retrieval and use of data to eventually power ML models**. Generally, this means **working closely with** business teams, particularly **subject matter experts**, to **identify the right data for the project at hand** and possibly also prepare it for use. On the other end, they work closely **with data scientists** as well **to resolve any data plumbing issues that might cause a model to behave undesirably in production**.\n",
        "\n",
        "**Needs from MLOps**\n",
        "\n",
        "Data engineers require not only **visibility into the performance of all models deployed in production**, but also directly **drill down into individual data pipelines to address any underlying issues**. \n",
        " "
      ]
    },
    {
      "cell_type": "markdown",
      "metadata": {
        "id": "clett0hCUHUp"
      },
      "source": [
        "## Software Engineers <a name=\"2.4\"></a>\n",
        "\n"
      ]
    },
    {
      "cell_type": "markdown",
      "metadata": {
        "id": "_PFy4lruUIzG"
      },
      "source": [
        "**Role in the ML model lifecycle**\n",
        "\n",
        "Most organizations are not only producing ML models, but classic software and applications as well. It’s important that **software engineers and data scientists work together to ensure the functioning of the larger system**. After all, the ML code, training, testing, and deployment has to fit into the CI/CD pipelines that the rest of the software is using.\n",
        "\n",
        "For example, consider a retail company that has built a ML-based recommendation engine for their website. The ML model was built by the data scientist, but to integrate it into the larger functioning of the site, software engineers will necessarily need to be involved. Software engineers are responsible for the maintenance of the website as a whole, and a large part of that includes the functioning of the ML models in production.\n",
        "\n",
        "**Needs from MLOps**\n",
        "\n",
        "Software engineers need MLOps to provide them with **model performance details as a larger picture of software application performance** for the enterprise. MLOps is a way for data scientists and software engineers to speak the same language and have the same baseline understanding of how different models deployed are working together in production.\n",
        "\n",
        "Other important feature is **versioning**, in order to be sure of what they are currently dealing with; **automatic tests**; and the ability to work in parallel on the same application (thanks to a system that allows branches and merges like Git).\n",
        "\n",
        " "
      ]
    },
    {
      "cell_type": "markdown",
      "metadata": {
        "id": "6pJq_UDXUSmI"
      },
      "source": [
        "## DevOps <a name=\"2.5\"></a>\n"
      ]
    },
    {
      "cell_type": "markdown",
      "metadata": {
        "id": "EQauXInqUUum"
      },
      "source": [
        "MLOps was born out of DevOps principles, but that doesn’t mean they can be run in parallel as completely separate and siloed systems.\n",
        "\n",
        "**Role in the ML model lifecycle**\n",
        "\n",
        "DevOps teams have two primary roles in the ML model lifecycle: first, they are the people conducting and building **operational systems** as well as **tests to ensure security, performance, and availability of ML models**. Secondly, they are responsible for **CI/CD** pipeline management. Both of these roles require tight **collaboration with data scientists, data engineers, and data architects**.\n",
        "\n",
        "**Needs from MLOps**\n",
        "\n",
        "For DevOps teams, **MLOps** needs to be **integrated into the larger DevOps strategy** of the enterprise, bridging the gap between traditional CI/CD and modern ML. That means systems that are fundamentally complementary and that allow DevOps teams to **automate tests for ML** just as they can automate tests for traditional software.\n",
        " "
      ]
    },
    {
      "cell_type": "markdown",
      "metadata": {
        "id": "9wgF3J0nUeWX"
      },
      "source": [
        "## Model Risk Manager/Auditor <a name=\"2.6\"></a>"
      ]
    },
    {
      "cell_type": "markdown",
      "metadata": {
        "id": "X2emhDfrUgvj"
      },
      "source": [
        "In certain industries (like the financial sector), the model risk management (MRM) function is crucial for **regulatory compliance**. But MRM can **protect** companies in any industry **from catastrophic loss introduced by poorly performing ML models**.\n",
        "\n",
        "**Role in the ML model lifecycle**\n",
        "\n",
        "Model risk managers play the critical role of **analyzing** not just **model outcomes**, but the **initial goal and business questions ML models seek to resolve to minimize overall risk** to the company. They should be **involved along with subject matter experts** at the beginning of the lifecycle to ensure that an automated, ML-based approach doesn’t present risk.\n",
        "\n",
        "They also have a role to play in **monitoring to ensure that risk stays at bay once models are in production**. In between conception and monitoring, MRM also is a factor post-model development and pre-production, ensuring initial compliance with internal and external requirements.\n",
        "\n",
        "**Needs from MLOps** \n",
        "\n",
        "Robust **reporting tools** on all models (whether they are currently in production or have been in production in the past) is the primary need. This reporting should include not just **performance details**, but the ability to see **data lineage**.\n"
      ]
    },
    {
      "cell_type": "markdown",
      "metadata": {
        "id": "TJ7TMAlTUs16"
      },
      "source": [
        "## Machine Learning Architect <a name=\"2.7\"></a>\n",
        "\n"
      ]
    },
    {
      "cell_type": "markdown",
      "metadata": {
        "id": "ezDON333UuXB"
      },
      "source": [
        "Traditional **data architects** are responsible for **understanding the overall enterprise architecture** and ensuring that it meets the **requirements for data** needs from across the business. They generally play a role in defining **how data will be stored and consumed**. \n",
        "\n",
        "Today, they often have to be knowledgeable not only on data storage and consumption, but on how ML models work in tandem. This adds complexity to the role and **increases their responsibility in the MLOps lifecycle**, and it’s why in this section, we have called them **ML architects** instead of the more traditional data architect.\n",
        "\n",
        "**Role in the ML model lifecycle**\n",
        "\n",
        "ML architects **ensure a scalable and flexible environment for model pipelines**. In addition, data teams need their expertise to **introduce new technologies** (when appropriate) that **improve ML model performance in production**. It is for this reason that they need to have an intimate **understanding of ML** (not just enterprise architecture).\n",
        "\n",
        "This role requires **collaboration**, from **data scientists and engineers to DevOps and software engineers**. Without a complete understanding of the needs of each of these people and teams, ML architects cannot properly allocate resources to ensure optimal performance of ML models in production.\n",
        "\n",
        "**Needs from MLOps**\n",
        "\n",
        "ML engineer's role is about having a **centralized view of resource allocation**. As they have a strategic, tactical role, they need an overview of the situation to identify bottlenecks and use that information to find long-term improvements. Their role is one of pinpointing possible new technology or infrastructure for investment, not necessarily operational quick fixes that don’t address the heart of the scalability of the system.  \n",
        " \n",
        " "
      ]
    },
    {
      "cell_type": "markdown",
      "metadata": {
        "id": "vwhRL32CU4Pz"
      },
      "source": [
        "# Summary <a name=\"3\"></a>"
      ]
    },
    {
      "cell_type": "markdown",
      "metadata": {
        "id": "3QqdA2Ub-Ff4"
      },
      "source": [
        "|Role  |Role in ML model lifecycle | MLOps requirements |\n",
        "|:--- |:---- |:----:| \n",
        "|Subject Matter Experts| Provide business questions, goals, or KPIs around which ML models should be framed. | Easy way to understand deployed model performance in business terms. | \n",
        "|Subject Matter Experts| Continually evaluate and ensure that model performance aligns with or resolves the initial need. | Mechanism or feedback loop for flagging model results that don’t align with business expectations. | \n",
        "|Data Scientists| Build models that address the business question or needs brought by subject matter experts. | Automated model packaging and delivery for quick and easy (yet safe) deployment to production. | \n",
        "|Data Scientists| Deliver operationalizable models so that they can be properly used in the production environment and with production data. | Ability to develop tests to determine the quality of deployed models and to make continual improvements. | \n",
        "|Data Scientists| Assess model quality (of both original and tests) in tandem with subject matter experts to ensure they answer initial business questions or needs. | Visibility into the performance of all deployed models (including side-by-side for tests) from one central location. | \n",
        "|Data Scientists| - | Ability to investigate data pipelines of each model to make quick assessments and adjustments regardless of who originally built the model. | \n",
        "|Data Engineers| Optimize the retrieval and use of data to power ML models. | Visibility into performance of all deployed models. |\n",
        "|Data Engineers| - | Ability to see the full details of individual data pipelines to address underlying data plumbing issues. |\n",
        "|Software Engineers| Integrate ML models in the company’s applications and systems. | Versioning and automatic tests. |\n",
        "|Software Engineers| Ensure that ML models work seamlessly with other non-ML-based applications. | The ability to work in parallel on the same application. |\n",
        "|DevOps| Conduct and build operational systems and test for security, performance, availability. | Seamless integration of MLOps into the larger DevOps strategy of the enterprise. |\n",
        "|DevOps| Continuous Integration/Continuous Delivery (CI/CD) pipeline management. | Seamless deployment pipeline. |\n",
        "|Model Risk Managers / Auditors| Minimize overall risk to the company as a result of ML models in production. | Robust — likely automated — reporting tools on all models (currently or ever in production), including data lineage. |\n",
        "|Model Risk Managers / Auditors| Ensure compliance with internal and external requirements before pushing ML models to production. | - |\n",
        "|ML Architects| Ensure a scalable and flexible environment for ML model pipelines, from design to development and monitoring. | High-level overview of models and their resources consumed. |\n",
        "|ML Architects| Introduce new technologies when appropriate that improve ML model performance in production. | Ability to drill down into data pipelines to assess and adjust infrastructure needs. |"
      ]
    },
    {
      "cell_type": "markdown",
      "metadata": {
        "id": "36AF-VFcZh1u"
      },
      "source": [
        "# References <a name=\"4\"></a>"
      ]
    },
    {
      "cell_type": "markdown",
      "metadata": {
        "id": "QQQhszhWZjL7"
      },
      "source": [
        "- [Introducing MLOps](https://www.oreilly.com/library/view/introducing-mlops/9781492083283/)\n",
        "\n",
        "- [MLinproduction blog](https://mlinproduction.com/)\n",
        "\n",
        "- [MLOps.Community](https://www.youtube.com/channel/UCG6qpjVnBTTT8wLGBygANOQ)"
      ]
    }
  ]
}